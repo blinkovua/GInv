{
 "cells": [
  {
   "cell_type": "code",
   "execution_count": 1,
   "metadata": {},
   "outputs": [],
   "source": [
    "from IPython.display import display, Image\n",
    "from pprint import pprint\n",
    "import gv\n",
    "\n",
    "from ginv import *\n",
    "sympy.init_printing()"
   ]
  },
  {
   "cell_type": "code",
   "execution_count": 2,
   "metadata": {},
   "outputs": [
    {
     "data": {
      "text/plain": [
       "([[[1 0 0 0 0], 1]],\n",
       " [[[0 1 0 0 0], 1]],\n",
       " [[[0 0 1 0 0], 1]],\n",
       " [[[0 0 0 1 0], 1]],\n",
       " [[[0 0 0 0 1], 1]])"
      ]
     },
     "execution_count": 2,
     "metadata": {},
     "output_type": "execute_result"
    }
   ],
   "source": [
    "var = 'a, b, c, d, e'.split(', ')\n",
    "Poly.init(var)"
   ]
  },
  {
   "cell_type": "code",
   "execution_count": 3,
   "metadata": {},
   "outputs": [
    {
     "data": {
      "text/plain": [
       "(([[[1 0 0 0 0], 1]],\n",
       "  [[[0 1 0 0 0], 1]],\n",
       "  [[[0 0 1 0 0], 1]],\n",
       "  [[[0 0 0 1 0], 1]],\n",
       "  [[[0 0 0 0 1], 1]]),\n",
       " ([[[0;0 0 0 0 0], 1]], [[[1;0 0 0 0 0], 1]], [[[2;0 0 0 0 0], 1]]))"
      ]
     },
     "execution_count": 3,
     "metadata": {},
     "output_type": "execute_result"
    }
   ],
   "source": [
    "var = 'a, b, c, d, e'.split(', ')\n",
    "fun = 'u, v, w'.split(', ')\n",
    "Poly.init(var, fun)"
   ]
  },
  {
   "cell_type": "code",
   "execution_count": 4,
   "metadata": {},
   "outputs": [],
   "source": [
    "Monom.cmp = Monom.POTlex # POTlex, TOPlex, POTdeglex, TOPdeglex"
   ]
  },
  {
   "cell_type": "code",
   "execution_count": 5,
   "metadata": {},
   "outputs": [
    {
     "data": {
      "text/plain": [
       "[[[5 2 0 0 3], 2], [[1 2 3 4 5], 3], [[0 0 0 0 3], 13], [[0 0 0 0 0], 5]]"
      ]
     },
     "execution_count": 5,
     "metadata": {},
     "output_type": "execute_result"
    }
   ],
   "source": [
    "var = 'a, b, c, d, e'.split(', ')\n",
    "a, b, c, d, e = Poly.init(var)\n",
    "3*a**1*b**2*c**3*d**4*e**5 + (2*a**5*b**2 + 13)*e**3 + 5"
   ]
  },
  {
   "cell_type": "code",
   "execution_count": 6,
   "metadata": {},
   "outputs": [
    {
     "name": "stdout",
     "output_type": "stream",
     "text": [
      "u*a**5*b**2*e**3*2 + w + a*b**2*c**3*d**4*e**5*3 + e**3*13 + 5 \n",
      "-> [[[0;5 2 0 0 3], 2], [[2;0 0 0 0 0], 1], [[1 2 3 4 5], 3], [[0 0 0 0 3], 13], [[0 0 0 0 0], 5]]\n",
      "0 -> []\n"
     ]
    }
   ],
   "source": [
    "var = 'a, b, c, d, e'.split(', ')\n",
    "fun = 'u, v, w'.split(', ')\n",
    "var, fun = Poly.init(var, fun)\n",
    "a, b, c, d, e = var\n",
    "u, v, w = fun\n",
    "p = 3*a**1*b**2*c**3*d**4*e**5 + (2*u*a**5*b**2 + 13)*e**3 + 5 + w\n",
    "print(f\"{p} \\n-> {p!r}\")\n",
    "print(f\"{Poly()} -> {Poly()!r}\") "
   ]
  },
  {
   "cell_type": "code",
   "execution_count": 7,
   "metadata": {},
   "outputs": [
    {
     "name": "stdout",
     "output_type": "stream",
     "text": [
      "u*a**5*b**2*e**3*2 + a*b**2*c**3*d**4*e**5*3 + e**3*13 + w + 5 \n",
      "-> [[[0;5 2 0 0 3], 2], [[1 2 3 4 5], 3], [[0 0 0 0 3], 13], [[2;0 0 0 0 0], 1], [[0 0 0 0 0], 5]]\n",
      "0 -> []\n"
     ]
    }
   ],
   "source": [
    "Monom.cmp = Monom.TOPlex\n",
    "p = 3*a**1*b**2*c**3*d**4*e**5 + (2*u*a**5*b**2 + 13)*e**3 + 5 + w\n",
    "print(f\"{p} \\n-> {p!r}\")\n",
    "print(f\"{Poly()} -> {Poly()!r}\") "
   ]
  },
  {
   "cell_type": "code",
   "execution_count": 8,
   "metadata": {},
   "outputs": [
    {
     "name": "stdout",
     "output_type": "stream",
     "text": [
      "a*b**2*c**3*d**4*e**5*3 + u*a**5*b**2*e**3*2 + e**3*13 + w + 5 \n",
      "-> [[[1 2 3 4 5], 3], [[0;5 2 0 0 3], 2], [[0 0 0 0 3], 13], [[2;0 0 0 0 0], 1], [[0 0 0 0 0], 5]]\n",
      "0 -> []\n"
     ]
    }
   ],
   "source": [
    "Monom.cmp = Monom.TOPdeglex\n",
    "p = 3*a**1*b**2*c**3*d**4*e**5 + (2*u*a**5*b**2 + 13)*e**3 + 5 + w\n",
    "print(f\"{p} \\n-> {p!r}\")\n",
    "print(f\"{Poly()} -> {Poly()!r}\") "
   ]
  },
  {
   "cell_type": "code",
   "execution_count": 9,
   "metadata": {},
   "outputs": [
    {
     "name": "stdout",
     "output_type": "stream",
     "text": [
      "u*a**5*b**2*e**3*2 + w + a*b**2*c**3*d**4*e**5*3 + e**3*13 + 5 \n",
      "-> [[[0;5 2 0 0 3], 2], [[2;0 0 0 0 0], 1], [[1 2 3 4 5], 3], [[0 0 0 0 3], 13], [[0 0 0 0 0], 5]]\n",
      "0 -> []\n"
     ]
    }
   ],
   "source": [
    "Monom.cmp = Monom.POTdeglex\n",
    "p = 3*a**1*b**2*c**3*d**4*e**5 + (2*u*a**5*b**2 + 13)*e**3 + 5 + w\n",
    "print(f\"{p} \\n-> {p!r}\")\n",
    "print(f\"{Poly()} -> {Poly()!r}\") "
   ]
  },
  {
   "cell_type": "code",
   "execution_count": 10,
   "metadata": {},
   "outputs": [
    {
     "data": {
      "image/png": "[encoded data removed]",
      "text/latex": [
       "$\\displaystyle \\left( \\alpha, \\  \\beta, \\  \\tau, \\  \\delta, \\  \\epsilon, \\  \\zeta\\right)$"
      ],
      "text/plain": [
       "(α, β, τ, δ, ε, ζ)"
      ]
     },
     "execution_count": 10,
     "metadata": {},
     "output_type": "execute_result"
    }
   ],
   "source": [
    "par = sympy.symbols('alpha, beta, tau, delta, epsilon, zeta', real=True)\n",
    "par"
   ]
  },
  {
   "cell_type": "code",
   "execution_count": 11,
   "metadata": {},
   "outputs": [
    {
     "name": "stdout",
     "output_type": "stream",
     "text": [
      "21546*tau**4/delta -> [[[0 0 0 0 0], 21546*tau**4/delta]]\n"
     ]
    }
   ],
   "source": [
    "p = Poly(par[2]**4*21546/par[3])\n",
    "print(f\"{p} -> {p!r}\")"
   ]
  },
  {
   "cell_type": "code",
   "execution_count": 12,
   "metadata": {},
   "outputs": [
    {
     "name": "stdout",
     "output_type": "stream",
     "text": [
      "21546*tau**4 -> [[[0 0 0 0 0], 21546*tau**4]]\n"
     ]
    }
   ],
   "source": [
    "p.cancel()\n",
    "print(f\"{p} -> {p!r}\")"
   ]
  },
  {
   "cell_type": "code",
   "execution_count": 13,
   "metadata": {},
   "outputs": [
    {
     "name": "stdout",
     "output_type": "stream",
     "text": [
      "u*c**5 + a**2*b*1236537*tau + d*alpha \n",
      "-> [[[0;0 0 5 0 0], 1], [[2 1 0 0 0], 1236537*tau], [[0 0 0 1 0], alpha]]\n"
     ]
    }
   ],
   "source": [
    "h = u*c**5 + a**2*b*par[2]*1236537 + d*par[0]\n",
    "print(f\"{h} \\n-> {h!r}\")"
   ]
  },
  {
   "cell_type": "code",
   "execution_count": 14,
   "metadata": {
    "scrolled": true
   },
   "outputs": [
    {
     "name": "stdout",
     "output_type": "stream",
     "text": [
      "False\n",
      "True\n",
      "False\n"
     ]
    }
   ],
   "source": [
    "g = Poly(h)\n",
    "print(g != h)\n",
    "print(g == h)\n",
    "print(g > h)"
   ]
  },
  {
   "cell_type": "code",
   "execution_count": 15,
   "metadata": {
    "scrolled": true
   },
   "outputs": [
    {
     "data": {
      "text/plain": [
       "([0;0 0 5 0 0], 1)"
      ]
     },
     "execution_count": 15,
     "metadata": {},
     "output_type": "execute_result"
    }
   ],
   "source": [
    "h.lm(), h.lc()"
   ]
  },
  {
   "cell_type": "code",
   "execution_count": 16,
   "metadata": {},
   "outputs": [
    {
     "name": "stdout",
     "output_type": "stream",
     "text": [
      "u*c**5*e + a**2*b*e*1236537*tau + d*e*alpha \n",
      "-> [[[0;0 0 5 0 1], 1], [[2 1 0 0 1], 1236537*tau], [[0 0 0 1 1], alpha]]\n"
     ]
    }
   ],
   "source": [
    "p = g.prolong(4)\n",
    "print(f\"{p} \\n-> {p!r}\")"
   ]
  },
  {
   "cell_type": "code",
   "execution_count": 17,
   "metadata": {},
   "outputs": [
    {
     "name": "stdout",
     "output_type": "stream",
     "text": [
      "a**2*b*1236537 \n",
      "-> [[[2 1 0 0 0], 1236537]]\n"
     ]
    }
   ],
   "source": [
    "p = g.diff(par[2])\n",
    "print(f\"{p} \\n-> {p!r}\")"
   ]
  },
  {
   "cell_type": "code",
   "execution_count": 18,
   "metadata": {},
   "outputs": [
    {
     "data": {
      "text/plain": [
       "[]"
      ]
     },
     "execution_count": 18,
     "metadata": {},
     "output_type": "execute_result"
    }
   ],
   "source": [
    "g.reduction(0, h)\n",
    "g"
   ]
  },
  {
   "cell_type": "code",
   "execution_count": 19,
   "metadata": {},
   "outputs": [
    {
     "name": "stdout",
     "output_type": "stream",
     "text": [
      "u*b**36*c**5*262144 + u*b**32*c**5*e*589824*tau + u*b**32*c**5*589824*beta + u*b**28*c**5*e**2*589824*tau**2 + u*b**28*c**5*e*1179648*beta*tau + u*b**28*c**5*589824*beta**2 + u*b**24*c**5*e**3*344064*tau**3 + u*b**24*c**5*e**2*1032192*beta*tau**2 + u*b**24*c**5*e*1032192*beta**2*tau + u*b**24*c**5*344064*beta**3 + u*b**20*c**5*e**4*129024*tau**4 + u*b**20*c**5*e**3*516096*beta*tau**3 + u*b**20*c**5*e**2*774144*beta**2*tau**2 + u*b**20*c**5*e*516096*beta**3*tau + u*b**16*c**5*e**5*32256*tau**5 + u*b**20*c**5*129024*beta**4 + u*b**16*c**5*e**4*161280*beta*tau**4 + u*b**16*c**5*e**3*322560*beta**2*tau**3 + u*b**16*c**5*e**2*322560*beta**3*tau**2 + u*b**12*c**5*e**6*5376*tau**6 + u*b**16*c**5*e*161280*beta**4*tau + u*b**12*c**5*e**5*32256*beta*tau**5 + u*b**16*c**5*32256*beta**5 + u*b**12*c**5*e**4*80640*beta**2*tau**4 + u*b**12*c**5*e**3*107520*beta**3*tau**3 + u*b**8*c**5*e**7*576*tau**7 + u*b**12*c**5*e**2*80640*beta**4*tau**2 + u*b**8*c**5*e**6*4032*beta*tau**6 + u*b**12*c**5*e*32256*beta**5*tau + u*b**8*c**5*e**5*12096*beta**2*tau**5 + u*b**12*c**5*5376*beta**6 + u*b**8*c**5*e**4*20160*beta**3*tau**4 + u*b**4*c**5*e**8*36*tau**8 + u*b**8*c**5*e**3*20160*beta**4*tau**3 + u*b**4*c**5*e**7*288*beta*tau**7 + u*b**8*c**5*e**2*12096*beta**5*tau**2 + u*b**4*c**5*e**6*1008*beta**2*tau**6 + u*b**8*c**5*e*4032*beta**6*tau + u*b**4*c**5*e**5*2016*beta**3*tau**5 + u*c**5*e**9*tau**9 + u*b**8*c**5*576*beta**7 + u*b**4*c**5*e**4*2520*beta**4*tau**4 + u*c**5*e**8*9*beta*tau**8 + u*b**4*c**5*e**3*2016*beta**5*tau**3 + u*c**5*e**7*36*beta**2*tau**7 + u*b**4*c**5*e**2*1008*beta**6*tau**2 + u*c**5*e**6*84*beta**3*tau**6 + u*b**4*c**5*e*288*beta**7*tau + u*c**5*e**5*126*beta**4*tau**5 + u*b**4*c**5*36*beta**8 + u*c**5*e**4*126*beta**5*tau**4 + u*c**5*e**3*84*beta**6*tau**3 + u*c**5*e**2*36*beta**7*tau**2 + u*c**5*e*9*beta**8*tau + u*c**5*beta**9 + a**2*b**37*324150755328*tau + b**36*d*262144*alpha + a**2*b**33*e*729339199488*tau**2 + a**2*b**33*729339199488*beta*tau + b**32*d*e*589824*alpha*tau + b**32*d*589824*alpha*beta + a**2*b**29*e**2*729339199488*tau**3 + a**2*b**29*e*1458678398976*beta*tau**2 + a**2*b**29*729339199488*beta**2*tau + b**28*d*e**2*589824*alpha*tau**2 + b**28*d*e*1179648*alpha*beta*tau + a**2*b**25*e**3*425447866368*tau**4 + b**28*d*589824*alpha*beta**2 + a**2*b**25*e**2*1276343599104*beta*tau**3 + a**2*b**25*e*1276343599104*beta**2*tau**2 + b**24*d*e**3*344064*alpha*tau**3 + a**2*b**25*425447866368*beta**3*tau + b**24*d*e**2*1032192*alpha*beta*tau**2 + a**2*b**21*e**4*159542949888*tau**5 + b**24*d*e*1032192*alpha*beta**2*tau + a**2*b**21*e**3*638171799552*beta*tau**4 + b**24*d*344064*alpha*beta**3 + a**2*b**21*e**2*957257699328*beta**2*tau**3 + b**20*d*e**4*129024*alpha*tau**4 + a**2*b**21*e*638171799552*beta**3*tau**2 + b**20*d*e**3*516096*alpha*beta*tau**3 + a**2*b**17*e**5*39885737472*tau**6 + a**2*b**21*159542949888*beta**4*tau + b**20*d*e**2*774144*alpha*beta**2*tau**2 + a**2*b**17*e**4*199428687360*beta*tau**5 + b**20*d*e*516096*alpha*beta**3*tau + a**2*b**17*e**3*398857374720*beta**2*tau**4 + b**16*d*e**5*32256*alpha*tau**5 + b**20*d*129024*alpha*beta**4 + a**2*b**17*e**2*398857374720*beta**3*tau**3 + b**16*d*e**4*161280*alpha*beta*tau**4 + a**2*b**13*e**6*6647622912*tau**7 + a**2*b**17*e*199428687360*beta**4*tau**2 + b**16*d*e**3*322560*alpha*beta**2*tau**3 + a**2*b**13*e**5*39885737472*beta*tau**6 + a**2*b**17*39885737472*beta**5*tau + b**16*d*e**2*322560*alpha*beta**3*tau**2 + a**2*b**13*e**4*99714343680*beta**2*tau**5 + b**12*d*e**6*5376*alpha*tau**6 + b**16*d*e*161280*alpha*beta**4*tau + a**2*b**13*e**3*132952458240*beta**3*tau**4 + b**12*d*e**5*32256*alpha*beta*tau**5 + a**2*b**9*e**7*712245312*tau**8 + b**16*d*32256*alpha*beta**5 + a**2*b**13*e**2*99714343680*beta**4*tau**3 + b**12*d*e**4*80640*alpha*beta**2*tau**4 + a**2*b**9*e**6*4985717184*beta*tau**7 + a**2*b**13*e*39885737472*beta**5*tau**2 + b**12*d*e**3*107520*alpha*beta**3*tau**3 + a**2*b**9*e**5*14957151552*beta**2*tau**6 + b**8*d*e**7*576*alpha*tau**7 + a**2*b**13*6647622912*beta**6*tau + b**12*d*e**2*80640*alpha*beta**4*tau**2 + a**2*b**9*e**4*24928585920*beta**3*tau**5 + b**8*d*e**6*4032*alpha*beta*tau**6 + a**2*b**5*e**8*44515332*tau**9 + b**12*d*e*32256*alpha*beta**5*tau + a**2*b**9*e**3*24928585920*beta**4*tau**4 + b**8*d*e**5*12096*alpha*beta**2*tau**5 + a**2*b**5*e**7*356122656*beta*tau**8 + b**12*d*5376*alpha*beta**6 + a**2*b**9*e**2*14957151552*beta**5*tau**3 + b**8*d*e**4*20160*alpha*beta**3*tau**4 + a**2*b**5*e**6*1246429296*beta**2*tau**7 + b**4*d*e**8*36*alpha*tau**8 + a**2*b**9*e*4985717184*beta**6*tau**2 + b**8*d*e**3*20160*alpha*beta**4*tau**3 + a**2*b**5*e**5*2492858592*beta**3*tau**6 + b**4*d*e**7*288*alpha*beta*tau**7 + a**2*b*e**9*1236537*tau**10 + a**2*b**9*712245312*beta**7*tau + b**8*d*e**2*12096*alpha*beta**5*tau**2 + a**2*b**5*e**4*3116073240*beta**4*tau**5 + b**4*d*e**6*1008*alpha*beta**2*tau**6 + a**2*b*e**8*11128833*beta*tau**9 + b**8*d*e*4032*alpha*beta**6*tau + a**2*b**5*e**3*2492858592*beta**5*tau**4 + b**4*d*e**5*2016*alpha*beta**3*tau**5 + a**2*b*e**7*44515332*beta**2*tau**8 + d*e**9*alpha*tau**9 + b**8*d*576*alpha*beta**7 + a**2*b**5*e**2*1246429296*beta**6*tau**3 + b**4*d*e**4*2520*alpha*beta**4*tau**4 + a**2*b*e**6*103869108*beta**3*tau**7 + d*e**8*9*alpha*beta*tau**8 + a**2*b**5*e*356122656*beta**7*tau**2 + b**4*d*e**3*2016*alpha*beta**5*tau**3 + a**2*b*e**5*155803662*beta**4*tau**6 + d*e**7*36*alpha*beta**2*tau**7 + a**2*b**5*44515332*beta**8*tau + b**4*d*e**2*1008*alpha*beta**6*tau**2 + a**2*b*e**4*155803662*beta**5*tau**5 + d*e**6*84*alpha*beta**3*tau**6 + b**4*d*e*288*alpha*beta**7*tau + a**2*b*e**3*103869108*beta**6*tau**4 + d*e**5*126*alpha*beta**4*tau**5 + b**4*d*36*alpha*beta**8 + a**2*b*e**2*44515332*beta**7*tau**3 + d*e**4*126*alpha*beta**5*tau**4 + a**2*b*e*11128833*beta**8*tau**2 + d*e**3*84*alpha*beta**6*tau**3 + a**2*b*1236537*beta**9*tau + d*e**2*36*alpha*beta**7*tau**2 + d*e*9*alpha*beta**8*tau + d*alpha*beta**9\n",
      "CPU times: user 155 ms, sys: 0 ns, total: 155 ms\n",
      "Wall time: 173 ms\n"
     ]
    }
   ],
   "source": [
    "%%time\n",
    "h *= (4*b**4 + e*par[2] + par[1])**9\n",
    "print(h)"
   ]
  },
  {
   "cell_type": "code",
   "execution_count": 20,
   "metadata": {},
   "outputs": [
    {
     "name": "stdout",
     "output_type": "stream",
     "text": [
      "u*b**36*c**5*262144 + u*c**5*e**9*tau**9 + u*c**5*e**8*9*beta*tau**8 + u*c**5*e**7*36*beta**2*tau**7 + u*c**5*e**6*84*beta**3*tau**6 + u*c**5*e**5*126*beta**4*tau**5 + u*c**5*e**4*126*beta**5*tau**4 + u*c**5*e**3*84*beta**6*tau**3 + u*c**5*e**2*36*beta**7*tau**2 + u*c**5*e*9*beta**8*tau + u*c**5*beta**9\n",
      "CPU times: user 448 ms, sys: 3.89 ms, total: 452 ms\n",
      "Wall time: 453 ms\n"
     ]
    }
   ],
   "source": [
    "%%time\n",
    "h.NFtail(4*b**4 + e*par[2] + par[1])\n",
    "print(h)"
   ]
  },
  {
   "cell_type": "code",
   "execution_count": 21,
   "metadata": {},
   "outputs": [
    {
     "name": "stdout",
     "output_type": "stream",
     "text": [
      "CPU times: user 110 ms, sys: 146 µs, total: 110 ms\n",
      "Wall time: 109 ms\n"
     ]
    },
    {
     "data": {
      "text/plain": [
       "[]"
      ]
     },
     "execution_count": 21,
     "metadata": {},
     "output_type": "execute_result"
    }
   ],
   "source": [
    "%%time\n",
    "h.NFhead(4*b**4 + e*par[2] + par[1])\n",
    "h"
   ]
  },
  {
   "cell_type": "code",
   "execution_count": 22,
   "metadata": {},
   "outputs": [
    {
     "name": "stdout",
     "output_type": "stream",
     "text": [
      "b**4*4 + beta\n"
     ]
    }
   ],
   "source": [
    "h = (4*b**4 + a*b*c**2 + e*par[2] + par[1])\n",
    "h.reduce(a*b*c**2 + e*par[2])\n",
    "print(h)"
   ]
  },
  {
   "cell_type": "code",
   "execution_count": 23,
   "metadata": {
    "scrolled": true
   },
   "outputs": [
    {
     "name": "stdout",
     "output_type": "stream",
     "text": [
      "b**4*4 + a*b*c**2 + e*tau + beta\n"
     ]
    }
   ],
   "source": [
    "h = (4*b**4 + a*b*c**2 + e*par[2] + par[1])\n",
    "h.reduce(a*b*c + e*par[2])\n",
    "print(h)"
   ]
  },
  {
   "cell_type": "code",
   "execution_count": 24,
   "metadata": {},
   "outputs": [
    {
     "name": "stdout",
     "output_type": "stream",
     "text": [
      "prolong 0, Q 6\n",
      "x**2*y**4\n",
      "prolong 0, Q 7\n",
      "x**4*y**3\n",
      "prolong 6, Q 7\n",
      "x**3*y**4\n",
      "prolong 7, Q 7\n",
      "x**5*y**2\n",
      "prolong 7, Q 8\n",
      "x**7*y\n",
      "prolong 7, Q 0\n",
      "x**6*y**2\n",
      "prolong 8, Q 0\n",
      "prolong 0, Q 0\n",
      "HP: 3s + 10\n"
     ]
    },
    {
     "data": {
      "image/png": "[encoded data removed]",
      "text/plain": [
       "<IPython.core.display.Image object>"
      ]
     },
     "execution_count": 24,
     "metadata": {},
     "output_type": "execute_result"
    }
   ],
   "source": [
    "Monom.cmp = Monom.TOPdeglex\n",
    "x, y = Poly.init('x, y'.split(', '))\n",
    "mnm = Janet()\n",
    "res = ginvBlockLow((x**7*y, x**5*y**2, x**4*y**3, x**2*y**4), \\\n",
    "mnm, level=1)\n",
    "print(f\"HP: {mnm.HP()}\")\n",
    "mnm.saveImage('mnm.png')\n",
    "Image('./mnm.png')"
   ]
  },
  {
   "cell_type": "code",
   "execution_count": 25,
   "metadata": {},
   "outputs": [
    {
     "name": "stdout",
     "output_type": "stream",
     "text": [
      "prolong 0, Q 1\n",
      "x1\n",
      "prolong 0, Q 2\n",
      "x2**2\n",
      "prolong 2, Q 3\n",
      "x2*x3**2\n",
      "prolong 3, Q 4\n",
      "x2*x3*x4**2\n",
      "prolong 4, Q 0\n",
      "x2*x4**4, x3**3*x4**2\n",
      "prolong 5, Q 0\n",
      "x3**2*x4**4\n",
      "prolong 6, Q 0\n",
      "prolong 0, Q 0\n",
      "    crit1: 6\n",
      "    crit2: 0\n",
      "     time: 0.02 sec\n",
      "    count: 7\n",
      "reduction: 54\n",
      "       HP: 4s + 6\n"
     ]
    },
    {
     "ename": "FileNotFoundError",
     "evalue": "No such file or directory: './cyclic4.png'",
     "output_type": "error",
     "traceback": [
      "\u001b[0;31m---------------------------------------------------------------------------\u001b[0m",
      "\u001b[0;31mTypeError\u001b[0m                                 Traceback (most recent call last)",
      "File \u001b[0;32m/usr/lib/python3/dist-packages/IPython/core/display.py:1032\u001b[0m, in \u001b[0;36mImage._data_and_metadata\u001b[0;34m(self, always_both)\u001b[0m\n\u001b[1;32m   1031\u001b[0m \u001b[38;5;28;01mtry\u001b[39;00m:\n\u001b[0;32m-> 1032\u001b[0m     b64_data \u001b[38;5;241m=\u001b[39m \u001b[43mb2a_base64\u001b[49m\u001b[43m(\u001b[49m\u001b[38;5;28;43mself\u001b[39;49m\u001b[38;5;241;43m.\u001b[39;49m\u001b[43mdata\u001b[49m\u001b[43m)\u001b[49m\u001b[38;5;241m.\u001b[39mdecode(\u001b[38;5;124m'\u001b[39m\u001b[38;5;124mascii\u001b[39m\u001b[38;5;124m'\u001b[39m)\n\u001b[1;32m   1033\u001b[0m \u001b[38;5;28;01mexcept\u001b[39;00m \u001b[38;5;167;01mTypeError\u001b[39;00m \u001b[38;5;28;01mas\u001b[39;00m e:\n",
      "\u001b[0;31mTypeError\u001b[0m: a bytes-like object is required, not 'str'",
      "\nThe above exception was the direct cause of the following exception:\n",
      "\u001b[0;31mFileNotFoundError\u001b[0m                         Traceback (most recent call last)",
      "File \u001b[0;32m/usr/lib/python3/dist-packages/IPython/core/formatters.py:973\u001b[0m, in \u001b[0;36mMimeBundleFormatter.__call__\u001b[0;34m(self, obj, include, exclude)\u001b[0m\n\u001b[1;32m    970\u001b[0m     method \u001b[38;5;241m=\u001b[39m get_real_method(obj, \u001b[38;5;28mself\u001b[39m\u001b[38;5;241m.\u001b[39mprint_method)\n\u001b[1;32m    972\u001b[0m     \u001b[38;5;28;01mif\u001b[39;00m method \u001b[38;5;129;01mis\u001b[39;00m \u001b[38;5;129;01mnot\u001b[39;00m \u001b[38;5;28;01mNone\u001b[39;00m:\n\u001b[0;32m--> 973\u001b[0m         \u001b[38;5;28;01mreturn\u001b[39;00m \u001b[43mmethod\u001b[49m\u001b[43m(\u001b[49m\u001b[43minclude\u001b[49m\u001b[38;5;241;43m=\u001b[39;49m\u001b[43minclude\u001b[49m\u001b[43m,\u001b[49m\u001b[43m \u001b[49m\u001b[43mexclude\u001b[49m\u001b[38;5;241;43m=\u001b[39;49m\u001b[43mexclude\u001b[49m\u001b[43m)\u001b[49m\n\u001b[1;32m    974\u001b[0m     \u001b[38;5;28;01mreturn\u001b[39;00m \u001b[38;5;28;01mNone\u001b[39;00m\n\u001b[1;32m    975\u001b[0m \u001b[38;5;28;01melse\u001b[39;00m:\n",
      "File \u001b[0;32m/usr/lib/python3/dist-packages/IPython/core/display.py:1022\u001b[0m, in \u001b[0;36mImage._repr_mimebundle_\u001b[0;34m(self, include, exclude)\u001b[0m\n\u001b[1;32m   1020\u001b[0m \u001b[38;5;28;01mif\u001b[39;00m \u001b[38;5;28mself\u001b[39m\u001b[38;5;241m.\u001b[39membed:\n\u001b[1;32m   1021\u001b[0m     mimetype \u001b[38;5;241m=\u001b[39m \u001b[38;5;28mself\u001b[39m\u001b[38;5;241m.\u001b[39m_mimetype\n\u001b[0;32m-> 1022\u001b[0m     data, metadata \u001b[38;5;241m=\u001b[39m \u001b[38;5;28;43mself\u001b[39;49m\u001b[38;5;241;43m.\u001b[39;49m\u001b[43m_data_and_metadata\u001b[49m\u001b[43m(\u001b[49m\u001b[43malways_both\u001b[49m\u001b[38;5;241;43m=\u001b[39;49m\u001b[38;5;28;43;01mTrue\u001b[39;49;00m\u001b[43m)\u001b[49m\n\u001b[1;32m   1023\u001b[0m     \u001b[38;5;28;01mif\u001b[39;00m metadata:\n\u001b[1;32m   1024\u001b[0m         metadata \u001b[38;5;241m=\u001b[39m {mimetype: metadata}\n",
      "File \u001b[0;32m/usr/lib/python3/dist-packages/IPython/core/display.py:1034\u001b[0m, in \u001b[0;36mImage._data_and_metadata\u001b[0;34m(self, always_both)\u001b[0m\n\u001b[1;32m   1032\u001b[0m     b64_data \u001b[38;5;241m=\u001b[39m b2a_base64(\u001b[38;5;28mself\u001b[39m\u001b[38;5;241m.\u001b[39mdata)\u001b[38;5;241m.\u001b[39mdecode(\u001b[38;5;124m'\u001b[39m\u001b[38;5;124mascii\u001b[39m\u001b[38;5;124m'\u001b[39m)\n\u001b[1;32m   1033\u001b[0m \u001b[38;5;28;01mexcept\u001b[39;00m \u001b[38;5;167;01mTypeError\u001b[39;00m \u001b[38;5;28;01mas\u001b[39;00m e:\n\u001b[0;32m-> 1034\u001b[0m     \u001b[38;5;28;01mraise\u001b[39;00m \u001b[38;5;167;01mFileNotFoundError\u001b[39;00m(\n\u001b[1;32m   1035\u001b[0m         \u001b[38;5;124m\"\u001b[39m\u001b[38;5;124mNo such file or directory: \u001b[39m\u001b[38;5;124m'\u001b[39m\u001b[38;5;132;01m%s\u001b[39;00m\u001b[38;5;124m'\u001b[39m\u001b[38;5;124m\"\u001b[39m \u001b[38;5;241m%\u001b[39m (\u001b[38;5;28mself\u001b[39m\u001b[38;5;241m.\u001b[39mdata)) \u001b[38;5;28;01mfrom\u001b[39;00m \u001b[38;5;21;01me\u001b[39;00m\n\u001b[1;32m   1036\u001b[0m md \u001b[38;5;241m=\u001b[39m {}\n\u001b[1;32m   1037\u001b[0m \u001b[38;5;28;01mif\u001b[39;00m \u001b[38;5;28mself\u001b[39m\u001b[38;5;241m.\u001b[39mmetadata:\n",
      "\u001b[0;31mFileNotFoundError\u001b[0m: No such file or directory: './cyclic4.png'"
     ]
    },
    {
     "ename": "FileNotFoundError",
     "evalue": "No such file or directory: './cyclic4.png'",
     "output_type": "error",
     "traceback": [
      "\u001b[0;31m---------------------------------------------------------------------------\u001b[0m",
      "\u001b[0;31mTypeError\u001b[0m                                 Traceback (most recent call last)",
      "File \u001b[0;32m/usr/lib/python3/dist-packages/IPython/core/display.py:1032\u001b[0m, in \u001b[0;36mImage._data_and_metadata\u001b[0;34m(self, always_both)\u001b[0m\n\u001b[1;32m   1031\u001b[0m \u001b[38;5;28;01mtry\u001b[39;00m:\n\u001b[0;32m-> 1032\u001b[0m     b64_data \u001b[38;5;241m=\u001b[39m \u001b[43mb2a_base64\u001b[49m\u001b[43m(\u001b[49m\u001b[38;5;28;43mself\u001b[39;49m\u001b[38;5;241;43m.\u001b[39;49m\u001b[43mdata\u001b[49m\u001b[43m)\u001b[49m\u001b[38;5;241m.\u001b[39mdecode(\u001b[38;5;124m'\u001b[39m\u001b[38;5;124mascii\u001b[39m\u001b[38;5;124m'\u001b[39m)\n\u001b[1;32m   1033\u001b[0m \u001b[38;5;28;01mexcept\u001b[39;00m \u001b[38;5;167;01mTypeError\u001b[39;00m \u001b[38;5;28;01mas\u001b[39;00m e:\n",
      "\u001b[0;31mTypeError\u001b[0m: a bytes-like object is required, not 'str'",
      "\nThe above exception was the direct cause of the following exception:\n",
      "\u001b[0;31mFileNotFoundError\u001b[0m                         Traceback (most recent call last)",
      "File \u001b[0;32m/usr/lib/python3/dist-packages/IPython/core/formatters.py:343\u001b[0m, in \u001b[0;36mBaseFormatter.__call__\u001b[0;34m(self, obj)\u001b[0m\n\u001b[1;32m    341\u001b[0m     method \u001b[38;5;241m=\u001b[39m get_real_method(obj, \u001b[38;5;28mself\u001b[39m\u001b[38;5;241m.\u001b[39mprint_method)\n\u001b[1;32m    342\u001b[0m     \u001b[38;5;28;01mif\u001b[39;00m method \u001b[38;5;129;01mis\u001b[39;00m \u001b[38;5;129;01mnot\u001b[39;00m \u001b[38;5;28;01mNone\u001b[39;00m:\n\u001b[0;32m--> 343\u001b[0m         \u001b[38;5;28;01mreturn\u001b[39;00m \u001b[43mmethod\u001b[49m\u001b[43m(\u001b[49m\u001b[43m)\u001b[49m\n\u001b[1;32m    344\u001b[0m     \u001b[38;5;28;01mreturn\u001b[39;00m \u001b[38;5;28;01mNone\u001b[39;00m\n\u001b[1;32m    345\u001b[0m \u001b[38;5;28;01melse\u001b[39;00m:\n",
      "File \u001b[0;32m/usr/lib/python3/dist-packages/IPython/core/display.py:1054\u001b[0m, in \u001b[0;36mImage._repr_png_\u001b[0;34m(self)\u001b[0m\n\u001b[1;32m   1052\u001b[0m \u001b[38;5;28;01mdef\u001b[39;00m \u001b[38;5;21m_repr_png_\u001b[39m(\u001b[38;5;28mself\u001b[39m):\n\u001b[1;32m   1053\u001b[0m     \u001b[38;5;28;01mif\u001b[39;00m \u001b[38;5;28mself\u001b[39m\u001b[38;5;241m.\u001b[39membed \u001b[38;5;129;01mand\u001b[39;00m \u001b[38;5;28mself\u001b[39m\u001b[38;5;241m.\u001b[39mformat \u001b[38;5;241m==\u001b[39m \u001b[38;5;28mself\u001b[39m\u001b[38;5;241m.\u001b[39m_FMT_PNG:\n\u001b[0;32m-> 1054\u001b[0m         \u001b[38;5;28;01mreturn\u001b[39;00m \u001b[38;5;28;43mself\u001b[39;49m\u001b[38;5;241;43m.\u001b[39;49m\u001b[43m_data_and_metadata\u001b[49m\u001b[43m(\u001b[49m\u001b[43m)\u001b[49m\n",
      "File \u001b[0;32m/usr/lib/python3/dist-packages/IPython/core/display.py:1034\u001b[0m, in \u001b[0;36mImage._data_and_metadata\u001b[0;34m(self, always_both)\u001b[0m\n\u001b[1;32m   1032\u001b[0m     b64_data \u001b[38;5;241m=\u001b[39m b2a_base64(\u001b[38;5;28mself\u001b[39m\u001b[38;5;241m.\u001b[39mdata)\u001b[38;5;241m.\u001b[39mdecode(\u001b[38;5;124m'\u001b[39m\u001b[38;5;124mascii\u001b[39m\u001b[38;5;124m'\u001b[39m)\n\u001b[1;32m   1033\u001b[0m \u001b[38;5;28;01mexcept\u001b[39;00m \u001b[38;5;167;01mTypeError\u001b[39;00m \u001b[38;5;28;01mas\u001b[39;00m e:\n\u001b[0;32m-> 1034\u001b[0m     \u001b[38;5;28;01mraise\u001b[39;00m \u001b[38;5;167;01mFileNotFoundError\u001b[39;00m(\n\u001b[1;32m   1035\u001b[0m         \u001b[38;5;124m\"\u001b[39m\u001b[38;5;124mNo such file or directory: \u001b[39m\u001b[38;5;124m'\u001b[39m\u001b[38;5;132;01m%s\u001b[39;00m\u001b[38;5;124m'\u001b[39m\u001b[38;5;124m\"\u001b[39m \u001b[38;5;241m%\u001b[39m (\u001b[38;5;28mself\u001b[39m\u001b[38;5;241m.\u001b[39mdata)) \u001b[38;5;28;01mfrom\u001b[39;00m \u001b[38;5;21;01me\u001b[39;00m\n\u001b[1;32m   1036\u001b[0m md \u001b[38;5;241m=\u001b[39m {}\n\u001b[1;32m   1037\u001b[0m \u001b[38;5;28;01mif\u001b[39;00m \u001b[38;5;28mself\u001b[39m\u001b[38;5;241m.\u001b[39mmetadata:\n",
      "\u001b[0;31mFileNotFoundError\u001b[0m: No such file or directory: './cyclic4.png'"
     ]
    },
    {
     "data": {
      "text/plain": [
       "<IPython.core.display.Image object>"
      ]
     },
     "execution_count": 25,
     "metadata": {},
     "output_type": "execute_result"
    }
   ],
   "source": [
    "Monom.cmp = Monom.TOPdeglex\n",
    "x1, x2, x3, x4 = Poly.init('x1, x2, x3, x4'.split(', '))\n",
    "cyclic4 = Janet()\n",
    "res = ginvBlockLow((\n",
    "x1+x2+x3+x4,\\\n",
    "x1*x2+x2*x3+x3*x4+x4*x1,\\\n",
    "x1*x2*x3+x2*x3*x4+x3*x4*x1+x4*x1*x2,\\\n",
    "x1*x2*x3*x4-1), \\\n",
    "cyclic4, level=1)\n",
    "print(f\"    crit1: {res[1]}\")\n",
    "print(f\"    crit2: {res[2]}\")\n",
    "print(f\"     time: {res[0]:.2f} sec\")\n",
    "print(f\"    count: {cyclic4.count()}\")\n",
    "print(f\"reduction: {cyclic4.reduction()}\")\n",
    "print(f\"       HP: {cyclic4.HP()}\")\n",
    "cyclic4.saveImage('cyclic4.pdf', level=3)\n",
    "Image('./cyclic4.png')"
   ]
  },
  {
   "cell_type": "code",
   "execution_count": 26,
   "metadata": {},
   "outputs": [
    {
     "name": "stdout",
     "output_type": "stream",
     "text": [
      "x3**2*x4**4 + x2*x3 + x2*x4*-1 + x3*x4 + x4**2*-2\n",
      "x3**3*x4**2*-1 + x3**2*x4**3*-1 + x3 + x4\n",
      "x2*x4**4*-1 + x4**5*-1 + x2 + x4\n",
      "x2*x3*x4**2 + x3**2*x4**2 + x2*x4**3*-1 + x3*x4**3 + x4**4*-1 + -1\n",
      "x2*x3**2*-1 + x3**2*x4*-1 + x2*x4**2 + x4**3\n",
      "x2**2*-1 + x2*x4*-2 + x4**2*-1\n",
      "x1 + x2 + x3 + x4\n"
     ]
    }
   ],
   "source": [
    "for w in cyclic4.GB():\n",
    "    print(w.poly)"
   ]
  },
  {
   "cell_type": "code",
   "execution_count": 27,
   "metadata": {},
   "outputs": [
    {
     "data": {
      "image/png": "[encoded data removed]",
      "text/latex": [
       "$\\displaystyle x_{2} x_{3} - x_{2} x_{4} + x_{3}^{2} x_{4}^{4} + x_{3} x_{4} - 2 x_{4}^{2}$"
      ],
      "text/plain": [
       "                  2   4               2\n",
       "x₂⋅x₃ - x₂⋅x₄ + x₃ ⋅x₄  + x₃⋅x₄ - 2⋅x₄ "
      ]
     },
     "metadata": {},
     "output_type": "display_data"
    },
    {
     "data": {
      "image/png": "[encoded data removed]",
      "text/latex": [
       "$\\displaystyle - x_{3}^{3} x_{4}^{2} - x_{3}^{2} x_{4}^{3} + x_{3} + x_{4}$"
      ],
      "text/plain": [
       "    3   2     2   3          \n",
       "- x₃ ⋅x₄  - x₃ ⋅x₄  + x₃ + x₄"
      ]
     },
     "metadata": {},
     "output_type": "display_data"
    },
    {
     "data": {
      "image/png": "[encoded data removed]",
      "text/latex": [
       "$\\displaystyle - x_{2} x_{4}^{4} + x_{2} - x_{4}^{5} + x_{4}$"
      ],
      "text/plain": [
       "       4          5     \n",
       "- x₂⋅x₄  + x₂ - x₄  + x₄"
      ]
     },
     "metadata": {},
     "output_type": "display_data"
    },
    {
     "data": {
      "image/png": "[encoded data removed]",
      "text/latex": [
       "$\\displaystyle x_{2} x_{3} x_{4}^{2} - x_{2} x_{4}^{3} + x_{3}^{2} x_{4}^{2} + x_{3} x_{4}^{3} - x_{4}^{4} - 1$"
      ],
      "text/plain": [
       "        2        3     2   2        3     4    \n",
       "x₂⋅x₃⋅x₄  - x₂⋅x₄  + x₃ ⋅x₄  + x₃⋅x₄  - x₄  - 1"
      ]
     },
     "metadata": {},
     "output_type": "display_data"
    },
    {
     "data": {
      "image/png": "[encoded data removed]",
      "text/latex": [
       "$\\displaystyle - x_{2} x_{3}^{2} + x_{2} x_{4}^{2} - x_{3}^{2} x_{4} + x_{4}^{3}$"
      ],
      "text/plain": [
       "       2        2     2        3\n",
       "- x₂⋅x₃  + x₂⋅x₄  - x₃ ⋅x₄ + x₄ "
      ]
     },
     "metadata": {},
     "output_type": "display_data"
    },
    {
     "data": {
      "image/png": "[encoded data removed]",
      "text/latex": [
       "$\\displaystyle - x_{2}^{2} - 2 x_{2} x_{4} - x_{4}^{2}$"
      ],
      "text/plain": [
       "    2               2\n",
       "- x₂  - 2⋅x₂⋅x₄ - x₄ "
      ]
     },
     "metadata": {},
     "output_type": "display_data"
    },
    {
     "data": {
      "image/png": "[encoded data removed]",
      "text/latex": [
       "$\\displaystyle x_{1} + x_{2} + x_{3} + x_{4}$"
      ],
      "text/plain": [
       "x₁ + x₂ + x₃ + x₄"
      ]
     },
     "metadata": {},
     "output_type": "display_data"
    }
   ],
   "source": [
    "x1, x2, x3, x4 = sympy.symbols('x1, x2, x3, x4')\n",
    "for w in cyclic4.GB():\n",
    "    display(sympy.Add(*tuple(eval(f\"{m}*{c}\") for m, c in w.poly), evaluate=False))"
   ]
  },
  {
   "cell_type": "code",
   "execution_count": 28,
   "metadata": {},
   "outputs": [
    {
     "name": "stdout",
     "output_type": "stream",
     "text": [
      "prolong f*x1\n",
      "f*x1\n",
      "prolong f*x1*x2\n",
      "f*x2**2\n",
      "prolong f*x2**2*x3\n",
      "f*x2*x3**2\n",
      "prolong f*x2*x3**2*x4\n",
      "f*x2*x3*x4**2\n",
      "prolongAll\n",
      "p1*x2*x3**2\n",
      "prolong f*x2*x4**4\n",
      "f*x2*x4**4\n",
      "prolong f*x3**3*x4**2\n",
      "f*x3**3*x4**2\n",
      "prolongAll\n",
      "p2*x2**2*x4**2\n",
      "prolong f*x3**2*x4**4\n",
      "f*x3**2*x4**4\n",
      "prolong f*x3**2*x4**4\n",
      "prolongAll\n",
      "p1*x3**2*x4**4\n",
      "prolongAll\n",
      "prolongAll\n",
      "    crit1: 6\n",
      "    crit2: 0\n",
      "     time: 0.04 sec\n",
      "    count: 10\n",
      "reduction: 68\n",
      "       HP: 4s + 6\n"
     ]
    },
    {
     "data": {
      "image/png": "[encoded data removed]",
      "text/plain": [
       "<IPython.core.display.Image object>"
      ]
     },
     "execution_count": 28,
     "metadata": {},
     "output_type": "execute_result"
    }
   ],
   "source": [
    "Monom.cmp = Monom.TOPdeglex\n",
    "var = 'x1, x2, x3, x4'.split(', ')\n",
    "fun = 'f, p1, p2, p3, p4'.split(', ')\n",
    "var, fun = Poly.init(var, fun)\n",
    "x1, x2, x3, x4 = var\n",
    "f, p1, p2, p3, p4 = fun\n",
    "cyclic4 = Forest(Janet)\n",
    "res = ginvMin((\n",
    "f*(x1+x2+x3+x4) - p1,\\\n",
    "f*(x1*x2+x2*x3+x3*x4+x4*x1) - p2,\\\n",
    "f*(x1*x2*x3+x2*x3*x4+x3*x4*x1+x4*x1*x2) - p3,\\\n",
    "f*(x1*x2*x3*x4-1) - p4), \\\n",
    "cyclic4, level=1)\n",
    "print(f\"    crit1: {res[1]}\")\n",
    "print(f\"    crit2: {res[2]}\")\n",
    "print(f\"     time: {res[0]:.2f} sec\")\n",
    "print(f\"    count: {cyclic4.count()}\")\n",
    "print(f\"reduction: {cyclic4.reduction()}\")\n",
    "print(f\"       HP: {cyclic4[0].HP()}\")\n",
    "cyclic4[0].saveImage('cyclic4_syzygy.png', level=3)\n",
    "Image('./cyclic4_syzygy.png')"
   ]
  },
  {
   "cell_type": "code",
   "execution_count": 29,
   "metadata": {},
   "outputs": [
    {
     "data": {
      "image/png": "[encoded data removed]",
      "text/latex": [
       "$\\displaystyle f \\left(x_{2} x_{3} - x_{2} x_{4} + x_{3}^{2} x_{4}^{4} + x_{3} x_{4} - 2 x_{4}^{2}\\right) + p_{2} \\left(x_{2} x_{3} x_{4}^{2} - x_{2} x_{4}^{3} - x_{3} x_{4}^{3}\\right) + p_{3} \\left(- x_{2} x_{3} x_{4} + x_{2} x_{4}^{2} + x_{4}^{3}\\right) + p_{4} \\left(x_{2} x_{3} - x_{2} x_{4} + x_{3} x_{4} - 2 x_{4}^{2}\\right)$"
      ],
      "text/plain": [
       "  ⎛                  2   4               2⎞      ⎛        2        3        3⎞      ⎛      \n",
       "f⋅⎝x₂⋅x₃ - x₂⋅x₄ + x₃ ⋅x₄  + x₃⋅x₄ - 2⋅x₄ ⎠ + p₂⋅⎝x₂⋅x₃⋅x₄  - x₂⋅x₄  - x₃⋅x₄ ⎠ + p₃⋅⎝-x₂⋅x₃\n",
       "\n",
       "           2     3⎞      ⎛                            2⎞\n",
       "⋅x₄ + x₂⋅x₄  + x₄ ⎠ + p₄⋅⎝x₂⋅x₃ - x₂⋅x₄ + x₃⋅x₄ - 2⋅x₄ ⎠"
      ]
     },
     "metadata": {},
     "output_type": "display_data"
    },
    {
     "data": {
      "image/png": "[encoded data removed]",
      "text/latex": [
       "$\\displaystyle f \\left(- x_{3}^{3} x_{4}^{2} - x_{3}^{2} x_{4}^{3} + x_{3} + x_{4}\\right) + p_{1} x_{3}^{2} x_{4}^{2} - p_{3} x_{3} x_{4} + p_{4} \\left(x_{3} + x_{4}\\right)$"
      ],
      "text/plain": [
       "  ⎛    3   2     2   3          ⎞        2   2                          \n",
       "f⋅⎝- x₃ ⋅x₄  - x₃ ⋅x₄  + x₃ + x₄⎠ + p₁⋅x₃ ⋅x₄  - p₃⋅x₃⋅x₄ + p₄⋅(x₃ + x₄)"
      ]
     },
     "metadata": {},
     "output_type": "display_data"
    },
    {
     "data": {
      "image/png": "[encoded data removed]",
      "text/latex": [
       "$\\displaystyle f \\left(- x_{2} x_{4}^{4} + x_{2} - x_{4}^{5} + x_{4}\\right) + p_{1} x_{4}^{4} + p_{2} \\left(x_{2} x_{4}^{2} - x_{4}^{3}\\right) - p_{3} x_{2} x_{4} + p_{4} \\left(x_{2} + x_{4}\\right)$"
      ],
      "text/plain": [
       "  ⎛       4          5     ⎞        4      ⎛     2     3⎞                          \n",
       "f⋅⎝- x₂⋅x₄  + x₂ - x₄  + x₄⎠ + p₁⋅x₄  + p₂⋅⎝x₂⋅x₄  - x₄ ⎠ - p₃⋅x₂⋅x₄ + p₄⋅(x₂ + x₄)"
      ]
     },
     "metadata": {},
     "output_type": "display_data"
    },
    {
     "data": {
      "image/png": "[encoded data removed]",
      "text/latex": [
       "$\\displaystyle f \\left(x_{2} x_{3} x_{4}^{2} - x_{2} x_{4}^{3} + x_{3}^{2} x_{4}^{2} + x_{3} x_{4}^{3} - x_{4}^{4} - 1\\right) + p_{1} \\left(- x_{3} x_{4}^{2} + x_{4}^{3}\\right) - p_{2} x_{4}^{2} + p_{3} x_{4} - p_{4}$"
      ],
      "text/plain": [
       "  ⎛        2        3     2   2        3     4    ⎞      ⎛       2     3⎞        2         \n",
       "f⋅⎝x₂⋅x₃⋅x₄  - x₂⋅x₄  + x₃ ⋅x₄  + x₃⋅x₄  - x₄  - 1⎠ + p₁⋅⎝- x₃⋅x₄  + x₄ ⎠ - p₂⋅x₄  + p₃⋅x₄ \n",
       "\n",
       "    \n",
       "- p₄"
      ]
     },
     "metadata": {},
     "output_type": "display_data"
    },
    {
     "data": {
      "image/png": "[encoded data removed]",
      "text/latex": [
       "$\\displaystyle f \\left(- x_{2} x_{3}^{2} + x_{2} x_{4}^{2} - x_{3}^{2} x_{4} + x_{4}^{3}\\right) - p_{1} x_{4}^{2} + p_{2} \\left(x_{3} + x_{4}\\right) - p_{3}$"
      ],
      "text/plain": [
       "  ⎛       2        2     2        3⎞        2                    \n",
       "f⋅⎝- x₂⋅x₃  + x₂⋅x₄  - x₃ ⋅x₄ + x₄ ⎠ - p₁⋅x₄  + p₂⋅(x₃ + x₄) - p₃"
      ]
     },
     "metadata": {},
     "output_type": "display_data"
    },
    {
     "data": {
      "image/png": "[encoded data removed]",
      "text/latex": [
       "$\\displaystyle f \\left(- x_{2}^{2} - 2 x_{2} x_{4} - x_{4}^{2}\\right) + p_{1} \\left(x_{2} + x_{4}\\right) - p_{2}$"
      ],
      "text/plain": [
       "  ⎛    2               2⎞                    \n",
       "f⋅⎝- x₂  - 2⋅x₂⋅x₄ - x₄ ⎠ + p₁⋅(x₂ + x₄) - p₂"
      ]
     },
     "metadata": {},
     "output_type": "display_data"
    },
    {
     "data": {
      "image/png": "[encoded data removed]",
      "text/latex": [
       "$\\displaystyle f \\left(x_{1} + x_{2} + x_{3} + x_{4}\\right) - p_{1}$"
      ],
      "text/plain": [
       "f⋅(x₁ + x₂ + x₃ + x₄) - p₁"
      ]
     },
     "metadata": {},
     "output_type": "display_data"
    },
    {
     "data": {
      "image/png": "[encoded data removed]",
      "text/latex": [
       "$\\displaystyle p_{1} \\left(x_{3}^{2} x_{4}^{4} - x_{4}^{2}\\right) + p_{2} \\left(x_{2} x_{3}^{2} x_{4}^{2} - x_{2} x_{4}^{4} - x_{3}^{2} x_{4}^{3} - x_{3} x_{4}^{4} + x_{3} + x_{4}\\right) + p_{3} \\left(- x_{2} x_{3}^{2} x_{4} + x_{2} x_{4}^{3} + x_{4}^{4} - 1\\right) + p_{4} \\left(x_{2} x_{3}^{2} - x_{2} x_{4}^{2} + x_{3}^{2} x_{4} - x_{4}^{3}\\right)$"
      ],
      "text/plain": [
       "   ⎛  2   4     2⎞      ⎛     2   2        4     2   3        4          ⎞      ⎛       2  \n",
       "p₁⋅⎝x₃ ⋅x₄  - x₄ ⎠ + p₂⋅⎝x₂⋅x₃ ⋅x₄  - x₂⋅x₄  - x₃ ⋅x₄  - x₃⋅x₄  + x₃ + x₄⎠ + p₃⋅⎝- x₂⋅x₃ ⋅x\n",
       "\n",
       "         3     4    ⎞      ⎛     2        2     2        3⎞\n",
       "₄ + x₂⋅x₄  + x₄  - 1⎠ + p₄⋅⎝x₂⋅x₃  - x₂⋅x₄  + x₃ ⋅x₄ - x₄ ⎠"
      ]
     },
     "metadata": {},
     "output_type": "display_data"
    },
    {
     "data": {
      "image/png": "[encoded data removed]",
      "text/latex": [
       "$\\displaystyle p_{1} \\left(x_{2} x_{3}^{2} + x_{3}^{2} x_{4}\\right) + p_{2} \\left(- x_{2} x_{3} - x_{2} x_{4} - x_{3}^{2} - x_{3} x_{4}\\right) + p_{3} \\left(x_{2} + x_{4}\\right)$"
      ],
      "text/plain": [
       "   ⎛     2     2   ⎞      ⎛                   2        ⎞               \n",
       "p₁⋅⎝x₂⋅x₃  + x₃ ⋅x₄⎠ + p₂⋅⎝-x₂⋅x₃ - x₂⋅x₄ - x₃  - x₃⋅x₄⎠ + p₃⋅(x₂ + x₄)"
      ]
     },
     "metadata": {},
     "output_type": "display_data"
    },
    {
     "data": {
      "image/png": "[encoded data removed]",
      "text/latex": [
       "$\\displaystyle p_{1} \\left(- x_{2} - x_{4}\\right) + p_{2} \\left(- x_{2}^{2} x_{4}^{2} + 1\\right) + p_{3} \\left(x_{2}^{2} x_{4} + x_{2} x_{4}^{2}\\right) + p_{4} \\left(- x_{2}^{2} - 2 x_{2} x_{4} - x_{4}^{2}\\right)$"
      ],
      "text/plain": [
       "                   ⎛    2   2    ⎞      ⎛  2           2⎞      ⎛    2               2⎞\n",
       "p₁⋅(-x₂ - x₄) + p₂⋅⎝- x₂ ⋅x₄  + 1⎠ + p₃⋅⎝x₂ ⋅x₄ + x₂⋅x₄ ⎠ + p₄⋅⎝- x₂  - 2⋅x₂⋅x₄ - x₄ ⎠"
      ]
     },
     "metadata": {},
     "output_type": "display_data"
    }
   ],
   "source": [
    "x1, x2, x3, x4 = sympy.symbols('x1, x2, x3, x4')\n",
    "f, p1, p2, p3, p4 = sympy.symbols('f, p1, p2, p3, p4')\n",
    "for w in cyclic4.GB():\n",
    "    display(eval(str(w.poly)).collect([f, p1, p2, p3, p4]))"
   ]
  },
  {
   "cell_type": "code",
   "execution_count": 30,
   "metadata": {},
   "outputs": [
    {
     "name": "stdout",
     "output_type": "stream",
     "text": [
      "\\left[ \\left( x_{3}^{2} x_{4}^{4} - x_{4}^{2}, \\  x_{2} x_{3}^{2} x_{4}^{2} - x_{2} x_{4}^{4} - x_{3}^{2} x_{4}^{3} - x_{3} x_{4}^{4} + x_{3} + x_{4}, \\  - x_{2} x_{3}^{2} x_{4} + x_{2} x_{4}^{3} + x_{4}^{4} - 1, \\  x_{2} x_{3}^{2} - x_{2} x_{4}^{2} + x_{3}^{2} x_{4} - x_{4}^{3}\\right), \\  \\left( x_{2} x_{3}^{2} + x_{3}^{2} x_{4}, \\  - x_{2} x_{3} - x_{2} x_{4} - x_{3}^{2} - x_{3} x_{4}, \\  x_{2} + x_{4}, \\  0\\right), \\  \\left( - x_{2} - x_{4}, \\  - x_{2}^{2} x_{4}^{2} + 1, \\  x_{2}^{2} x_{4} + x_{2} x_{4}^{2}, \\  - x_{2}^{2} - 2 x_{2} x_{4} - x_{4}^{2}\\right)\\right]\n"
     ]
    }
   ],
   "source": [
    "syzygy = []\n",
    "for i in range(1, 5):\n",
    "    for w in cyclic4[i].GB():\n",
    "        syzygy.append(tuple(sympy.Add(*tuple(eval(f\"{m.lcm(fun[k].lm())}*{c}\") \\\n",
    "           for m, c in w.poly if m.position() == k), evaluate=False) for k in range(1, 5)))\n",
    "print(sympy.latex(syzygy))"
   ]
  },
  {
   "cell_type": "code",
   "execution_count": 31,
   "metadata": {},
   "outputs": [
    {
     "name": "stdout",
     "output_type": "stream",
     "text": [
      "0 0 0 "
     ]
    }
   ],
   "source": [
    "P = (x1+x2+x3+x4,\\\n",
    "x1*x2+x2*x3+x3*x4+x4*x1,\\\n",
    "x1*x2*x3+x2*x3*x4+x3*x4*x1+x4*x1*x2,\\\n",
    "x1*x2*x3*x4-1)\n",
    "for syz in syzygy:\n",
    "    print(sum(s*p for s, p in zip(syz, P)).expand(), end=\" \")"
   ]
  },
  {
   "cell_type": "code",
   "execution_count": 32,
   "metadata": {},
   "outputs": [
    {
     "name": "stdout",
     "output_type": "stream",
     "text": [
      "prolong 0, Q 1\n",
      "x1\n",
      "prolong 0, Q 2\n",
      "x2**2\n",
      "prolong 2, Q 3\n",
      "x2*x3**2\n",
      "prolong 3, Q 4\n",
      "x2*x3*x4**2, x3**3*x4\n",
      "prolong 4, Q 5\n",
      "x2*x3*x4*x5**2, x3**2*x4**3, x3**2*x4**2*x5\n",
      "prolong 5, Q 0\n",
      "x2*x4**3*x5**2, x3**3*x5**3, x3*x4**3*x5**2, x3*x4**4*x5, x3**4*x5**2, x2*x4**4*x5\n",
      "prolong 4, Q 0\n",
      "x3**4*x4\n",
      "prolong 5, Q 0\n",
      "prolong 6, Q 0\n",
      "x2*x4**2*x5**4, x4**4*x5**3, x3*x4**2*x5**4, x4**3*x5**4, x2*x3*x5**5, x4**5*x5**2\n",
      "prolong 7, Q 0\n",
      "x3**3\n",
      "prolong 3, Q 4\n",
      "x2*x4**3, x3**2*x4**2\n",
      "prolong 4, Q 5\n",
      "x3*x4**3*x5, x3*x4**4, x4**5, x4**4*x5\n",
      "prolong 5, Q 6\n",
      "x2*x5**5, x2*x4**2*x5**3, x3*x4**2*x5**3\n",
      "prolong 6, Q 7\n",
      "x2*x4*x5**5\n",
      "prolong 7, Q 7\n",
      "x3*x4*x5**5, x3**2*x5**5\n",
      "prolong 7, Q 8\n",
      "x4**2*x5**6\n",
      "prolong 8, Q 8\n",
      "x3*x5**7, x4*x5**7, x5**8, x3**2*x4*x5**5\n",
      "prolong 8, Q 0\n",
      "x3*x4**3\n",
      "prolong 4, Q 5\n",
      "x4**4\n",
      "prolong 4, Q 5\n",
      "prolong 0, Q 0\n",
      "crit1: 40\n",
      "crit2: 1\n",
      " time: 0.74 sec\n",
      "    count: 23\n",
      "reduction: 1375\n",
      "       HP: 70\n"
     ]
    },
    {
     "data": {
      "image/png": "[encoded data removed]",
      "text/plain": [
       "<IPython.core.display.Image object>"
      ]
     },
     "execution_count": 32,
     "metadata": {},
     "output_type": "execute_result"
    }
   ],
   "source": [
    "Monom.cmp = Monom.TOPdeglex\n",
    "x1, x2, x3, x4, x5 = Poly.init('x1, x2, x3, x4, x5'.split(', '))\n",
    "cyclic5 = Janet()\n",
    "res = ginvBlockLow((\n",
    "x1+x2+x3+x4+x5,\n",
    "x1*x2+x1*x5+x2*x3+x3*x4+x4*x5,\n",
    "x1*x2*x3+x1*x2*x5+x1*x4*x5+x2*x3*x4+x3*x4*x5,\n",
    "x1*x2*x3*x4+x1*x2*x3*x5+x1*x2*x4*x5+x1*x3*x4*x5+x2*x3*x4*x5,\n",
    "x1*x2*x3*x4*x5-1), \\\n",
    "cyclic5, level=1)\n",
    "print(f\"crit1: {res[1]}\")\n",
    "print(f\"crit2: {res[2]}\")\n",
    "print(f\" time: {res[0]:.2f} sec\")\n",
    "print(f\"    count: {cyclic5.count()}\")\n",
    "print(f\"reduction: {cyclic5.reduction()}\")\n",
    "print(f\"       HP: {cyclic5.HP()}\")\n",
    "cyclic5.saveImage('cyclic5.pdf', level=1)\n",
    "cyclic5.saveImage('cyclic5.png', level=1)\n",
    "Image('./cyclic5.png')"
   ]
  },
  {
   "cell_type": "code",
   "execution_count": 33,
   "metadata": {},
   "outputs": [
    {
     "data": {
      "image/png": "[encoded data removed]",
      "text/latex": [
       "$\\displaystyle 42 x_{2} x_{3} x_{4} - 76 x_{2} x_{3} x_{5} - 165 x_{2} x_{4}^{2} + 13 x_{2} x_{4} x_{5} + 186 x_{2} x_{5}^{2} + 21 x_{3}^{2} x_{4} - 55 x_{3}^{2} x_{5} + 42 x_{3} x_{4}^{2} - 131 x_{3} x_{4} x_{5} + 21 x_{3} x_{5}^{2} - 55 x_{4}^{3} - 21 x_{4}^{2} x_{5} - 42 x_{4} x_{5}^{2} + x_{5}^{8} + 219 x_{5}^{3}$"
      ],
      "text/plain": [
       "                                     2                          2        2           2     \n",
       "42⋅x₂⋅x₃⋅x₄ - 76⋅x₂⋅x₃⋅x₅ - 165⋅x₂⋅x₄  + 13⋅x₂⋅x₄⋅x₅ + 186⋅x₂⋅x₅  + 21⋅x₃ ⋅x₄ - 55⋅x₃ ⋅x₅ +\n",
       "\n",
       "         2                          2        3        2              2     8         3\n",
       " 42⋅x₃⋅x₄  - 131⋅x₃⋅x₄⋅x₅ + 21⋅x₃⋅x₅  - 55⋅x₄  - 21⋅x₄ ⋅x₅ - 42⋅x₄⋅x₅  + x₅  + 219⋅x₅ "
      ]
     },
     "metadata": {},
     "output_type": "display_data"
    },
    {
     "data": {
      "image/png": "[encoded data removed]",
      "text/latex": [
       "$\\displaystyle 110 x_{2} x_{3} x_{4} - 29 x_{2} x_{3} x_{5} - 52 x_{2} x_{4}^{2} + 34 x_{2} x_{4} x_{5} - 63 x_{2} x_{5}^{2} + 55 x_{3}^{2} x_{4} + 26 x_{3}^{2} x_{5} - 60 x_{3} x_{4}^{2} + 102 x_{3} x_{4} x_{5} + 120 x_{3} x_{5}^{2} - 39 x_{4}^{3} - 120 x_{4}^{2} x_{5} - x_{4} x_{5}^{7} - 109 x_{4} x_{5}^{2} + 26 x_{5}^{3}$"
      ],
      "text/plain": [
       "                                     2                         2        2           2      \n",
       "110⋅x₂⋅x₃⋅x₄ - 29⋅x₂⋅x₃⋅x₅ - 52⋅x₂⋅x₄  + 34⋅x₂⋅x₄⋅x₅ - 63⋅x₂⋅x₅  + 55⋅x₃ ⋅x₄ + 26⋅x₃ ⋅x₅ - \n",
       "\n",
       "        2                           2        3         2           7            2        3\n",
       "60⋅x₃⋅x₄  + 102⋅x₃⋅x₄⋅x₅ + 120⋅x₃⋅x₅  - 39⋅x₄  - 120⋅x₄ ⋅x₅ - x₄⋅x₅  - 109⋅x₄⋅x₅  + 26⋅x₅ "
      ]
     },
     "metadata": {},
     "output_type": "display_data"
    },
    {
     "data": {
      "image/png": "[encoded data removed]",
      "text/latex": [
       "$\\displaystyle 28 x_{2} x_{3} x_{4} - 11 x_{2} x_{3} x_{5} - 21 x_{2} x_{4}^{2} + 9 x_{2} x_{4} x_{5} - 5 x_{2} x_{5}^{2} + 14 x_{3}^{2} x_{4} + 3 x_{3}^{2} x_{5} - 12 x_{3} x_{4}^{2} + 17 x_{3} x_{4} x_{5} + 29 x_{3} x_{5}^{2} - 12 x_{4}^{3} + x_{4}^{2} x_{5}^{6} - 30 x_{4}^{2} x_{5} - 28 x_{4} x_{5}^{2} + 18 x_{5}^{3}$"
      ],
      "text/plain": [
       "                                    2                       2        2          2          \n",
       "28⋅x₂⋅x₃⋅x₄ - 11⋅x₂⋅x₃⋅x₅ - 21⋅x₂⋅x₄  + 9⋅x₂⋅x₄⋅x₅ - 5⋅x₂⋅x₅  + 14⋅x₃ ⋅x₄ + 3⋅x₃ ⋅x₅ - 12⋅x\n",
       "\n",
       "    2                         2        3     2   6        2              2        3\n",
       "₃⋅x₄  + 17⋅x₃⋅x₄⋅x₅ + 29⋅x₃⋅x₅  - 12⋅x₄  + x₄ ⋅x₅  - 30⋅x₄ ⋅x₅ - 28⋅x₄⋅x₅  + 18⋅x₅ "
      ]
     },
     "metadata": {},
     "output_type": "display_data"
    },
    {
     "data": {
      "image/png": "[encoded data removed]",
      "text/latex": [
       "$\\displaystyle - 10 x_{2} x_{3} + 10 x_{2} x_{4} - 10 x_{3}^{2} - 5 x_{3} x_{4} + 9 x_{3} x_{5}^{6} - 24 x_{3} x_{5} + 5 x_{4}^{3} x_{5}^{4} + 11 x_{4}^{2} x_{5}^{5} + 4 x_{4}^{2} + 2 x_{4} x_{5}^{6} - 2 x_{4} x_{5} + 3 x_{5}^{7} + 7 x_{5}^{2}$"
      ],
      "text/plain": [
       "                            2                    6                  3   4        2   5     \n",
       "-10⋅x₂⋅x₃ + 10⋅x₂⋅x₄ - 10⋅x₃  - 5⋅x₃⋅x₄ + 9⋅x₃⋅x₅  - 24⋅x₃⋅x₅ + 5⋅x₄ ⋅x₅  + 11⋅x₄ ⋅x₅  + 4⋅\n",
       "\n",
       "  2          6                 7       2\n",
       "x₄  + 2⋅x₄⋅x₅  - 2⋅x₄⋅x₅ + 3⋅x₅  + 7⋅x₅ "
      ]
     },
     "metadata": {},
     "output_type": "display_data"
    },
    {
     "data": {
      "image/png": "[encoded data removed]",
      "text/latex": [
       "$\\displaystyle 14 x_{2} x_{3} x_{4} x_{5} - x_{2} x_{3} x_{5}^{2} - 27 x_{2} x_{4}^{2} x_{5} - 10 x_{2} x_{4} x_{5}^{2} + 24 x_{2} x_{5}^{3} + 6 x_{3}^{2} x_{4} x_{5} + 7 x_{3}^{2} x_{5}^{2} + 2 x_{3} x_{4}^{2} x_{5} - 9 x_{3} x_{4} x_{5}^{2} + 33 x_{3} x_{5}^{3} + x_{4}^{4} - 15 x_{4}^{3} x_{5} - 33 x_{4}^{2} x_{5}^{2} - 14 x_{4} x_{5}^{3} + 22 x_{5}^{4}$"
      ],
      "text/plain": [
       "                         2           2                 2           3       2             2 \n",
       "14⋅x₂⋅x₃⋅x₄⋅x₅ - x₂⋅x₃⋅x₅  - 27⋅x₂⋅x₄ ⋅x₅ - 10⋅x₂⋅x₄⋅x₅  + 24⋅x₂⋅x₅  + 6⋅x₃ ⋅x₄⋅x₅ + 7⋅x₃ ⋅\n",
       "\n",
       "  2          2                2           3     4        3           2   2           3     \n",
       "x₅  + 2⋅x₃⋅x₄ ⋅x₅ - 9⋅x₃⋅x₄⋅x₅  + 33⋅x₃⋅x₅  + x₄  - 15⋅x₄ ⋅x₅ - 33⋅x₄ ⋅x₅  - 14⋅x₄⋅x₅  + 22\n",
       "\n",
       "   4\n",
       "⋅x₅ "
      ]
     },
     "metadata": {},
     "output_type": "display_data"
    },
    {
     "data": {
      "image/png": "[encoded data removed]",
      "text/latex": [
       "$\\displaystyle - 16 x_{2} x_{3} x_{4} + 29 x_{2} x_{3} x_{5} + 63 x_{2} x_{4}^{2} - 5 x_{2} x_{4} x_{5} - 71 x_{2} x_{5}^{2} - 8 x_{3}^{2} x_{4} + 21 x_{3}^{2} x_{5} - 16 x_{3} x_{4}^{2} + 50 x_{3} x_{4} x_{5} + x_{3} x_{5}^{7} - 9 x_{3} x_{5}^{2} + 21 x_{4}^{3} + 8 x_{4}^{2} x_{5} + 16 x_{4} x_{5}^{2} - 84 x_{5}^{3}$"
      ],
      "text/plain": [
       "                                     2                        2       2           2        \n",
       "-16⋅x₂⋅x₃⋅x₄ + 29⋅x₂⋅x₃⋅x₅ + 63⋅x₂⋅x₄  - 5⋅x₂⋅x₄⋅x₅ - 71⋅x₂⋅x₅  - 8⋅x₃ ⋅x₄ + 21⋅x₃ ⋅x₅ - 16\n",
       "\n",
       "      2                      7          2        3       2              2        3\n",
       "⋅x₃⋅x₄  + 50⋅x₃⋅x₄⋅x₅ + x₃⋅x₅  - 9⋅x₃⋅x₅  + 21⋅x₄  + 8⋅x₄ ⋅x₅ + 16⋅x₄⋅x₅  - 84⋅x₅ "
      ]
     },
     "metadata": {},
     "output_type": "display_data"
    },
    {
     "data": {
      "image/png": "[encoded data removed]",
      "text/latex": [
       "$\\displaystyle - 2 x_{3} x_{4} x_{5}^{5} + 2 x_{3} x_{4} - 8 x_{3} x_{5}^{6} + 8 x_{3} x_{5} - x_{4}^{2} x_{5}^{5} + x_{4}^{2} - x_{4} x_{5}^{6} + x_{4} x_{5} - 3 x_{5}^{7} + 3 x_{5}^{2}$"
      ],
      "text/plain": [
       "            5                    6               2   5     2        6               7      \n",
       "- 2⋅x₃⋅x₄⋅x₅  + 2⋅x₃⋅x₄ - 8⋅x₃⋅x₅  + 8⋅x₃⋅x₅ - x₄ ⋅x₅  + x₄  - x₄⋅x₅  + x₄⋅x₅ - 3⋅x₅  + 3⋅x\n",
       "\n",
       " 2\n",
       "₅ "
      ]
     },
     "metadata": {},
     "output_type": "display_data"
    },
    {
     "data": {
      "image/png": "[encoded data removed]",
      "text/latex": [
       "$\\displaystyle - 20 x_{2} x_{3} x_{5}^{4} + 5 x_{2} x_{4} x_{5}^{4} + 15 x_{2} - 20 x_{3}^{2} x_{5}^{4} + 15 x_{3} x_{4}^{2} x_{5}^{3} - 25 x_{3} x_{4} x_{5}^{4} - 23 x_{3} x_{5}^{5} - 7 x_{3} + 10 x_{4}^{3} x_{5}^{3} + 30 x_{4}^{2} x_{5}^{4} - 3 x_{4} x_{5}^{5} + 3 x_{4} - 4 x_{5}^{6} + 24 x_{5}$"
      ],
      "text/plain": [
       "             4             4                2   4           2   3              4           \n",
       "- 20⋅x₂⋅x₃⋅x₅  + 5⋅x₂⋅x₄⋅x₅  + 15⋅x₂ - 20⋅x₃ ⋅x₅  + 15⋅x₃⋅x₄ ⋅x₅  - 25⋅x₃⋅x₄⋅x₅  - 23⋅x₃⋅x₅\n",
       "\n",
       "5               3   3        2   4          5              6        \n",
       "  - 7⋅x₃ + 10⋅x₄ ⋅x₅  + 30⋅x₄ ⋅x₅  - 3⋅x₄⋅x₅  + 3⋅x₄ - 4⋅x₅  + 24⋅x₅"
      ]
     },
     "metadata": {},
     "output_type": "display_data"
    },
    {
     "data": {
      "image/png": "[encoded data removed]",
      "text/latex": [
       "$\\displaystyle - 2 x_{2} x_{3} x_{4} x_{5} - x_{2} x_{3} x_{5}^{2} + 5 x_{2} x_{4}^{2} x_{5} + 2 x_{2} x_{4} x_{5}^{2} - 4 x_{2} x_{5}^{3} - x_{3}^{2} x_{4} x_{5} - 2 x_{3}^{2} x_{5}^{2} + x_{3} x_{4}^{3} - 7 x_{3} x_{5}^{3} + 4 x_{4}^{3} x_{5} + 7 x_{4}^{2} x_{5}^{2} + 2 x_{4} x_{5}^{3} - 4 x_{5}^{4}$"
      ],
      "text/plain": [
       "                         2          2                2          3     2             2   2  \n",
       "-2⋅x₂⋅x₃⋅x₄⋅x₅ - x₂⋅x₃⋅x₅  + 5⋅x₂⋅x₄ ⋅x₅ + 2⋅x₂⋅x₄⋅x₅  - 4⋅x₂⋅x₅  - x₃ ⋅x₄⋅x₅ - 2⋅x₃ ⋅x₅  +\n",
       "\n",
       "      3          3       3          2   2          3       4\n",
       " x₃⋅x₄  - 7⋅x₃⋅x₅  + 4⋅x₄ ⋅x₅ + 7⋅x₄ ⋅x₅  + 2⋅x₄⋅x₅  - 4⋅x₅ "
      ]
     },
     "metadata": {},
     "output_type": "display_data"
    },
    {
     "data": {
      "image/png": "[encoded data removed]",
      "text/latex": [
       "$\\displaystyle x_{3}^{2} x_{5}^{5} - x_{3}^{2} + 3 x_{3} x_{5}^{6} - 3 x_{3} x_{5} + x_{5}^{7} - x_{5}^{2}$"
      ],
      "text/plain": [
       "  2   5     2          6               7     2\n",
       "x₃ ⋅x₅  - x₃  + 3⋅x₃⋅x₅  - 3⋅x₃⋅x₅ + x₅  - x₅ "
      ]
     },
     "metadata": {},
     "output_type": "display_data"
    },
    {
     "data": {
      "image/png": "[encoded data removed]",
      "text/latex": [
       "$\\displaystyle - x_{2} x_{3} x_{4} x_{5} + 2 x_{2} x_{4}^{2} x_{5} + 2 x_{2} x_{4} x_{5}^{2} - 3 x_{2} x_{5}^{3} - x_{3}^{2} x_{4}^{2} - 2 x_{3} x_{4}^{2} x_{5} + 2 x_{3} x_{4} x_{5}^{2} - 2 x_{3} x_{5}^{3} + x_{4}^{3} x_{5} + 2 x_{4}^{2} x_{5}^{2} + 2 x_{4} x_{5}^{3} - 2 x_{5}^{4}$"
      ],
      "text/plain": [
       "                      2                2          3     2   2          2                2  \n",
       "-x₂⋅x₃⋅x₄⋅x₅ + 2⋅x₂⋅x₄ ⋅x₅ + 2⋅x₂⋅x₄⋅x₅  - 3⋅x₂⋅x₅  - x₃ ⋅x₄  - 2⋅x₃⋅x₄ ⋅x₅ + 2⋅x₃⋅x₄⋅x₅  -\n",
       "\n",
       "        3     3          2   2          3       4\n",
       " 2⋅x₃⋅x₅  + x₄ ⋅x₅ + 2⋅x₄ ⋅x₅  + 2⋅x₄⋅x₅  - 2⋅x₅ "
      ]
     },
     "metadata": {},
     "output_type": "display_data"
    },
    {
     "data": {
      "image/png": "[encoded data removed]",
      "text/latex": [
       "$\\displaystyle x_{2} x_{3} x_{4} - 2 x_{2} x_{4}^{2} - 2 x_{2} x_{4} x_{5} + 3 x_{2} x_{5}^{2} + x_{3}^{3} + 3 x_{3}^{2} x_{5} - x_{3} x_{4}^{2} - 2 x_{3} x_{4} x_{5} + 3 x_{3} x_{5}^{2} - x_{4}^{3} - 3 x_{4}^{2} x_{5} - 2 x_{4} x_{5}^{2} + 2 x_{5}^{3}$"
      ],
      "text/plain": [
       "                  2                       2     3       2           2                      \n",
       "x₂⋅x₃⋅x₄ - 2⋅x₂⋅x₄  - 2⋅x₂⋅x₄⋅x₅ + 3⋅x₂⋅x₅  + x₃  + 3⋅x₃ ⋅x₅ - x₃⋅x₄  - 2⋅x₃⋅x₄⋅x₅ + 3⋅x₃⋅x\n",
       "\n",
       " 2     3       2             2       3\n",
       "₅  - x₄  - 3⋅x₄ ⋅x₅ - 2⋅x₄⋅x₅  + 2⋅x₅ "
      ]
     },
     "metadata": {},
     "output_type": "display_data"
    },
    {
     "data": {
      "image/png": "[encoded data removed]",
      "text/latex": [
       "$\\displaystyle x_{2} x_{5}^{5} - x_{2} - x_{3} x_{5}^{5} + x_{3}$"
      ],
      "text/plain": [
       "     5             5     \n",
       "x₂⋅x₅  - x₂ - x₃⋅x₅  + x₃"
      ]
     },
     "metadata": {},
     "output_type": "display_data"
    },
    {
     "data": {
      "image/png": "[encoded data removed]",
      "text/latex": [
       "$\\displaystyle - x_{2} x_{3} x_{5}^{4} - 3 x_{2} x_{4}^{2} x_{5}^{3} + x_{2} x_{4} x_{5}^{4} + 3 x_{2} - x_{3}^{2} x_{5}^{4} - 2 x_{3} x_{4} x_{5}^{4} + 2 x_{3} x_{5}^{5} - 2 x_{3} - x_{4}^{3} x_{5}^{3} + x_{5}^{6} + 3 x_{5}$"
      ],
      "text/plain": [
       "          4          2   3           4            2   4             4          5           \n",
       "- x₂⋅x₃⋅x₅  - 3⋅x₂⋅x₄ ⋅x₅  + x₂⋅x₄⋅x₅  + 3⋅x₂ - x₃ ⋅x₅  - 2⋅x₃⋅x₄⋅x₅  + 2⋅x₃⋅x₅  - 2⋅x₃ - x\n",
       "\n",
       " 3   3     6       \n",
       "₄ ⋅x₅  + x₅  + 3⋅x₅"
      ]
     },
     "metadata": {},
     "output_type": "display_data"
    },
    {
     "data": {
      "image/png": "[encoded data removed]",
      "text/latex": [
       "$\\displaystyle - 5 x_{2} x_{3} x_{4} x_{5} + x_{2} x_{4}^{3} + 10 x_{2} x_{4}^{2} x_{5} + 2 x_{2} x_{4} x_{5}^{2} - 8 x_{2} x_{5}^{3} - 2 x_{3}^{2} x_{4} x_{5} - 3 x_{3}^{2} x_{5}^{2} + x_{3} x_{4}^{2} x_{5} + 2 x_{3} x_{4} x_{5}^{2} - 13 x_{3} x_{5}^{3} + 6 x_{4}^{3} x_{5} + 13 x_{4}^{2} x_{5}^{2} + 4 x_{4} x_{5}^{3} - 8 x_{5}^{4}$"
      ],
      "text/plain": [
       "                      3           2                2          3       2             2   2  \n",
       "-5⋅x₂⋅x₃⋅x₄⋅x₅ + x₂⋅x₄  + 10⋅x₂⋅x₄ ⋅x₅ + 2⋅x₂⋅x₄⋅x₅  - 8⋅x₂⋅x₅  - 2⋅x₃ ⋅x₄⋅x₅ - 3⋅x₃ ⋅x₅  +\n",
       "\n",
       "      2                2           3       3           2   2          3       4\n",
       " x₃⋅x₄ ⋅x₅ + 2⋅x₃⋅x₄⋅x₅  - 13⋅x₃⋅x₅  + 6⋅x₄ ⋅x₅ + 13⋅x₄ ⋅x₅  + 4⋅x₄⋅x₅  - 8⋅x₅ "
      ]
     },
     "metadata": {},
     "output_type": "display_data"
    },
    {
     "data": {
      "image/png": "[encoded data removed]",
      "text/latex": [
       "$\\displaystyle 2 x_{2} x_{3} x_{4} x_{5}^{2} - x_{2} x_{3} x_{5}^{3} - 2 x_{2} x_{4} x_{5}^{3} + x_{2} x_{5}^{4} + x_{3}^{2} x_{4} x_{5}^{2} + 2 x_{3} x_{4}^{2} x_{5}^{2} - x_{3} x_{4} x_{5}^{3} + x_{3} x_{5}^{4} - x_{4}^{2} x_{5}^{3} - 2 x_{4} x_{5}^{4} + x_{5}^{5} - 1$"
      ],
      "text/plain": [
       "             2           3             3        4     2      2          2   2           3  \n",
       "2⋅x₂⋅x₃⋅x₄⋅x₅  - x₂⋅x₃⋅x₅  - 2⋅x₂⋅x₄⋅x₅  + x₂⋅x₅  + x₃ ⋅x₄⋅x₅  + 2⋅x₃⋅x₄ ⋅x₅  - x₃⋅x₄⋅x₅  +\n",
       "\n",
       "      4     2   3          4     5    \n",
       " x₃⋅x₅  - x₄ ⋅x₅  - 2⋅x₄⋅x₅  + x₅  - 1"
      ]
     },
     "metadata": {},
     "output_type": "display_data"
    },
    {
     "data": {
      "image/png": "[encoded data removed]",
      "text/latex": [
       "$\\displaystyle x_{2} x_{3} x_{4}^{2} + x_{2} x_{3} x_{4} x_{5} - x_{2} x_{3} x_{5}^{2} - x_{2} x_{4}^{2} x_{5} - x_{2} x_{4} x_{5}^{2} + x_{2} x_{5}^{3} + x_{3}^{2} x_{4} x_{5} + x_{3} x_{4}^{2} x_{5} + x_{3} x_{5}^{3} - x_{4}^{3} x_{5} - 2 x_{4}^{2} x_{5}^{2} - x_{4} x_{5}^{3} + x_{5}^{4}$"
      ],
      "text/plain": [
       "        2                         2        2              2        3     2              2  \n",
       "x₂⋅x₃⋅x₄  + x₂⋅x₃⋅x₄⋅x₅ - x₂⋅x₃⋅x₅  - x₂⋅x₄ ⋅x₅ - x₂⋅x₄⋅x₅  + x₂⋅x₅  + x₃ ⋅x₄⋅x₅ + x₃⋅x₄ ⋅x\n",
       "\n",
       "         3     3          2   2        3     4\n",
       "₅ + x₃⋅x₅  - x₄ ⋅x₅ - 2⋅x₄ ⋅x₅  - x₄⋅x₅  + x₅ "
      ]
     },
     "metadata": {},
     "output_type": "display_data"
    },
    {
     "data": {
      "image/png": "[encoded data removed]",
      "text/latex": [
       "$\\displaystyle - x_{2} x_{3}^{2} + x_{2} x_{3} x_{4} - x_{2} x_{4} x_{5} + x_{2} x_{5}^{2} - x_{3}^{2} x_{4} + x_{3}^{2} x_{5} - x_{3} x_{4} x_{5} + 2 x_{3} x_{5}^{2} - x_{4}^{2} x_{5} - x_{4} x_{5}^{2} + x_{5}^{3}$"
      ],
      "text/plain": [
       "       2                              2     2        2                        2     2      \n",
       "- x₂⋅x₃  + x₂⋅x₃⋅x₄ - x₂⋅x₄⋅x₅ + x₂⋅x₅  - x₃ ⋅x₄ + x₃ ⋅x₅ - x₃⋅x₄⋅x₅ + 2⋅x₃⋅x₅  - x₄ ⋅x₅ - \n",
       "\n",
       "     2     3\n",
       "x₄⋅x₅  + x₅ "
      ]
     },
     "metadata": {},
     "output_type": "display_data"
    },
    {
     "data": {
      "image/png": "[encoded data removed]",
      "text/latex": [
       "$\\displaystyle - x_{2}^{2} - x_{2} x_{4} - 2 x_{2} x_{5} + x_{3} x_{4} - x_{3} x_{5} - x_{5}^{2}$"
      ],
      "text/plain": [
       "    2                                       2\n",
       "- x₂  - x₂⋅x₄ - 2⋅x₂⋅x₅ + x₃⋅x₄ - x₃⋅x₅ - x₅ "
      ]
     },
     "metadata": {},
     "output_type": "display_data"
    },
    {
     "data": {
      "image/png": "[encoded data removed]",
      "text/latex": [
       "$\\displaystyle x_{1} + x_{2} + x_{3} + x_{4} + x_{5}$"
      ],
      "text/plain": [
       "x₁ + x₂ + x₃ + x₄ + x₅"
      ]
     },
     "metadata": {},
     "output_type": "display_data"
    }
   ],
   "source": [
    "x1, x2, x3, x4, x5 = sympy.symbols('x1, x2, x3, x4, x5')\n",
    "for w in cyclic5.GB():\n",
    "    display(sympy.Add(*tuple(eval(f\"{m}*{c}\") for m, c in w.poly), evaluate=False))"
   ]
  },
  {
   "cell_type": "code",
   "execution_count": 34,
   "metadata": {},
   "outputs": [
    {
     "name": "stdout",
     "output_type": "stream",
     "text": [
      "prolong 0, Q 1\n",
      "x1\n",
      "prolong 0, Q 2\n",
      "x2**2\n",
      "prolong 2, Q 3\n",
      "x2*x3**2\n",
      "prolong 3, Q 4\n",
      "x2*x3*x4**2, x3**3*x4\n",
      "prolong 4, Q 5\n",
      "x2*x3*x4*x5**2, x3**2*x4**3, x3**2*x4**2*x5\n",
      "prolong 5, Q 6\n",
      "x2*x3*x4*x5*x6**2, x3*x4**2*x5**3, x3*x4**3*x5**2, x3**2*x4*x5**2*x6, x3*x4**3*x5*x6, x3*x4**2*x5**2*x6, x3*x4**4*x5\n",
      "prolong 6, Q 0\n",
      "x3**2*x4**2*x6**3, x2*x4**2*x5**2*x6**2, x4**3*x5**2*x6**2, x2*x4*x5**3*x6**2, x3*x4*x5**4*x6, x4**3*x5**3*x6, x2*x4**2*x5**3*x6, x4**2*x5**4*x6, x2*x4*x5**4*x6, x3**4*x5*x6**2, x3**3*x5**2*x6**2, x2*x4**3*x5**2*x6, x4**4*x5**2*x6, x3*x4**4*x6**2\n",
      "prolong 4, Q 0\n",
      "x3**4*x4\n",
      "prolong 5, Q 0\n",
      "prolong 7, Q 0\n",
      "x3*x4*x5**3*x6**3, x3*x4**3*x6**4, x2*x3*x5**3*x6**3, x3**2*x5**3*x6**3, x4**2*x5**3*x6**3, x2*x5**4*x6**3, x4*x5**4*x6**3, x3**3*x5*x6**4, x3**2*x4*x5*x6**4, x2*x4**3*x5*x6**3, x2*x4**2*x5*x6**4, x3*x4**2*x5*x6**4, x2*x3*x5**4*x6**2, x3**2*x5**4*x6**2\n",
      "prolong 8, Q 0\n",
      "x3**3, x2*x3*x4, x3**2*x4, x2*x4**2\n",
      "prolong 3, Q 4\n",
      "x3*x4**2*x5, x3*x4**3, x4**3*x5, x2*x3*x5**2, x3**2*x5**2, x4**4, x2*x4*x5**2, x3*x4*x5**2\n",
      "prolong 4, Q 5\n",
      "x4**2*x5**3, x2*x5**4, x3*x5**4, x4*x5**4, x5**5, x4**2*x5**2*x6, x2*x5**3*x6, x3*x5**3*x6\n",
      "prolong 5, Q 6\n",
      "x3*x4**2*x6**3, x4*x5**3*x6**2\n",
      "prolong 6, Q 7\n",
      "x4**3*x6**4, x5**4*x6**3, x2*x3*x5*x6**4, x3**2*x5*x6**4\n",
      "prolong 7, Q 8\n",
      "x2*x4*x5*x6**5, x3*x4*x5*x6**5, x4**2*x5*x6**5, x2*x5**2*x6**5, x3*x5**2*x6**5, x4*x5**2*x6**5, x2*x3*x6**6, x3**2*x6**6, x2*x4*x6**6\n",
      "prolong 8, Q 9\n",
      "x3*x4*x6**7, x2*x5*x6**7, x2*x6**8, x5**3*x6**6, x4**2*x6**7, x3*x5*x6**7, x4*x5*x6**7, x5**2*x6**7, x3*x6**8, x4*x6**8, x6**9\n",
      "prolong 9, Q 0\n",
      "x5*x6**9\n",
      "prolong 10, Q 10\n",
      "x4**2*x5**2\n",
      "prolong 4, Q 5\n",
      "x4*x5**3*x6\n",
      "prolong 5, Q 6\n",
      "x2*x5**3\n",
      "prolong 4, Q 5\n",
      "x3*x5**3\n",
      "prolong 4, Q 5\n",
      "x4*x5**3\n",
      "prolong 4, Q 5\n",
      "prolong 10, Q 0\n",
      "prolong 0, Q 0\n",
      "crit1: 95\n",
      "crit2: 0\n",
      " time: 10.02 sec\n",
      "    count: 46\n",
      "reduction: 10693\n",
      "       HP: 156\n"
     ]
    }
   ],
   "source": [
    "Monom.cmp = Monom.TOPdeglex\n",
    "x1, x2, x3, x4, x5, x6 = Poly.init('x1, x2, x3, x4, x5, x6'.split(', '))\n",
    "cyclic6 = Janet()\n",
    "res = ginvBlockLow((\n",
    "x1+x2+x3+x4+x5+x6,\n",
    "x1*x2+x1*x6+x2*x3+x3*x4+x4*x5+x5*x6,\n",
    "x1*x2*x3+x1*x2*x6+x1*x5*x6+x2*x3*x4+x3*x4*x5+x4*x5*x6,\n",
    "x1*x2*x3*x4+x1*x2*x3*x6+x1*x2*x5*x6+x1*x4*x5*x6+x2*x3*x4*x5+x3*x4*x5*x6,\n",
    "x1*x2*x3*x4*x5+x1*x2*x3*x4*x6+x1*x2*x3*x5*x6+x1*x2*x4*x5*x6+x1*x3*x4*x5*x6+x2*x3*x4*x5*x6,\n",
    "x1*x2*x3*x4*x5*x6-1), \\\n",
    "cyclic6, level=1)\n",
    "print(f\"crit1: {res[1]}\")\n",
    "print(f\"crit2: {res[2]}\")\n",
    "print(f\" time: {res[0]:.2f} sec\")\n",
    "print(f\"    count: {cyclic6.count()}\")\n",
    "print(f\"reduction: {cyclic6.reduction()}\")\n",
    "print(f\"       HP: {cyclic6.HP()}\")"
   ]
  },
  {
   "cell_type": "code",
   "execution_count": 35,
   "metadata": {
    "scrolled": false
   },
   "outputs": [
    {
     "data": {
      "image/png": "[encoded data removed]",
      "text/latex": [
       "$\\displaystyle 214997 x_{2} x_{3} x_{5} - 65391 x_{2} x_{3} x_{6} - 135438 x_{2} x_{4} x_{5} + 64852 x_{2} x_{4} x_{6} - 104952 x_{2} x_{5}^{2} - 3999 x_{2} x_{5} x_{6} + 29931 x_{2} x_{6}^{2} + 224921 x_{3}^{2} x_{5} - 75315 x_{3}^{2} x_{6} - 115674 x_{3} x_{4}^{2} + 68837 x_{3} x_{4} x_{5} + 60711 x_{3} x_{4} x_{6} + 224921 x_{3} x_{5}^{2} + 95114 x_{3} x_{5} x_{6} + 114909 x_{3} x_{6}^{2} - 17492 x_{4}^{3} - 251406 x_{4}^{2} x_{5} + 63198 x_{4}^{2} x_{6} - 156084 x_{4} x_{5}^{2} - 255111 x_{4} x_{5} x_{6} + 93129 x_{4} x_{6}^{2} - 17492 x_{5}^{3} - 87255 x_{5}^{2} x_{6} - 66903 x_{5} x_{6}^{2} - 14 x_{6}^{9} + 97006 x_{6}^{3}$"
      ],
      "text/plain": [
       "                                                                                  2        \n",
       "214997⋅x₂⋅x₃⋅x₅ - 65391⋅x₂⋅x₃⋅x₆ - 135438⋅x₂⋅x₄⋅x₅ + 64852⋅x₂⋅x₄⋅x₆ - 104952⋅x₂⋅x₅  - 3999⋅\n",
       "\n",
       "                      2            2              2                  2                     \n",
       "x₂⋅x₅⋅x₆ + 29931⋅x₂⋅x₆  + 224921⋅x₃ ⋅x₅ - 75315⋅x₃ ⋅x₆ - 115674⋅x₃⋅x₄  + 68837⋅x₃⋅x₄⋅x₅ + 6\n",
       "\n",
       "                            2                                2           3            2    \n",
       "0711⋅x₃⋅x₄⋅x₆ + 224921⋅x₃⋅x₅  + 95114⋅x₃⋅x₅⋅x₆ + 114909⋅x₃⋅x₆  - 17492⋅x₄  - 251406⋅x₄ ⋅x₅ \n",
       "\n",
       "          2                  2                                2           3           2    \n",
       "+ 63198⋅x₄ ⋅x₆ - 156084⋅x₄⋅x₅  - 255111⋅x₄⋅x₅⋅x₆ + 93129⋅x₄⋅x₆  - 17492⋅x₅  - 87255⋅x₅ ⋅x₆ \n",
       "\n",
       "             2        9           3\n",
       "- 66903⋅x₅⋅x₆  - 14⋅x₆  + 97006⋅x₆ "
      ]
     },
     "metadata": {},
     "output_type": "display_data"
    },
    {
     "data": {
      "image/png": "[encoded data removed]",
      "text/latex": [
       "$\\displaystyle - 57284798 x_{2} x_{3} x_{5} + 16477207 x_{2} x_{3} x_{6} + 39352389 x_{2} x_{4} x_{5} - 19827400 x_{2} x_{4} x_{6} + 26046331 x_{2} x_{5}^{2} + 3649792 x_{2} x_{5} x_{6} - 8413521 x_{2} x_{6}^{2} - 58641399 x_{3}^{2} x_{5} + 17833808 x_{3}^{2} x_{6} + 30448002 x_{3} x_{4}^{2} - 15763703 x_{3} x_{4} x_{5} - 19459426 x_{3} x_{4} x_{6} - 63971346 x_{3} x_{5}^{2} - 17802702 x_{3} x_{5} x_{6} - 35873598 x_{3} x_{6}^{2} + 4122570 x_{4}^{3} + 69013136 x_{4}^{2} x_{5} - 20612962 x_{4}^{2} x_{6} + 42900649 x_{4} x_{5}^{2} + 72438977 x_{4} x_{5} x_{6} - 28775344 x_{4} x_{6}^{2} + 2900811 x_{5}^{3} + 99960 x_{5}^{2} x_{6}^{7} + 25610802 x_{5}^{2} x_{6} + 20958 x_{5} x_{6}^{8} + 18237679 x_{5} x_{6}^{2} - 22726872 x_{6}^{3}$"
      ],
      "text/plain": [
       "                                                                                           \n",
       "-57284798⋅x₂⋅x₃⋅x₅ + 16477207⋅x₂⋅x₃⋅x₆ + 39352389⋅x₂⋅x₄⋅x₅ - 19827400⋅x₂⋅x₄⋅x₆ + 26046331⋅x\n",
       "\n",
       "    2                                   2              2                 2                 \n",
       "₂⋅x₅  + 3649792⋅x₂⋅x₅⋅x₆ - 8413521⋅x₂⋅x₆  - 58641399⋅x₃ ⋅x₅ + 17833808⋅x₃ ⋅x₆ + 30448002⋅x₃\n",
       "\n",
       "   2                                                         2                             \n",
       "⋅x₄  - 15763703⋅x₃⋅x₄⋅x₅ - 19459426⋅x₃⋅x₄⋅x₆ - 63971346⋅x₃⋅x₅  - 17802702⋅x₃⋅x₅⋅x₆ - 358735\n",
       "\n",
       "        2             3              2                 2                    2              \n",
       "98⋅x₃⋅x₆  + 4122570⋅x₄  + 69013136⋅x₄ ⋅x₅ - 20612962⋅x₄ ⋅x₆ + 42900649⋅x₄⋅x₅  + 72438977⋅x₄\n",
       "\n",
       "                       2             3           2   7              2                 8    \n",
       "⋅x₅⋅x₆ - 28775344⋅x₄⋅x₆  + 2900811⋅x₅  + 99960⋅x₅ ⋅x₆  + 25610802⋅x₅ ⋅x₆ + 20958⋅x₅⋅x₆  + 1\n",
       "\n",
       "             2              3\n",
       "8237679⋅x₅⋅x₆  - 22726872⋅x₆ "
      ]
     },
     "metadata": {},
     "output_type": "display_data"
    },
    {
     "data": {
      "image/png": "[encoded data removed]",
      "text/latex": [
       "$\\displaystyle - x_{2}^{2} - x_{2} x_{4} - x_{2} x_{5} - 2 x_{2} x_{6} + x_{3} x_{4} - x_{3} x_{6} + x_{4} x_{5} - x_{4} x_{6} - x_{6}^{2}$"
      ],
      "text/plain": [
       "    2                                                               2\n",
       "- x₂  - x₂⋅x₄ - x₂⋅x₅ - 2⋅x₂⋅x₆ + x₃⋅x₄ - x₃⋅x₆ + x₄⋅x₅ - x₄⋅x₆ - x₆ "
      ]
     },
     "metadata": {},
     "output_type": "display_data"
    },
    {
     "data": {
      "image/png": "[encoded data removed]",
      "text/latex": [
       "$\\displaystyle x_{1} + x_{2} + x_{3} + x_{4} + x_{5} + x_{6}$"
      ],
      "text/plain": [
       "x₁ + x₂ + x₃ + x₄ + x₅ + x₆"
      ]
     },
     "metadata": {},
     "output_type": "display_data"
    }
   ],
   "source": [
    "x1, x2, x3, x4, x5, x6 = sympy.symbols('x1, x2, x3, x4, x5, x6')\n",
    "gb = tuple(cyclic6.GB())\n",
    "for w in tuple((gb[0], gb[1], gb[-2], gb[-1])):\n",
    "    display(sympy.Add(*tuple(eval(f\"{m}*{c}\") for m, c in w.poly), evaluate=False))"
   ]
  },
  {
   "cell_type": "code",
   "execution_count": 36,
   "metadata": {
    "scrolled": true
   },
   "outputs": [
    {
     "name": "stdout",
     "output_type": "stream",
     "text": [
      "prolong x\n",
      "x\n",
      "prolong x**2\n",
      "y**6\n",
      "prolong y**9\n",
      "y**4\n",
      "prolong y**6\n",
      "y**3*z**9\n",
      "prolongAll\n",
      "y**3*z**6\n",
      "prolong y**3*z**9\n",
      "y**3*z**4\n",
      "prolong y**3*z**6\n",
      "y**3*z**3\n",
      "prolong y**3*z**4\n",
      "y**3*z**2\n",
      "prolong y**3*z**3\n",
      "y**3*z\n",
      "prolong y**3*z**2\n",
      "y**3\n",
      "prolong y**3*z\n",
      "y**2*z**9\n",
      "prolong y**2*z**16\n",
      "y**2*z**8\n",
      "prolong y**2*z**9\n",
      "y**2*z**7\n",
      "prolong y**2*z**8\n",
      "y**2*z**6\n",
      "prolong y**2*z**7\n",
      "y**2*z**5\n",
      "prolong y**2*z**6\n",
      "y**2*z**4\n",
      "prolong y**2*z**5\n",
      "y**2*z**3\n",
      "prolong y**2*z**4\n",
      "y**2*z**2\n",
      "prolong y**2*z**3\n",
      "y**2*z\n",
      "prolong y**2*z**2\n",
      "y**2\n",
      "prolong y**2*z\n",
      "y*z**23\n",
      "prolong y*z**44\n",
      "y*z**22\n",
      "prolong y*z**23\n",
      "y*z**21\n",
      "prolong y*z**22\n",
      "y*z**20\n",
      "prolong y*z**21\n",
      "y*z**19\n",
      "prolong y*z**20\n",
      "y*z**18\n",
      "prolong y*z**19\n",
      "y*z**17\n",
      "prolong y*z**18\n",
      "y*z**16\n",
      "prolong y*z**17\n",
      "y*z**15\n",
      "prolong y*z**16\n",
      "y*z**14\n",
      "prolong y*z**15\n",
      "y*z**13\n",
      "prolong y*z**14\n",
      "y*z**12\n",
      "prolong y*z**13\n",
      "y*z**11\n",
      "prolong y*z**12\n",
      "y*z**10\n",
      "prolong y*z**11\n",
      "y*z**9\n",
      "prolong y*z**10\n",
      "y*z**8\n",
      "prolong y*z**9\n",
      "y*z**7\n",
      "prolong y*z**8\n",
      "y*z**6\n",
      "prolong y*z**7\n",
      "y*z**5\n",
      "prolong y*z**6\n",
      "y*z**4\n",
      "prolong y*z**5\n",
      "y*z**3\n",
      "prolong y*z**4\n",
      "y*z**2\n",
      "prolong y*z**3\n",
      "y*z\n",
      "prolong y*z**2\n",
      "y\n",
      "prolong y*z\n",
      "z**51\n",
      "prolong z**100\n",
      "z**50\n",
      "prolong z**51\n",
      "z**49\n",
      "prolong z**50\n",
      "z**48\n",
      "prolong z**49\n",
      "z**47\n",
      "prolong z**48\n",
      "z**46\n",
      "prolong z**47\n",
      "z**45\n",
      "prolong z**46\n",
      "z**44\n",
      "prolong z**45\n",
      "z**43\n",
      "prolong z**44\n",
      "z**42\n",
      "prolong z**43\n",
      "z**41\n",
      "prolong z**42\n",
      "z**40\n",
      "prolong z**41\n",
      "z**39\n",
      "prolong z**40\n",
      "z**38\n",
      "prolong z**39\n",
      "z**37\n",
      "prolong z**38\n",
      "z**36\n",
      "prolong z**37\n",
      "z**35\n",
      "prolong z**36\n",
      "z**34\n",
      "prolong z**35\n",
      "z**33\n",
      "prolong z**34\n",
      "z**32\n",
      "prolong z**33\n",
      "z**31\n",
      "prolong z**32\n",
      "z**30\n",
      "prolong z**31\n",
      "z**29\n",
      "prolong z**30\n",
      "z**28\n",
      "prolong z**29\n",
      "z**27\n",
      "prolong z**28\n",
      "prolongAll\n",
      "prolongAll\n",
      "crit1: 5\n",
      "crit1: 0\n",
      " time: 1.79 sec\n",
      "    count: 3\n",
      "reduction: 512\n",
      "       HP: 27\n"
     ]
    },
    {
     "data": {
      "image/png": "[encoded data removed]",
      "text/plain": [
       "<IPython.core.display.Image object>"
      ]
     },
     "execution_count": 36,
     "metadata": {},
     "output_type": "execute_result"
    }
   ],
   "source": [
    "Monom.cmp = Monom.TOPlex\n",
    "x, y, z = Poly.init('x, y, z'.split(', '))\n",
    "test = Janet()\n",
    "res = ginvMin((\n",
    "x**3 - y**2 + z - 1,\n",
    "y**3 - z**2 + x - 1,\n",
    "z**3 - x**2 + y - 1), \\\n",
    "test, level=1)\n",
    "print(f\"crit1: {res[1]}\")\n",
    "print(f\"crit1: {res[2]}\")\n",
    "print(f\" time: {res[0]:.2f} sec\")\n",
    "print(f\"    count: {test.count()}\")\n",
    "print(f\"reduction: {test.reduction()}\")\n",
    "print(f\"       HP: {test.HP()}\")\n",
    "test.saveImage('test.png', level=0)\n",
    "Image('./test.png')"
   ]
  },
  {
   "cell_type": "code",
   "execution_count": 37,
   "metadata": {},
   "outputs": [
    {
     "data": {
      "image/png": "[encoded data removed]",
      "text/latex": [
       "$\\displaystyle z^{27} - 9 z^{24} + 29 z^{21} + 6 z^{19} - 53 z^{18} + 22 z^{17} - 63 z^{16} + 96 z^{15} - 149 z^{14} + 242 z^{13} - 261 z^{12} + 484 z^{11} - 545 z^{10} + 740 z^{9} - 908 z^{8} + 972 z^{7} - 1220 z^{6} + 1047 z^{5} - 1045 z^{4} + 943 z^{3} - 535 z^{2} + 422 z - 216$"
      ],
      "text/plain": [
       " 27      24       21      19       18       17       16       15        14        13       \n",
       "z   - 9⋅z   + 29⋅z   + 6⋅z   - 53⋅z   + 22⋅z   - 63⋅z   + 96⋅z   - 149⋅z   + 242⋅z   - 261⋅\n",
       "\n",
       " 12        11        10        9        8        7         6         5         4        3  \n",
       "z   + 484⋅z   - 545⋅z   + 740⋅z  - 908⋅z  + 972⋅z  - 1220⋅z  + 1047⋅z  - 1045⋅z  + 943⋅z  -\n",
       "\n",
       "      2              \n",
       " 535⋅z  + 422⋅z - 216"
      ]
     },
     "metadata": {},
     "output_type": "display_data"
    },
    {
     "data": {
      "image/png": "[encoded data removed]",
      "text/latex": [
       "$\\displaystyle - 1395367452523974847088496 y + 24263245905633422666089 z^{26} + 2564101797577402706105 z^{25} + 7612716934398042952513 z^{24} - 183708473843508669676888 z^{23} - 27382590493064706561728 z^{22} - 93382883659052502917872 z^{21} + 445019735963407736728965 z^{20} + 124580325693827052967653 z^{19} + 496913514381305731286115 z^{18} - 686028568407960758274770 z^{17} + 293264534395468068345180 z^{16} - 1754916317739869655913083 z^{15} + 1494161044420719326758149 z^{14} - 3166864848665922491507168 z^{13} + 4324148866718107366719898 z^{12} - 5118193353820594354340467 z^{11} + 9669988041948198759925505 z^{10} - 8234964392530939187961184 z^{9} + 14800290986146424015670204 z^{8} - 14407709710372641542274656 z^{7} + 17110238558169309305535500 z^{6} - 19289855195567445653291224 z^{5} + 14071675248685297091156215 z^{4} - 17208495316564910541540422 z^{3} + 9780261032315595871168233 z^{2} - 5684543607089979672443254 z + 4606430757804595389204888$"
      ],
      "text/plain": [
       "                                                        26                           25    \n",
       "-1395367452523974847088496⋅y + 24263245905633422666089⋅z   + 2564101797577402706105⋅z   + 7\n",
       "\n",
       "                       24                             23                            22     \n",
       "612716934398042952513⋅z   - 183708473843508669676888⋅z   - 27382590493064706561728⋅z   - 93\n",
       "\n",
       "                       21                             20                             19    \n",
       "382883659052502917872⋅z   + 445019735963407736728965⋅z   + 124580325693827052967653⋅z   + 4\n",
       "\n",
       "                         18                             17                             16  \n",
       "96913514381305731286115⋅z   - 686028568407960758274770⋅z   + 293264534395468068345180⋅z   -\n",
       "\n",
       "                            15                              14                             \n",
       " 1754916317739869655913083⋅z   + 1494161044420719326758149⋅z   - 3166864848665922491507168⋅\n",
       "\n",
       " 13                              12                              11                        \n",
       "z   + 4324148866718107366719898⋅z   - 5118193353820594354340467⋅z   + 966998804194819875992\n",
       "\n",
       "      10                              9                               8                    \n",
       "5505⋅z   - 8234964392530939187961184⋅z  + 14800290986146424015670204⋅z  - 14407709710372641\n",
       "\n",
       "           7                               6                               5               \n",
       "542274656⋅z  + 17110238558169309305535500⋅z  - 19289855195567445653291224⋅z  + 140716752486\n",
       "\n",
       "                4                               3                              2           \n",
       "85297091156215⋅z  - 17208495316564910541540422⋅z  + 9780261032315595871168233⋅z  - 56845436\n",
       "\n",
       "                                               \n",
       "07089979672443254⋅z + 4606430757804595389204888"
      ]
     },
     "metadata": {},
     "output_type": "display_data"
    },
    {
     "data": {
      "image/png": "[encoded data removed]",
      "text/latex": [
       "$\\displaystyle - 1395367452523974847088496 x + 36974012043720606602747 z^{26} + 18042387149981405949931 z^{25} - 33030642427988789483293 z^{24} - 290848876458135913225112 z^{23} - 129076392042710083597936 z^{22} + 219952910543490007651408 z^{21} + 735043497452966299206159 z^{20} + 310272794617140912662271 z^{19} - 160633475001590756076807 z^{18} - 982342916167428059233558 z^{17} + 20920432695844226462772 z^{16} - 1237879512449968788217761 z^{15} + 649364739492104109294111 z^{14} - 1770783798251395989600640 z^{13} + 3269570785655865115267646 z^{12} - 1017137392573548569160425 z^{11} + 5380290668716432422480115 z^{10} - 2511318414925313271358736 z^{9} + 5820765926743222198514292 z^{8} - 3916234105006809425362144 z^{7} + 1271740986960481649374276 z^{6} - 4526571866128344763445768 z^{5} - 4225399407124480064647579 z^{4} + 1702488139911346623054830 z^{3} - 2599321588208462787828165 z^{2} + 6499050198343010356877518 z - 1138531641035453825071656$"
      ],
      "text/plain": [
       "                                                        26                            25   \n",
       "-1395367452523974847088496⋅x + 36974012043720606602747⋅z   + 18042387149981405949931⋅z   - \n",
       "\n",
       "                         24                             23                             22  \n",
       "33030642427988789483293⋅z   - 290848876458135913225112⋅z   - 129076392042710083597936⋅z   +\n",
       "\n",
       "                           21                             20                             19\n",
       " 219952910543490007651408⋅z   + 735043497452966299206159⋅z   + 310272794617140912662271⋅z  \n",
       "\n",
       "                             18                             17                            1\n",
       " - 160633475001590756076807⋅z   - 982342916167428059233558⋅z   + 20920432695844226462772⋅z \n",
       "\n",
       "6                              15                             14                           \n",
       "  - 1237879512449968788217761⋅z   + 649364739492104109294111⋅z   - 177078379825139598960064\n",
       "\n",
       "   13                              12                              11                      \n",
       "0⋅z   + 3269570785655865115267646⋅z   - 1017137392573548569160425⋅z   + 5380290668716432422\n",
       "\n",
       "        10                              9                              8                   \n",
       "480115⋅z   - 2511318414925313271358736⋅z  + 5820765926743222198514292⋅z  - 3916234105006809\n",
       "\n",
       "           7                              6                              5                 \n",
       "425362144⋅z  + 1271740986960481649374276⋅z  - 4526571866128344763445768⋅z  - 42253994071244\n",
       "\n",
       "             4                              3                              2               \n",
       "80064647579⋅z  + 1702488139911346623054830⋅z  - 2599321588208462787828165⋅z  + 649905019834\n",
       "\n",
       "                                           \n",
       "3010356877518⋅z - 1138531641035453825071656"
      ]
     },
     "metadata": {},
     "output_type": "display_data"
    }
   ],
   "source": [
    "x, y, z = sympy.symbols('x, y, z')\n",
    "for w in test.GB():\n",
    "    display(eval(\" + \".join([f\"{m}*{c}\" for m, c in w.poly])))"
   ]
  },
  {
   "cell_type": "code",
   "execution_count": 38,
   "metadata": {},
   "outputs": [
    {
     "name": "stdout",
     "output_type": "stream",
     "text": [
      "prolong 0, Q 3\n",
      "z**3\n",
      "prolong 0, Q 3\n",
      "y**3\n",
      "prolong 3, Q 3\n",
      "x**3\n",
      "prolong 3, Q 0\n",
      "y*z**3\n",
      "prolong 4, Q 4\n",
      "x*z**3\n",
      "prolong 4, Q 4\n",
      "x*y**3\n",
      "prolong 4, Q 0\n",
      "y**2*z**3\n",
      "prolong 5, Q 5\n",
      "x*y*z**3\n",
      "prolong 5, Q 5\n",
      "x**2*z**3\n",
      "prolong 5, Q 5\n",
      "x**2*y**3\n",
      "prolong 5, Q 0\n",
      "x*y**2*z**3\n",
      "prolong 6, Q 6\n",
      "x**2*y*z**3\n",
      "prolong 6, Q 6\n",
      "prolong 6, Q 0\n",
      "x**2*y**2*z**3\n",
      "prolong 7, Q 7\n",
      "prolong 7, Q 0\n",
      "prolong 0, Q 0\n",
      "crit1: 7\n",
      "crit1: 4\n",
      " time: 0.02 sec\n",
      "    count: 13\n",
      "reduction: 19\n",
      "       HP: 27\n"
     ]
    },
    {
     "data": {
      "image/png": "[encoded data removed]",
      "text/plain": [
       "<IPython.core.display.Image object>"
      ]
     },
     "execution_count": 38,
     "metadata": {},
     "output_type": "execute_result"
    }
   ],
   "source": [
    "Monom.cmp = Monom.TOPdeglex\n",
    "x, y, z = Poly.init('x, y, z'.split(', '))\n",
    "test = Janet()\n",
    "res = ginvBlockLow((\n",
    "x**3 - y**2 + z - 1,\n",
    "y**3 - z**2 + x - 1,\n",
    "z**3 - x**2 + y - 1), \\\n",
    "test, level=1)\n",
    "print(f\"crit1: {res[1]}\")\n",
    "print(f\"crit1: {res[2]}\")\n",
    "print(f\" time: {res[0]:.2f} sec\")\n",
    "print(f\"    count: {test.count()}\")\n",
    "print(f\"reduction: {test.reduction()}\")\n",
    "print(f\"       HP: {test.HP()}\")\n",
    "test.saveImage('test.png', level=0)\n",
    "Image('./test.png')"
   ]
  },
  {
   "cell_type": "code",
   "execution_count": 39,
   "metadata": {},
   "outputs": [
    {
     "name": "stdout",
     "output_type": "stream",
     "text": [
      "13\n",
      "${z}^3$, ${y} {z}^3$, ${y}^2 {z}^3$, ${y}^3$, ${x} {z}^3$, ${x} {y} {z}^3$, ${x} {y}^2 {z}^3$, ${x} {y}^3$, ${x}^2 {z}^3$, ${x}^2 {y} {z}^3$, ${x}^2 {y}^2 {z}^3$, ${x}^2 {y}^3$, ${x}^3$, "
     ]
    }
   ],
   "source": [
    "print(sum(1 for w in test))\n",
    "for w in test:\n",
    "    print(f\"${w.lm.latex()}$\", end=\", \")"
   ]
  },
  {
   "cell_type": "code",
   "execution_count": 40,
   "metadata": {},
   "outputs": [
    {
     "name": "stdout",
     "output_type": "stream",
     "text": [
      "[0 0 0], \n",
      "[1 0 0], [0 1 0], [0 0 1], \n",
      "[2 0 0], [1 1 0], [1 0 1], [0 2 0], [0 1 1], [0 0 2], \n",
      "[2 1 0], [2 0 1], [1 2 0], [1 1 1], [1 0 2], [0 2 1], [0 1 2], \n",
      "[2 2 0], [2 1 1], [2 0 2], [1 2 1], [1 1 2], [0 2 2], \n",
      "[2 2 1], [2 1 2], [1 2 2], \n",
      "[2 2 2], \n",
      "\n",
      "число корней с учетом кратности: 27\n"
     ]
    }
   ],
   "source": [
    "rows, i = {}, 0\n",
    "for d in range(8):\n",
    "    for m in Monom.gradus(d):\n",
    "        if not test.find(m):\n",
    "            print(f\"{m!r}\", end=\", \")\n",
    "            rows[m] = i\n",
    "            i += 1\n",
    "    print()\n",
    "print(f\"число корней с учетом кратности: {len(rows)}\")"
   ]
  },
  {
   "cell_type": "code",
   "execution_count": 41,
   "metadata": {},
   "outputs": [],
   "source": [
    "A = [[0 for k in range(27)] for i in range(27)]\n",
    "for d in range(27):\n",
    "    for m, c in (x**d).NF(test):\n",
    "        A[rows[m]][d] = c\n",
    "b = [0 for i in range(27)]\n",
    "for m, c in (x**27).NF(test):\n",
    "    b[rows[m]] = c"
   ]
  },
  {
   "cell_type": "code",
   "execution_count": 42,
   "metadata": {},
   "outputs": [
    {
     "name": "stdout",
     "output_type": "stream",
     "text": [
      "x**27 + x**24*-9 + x**21*29 + x**19*6 + x**18*-53 + x**17*22 + x**16*-63 + x**15*96 + x**14*-149 + x**13*242 + x**12*-261 + x**11*484 + x**10*-545 + x**9*740 + x**8*-908 + x**7*972 + x**6*-1220 + x**5*1047 + x**4*-1045 + x**3*943 + x**2*-535 + x*422 + -216\n"
     ]
    }
   ],
   "source": [
    "A, b = sympy.Matrix(A), sympy.Matrix(b)\n",
    "s = sympy.linsolve((A, b)).args[0]\n",
    "p = x**27 - sum(x**d*s[d] for d in range(27))\n",
    "print(p)"
   ]
  },
  {
   "cell_type": "code",
   "execution_count": 43,
   "metadata": {},
   "outputs": [
    {
     "data": {
      "text/plain": [
       "[]"
      ]
     },
     "execution_count": 43,
     "metadata": {},
     "output_type": "execute_result"
    }
   ],
   "source": [
    "p.NF(test)"
   ]
  },
  {
   "cell_type": "code",
   "execution_count": 44,
   "metadata": {},
   "outputs": [
    {
     "name": "stdout",
     "output_type": "stream",
     "text": [
      "0\n"
     ]
    }
   ],
   "source": [
    "x = sympy.symbols('x')\n",
    "print(sympy.latex(eval(str(p))))"
   ]
  },
  {
   "cell_type": "code",
   "execution_count": 45,
   "metadata": {},
   "outputs": [
    {
     "name": "stdout",
     "output_type": "stream",
     "text": [
      "[1.00000000000000,\n",
      " -1.3840736015109 - 0.448471822167008*I,\n",
      " -1.3840736015109 + 0.448471822167008*I,\n",
      " -1.02879711934056 - 0.760391324933661*I,\n",
      " -1.02879711934056 + 0.760391324933661*I,\n",
      " -0.877230994069779 - 1.43314035297833*I,\n",
      " -0.877230994069779 + 1.43314035297833*I,\n",
      " -0.711407405299955 - 1.03146881471103*I,\n",
      " -0.711407405299955 + 1.03146881471103*I,\n",
      " -0.529123988373615 - 1.09253154028902*I,\n",
      " -0.529123988373615 + 1.09253154028902*I,\n",
      " -0.430386407214633 - 1.09590463831572*I,\n",
      " -0.430386407214633 + 1.09590463831572*I,\n",
      " -0.303943638658017 - 1.18064395956054*I,\n",
      " -0.303943638658017 + 1.18064395956054*I,\n",
      " -1.0*I,\n",
      " 1.0*I,\n",
      " 0.39699714792632 - 0.998468648595324*I,\n",
      " 0.39699714792632 + 0.998468648595324*I,\n",
      " 0.713156315946338 - 0.858271263074945*I,\n",
      " 0.713156315946338 + 0.858271263074945*I,\n",
      " 0.823238735618979 - 0.194381617248298*I,\n",
      " 0.823238735618979 + 0.194381617248298*I,\n",
      " 1.29963755259567 - 0.47886775883786*I,\n",
      " 1.29963755259567 + 0.47886775883786*I,\n",
      " 1.53193340238016 - 0.0272318188450057*I,\n",
      " 1.53193340238016 + 0.0272318188450057*I]\n"
     ]
    }
   ],
   "source": [
    "x = sympy.symbols('x')\n",
    "sol = sympy.nroots(x**27 + x**24*-9 + x**21*29 + x**19*6 + x**18*-53 +\\\n",
    "    x**17*22 + x**16*-63 + x**15*96 + x**14*-149 + x**13*242 +\\\n",
    "    x**12*-261 + x**11*484 + x**10*-545 + x**9*740 + x**8*-908 +\\\n",
    "    x**7*972 + x**6*-1220 + x**5*1047 + x**4*-1045 + x**3*943 + x**2*-535 + x*422 + -216)\n",
    "pprint(sol)"
   ]
  },
  {
   "cell_type": "code",
   "execution_count": 46,
   "metadata": {},
   "outputs": [],
   "source": [
    "from sympy.matrices.sparsetools import _doktocsr\n",
    "from sympy import SparseMatrix"
   ]
  },
  {
   "cell_type": "code",
   "execution_count": 47,
   "metadata": {},
   "outputs": [
    {
     "name": "stdout",
     "output_type": "stream",
     "text": [
      "CPU times: user 4.62 ms, sys: 34 µs, total: 4.66 ms\n",
      "Wall time: 4.58 ms\n"
     ]
    }
   ],
   "source": [
    "%%time\n",
    "dct = [{}, {}, {}]\n",
    "for k, v in rows.items():\n",
    "    for i in range(3):\n",
    "        for m, c in Poly(Monom(i)*k).NF(test):\n",
    "            if c:\n",
    "                dct[i][rows[m], v] = c\n",
    "X, Y, Z = (SparseMatrix(27, 27, dct[i]) for i in range(3))"
   ]
  },
  {
   "cell_type": "code",
   "execution_count": 48,
   "metadata": {},
   "outputs": [
    {
     "data": {
      "text/plain": [
       "True"
      ]
     },
     "execution_count": 48,
     "metadata": {},
     "output_type": "execute_result"
    }
   ],
   "source": [
    "X*Y == Y*X and X*Z == Z*X and Z*Y == Y*Z"
   ]
  },
  {
   "cell_type": "code",
   "execution_count": 49,
   "metadata": {},
   "outputs": [
    {
     "name": "stdout",
     "output_type": "stream",
     "text": [
      "73 729 0.10013717421124829\n"
     ]
    }
   ],
   "source": [
    "print(len(_doktocsr(X)[0]), 27**2, len(_doktocsr(X)[0])/27**2)"
   ]
  },
  {
   "cell_type": "code",
   "execution_count": 50,
   "metadata": {},
   "outputs": [
    {
     "data": {
      "text/plain": [
       "True"
      ]
     },
     "execution_count": 50,
     "metadata": {},
     "output_type": "execute_result"
    }
   ],
   "source": [
    "X765 = sympy.Matrix([[0 for k in range(27)] for i in range(27)])\n",
    "for k, v in rows.items():\n",
    "    for m, c in Poly(Monom((7, 6, 5))*k).NF(test):\n",
    "        X765[rows[m], v] = c\n",
    "X765 == Y**5*X**7*Z**5*Y"
   ]
  },
  {
   "cell_type": "code",
   "execution_count": 51,
   "metadata": {},
   "outputs": [
    {
     "data": {
      "text/plain": [
       "True"
      ]
     },
     "execution_count": 51,
     "metadata": {},
     "output_type": "execute_result"
    }
   ],
   "source": [
    "sympy.zeros(27, 27) == X**27 + X**24*-9 + X**21*29 + X**19*6 + X**18*-53 +\\\n",
    "    X**17*22 + X**16*-63 + X**15*96 + X**14*-149 + X**13*242 + X**12*-261 +\\\n",
    "    X**11*484 + X**10*-545 + X**9*740 + X**8*-908 + X**7*972 + X**6*-1220 +\\\n",
    "    X**5*1047 + X**4*-1045 + X**3*943 + X**2*-535 + X*422 + sympy.eye(27)*-216"
   ]
  },
  {
   "cell_type": "code",
   "execution_count": 52,
   "metadata": {},
   "outputs": [],
   "source": [
    "import numpy as np\n",
    "from scipy import linalg"
   ]
  },
  {
   "cell_type": "code",
   "execution_count": 53,
   "metadata": {},
   "outputs": [
    {
     "name": "stdout",
     "output_type": "stream",
     "text": [
      "array([ 1.53193340e+00+0.02723182j,  1.53193340e+00-0.02723182j,\n",
      "        1.29963755e+00+0.47886776j,  1.29963755e+00-0.47886776j,\n",
      "        7.13156316e-01+0.85827126j,  7.13156316e-01-0.85827126j,\n",
      "        1.00000000e+00+0.j        ,  8.23238736e-01+0.19438162j,\n",
      "        8.23238736e-01-0.19438162j,  3.96997148e-01+0.99846865j,\n",
      "        3.96997148e-01-0.99846865j, -1.38407360e+00+0.44847182j,\n",
      "       -1.38407360e+00-0.44847182j, -8.77230994e-01+1.43314035j,\n",
      "       -8.77230994e-01-1.43314035j, -1.02879712e+00+0.76039132j,\n",
      "       -1.02879712e+00-0.76039132j,  5.48172618e-16+1.j        ,\n",
      "        5.48172618e-16-1.j        , -7.11407405e-01+1.03146881j,\n",
      "       -7.11407405e-01-1.03146881j, -3.03943639e-01+1.18064396j,\n",
      "       -3.03943639e-01-1.18064396j, -5.29123988e-01+1.09253154j,\n",
      "       -5.29123988e-01-1.09253154j, -4.30386407e-01+1.09590464j,\n",
      "       -4.30386407e-01-1.09590464j])\n",
      "CPU times: user 6.8 ms, sys: 147 µs, total: 6.94 ms\n",
      "Wall time: 18.8 ms\n"
     ]
    }
   ],
   "source": [
    "%%time\n",
    "A = np.empty((27, 27), dtype=np.float64)\n",
    "for j in range(27):\n",
    "    for k in range(27):\n",
    "        A[j][k] = X[j, k]\n",
    "pprint(linalg.eigvals(A))"
   ]
  },
  {
   "cell_type": "markdown",
   "metadata": {},
   "source": [
    "https://link.springer.com/article/10.1007/BF01782361\n",
    "<img src=\"Zum Hilbertschen Nullstellensatz.png\">"
   ]
  },
  {
   "cell_type": "code",
   "execution_count": 54,
   "metadata": {},
   "outputs": [
    {
     "name": "stdout",
     "output_type": "stream",
     "text": [
      "prolong x**3\n",
      "x**3\n",
      "prolong y**3\n",
      "y**3\n",
      "prolong k*y\n",
      "y*x**3\n",
      "prolong k*y\n",
      "y**2*x**3\n",
      "prolong k*y\n",
      "k*y\n",
      "prolongAll\n",
      "k*x**3\n",
      "prolong k*x**3\n",
      "y**2\n",
      "prolong y**2*x**3\n",
      "prolongAll\n",
      "k*x**2\n",
      "prolong k*x**3\n",
      "k*x\n",
      "prolong k*x**2\n",
      "k\n",
      "prolong k*x\n",
      "prolongAll\n",
      "crit1: 5\n",
      "crit1: 0\n",
      " time: 0.02 sec\n",
      "    count: 4\n",
      "reduction: 34\n",
      "       HP: 6\n"
     ]
    }
   ],
   "source": [
    "Monom.cmp = Monom.POTlex\n",
    "k, y, x = Poly.init('k, y, x'.split(', '))\n",
    "test = Janet()\n",
    "res = ginvMin((\n",
    "x*(x+1)*(x-1),\n",
    "y*(y+1)*(y-1),\n",
    "(x - y)*k - 1,\\\n",
    "), \\\n",
    "test, level=1)\n",
    "print(f\"crit1: {res[1]}\")\n",
    "print(f\"crit1: {res[2]}\")\n",
    "print(f\" time: {res[0]:.2f} sec\")\n",
    "print(f\"    count: {test.count()}\")\n",
    "print(f\"reduction: {test.reduction()}\")\n",
    "print(f\"       HP: {test.HP()}\")"
   ]
  },
  {
   "cell_type": "code",
   "execution_count": 55,
   "metadata": {},
   "outputs": [
    {
     "name": "stdout",
     "output_type": "stream",
     "text": [
      "x**3 + x*-1\n",
      "y**2*-1 + y*x*-1 + x**2*-1 + 1\n",
      "k*2 + y*x**2*-3 + y*2 + x*-2\n"
     ]
    }
   ],
   "source": [
    "for w in test.GB():\n",
    "    print(w.poly)"
   ]
  },
  {
   "cell_type": "code",
   "execution_count": 56,
   "metadata": {},
   "outputs": [
    {
     "name": "stdout",
     "output_type": "stream",
     "text": [
      "x{v}**3 + x{v}*-1\n",
      "x{w}**2*-1 + x{w}*x{v}*-1 + x{v}**2*-1 + 1\n",
      "k*2 + x{w}*x{v}**2*-3 + x{w}*2 + x{v}*-2\n"
     ]
    }
   ],
   "source": [
    "for w in test.GB():\n",
    "    print(str(w.poly).replace('x', 'x{v}').replace('y', 'x{w}'))"
   ]
  },
  {
   "cell_type": "code",
   "execution_count": 57,
   "metadata": {},
   "outputs": [
    {
     "name": "stdout",
     "output_type": "stream",
     "text": [
      "prolong x**5\n",
      "x**5\n",
      "prolong y**5\n",
      "y**5\n",
      "prolong k*y\n",
      "y*x**5\n",
      "prolong k*y\n",
      "y**2*x**5\n",
      "prolong k*y\n",
      "y**3*x**5\n",
      "prolong k*y\n",
      "y**4*x**5\n",
      "prolong k*y\n",
      "k*y\n",
      "prolongAll\n",
      "k*x**5\n",
      "prolong k*x**5\n",
      "y**4\n",
      "prolong y**4*x**5\n",
      "prolongAll\n",
      "k*x**4\n",
      "prolong k*x**5\n",
      "k*x**3\n",
      "prolong k*x**4\n",
      "k*x**2\n",
      "prolong k*x**3\n",
      "k*x\n",
      "prolong k*x**2\n",
      "k\n",
      "prolong k*x\n",
      "prolongAll\n",
      "crit1: 7\n",
      "crit1: 0\n",
      " time: 0.02 sec\n",
      "    count: 6\n",
      "reduction: 58\n",
      "       HP: 20\n"
     ]
    }
   ],
   "source": [
    "Monom.cmp = Monom.POTlex\n",
    "k, y, x = Poly.init('k, y, x'.split(', '))\n",
    "test = Janet()\n",
    "res = ginvMin((\n",
    "x*(x+1)*(x-1)*(x+2)*(x-2),\n",
    "y*(y+1)*(y-1)*(y+2)*(y-2),\n",
    "(x - y)*k -1), \\\n",
    "test, level=1)\n",
    "print(f\"crit1: {res[1]}\")\n",
    "print(f\"crit1: {res[2]}\")\n",
    "print(f\" time: {res[0]:.2f} sec\")\n",
    "print(f\"    count: {test.count()}\")\n",
    "print(f\"reduction: {test.reduction()}\")\n",
    "print(f\"       HP: {test.HP()}\")"
   ]
  },
  {
   "cell_type": "code",
   "execution_count": 58,
   "metadata": {},
   "outputs": [
    {
     "name": "stdout",
     "output_type": "stream",
     "text": [
      "x**5 + x**3*-5 + x*4\n",
      "y**4 + y**3*x + y**2*x**2 + y**2*-5 + y*x**3 + y*x*-5 + x**4 + x**2*-5 + 4\n",
      "k*-288 + y**3*x**4*35 + y**3*x**2*-155 + y**3*72 + y**2*x**3*40 + y**2*x*-136 + y*x**4*-115 + y*x**2*571 + y*-360 + x**3*-72 + x*360\n"
     ]
    }
   ],
   "source": [
    "for w in test.GB():\n",
    "    print(w.poly)"
   ]
  },
  {
   "cell_type": "markdown",
   "metadata": {},
   "source": [
    "C. Y. Chao and Z. Chen, On uniquely 3-colorable graphs, Discrete Math. 112 (1993), 21–27\n",
    "![image info](./graph-nocolor.png)"
   ]
  },
  {
   "cell_type": "code",
   "execution_count": 59,
   "metadata": {},
   "outputs": [
    {
     "ename": "FileNotFoundError",
     "evalue": "No such file or directory: 'grey.png'",
     "output_type": "error",
     "traceback": [
      "\u001b[0;31m---------------------------------------------------------------------------\u001b[0m",
      "\u001b[0;31mTypeError\u001b[0m                                 Traceback (most recent call last)",
      "File \u001b[0;32m/usr/lib/python3/dist-packages/IPython/core/display.py:1032\u001b[0m, in \u001b[0;36mImage._data_and_metadata\u001b[0;34m(self, always_both)\u001b[0m\n\u001b[1;32m   1031\u001b[0m \u001b[38;5;28;01mtry\u001b[39;00m:\n\u001b[0;32m-> 1032\u001b[0m     b64_data \u001b[38;5;241m=\u001b[39m b2a_base64(\u001b[38;5;28mself\u001b[39m\u001b[38;5;241m.\u001b[39mdata)\u001b[38;5;241m.\u001b[39mdecode(\u001b[38;5;124m'\u001b[39m\u001b[38;5;124mascii\u001b[39m\u001b[38;5;124m'\u001b[39m)\n\u001b[1;32m   1033\u001b[0m \u001b[38;5;28;01mexcept\u001b[39;00m \u001b[38;5;167;01mTypeError\u001b[39;00m \u001b[38;5;28;01mas\u001b[39;00m e:\n",
      "\u001b[0;31mTypeError\u001b[0m: a bytes-like object is required, not 'str'",
      "\nThe above exception was the direct cause of the following exception:\n",
      "\u001b[0;31mFileNotFoundError\u001b[0m                         Traceback (most recent call last)",
      "File \u001b[0;32m/usr/lib/python3/dist-packages/IPython/core/formatters.py:973\u001b[0m, in \u001b[0;36mMimeBundleFormatter.__call__\u001b[0;34m(self, obj, include, exclude)\u001b[0m\n\u001b[1;32m    970\u001b[0m     method \u001b[38;5;241m=\u001b[39m get_real_method(obj, \u001b[38;5;28mself\u001b[39m\u001b[38;5;241m.\u001b[39mprint_method)\n\u001b[1;32m    972\u001b[0m     \u001b[38;5;28;01mif\u001b[39;00m method \u001b[38;5;129;01mis\u001b[39;00m \u001b[38;5;129;01mnot\u001b[39;00m \u001b[38;5;28;01mNone\u001b[39;00m:\n\u001b[0;32m--> 973\u001b[0m         \u001b[38;5;28;01mreturn\u001b[39;00m \u001b[43mmethod\u001b[49m\u001b[43m(\u001b[49m\u001b[43minclude\u001b[49m\u001b[38;5;241;43m=\u001b[39;49m\u001b[43minclude\u001b[49m\u001b[43m,\u001b[49m\u001b[43m \u001b[49m\u001b[43mexclude\u001b[49m\u001b[38;5;241;43m=\u001b[39;49m\u001b[43mexclude\u001b[49m\u001b[43m)\u001b[49m\n\u001b[1;32m    974\u001b[0m     \u001b[38;5;28;01mreturn\u001b[39;00m \u001b[38;5;28;01mNone\u001b[39;00m\n\u001b[1;32m    975\u001b[0m \u001b[38;5;28;01melse\u001b[39;00m:\n",
      "File \u001b[0;32m/usr/lib/python3/dist-packages/IPython/core/display.py:1022\u001b[0m, in \u001b[0;36mImage._repr_mimebundle_\u001b[0;34m(self, include, exclude)\u001b[0m\n\u001b[1;32m   1020\u001b[0m \u001b[38;5;28;01mif\u001b[39;00m \u001b[38;5;28mself\u001b[39m\u001b[38;5;241m.\u001b[39membed:\n\u001b[1;32m   1021\u001b[0m     mimetype \u001b[38;5;241m=\u001b[39m \u001b[38;5;28mself\u001b[39m\u001b[38;5;241m.\u001b[39m_mimetype\n\u001b[0;32m-> 1022\u001b[0m     data, metadata \u001b[38;5;241m=\u001b[39m \u001b[38;5;28;43mself\u001b[39;49m\u001b[38;5;241;43m.\u001b[39;49m\u001b[43m_data_and_metadata\u001b[49m\u001b[43m(\u001b[49m\u001b[43malways_both\u001b[49m\u001b[38;5;241;43m=\u001b[39;49m\u001b[38;5;28;43;01mTrue\u001b[39;49;00m\u001b[43m)\u001b[49m\n\u001b[1;32m   1023\u001b[0m     \u001b[38;5;28;01mif\u001b[39;00m metadata:\n\u001b[1;32m   1024\u001b[0m         metadata \u001b[38;5;241m=\u001b[39m {mimetype: metadata}\n",
      "File \u001b[0;32m/usr/lib/python3/dist-packages/IPython/core/display.py:1034\u001b[0m, in \u001b[0;36mImage._data_and_metadata\u001b[0;34m(self, always_both)\u001b[0m\n\u001b[1;32m   1032\u001b[0m     b64_data \u001b[38;5;241m=\u001b[39m b2a_base64(\u001b[38;5;28mself\u001b[39m\u001b[38;5;241m.\u001b[39mdata)\u001b[38;5;241m.\u001b[39mdecode(\u001b[38;5;124m'\u001b[39m\u001b[38;5;124mascii\u001b[39m\u001b[38;5;124m'\u001b[39m)\n\u001b[1;32m   1033\u001b[0m \u001b[38;5;28;01mexcept\u001b[39;00m \u001b[38;5;167;01mTypeError\u001b[39;00m \u001b[38;5;28;01mas\u001b[39;00m e:\n\u001b[0;32m-> 1034\u001b[0m     \u001b[38;5;28;01mraise\u001b[39;00m \u001b[38;5;167;01mFileNotFoundError\u001b[39;00m(\n\u001b[1;32m   1035\u001b[0m         \u001b[38;5;124m\"\u001b[39m\u001b[38;5;124mNo such file or directory: \u001b[39m\u001b[38;5;124m'\u001b[39m\u001b[38;5;132;01m%s\u001b[39;00m\u001b[38;5;124m'\u001b[39m\u001b[38;5;124m\"\u001b[39m \u001b[38;5;241m%\u001b[39m (\u001b[38;5;28mself\u001b[39m\u001b[38;5;241m.\u001b[39mdata)) \u001b[38;5;28;01mfrom\u001b[39;00m \u001b[38;5;21;01me\u001b[39;00m\n\u001b[1;32m   1036\u001b[0m md \u001b[38;5;241m=\u001b[39m {}\n\u001b[1;32m   1037\u001b[0m \u001b[38;5;28;01mif\u001b[39;00m \u001b[38;5;28mself\u001b[39m\u001b[38;5;241m.\u001b[39mmetadata:\n",
      "\u001b[0;31mFileNotFoundError\u001b[0m: No such file or directory: 'grey.png'"
     ]
    },
    {
     "ename": "FileNotFoundError",
     "evalue": "No such file or directory: 'grey.png'",
     "output_type": "error",
     "traceback": [
      "\u001b[0;31m---------------------------------------------------------------------------\u001b[0m",
      "\u001b[0;31mTypeError\u001b[0m                                 Traceback (most recent call last)",
      "File \u001b[0;32m/usr/lib/python3/dist-packages/IPython/core/display.py:1032\u001b[0m, in \u001b[0;36mImage._data_and_metadata\u001b[0;34m(self, always_both)\u001b[0m\n\u001b[1;32m   1031\u001b[0m \u001b[38;5;28;01mtry\u001b[39;00m:\n\u001b[0;32m-> 1032\u001b[0m     b64_data \u001b[38;5;241m=\u001b[39m b2a_base64(\u001b[38;5;28mself\u001b[39m\u001b[38;5;241m.\u001b[39mdata)\u001b[38;5;241m.\u001b[39mdecode(\u001b[38;5;124m'\u001b[39m\u001b[38;5;124mascii\u001b[39m\u001b[38;5;124m'\u001b[39m)\n\u001b[1;32m   1033\u001b[0m \u001b[38;5;28;01mexcept\u001b[39;00m \u001b[38;5;167;01mTypeError\u001b[39;00m \u001b[38;5;28;01mas\u001b[39;00m e:\n",
      "\u001b[0;31mTypeError\u001b[0m: a bytes-like object is required, not 'str'",
      "\nThe above exception was the direct cause of the following exception:\n",
      "\u001b[0;31mFileNotFoundError\u001b[0m                         Traceback (most recent call last)",
      "File \u001b[0;32m/usr/lib/python3/dist-packages/IPython/core/formatters.py:343\u001b[0m, in \u001b[0;36mBaseFormatter.__call__\u001b[0;34m(self, obj)\u001b[0m\n\u001b[1;32m    341\u001b[0m     method \u001b[38;5;241m=\u001b[39m get_real_method(obj, \u001b[38;5;28mself\u001b[39m\u001b[38;5;241m.\u001b[39mprint_method)\n\u001b[1;32m    342\u001b[0m     \u001b[38;5;28;01mif\u001b[39;00m method \u001b[38;5;129;01mis\u001b[39;00m \u001b[38;5;129;01mnot\u001b[39;00m \u001b[38;5;28;01mNone\u001b[39;00m:\n\u001b[0;32m--> 343\u001b[0m         \u001b[38;5;28;01mreturn\u001b[39;00m \u001b[43mmethod\u001b[49m\u001b[43m(\u001b[49m\u001b[43m)\u001b[49m\n\u001b[1;32m    344\u001b[0m     \u001b[38;5;28;01mreturn\u001b[39;00m \u001b[38;5;28;01mNone\u001b[39;00m\n\u001b[1;32m    345\u001b[0m \u001b[38;5;28;01melse\u001b[39;00m:\n",
      "File \u001b[0;32m/usr/lib/python3/dist-packages/IPython/core/display.py:1054\u001b[0m, in \u001b[0;36mImage._repr_png_\u001b[0;34m(self)\u001b[0m\n\u001b[1;32m   1052\u001b[0m \u001b[38;5;28;01mdef\u001b[39;00m \u001b[38;5;21m_repr_png_\u001b[39m(\u001b[38;5;28mself\u001b[39m):\n\u001b[1;32m   1053\u001b[0m     \u001b[38;5;28;01mif\u001b[39;00m \u001b[38;5;28mself\u001b[39m\u001b[38;5;241m.\u001b[39membed \u001b[38;5;129;01mand\u001b[39;00m \u001b[38;5;28mself\u001b[39m\u001b[38;5;241m.\u001b[39mformat \u001b[38;5;241m==\u001b[39m \u001b[38;5;28mself\u001b[39m\u001b[38;5;241m.\u001b[39m_FMT_PNG:\n\u001b[0;32m-> 1054\u001b[0m         \u001b[38;5;28;01mreturn\u001b[39;00m \u001b[38;5;28;43mself\u001b[39;49m\u001b[38;5;241;43m.\u001b[39;49m\u001b[43m_data_and_metadata\u001b[49m\u001b[43m(\u001b[49m\u001b[43m)\u001b[49m\n",
      "File \u001b[0;32m/usr/lib/python3/dist-packages/IPython/core/display.py:1034\u001b[0m, in \u001b[0;36mImage._data_and_metadata\u001b[0;34m(self, always_both)\u001b[0m\n\u001b[1;32m   1032\u001b[0m     b64_data \u001b[38;5;241m=\u001b[39m b2a_base64(\u001b[38;5;28mself\u001b[39m\u001b[38;5;241m.\u001b[39mdata)\u001b[38;5;241m.\u001b[39mdecode(\u001b[38;5;124m'\u001b[39m\u001b[38;5;124mascii\u001b[39m\u001b[38;5;124m'\u001b[39m)\n\u001b[1;32m   1033\u001b[0m \u001b[38;5;28;01mexcept\u001b[39;00m \u001b[38;5;167;01mTypeError\u001b[39;00m \u001b[38;5;28;01mas\u001b[39;00m e:\n\u001b[0;32m-> 1034\u001b[0m     \u001b[38;5;28;01mraise\u001b[39;00m \u001b[38;5;167;01mFileNotFoundError\u001b[39;00m(\n\u001b[1;32m   1035\u001b[0m         \u001b[38;5;124m\"\u001b[39m\u001b[38;5;124mNo such file or directory: \u001b[39m\u001b[38;5;124m'\u001b[39m\u001b[38;5;132;01m%s\u001b[39;00m\u001b[38;5;124m'\u001b[39m\u001b[38;5;124m\"\u001b[39m \u001b[38;5;241m%\u001b[39m (\u001b[38;5;28mself\u001b[39m\u001b[38;5;241m.\u001b[39mdata)) \u001b[38;5;28;01mfrom\u001b[39;00m \u001b[38;5;21;01me\u001b[39;00m\n\u001b[1;32m   1036\u001b[0m md \u001b[38;5;241m=\u001b[39m {}\n\u001b[1;32m   1037\u001b[0m \u001b[38;5;28;01mif\u001b[39;00m \u001b[38;5;28mself\u001b[39m\u001b[38;5;241m.\u001b[39mmetadata:\n",
      "\u001b[0;31mFileNotFoundError\u001b[0m: No such file or directory: 'grey.png'"
     ]
    },
    {
     "data": {
      "text/plain": [
       "<IPython.core.display.Image object>"
      ]
     },
     "execution_count": 59,
     "metadata": {},
     "output_type": "execute_result"
    }
   ],
   "source": [
    "graph = (\n",
    "(1, 2, 5, 8, 10),\\\n",
    "(2, 3, 6, 9),\\\n",
    "(3, 4, 7, 10),\\\n",
    "(4, 5, 8, 11),\\\n",
    "(5, 6, 12),\\\n",
    "(6, 7, 11),\\\n",
    "(7, 8, 12),\\\n",
    "(8, 9),\\\n",
    "(9, 10, 12),\\\n",
    "(10, 11),\\\n",
    ")\n",
    "\n",
    "g, edge = gv.graph('grey'), {}\n",
    "# gv.setv(g, 'rankdir', 'LR')\n",
    "gv.setv(g, 'rankdir', 'TB')\n",
    "for vs in graph:\n",
    "    a = gv.node(g, str(vs[0]))\n",
    "    if vs[0] not in edge: edge[vs[0]] = a\n",
    "    for v in vs[1:]:\n",
    "        if v not in edge: edge[v] = gv.node(g, str(v))\n",
    "        gv.edge(a, edge[v])\n",
    "gv.layout(g, 'dot')\n",
    "gv.render(g, \"pdf\", 'grey.pdf')\n",
    "Image('grey.png')"
   ]
  },
  {
   "cell_type": "code",
   "execution_count": 60,
   "metadata": {},
   "outputs": [
    {
     "data": {
      "text/plain": [
       "'x1, x2, x3, x4, x5, x6, x7, x8, x9, x10, x11, x12'"
      ]
     },
     "execution_count": 60,
     "metadata": {},
     "output_type": "execute_result"
    }
   ],
   "source": [
    "var = [f\"x{vs}\" for vs in range(1, 13)]\n",
    "\", \".join(var)"
   ]
  },
  {
   "cell_type": "code",
   "execution_count": 61,
   "metadata": {},
   "outputs": [
    {
     "data": {
      "text/plain": [
       "['x1**3 + x1*-1',\n",
       " 'x2**3 + x2*-1',\n",
       " 'x3**3 + x3*-1',\n",
       " 'x4**3 + x4*-1',\n",
       " 'x5**3 + x5*-1',\n",
       " 'x6**3 + x6*-1',\n",
       " 'x7**3 + x7*-1',\n",
       " 'x8**3 + x8*-1',\n",
       " 'x9**3 + x9*-1',\n",
       " 'x10**3 + x10*-1',\n",
       " 'x11**3 + x11*-1',\n",
       " 'x12**3 + x12*-1',\n",
       " 'x1**2*-1 + x1*x2*-1 + x2**2*-1 + 1',\n",
       " 'x1**2*-1 + x1*x5*-1 + x5**2*-1 + 1',\n",
       " 'x1**2*-1 + x1*x8*-1 + x8**2*-1 + 1',\n",
       " 'x1**2*-1 + x1*x10*-1 + x10**2*-1 + 1',\n",
       " 'x2**2*-1 + x2*x3*-1 + x3**2*-1 + 1',\n",
       " 'x2**2*-1 + x2*x6*-1 + x6**2*-1 + 1',\n",
       " 'x2**2*-1 + x2*x9*-1 + x9**2*-1 + 1',\n",
       " 'x3**2*-1 + x3*x4*-1 + x4**2*-1 + 1',\n",
       " 'x3**2*-1 + x3*x7*-1 + x7**2*-1 + 1',\n",
       " 'x3**2*-1 + x3*x10*-1 + x10**2*-1 + 1',\n",
       " 'x4**2*-1 + x4*x5*-1 + x5**2*-1 + 1',\n",
       " 'x4**2*-1 + x4*x8*-1 + x8**2*-1 + 1',\n",
       " 'x4**2*-1 + x4*x11*-1 + x11**2*-1 + 1',\n",
       " 'x5**2*-1 + x5*x6*-1 + x6**2*-1 + 1',\n",
       " 'x5**2*-1 + x5*x12*-1 + x12**2*-1 + 1',\n",
       " 'x6**2*-1 + x6*x7*-1 + x7**2*-1 + 1',\n",
       " 'x6**2*-1 + x6*x11*-1 + x11**2*-1 + 1',\n",
       " 'x7**2*-1 + x7*x8*-1 + x8**2*-1 + 1',\n",
       " 'x7**2*-1 + x7*x12*-1 + x12**2*-1 + 1',\n",
       " 'x8**2*-1 + x8*x9*-1 + x9**2*-1 + 1',\n",
       " 'x9**2*-1 + x9*x10*-1 + x10**2*-1 + 1',\n",
       " 'x9**2*-1 + x9*x12*-1 + x12**2*-1 + 1',\n",
       " 'x10**2*-1 + x10*x11*-1 + x11**2*-1 + 1']"
      ]
     },
     "execution_count": 61,
     "metadata": {},
     "output_type": "execute_result"
    }
   ],
   "source": [
    "eqs = [f\"{v}**3 + {v}*-1\" for v in var]\n",
    "for vs in graph:\n",
    "    w = vs[0]\n",
    "    for v in vs[1:]:\n",
    "        eqs.append(f\"x{w}**2*-1 + x{w}*x{v}*-1 + x{v}**2*-1 + 1\")\n",
    "eqs"
   ]
  },
  {
   "cell_type": "code",
   "execution_count": 62,
   "metadata": {},
   "outputs": [
    {
     "name": "stdout",
     "output_type": "stream",
     "text": [
      "prolong 0, Q 2\n",
      "x10**2\n",
      "prolong 0, Q 2\n",
      "x9**2\n",
      "prolong 2, Q 2\n",
      "x9*x10, x8**2, x7**2, x7*x8, x6**2, x6*x7, x5**2, x5*x6, x4**2, x4*x5, x4*x8, x3**2, x3*x4, x3*x7, x2**2, x2*x3, x2*x6, x1**2, x1*x2, x1*x5, x1*x8\n",
      "prolong 2, Q 3\n",
      "x12**3\n",
      "prolong 3, Q 3\n",
      "x11**3\n",
      "prolong 3, Q 3\n",
      "x9*x11**2, x6*x11**2, x5*x11**2, x4*x11**2, x3*x10*x11, x1*x10*x11, x4*x9*x11, x2*x9*x11, x4*x7*x11, x8*x9*x11, x8*x10**2, x7*x10**2, x6*x10**2, x5*x10**2, x4*x10**2, x3*x10**2, x2*x10**2, x1*x10**2, x8*x9*x10, x7*x9*x10, x6*x9*x10, x5*x9*x10, x4*x9*x10, x3*x9*x10, x2*x9*x10, x1*x9*x10, x1*x7*x10, x3*x6*x10, x6*x9*x11, x1*x6*x10, x5*x10*x11, x3*x5*x10, x1*x4*x10, x7*x10*x11, x8*x9**2, x7*x9**2, x6*x9**2, x5*x9**2, x4*x9**2, x3*x9**2, x2*x9**2, x1*x9**2, x6*x8*x9, x5*x8*x9, x3*x8*x9, x2*x7*x9, x2*x5*x9, x2*x4*x9, x6*x8**2, x5*x8**2, x3*x8**2, x2*x8**2, x5*x7*x8, x2*x7*x8, x2*x4*x8, x5*x7**2, x4*x7**2, x2*x7**2, x1*x7**2, x4*x6*x7, x1*x6*x7, x1*x3*x7, x4*x6**2, x3*x6**2, x1*x6**2, x3*x5*x6, x3*x5**2, x2*x5**2, x2*x4*x5, x2*x4**2, x1*x4**2, x1*x3*x4, x1*x3**2\n",
      "prolong 2, Q 0\n",
      "x4*x7*x8\n",
      "prolong 3, Q 3\n",
      "x1*x7*x8\n",
      "prolong 3, Q 3\n",
      "x4*x6*x8\n",
      "prolong 3, Q 3\n",
      "x1*x6*x8\n",
      "prolong 3, Q 3\n",
      "x1*x4*x8\n",
      "prolong 3, Q 3\n",
      "x1*x3*x8\n",
      "prolong 3, Q 3\n",
      "x3*x6*x7\n",
      "prolong 3, Q 3\n",
      "x3*x5*x7\n",
      "prolong 3, Q 3\n",
      "x2*x5*x6\n",
      "prolong 3, Q 3\n",
      "x2*x4*x6\n",
      "prolong 3, Q 3\n",
      "x1*x4*x5\n",
      "prolong 3, Q 3\n",
      "x1*x3*x5\n",
      "prolong 3, Q 0\n",
      "x11*x12**3\n",
      "prolong 4, Q 4\n",
      "x10*x12**3\n",
      "prolong 4, Q 4\n",
      "x9*x12**3\n",
      "prolong 4, Q 4\n",
      "x8*x12**3\n",
      "prolong 4, Q 4\n",
      "x7*x12**3\n",
      "prolong 4, Q 4\n",
      "x6*x12**3\n",
      "prolong 4, Q 4\n",
      "x5*x12**3\n",
      "prolong 4, Q 4\n",
      "x4*x12**3\n",
      "prolong 4, Q 4\n",
      "x3*x12**3\n",
      "prolong 4, Q 4\n",
      "x2*x12**3\n",
      "prolong 4, Q 4\n",
      "x1*x12**3\n",
      "prolong 4, Q 4\n",
      "x10*x11**3\n",
      "prolong 4, Q 4\n",
      "x8*x11**3\n",
      "prolong 4, Q 4\n",
      "x7*x11**3\n",
      "prolong 4, Q 4\n",
      "x3*x11**3\n",
      "prolong 4, Q 4\n",
      "x2*x11**3\n",
      "prolong 4, Q 4\n",
      "x1*x11**3\n",
      "prolong 4, Q 4\n",
      "x6*x10*x11**2\n",
      "prolong 4, Q 4\n",
      "x5*x10*x12**2, x5*x7*x12**2, x1*x7*x12**2, x7*x11**2*x12, x10*x11**2*x12, x7*x10*x12**2, x6*x9*x12**2, x5*x11*x12**2, x7*x9*x12**2, x1*x9*x12**2, x4*x7*x12**2, x2*x7*x12**2, x8*x11**2*x12, x3*x11**2*x12, x3*x10*x12**2, x3*x9*x12**2, x3*x5*x12**2, x8*x10*x11*x12, x6*x10*x11*x12, x8*x10*x11**2, x8*x9*x12**2, x5*x8*x12**2, x4*x10*x11**2, x4*x9*x12**2, x4*x11*x12**2, x4*x10*x11*x12, x2*x10*x11**2, x2*x10*x11*x12, x7*x9*x11**2, x6*x11*x12**2, x5*x9*x12**2, x2*x5*x12**2, x5*x9*x11**2, x3*x9*x11**2, x1*x9*x11**2, x6*x8*x11**2, x6*x8*x11*x12, x5*x8*x11**2, x5*x7*x11**2, x2*x7*x11**2, x2*x9*x12**2, x2*x11**2*x12, x1*x7*x11**2, x1*x11**2*x12, x1*x10*x12**2, x4*x6*x11**2, x4*x6*x11*x12, x3*x6*x11**2, x3*x6*x11*x12, x1*x6*x11**2, x1*x6*x11*x12, x3*x5*x11**2, x2*x5*x11**2, x2*x4*x11**2, x2*x4*x11*x12, x1*x4*x11**2, x1*x4*x11*x12, x5*x8*x10*x11, x3*x8*x10*x11, x5*x7*x10*x11, x2*x7*x10*x11, x2*x5*x10*x11, x1*x3*x10*x11, x2*x8*x9*x11, x4*x6*x9*x11, x3*x6*x9*x11, x1*x6*x9*x11, x1*x4*x9*x11, x2*x4*x7*x11, x1*x4*x7*x11, x6*x8*x10**2, x5*x8*x10**2, x3*x8*x10**2, x3*x8*x10*x12, x2*x8*x10**2, x5*x7*x10**2, x4*x7*x10**2, x2*x7*x10**2, x4*x6*x10**2, x2*x5*x10**2, x2*x4*x10**2, x1*x3*x10**2, x1*x3*x10*x12, x2*x8*x9*x10, x5*x7*x9*x10, x4*x7*x9*x10, x4*x6*x9*x10, x1*x3*x9*x10, x1*x3*x6*x10, x2*x8*x9**2, x2*x8*x9*x12, x5*x7*x9**2, x4*x7*x9**2, x1*x7*x9**2, x4*x6*x9**2, x3*x6*x9**2, x1*x6*x9**2, x3*x5*x9**2, x1*x4*x9**2, x1*x3*x9**2, x3*x6*x8*x9, x3*x5*x8*x9, x3*x6*x8**2, x3*x5*x8**2, x2*x5*x8**2, x2*x5*x7*x8, x2*x5*x7**2, x2*x4*x7**2, x1*x4*x7**2, x1*x4*x6*x7, x1*x4*x6**2, x1*x3*x6**2\n",
      "prolong 3, Q 0\n",
      "x4*x7*x10*x11\n",
      "prolong 4, Q 4\n",
      "x4*x7*x9*x11\n",
      "prolong 4, Q 4\n",
      "x1*x7*x9*x10\n",
      "prolong 4, Q 4\n",
      "x3*x6*x9*x10\n",
      "prolong 4, Q 4\n",
      "x1*x6*x9*x10\n",
      "prolong 4, Q 4\n",
      "x3*x5*x9*x10\n",
      "prolong 4, Q 4\n",
      "x1*x4*x9*x10\n",
      "prolong 4, Q 4\n",
      "x3*x6*x8*x10\n",
      "prolong 4, Q 4\n",
      "x3*x5*x8*x10\n",
      "prolong 4, Q 4\n",
      "x1*x4*x7*x10\n",
      "prolong 4, Q 4\n",
      "x1*x4*x6*x10\n",
      "prolong 4, Q 4\n",
      "x2*x5*x8*x9\n",
      "prolong 4, Q 4\n",
      "x2*x5*x7*x9\n",
      "prolong 4, Q 4\n",
      "x2*x4*x7*x9\n",
      "prolong 4, Q 4\n",
      "x2*x4*x7*x8\n",
      "prolong 4, Q 4\n",
      "x1*x4*x7*x8\n",
      "prolong 4, Q 4\n",
      "x1*x4*x6*x8\n",
      "prolong 4, Q 4\n",
      "x1*x3*x6*x8\n",
      "prolong 4, Q 4\n",
      "x1*x3*x6*x7\n",
      "prolong 4, Q 0\n",
      "x11**2*x12**3\n",
      "prolong 5, Q 5\n",
      "x10*x11*x12**3\n",
      "prolong 5, Q 5\n",
      "x9*x11*x12**3\n",
      "prolong 5, Q 5\n",
      "x8*x11*x12**3\n",
      "prolong 5, Q 5\n",
      "x7*x11*x12**3\n",
      "prolong 5, Q 5\n",
      "x6*x11*x12\n",
      "prolong 3, Q 4\n",
      "x6*x11\n",
      "prolong 2, Q 3\n",
      "x6*x12**2, x6*x10*x11, x7*x11**2, x7*x9*x11, x6*x9*x12, x6*x8*x11, x5*x7*x11, x2*x7*x11, x4*x6*x11, x3*x6*x11, x1*x6*x11\n",
      "prolong 3, Q 4\n",
      "x6*x12\n",
      "prolong 2, Q 3\n",
      "x6\n",
      "prolong 1, Q 2\n",
      "x7*x9, x7*x11, x5*x7, x2*x7, x4*x6, x3*x6, x1*x6\n",
      "prolong 2, Q 3\n",
      "x5*x12**2, x10*x11*x12, x1*x10*x12, x2*x10*x11, x3*x9*x11, x1*x7*x11, x5*x8*x10, x2*x8*x9, x4*x7*x9, x1*x7*x9, x3*x5*x9, x2*x5*x7, x2*x4*x7, x1*x4*x6, x1*x3*x6\n",
      "prolong 3, Q 4\n",
      "x5*x12\n",
      "prolong 2, Q 3\n",
      "x5\n",
      "prolong 1, Q 2\n",
      "x4*x7, x1*x7, x3*x5, x2*x5\n",
      "prolong 2, Q 3\n",
      "x4*x11*x12, x3*x10*x12, x8*x9*x12, x1*x9*x11, x2*x4*x10, x1*x4*x7\n",
      "prolong 3, Q 4\n",
      "x4*x11\n",
      "prolong 2, Q 3\n",
      "x4\n",
      "prolong 1, Q 2\n",
      "x8*x9, x3*x9, x2*x4, x1*x4\n",
      "prolong 2, Q 3\n",
      "x8*x10*x12, x2*x9*x12, x8*x10*x11, x1*x3*x9\n",
      "prolong 3, Q 4\n",
      "x3*x10\n",
      "prolong 2, Q 3\n",
      "x3, x7\n",
      "prolong 1, Q 2\n",
      "x10*x11, x9*x11, x2*x9, x1*x3\n",
      "prolong 2, Q 3\n",
      "x9*x12**2, x2*x12**2, x11**2*x12, x2*x10*x12, x2*x11**2, x2*x8*x10\n",
      "prolong 3, Q 4\n",
      "x9*x12\n",
      "prolong 2, Q 3\n",
      "x9\n",
      "prolong 1, Q 2\n",
      "x11**2, x8*x10, x2*x10, x1*x9\n",
      "prolong 2, Q 3\n",
      "x11*x12**2, x8*x12**2, x2*x11*x12, x2*x8*x12, x8*x11**2, x1*x11**2\n",
      "prolong 3, Q 4\n",
      "x11*x12\n",
      "prolong 2, Q 3\n",
      "x11\n",
      "prolong 1, Q 2\n",
      "x8*x11\n",
      "prolong 2, Q 2\n",
      "x2*x11\n",
      "prolong 2, Q 2\n",
      "x1*x11\n",
      "prolong 2, Q 3\n",
      "x2*x8*x11\n",
      "prolong 3, Q 3\n",
      "x8*x12\n",
      "prolong 2, Q 3\n",
      "x8\n",
      "prolong 1, Q 2\n",
      "x2*x8\n",
      "prolong 2, Q 2\n",
      "x1*x10\n",
      "prolong 2, Q 3\n",
      "x1*x12**2\n",
      "prolong 3, Q 4\n",
      "x2*x12\n",
      "prolong 2, Q 3\n",
      "x2\n",
      "prolong 1, Q 2\n",
      "x1*x12\n",
      "prolong 2, Q 3\n",
      "x1\n",
      "prolong 0, Q 2\n",
      "prolong 0, Q 0\n",
      "crit1: 1617\n",
      "crit1: 917\n",
      " time: 10.88 sec\n",
      "    count: 14\n",
      "reduction: 14122\n",
      "       HP: 6\n"
     ]
    }
   ],
   "source": [
    "Monom.cmp = Monom.TOPdeglex\n",
    "x1, x2, x3, x4, x5, x6, x7, x8, x9, x10, x11, x12 = Poly.init(var)\n",
    "eqs = tuple(eval(eq) for eq in eqs)\n",
    "test = Janet()\n",
    "res = ginvBlockLow(eqs, test, level=1)\n",
    "print(f\"crit1: {res[1]}\")\n",
    "print(f\"crit1: {res[2]}\")\n",
    "print(f\" time: {res[0]:.2f} sec\")\n",
    "print(f\"    count: {test.count()}\")\n",
    "print(f\"reduction: {test.reduction()}\")\n",
    "print(f\"       HP: {test.HP()}\")"
   ]
  },
  {
   "cell_type": "code",
   "execution_count": 63,
   "metadata": {},
   "outputs": [
    {
     "name": "stdout",
     "output_type": "stream",
     "text": [
      "x12**3 + x12*-1\n",
      "x11*-1 + x12\n",
      "x10**2*-1 + x10*x12*-1 + x12**2*-1 + 1\n",
      "x9 + x10 + x12\n",
      "x8*-1 + x12\n",
      "x7*-1 + x10\n",
      "x6 + x10 + x12\n",
      "x5*-1 + x10\n",
      "x4*-1 + x10*-1 + x12*-1\n",
      "x3*-1 + x12\n",
      "x2 + x10*-1\n",
      "x1 + x10 + x12\n"
     ]
    }
   ],
   "source": [
    "for w in test.GB():\n",
    "    print(w.poly)"
   ]
  },
  {
   "cell_type": "code",
   "execution_count": 64,
   "metadata": {},
   "outputs": [
    {
     "name": "stdout",
     "output_type": "stream",
     "text": [
      "prolong 0, Q 1\n",
      "x12\n",
      "prolong 0, Q 1\n",
      "x11\n",
      "prolong 1, Q 1\n",
      "x9\n",
      "prolong 1, Q 1\n",
      "x8\n",
      "prolong 1, Q 1\n",
      "x7\n",
      "prolong 1, Q 1\n",
      "x6\n",
      "prolong 1, Q 1\n",
      "x5\n",
      "prolong 1, Q 1\n",
      "x4\n",
      "prolong 1, Q 1\n",
      "x3\n",
      "prolong 1, Q 1\n",
      "x2\n",
      "prolong 1, Q 1\n",
      "x1\n",
      "prolong 1, Q 2\n",
      "x10**2\n",
      "prolong 1, Q 2\n",
      "x10*x12\n",
      "prolong 2, Q 2\n",
      "x10*x11\n",
      "prolong 2, Q 2\n",
      "prolong 2, Q 0\n",
      "prolong 0, Q 0\n",
      " time: 0.03 sec\n",
      "       HP: 2\n",
      "x12 + -1\n",
      "x11*-1 + 1\n",
      "x10**2*-1 + x10*-1\n",
      "x9 + x10 + 1\n",
      "x8*-1 + 1\n",
      "x7*-1 + x10\n",
      "x6 + x10 + 1\n",
      "x5*-1 + x10\n",
      "x4*-1 + x10*-1 + -1\n",
      "x3*-1 + 1\n",
      "x2 + x10*-1\n",
      "x1 + x10 + 1\n"
     ]
    }
   ],
   "source": [
    "eqs = [w.poly for w in test.GB()]\n",
    "eqs.append(x12 - 1)\n",
    "test1 = Janet()\n",
    "res = ginvBlockLow(eqs, test1, level=1)\n",
    "print(f\" time: {res[0]:.2f} sec\")\n",
    "print(f\"       HP: {test1.HP()}\")\n",
    "for w in test1.GB():\n",
    "    print(w.poly)"
   ]
  },
  {
   "cell_type": "code",
   "execution_count": 65,
   "metadata": {},
   "outputs": [
    {
     "name": "stdout",
     "output_type": "stream",
     "text": [
      "prolong 0, Q 1\n",
      "x12\n",
      "prolong 0, Q 1\n",
      "x11\n",
      "prolong 1, Q 1\n",
      "x10\n",
      "prolong 1, Q 1\n",
      "x9\n",
      "prolong 1, Q 1\n",
      "x8\n",
      "prolong 1, Q 1\n",
      "x7\n",
      "prolong 1, Q 1\n",
      "x6\n",
      "prolong 1, Q 1\n",
      "x5\n",
      "prolong 1, Q 1\n",
      "x4\n",
      "prolong 1, Q 1\n",
      "x3\n",
      "prolong 1, Q 1\n",
      "x2\n",
      "prolong 1, Q 1\n",
      "x1\n",
      "prolong 1, Q 2\n",
      "prolong 0, Q 0\n",
      " time: 0.02 sec\n",
      "       HP: 1\n",
      "x12 + -1\n",
      "x11*-1 + 1\n",
      "x10 + 1\n",
      "x9\n",
      "x8*-1 + 1\n",
      "x7*-1 + -1\n",
      "x6\n",
      "x5*-1 + -1\n",
      "x4\n",
      "x3*-1 + 1\n",
      "x2 + 1\n",
      "x1\n"
     ]
    }
   ],
   "source": [
    "eqs = [w.poly for w in test1.GB()]\n",
    "eqs.append(x10 + 1)\n",
    "test2 = Janet()\n",
    "res = ginvBlockLow(eqs, test2, level=1)\n",
    "print(f\" time: {res[0]:.2f} sec\")\n",
    "print(f\"       HP: {test2.HP()}\")\n",
    "for w in test2.GB():\n",
    "    print(w.poly)"
   ]
  },
  {
   "cell_type": "code",
   "execution_count": 66,
   "metadata": {},
   "outputs": [
    {
     "ename": "FileNotFoundError",
     "evalue": "No such file or directory: 'color.png'",
     "output_type": "error",
     "traceback": [
      "\u001b[0;31m---------------------------------------------------------------------------\u001b[0m",
      "\u001b[0;31mTypeError\u001b[0m                                 Traceback (most recent call last)",
      "File \u001b[0;32m/usr/lib/python3/dist-packages/IPython/core/display.py:1032\u001b[0m, in \u001b[0;36mImage._data_and_metadata\u001b[0;34m(self, always_both)\u001b[0m\n\u001b[1;32m   1031\u001b[0m \u001b[38;5;28;01mtry\u001b[39;00m:\n\u001b[0;32m-> 1032\u001b[0m     b64_data \u001b[38;5;241m=\u001b[39m b2a_base64(\u001b[38;5;28mself\u001b[39m\u001b[38;5;241m.\u001b[39mdata)\u001b[38;5;241m.\u001b[39mdecode(\u001b[38;5;124m'\u001b[39m\u001b[38;5;124mascii\u001b[39m\u001b[38;5;124m'\u001b[39m)\n\u001b[1;32m   1033\u001b[0m \u001b[38;5;28;01mexcept\u001b[39;00m \u001b[38;5;167;01mTypeError\u001b[39;00m \u001b[38;5;28;01mas\u001b[39;00m e:\n",
      "\u001b[0;31mTypeError\u001b[0m: a bytes-like object is required, not 'str'",
      "\nThe above exception was the direct cause of the following exception:\n",
      "\u001b[0;31mFileNotFoundError\u001b[0m                         Traceback (most recent call last)",
      "File \u001b[0;32m/usr/lib/python3/dist-packages/IPython/core/formatters.py:973\u001b[0m, in \u001b[0;36mMimeBundleFormatter.__call__\u001b[0;34m(self, obj, include, exclude)\u001b[0m\n\u001b[1;32m    970\u001b[0m     method \u001b[38;5;241m=\u001b[39m get_real_method(obj, \u001b[38;5;28mself\u001b[39m\u001b[38;5;241m.\u001b[39mprint_method)\n\u001b[1;32m    972\u001b[0m     \u001b[38;5;28;01mif\u001b[39;00m method \u001b[38;5;129;01mis\u001b[39;00m \u001b[38;5;129;01mnot\u001b[39;00m \u001b[38;5;28;01mNone\u001b[39;00m:\n\u001b[0;32m--> 973\u001b[0m         \u001b[38;5;28;01mreturn\u001b[39;00m \u001b[43mmethod\u001b[49m\u001b[43m(\u001b[49m\u001b[43minclude\u001b[49m\u001b[38;5;241;43m=\u001b[39;49m\u001b[43minclude\u001b[49m\u001b[43m,\u001b[49m\u001b[43m \u001b[49m\u001b[43mexclude\u001b[49m\u001b[38;5;241;43m=\u001b[39;49m\u001b[43mexclude\u001b[49m\u001b[43m)\u001b[49m\n\u001b[1;32m    974\u001b[0m     \u001b[38;5;28;01mreturn\u001b[39;00m \u001b[38;5;28;01mNone\u001b[39;00m\n\u001b[1;32m    975\u001b[0m \u001b[38;5;28;01melse\u001b[39;00m:\n",
      "File \u001b[0;32m/usr/lib/python3/dist-packages/IPython/core/display.py:1022\u001b[0m, in \u001b[0;36mImage._repr_mimebundle_\u001b[0;34m(self, include, exclude)\u001b[0m\n\u001b[1;32m   1020\u001b[0m \u001b[38;5;28;01mif\u001b[39;00m \u001b[38;5;28mself\u001b[39m\u001b[38;5;241m.\u001b[39membed:\n\u001b[1;32m   1021\u001b[0m     mimetype \u001b[38;5;241m=\u001b[39m \u001b[38;5;28mself\u001b[39m\u001b[38;5;241m.\u001b[39m_mimetype\n\u001b[0;32m-> 1022\u001b[0m     data, metadata \u001b[38;5;241m=\u001b[39m \u001b[38;5;28;43mself\u001b[39;49m\u001b[38;5;241;43m.\u001b[39;49m\u001b[43m_data_and_metadata\u001b[49m\u001b[43m(\u001b[49m\u001b[43malways_both\u001b[49m\u001b[38;5;241;43m=\u001b[39;49m\u001b[38;5;28;43;01mTrue\u001b[39;49;00m\u001b[43m)\u001b[49m\n\u001b[1;32m   1023\u001b[0m     \u001b[38;5;28;01mif\u001b[39;00m metadata:\n\u001b[1;32m   1024\u001b[0m         metadata \u001b[38;5;241m=\u001b[39m {mimetype: metadata}\n",
      "File \u001b[0;32m/usr/lib/python3/dist-packages/IPython/core/display.py:1034\u001b[0m, in \u001b[0;36mImage._data_and_metadata\u001b[0;34m(self, always_both)\u001b[0m\n\u001b[1;32m   1032\u001b[0m     b64_data \u001b[38;5;241m=\u001b[39m b2a_base64(\u001b[38;5;28mself\u001b[39m\u001b[38;5;241m.\u001b[39mdata)\u001b[38;5;241m.\u001b[39mdecode(\u001b[38;5;124m'\u001b[39m\u001b[38;5;124mascii\u001b[39m\u001b[38;5;124m'\u001b[39m)\n\u001b[1;32m   1033\u001b[0m \u001b[38;5;28;01mexcept\u001b[39;00m \u001b[38;5;167;01mTypeError\u001b[39;00m \u001b[38;5;28;01mas\u001b[39;00m e:\n\u001b[0;32m-> 1034\u001b[0m     \u001b[38;5;28;01mraise\u001b[39;00m \u001b[38;5;167;01mFileNotFoundError\u001b[39;00m(\n\u001b[1;32m   1035\u001b[0m         \u001b[38;5;124m\"\u001b[39m\u001b[38;5;124mNo such file or directory: \u001b[39m\u001b[38;5;124m'\u001b[39m\u001b[38;5;132;01m%s\u001b[39;00m\u001b[38;5;124m'\u001b[39m\u001b[38;5;124m\"\u001b[39m \u001b[38;5;241m%\u001b[39m (\u001b[38;5;28mself\u001b[39m\u001b[38;5;241m.\u001b[39mdata)) \u001b[38;5;28;01mfrom\u001b[39;00m \u001b[38;5;21;01me\u001b[39;00m\n\u001b[1;32m   1036\u001b[0m md \u001b[38;5;241m=\u001b[39m {}\n\u001b[1;32m   1037\u001b[0m \u001b[38;5;28;01mif\u001b[39;00m \u001b[38;5;28mself\u001b[39m\u001b[38;5;241m.\u001b[39mmetadata:\n",
      "\u001b[0;31mFileNotFoundError\u001b[0m: No such file or directory: 'color.png'"
     ]
    },
    {
     "ename": "FileNotFoundError",
     "evalue": "No such file or directory: 'color.png'",
     "output_type": "error",
     "traceback": [
      "\u001b[0;31m---------------------------------------------------------------------------\u001b[0m",
      "\u001b[0;31mTypeError\u001b[0m                                 Traceback (most recent call last)",
      "File \u001b[0;32m/usr/lib/python3/dist-packages/IPython/core/display.py:1032\u001b[0m, in \u001b[0;36mImage._data_and_metadata\u001b[0;34m(self, always_both)\u001b[0m\n\u001b[1;32m   1031\u001b[0m \u001b[38;5;28;01mtry\u001b[39;00m:\n\u001b[0;32m-> 1032\u001b[0m     b64_data \u001b[38;5;241m=\u001b[39m b2a_base64(\u001b[38;5;28mself\u001b[39m\u001b[38;5;241m.\u001b[39mdata)\u001b[38;5;241m.\u001b[39mdecode(\u001b[38;5;124m'\u001b[39m\u001b[38;5;124mascii\u001b[39m\u001b[38;5;124m'\u001b[39m)\n\u001b[1;32m   1033\u001b[0m \u001b[38;5;28;01mexcept\u001b[39;00m \u001b[38;5;167;01mTypeError\u001b[39;00m \u001b[38;5;28;01mas\u001b[39;00m e:\n",
      "\u001b[0;31mTypeError\u001b[0m: a bytes-like object is required, not 'str'",
      "\nThe above exception was the direct cause of the following exception:\n",
      "\u001b[0;31mFileNotFoundError\u001b[0m                         Traceback (most recent call last)",
      "File \u001b[0;32m/usr/lib/python3/dist-packages/IPython/core/formatters.py:343\u001b[0m, in \u001b[0;36mBaseFormatter.__call__\u001b[0;34m(self, obj)\u001b[0m\n\u001b[1;32m    341\u001b[0m     method \u001b[38;5;241m=\u001b[39m get_real_method(obj, \u001b[38;5;28mself\u001b[39m\u001b[38;5;241m.\u001b[39mprint_method)\n\u001b[1;32m    342\u001b[0m     \u001b[38;5;28;01mif\u001b[39;00m method \u001b[38;5;129;01mis\u001b[39;00m \u001b[38;5;129;01mnot\u001b[39;00m \u001b[38;5;28;01mNone\u001b[39;00m:\n\u001b[0;32m--> 343\u001b[0m         \u001b[38;5;28;01mreturn\u001b[39;00m \u001b[43mmethod\u001b[49m\u001b[43m(\u001b[49m\u001b[43m)\u001b[49m\n\u001b[1;32m    344\u001b[0m     \u001b[38;5;28;01mreturn\u001b[39;00m \u001b[38;5;28;01mNone\u001b[39;00m\n\u001b[1;32m    345\u001b[0m \u001b[38;5;28;01melse\u001b[39;00m:\n",
      "File \u001b[0;32m/usr/lib/python3/dist-packages/IPython/core/display.py:1054\u001b[0m, in \u001b[0;36mImage._repr_png_\u001b[0;34m(self)\u001b[0m\n\u001b[1;32m   1052\u001b[0m \u001b[38;5;28;01mdef\u001b[39;00m \u001b[38;5;21m_repr_png_\u001b[39m(\u001b[38;5;28mself\u001b[39m):\n\u001b[1;32m   1053\u001b[0m     \u001b[38;5;28;01mif\u001b[39;00m \u001b[38;5;28mself\u001b[39m\u001b[38;5;241m.\u001b[39membed \u001b[38;5;129;01mand\u001b[39;00m \u001b[38;5;28mself\u001b[39m\u001b[38;5;241m.\u001b[39mformat \u001b[38;5;241m==\u001b[39m \u001b[38;5;28mself\u001b[39m\u001b[38;5;241m.\u001b[39m_FMT_PNG:\n\u001b[0;32m-> 1054\u001b[0m         \u001b[38;5;28;01mreturn\u001b[39;00m \u001b[38;5;28;43mself\u001b[39;49m\u001b[38;5;241;43m.\u001b[39;49m\u001b[43m_data_and_metadata\u001b[49m\u001b[43m(\u001b[49m\u001b[43m)\u001b[49m\n",
      "File \u001b[0;32m/usr/lib/python3/dist-packages/IPython/core/display.py:1034\u001b[0m, in \u001b[0;36mImage._data_and_metadata\u001b[0;34m(self, always_both)\u001b[0m\n\u001b[1;32m   1032\u001b[0m     b64_data \u001b[38;5;241m=\u001b[39m b2a_base64(\u001b[38;5;28mself\u001b[39m\u001b[38;5;241m.\u001b[39mdata)\u001b[38;5;241m.\u001b[39mdecode(\u001b[38;5;124m'\u001b[39m\u001b[38;5;124mascii\u001b[39m\u001b[38;5;124m'\u001b[39m)\n\u001b[1;32m   1033\u001b[0m \u001b[38;5;28;01mexcept\u001b[39;00m \u001b[38;5;167;01mTypeError\u001b[39;00m \u001b[38;5;28;01mas\u001b[39;00m e:\n\u001b[0;32m-> 1034\u001b[0m     \u001b[38;5;28;01mraise\u001b[39;00m \u001b[38;5;167;01mFileNotFoundError\u001b[39;00m(\n\u001b[1;32m   1035\u001b[0m         \u001b[38;5;124m\"\u001b[39m\u001b[38;5;124mNo such file or directory: \u001b[39m\u001b[38;5;124m'\u001b[39m\u001b[38;5;132;01m%s\u001b[39;00m\u001b[38;5;124m'\u001b[39m\u001b[38;5;124m\"\u001b[39m \u001b[38;5;241m%\u001b[39m (\u001b[38;5;28mself\u001b[39m\u001b[38;5;241m.\u001b[39mdata)) \u001b[38;5;28;01mfrom\u001b[39;00m \u001b[38;5;21;01me\u001b[39;00m\n\u001b[1;32m   1036\u001b[0m md \u001b[38;5;241m=\u001b[39m {}\n\u001b[1;32m   1037\u001b[0m \u001b[38;5;28;01mif\u001b[39;00m \u001b[38;5;28mself\u001b[39m\u001b[38;5;241m.\u001b[39mmetadata:\n",
      "\u001b[0;31mFileNotFoundError\u001b[0m: No such file or directory: 'color.png'"
     ]
    },
    {
     "data": {
      "text/plain": [
       "<IPython.core.display.Image object>"
      ]
     },
     "execution_count": 66,
     "metadata": {},
     "output_type": "execute_result"
    }
   ],
   "source": [
    "sol = {12: 1, 11: 1, 10: -1, 9: 0, 8: 1, 7: 1, \n",
    "      6: 0, 5: -1, 4: 0, 3: 1, 2: -1, 1: 0}\n",
    "colors = {\n",
    "-1: \"yellowgreen\",\\\n",
    " 0: \"gold\",\\\n",
    " 1: \"cornflowerblue\",\\\n",
    "}\n",
    "\n",
    "g, edge = gv.graph('color'), {}\n",
    "# gv.setv(g, 'rankdir', 'LR')\n",
    "gv.setv(g, 'rankdir', 'TB')\n",
    "for vs in graph:\n",
    "    a = gv.node(g, str(vs[0]))\n",
    "    gv.setv(a, 'style', 'filled')\n",
    "    gv.setv(a, 'fillcolor', colors[sol[vs[0]]])\n",
    "    if vs[0] not in edge: edge[vs[0]] = a\n",
    "    for v in vs[1:]:\n",
    "        if v not in edge: edge[v] = gv.node(g, str(v))\n",
    "        gv.edge(a, edge[v])\n",
    "\n",
    "for v in (11, 12):\n",
    "    a = edge[v]\n",
    "    gv.setv(a, 'style', 'filled')\n",
    "    gv.setv(a, 'fillcolor', colors[sol[v]])\n",
    "\n",
    "gv.layout(g, 'dot')\n",
    "gv.render(g, \"pdf\", 'color.pdf')\n",
    "Image('color.png')"
   ]
  },
  {
   "cell_type": "markdown",
   "metadata": {},
   "source": [
    "Polynomial GCDs by syzygies\n",
    "https://ieeexplore.ieee.org/document/7829593"
   ]
  },
  {
   "cell_type": "code",
   "execution_count": 67,
   "metadata": {},
   "outputs": [
    {
     "name": "stdout",
     "output_type": "stream",
     "text": [
      "prolong 0, Q 5\n",
      "x**5\n",
      "prolong 0, Q 5\n",
      "x**4\n",
      "prolong 0, Q 5\n",
      "x**3\n",
      "prolong 0, Q 4\n",
      "x**2\n",
      "prolong 0, Q 3\n",
      "prolong 0, Q 0\n",
      "crit1: 0\n",
      "crit1: 0\n",
      " time: 0.00 sec\n",
      "    count: 1\n",
      "reduction: 10\n",
      "       HP: 2\n",
      "x**2 + x*5 + 2\n"
     ]
    }
   ],
   "source": [
    "Monom.cmp = Monom.TOPdeglex\n",
    "x = Poly.init(['x'])[0]\n",
    "test = Janet()\n",
    "res = ginvBlockLow((\\\n",
    "(2 + 5*x + x**2)*(-1 + x - 3*x**2 + x**3),\\\n",
    "(2 + 5*x + x**2)*(-2 - 4*x - 4*x**2 + x**3),\\\n",
    "), \\\n",
    "test, level=1)\n",
    "print(f\"crit1: {res[1]}\")\n",
    "print(f\"crit1: {res[2]}\")\n",
    "print(f\" time: {res[0]:.2f} sec\")\n",
    "print(f\"    count: {test.count()}\")\n",
    "print(f\"reduction: {test.reduction()}\")\n",
    "print(f\"       HP: {test.HP()}\")\n",
    "for w in test.GB():\n",
    "    print(w.poly)"
   ]
  },
  {
   "cell_type": "code",
   "execution_count": 68,
   "metadata": {},
   "outputs": [
    {
     "name": "stdout",
     "output_type": "stream",
     "text": [
      "prolong a*x**5\n",
      "a*x**5\n",
      "prolong a*x**5\n",
      "a*x**4\n",
      "prolong a*x**5\n",
      "a*x**3\n",
      "prolong a*x**4\n",
      "a*x**2\n",
      "prolong a*x**3\n",
      "b*x**3\n",
      "prolongAll\n",
      "crit1: 0\n",
      "crit1: 0\n",
      " time: 0.01 sec\n",
      "    count: 2\n",
      "reduction: 10\n",
      "       HP: s + 6\n",
      "a*x**2*59 + b*x**2*-4 + c*x**2*4 + a*x*295 + b*x*15 + c*x*-11 + a*118 + b*-27 + c*16\n",
      "b*x**3*-1 + c*x**3 + b*x**2*4 + c*x**2*-3 + b*x*-4 + c*x + b*-2 + c*-1\n"
     ]
    }
   ],
   "source": [
    "Monom.cmp = Monom.TOPdeglex\n",
    "var = ['x']\n",
    "fun = 'a, b, c'.split(', ')\n",
    "var, fun = Poly.init(var, fun)\n",
    "x = var[0]\n",
    "a, b, c = fun\n",
    "test = Forest(Janet)\n",
    "res = ginvMin((\\\n",
    "(2 + 5*x + x**2)*(-1 + x - 3*x**2 + x**3)*a + b,\\\n",
    "(2 + 5*x + x**2)*(-2 - 4*x - 4*x**2 + x**3)*a + c,\\\n",
    "), \\\n",
    "test, level=1)\n",
    "print(f\"crit1: {res[1]}\")\n",
    "print(f\"crit1: {res[2]}\")\n",
    "print(f\" time: {res[0]:.2f} sec\")\n",
    "print(f\"    count: {test.count()}\")\n",
    "print(f\"reduction: {test.reduction()}\")\n",
    "print(f\"       HP: {test.HP()}\")\n",
    "for w in test.GB():\n",
    "    print(w.poly)"
   ]
  },
  {
   "cell_type": "code",
   "execution_count": 69,
   "metadata": {},
   "outputs": [
    {
     "data": {
      "image/png": "[encoded data removed]",
      "text/latex": [
       "$\\displaystyle b \\left(- x^{3} + 4 x^{2} - 4 x - 2\\right) + c \\left(x^{3} - 3 x^{2} + x - 1\\right)$"
      ],
      "text/plain": [
       "  ⎛   3      2          ⎞     ⎛ 3      2        ⎞\n",
       "b⋅⎝- x  + 4⋅x  - 4⋅x - 2⎠ + c⋅⎝x  - 3⋅x  + x - 1⎠"
      ]
     },
     "metadata": {},
     "output_type": "display_data"
    }
   ],
   "source": [
    "x, a, b, c = sympy.symbols('x, a, b, c')  \n",
    "for w in test.GB():\n",
    "    if w.lm.position() > 0:\n",
    "        p = eval(\" + \".join([f\"{m}*{c}\" for m, c in w.poly])).collect([a, b, c])\n",
    "        display(p)"
   ]
  },
  {
   "cell_type": "code",
   "execution_count": 70,
   "metadata": {},
   "outputs": [
    {
     "data": {
      "image/png": "[encoded data removed]",
      "text/latex": [
       "$\\displaystyle x^{2} + 5 x + 2$"
      ],
      "text/plain": [
       " 2          \n",
       "x  + 5⋅x + 2"
      ]
     },
     "execution_count": 70,
     "metadata": {},
     "output_type": "execute_result"
    }
   ],
   "source": [
    "(((2 + 5*x + x**2)*(-1 + x - 3*x**2 + x**3))\\\n",
    " .expand()/p.coeff(c)).cancel()"
   ]
  },
  {
   "cell_type": "code",
   "execution_count": 71,
   "metadata": {},
   "outputs": [
    {
     "name": "stdout",
     "output_type": "stream",
     "text": [
      "prolong a*x**3*y**6\n",
      "a*x**3*y**6\n",
      "prolong a*x**4*y**5\n",
      "a*x**4*y**5\n",
      "prolongAll\n",
      "a*x**2*y**7\n",
      "prolongAll\n",
      "a*x*y**8\n",
      "prolongAll\n",
      "a*x**4*y**4\n",
      "prolong a*x**4*y**5\n",
      "c*x**3*y\n",
      "prolongAll\n",
      "crit1: 0\n",
      "crit1: 0\n",
      " time: 0.02 sec\n",
      "    count: 5\n",
      "reduction: 19\n",
      "       HP: s^2/2 + 21s/2 + 3\n",
      "a*x*y**8*24 + a*x**3*y**5*78 + a*x**2*y**6*169 + a*x*y**7*-97 + a*x**5*y**2*54 + a*x**4*y**3*169 + a*x**3*y**4*-79 + a*x**2*y**5*123 + a*x*y**6*-9 + a*x**5*y*18 + a*x**4*y**2*153 + a*x**3*y**3*160 + a*x**2*y**4*-112 + a*x*y**5*-6 + a*x**4*y*3 + a*x**3*y**2*93 + a*x**2*y**3*-9 + a*x*y**4*-44 + a*x**3*y*-59 + a*x**2*y**2*-6 + a*x**2*y*-44 + c*x**2*-18 + b*x*y*54 + c*x*15 + b*y*-9 + c*y*-12 + c*44\n",
      "a*x**2*y**7*-6 + a*x**3*y**5*48 + a*x**2*y**6*11 + a*x*y**7*-5 + a*x**6*y*6 + a*x**5*y**2*48 + a*x**4*y**3*11 + a*x**3*y**4*-11 + a*x**2*y**5*69 + a*x*y**6*-51 + a*x**5*y*6 + a*x**4*y**2*117 + a*x**3*y**3*-40 + a*x**2*y**4*-44 + a*x*y**5*-30 + a*x**4*y*-39 + a*x**3*y**2*39 + a*x**2*y**3*-51 + a*x*y**4*-28 + a*x**3*y*-67 + a*x**2*y**2*-30 + c*x**3*-6 + a*x**2*y*-28 + b*x**2*y*18 + b*x*y*12 + b*y**2*-12 + c*x*21 + b*y*-9 + c*y*-6 + b*-18 + c*-8\n",
      "a*x**3*y**6*3 + a*x**5*y**3*3 + a*x**2*y**6*2 + a*x*y**7*-2 + a*x**4*y**3*5 + a*x**3*y**4*-2 + a*x**3*y**3*2 + a*x**2*y**4*-2 + a*x*y**4*-1 + a*x**3*y*-1 + a*x**2*y*-1 + c\n",
      "a*x**4*y**4 + a*x**3*y**5*8 + a*x**2*y**6*-2 + a*x**6*y + a*x**5*y**2*8 + a*x**4*y**3*-2 + a*x**2*y**5*13 + a*x*y**6*-7 + a*x**5*y + a*x**4*y**2*21 + a*x**3*y**3*-9 + a*x**2*y**4*-6 + a*x*y**5*-2 + a*x**4*y*-6 + a*x**3*y**2*11 + a*x**2*y**3*-7 + a*x*y**4*-5 + a*x**3*y*-11 + a*x**2*y**2*-2 + c*x**3*-1 + a*x**2*y*-5 + b*x**2*y*3 + b*x*y*2 + b*y**2*-2 + c*x*3 + c*y*-1 + b*-3 + c*-1\n",
      "c*x**3*y*-1 + b*x**2*y**2*3 + b*x*y**2*2 + b*y**3*-2 + c*x*y*3 + c*y**2*-1 + c*x*-1 + c*y*-1 + b*-1 + c*-2\n"
     ]
    }
   ],
   "source": [
    "Monom.cmp = Monom.TOPdeglex\n",
    "var = ['x', 'y']\n",
    "fun = 'a, b, c'.split(', ')\n",
    "var, fun = Poly.init(var, fun)\n",
    "x, y = var\n",
    "a, b, c = fun\n",
    "test = Forest(Janet)\n",
    "res = ginvMin((\\\n",
    "(2 + x + y - 3*x*y + x**3*y + y**2)*(x**2*y + x**3*y + x*y**4)*a + b,\\\n",
    "(1 - 2*x*y**2 + 3*x**2*y**2 - 2*y**3)*(x**2*y + x**3*y + x*y**4)*a + c,\\\n",
    "), \\\n",
    "test, level=1)\n",
    "print(f\"crit1: {res[1]}\")\n",
    "print(f\"crit1: {res[2]}\")\n",
    "print(f\" time: {res[0]:.2f} sec\")\n",
    "print(f\"    count: {test.count()}\")\n",
    "print(f\"reduction: {test.reduction()}\")\n",
    "print(f\"       HP: {test.HP()}\")\n",
    "for w in test.GB():\n",
    "    print(w.poly)"
   ]
  },
  {
   "cell_type": "code",
   "execution_count": 72,
   "metadata": {},
   "outputs": [
    {
     "data": {
      "image/png": "[encoded data removed]",
      "text/latex": [
       "$\\displaystyle b \\left(3 x^{2} y^{2} + 2 x y^{2} - 2 y^{3} - 1\\right) + c \\left(- x^{3} y + 3 x y - x - y^{2} - y - 2\\right)$"
      ],
      "text/plain": [
       "  ⎛   2  2        2      3    ⎞     ⎛   3                  2        ⎞\n",
       "b⋅⎝3⋅x ⋅y  + 2⋅x⋅y  - 2⋅y  - 1⎠ + c⋅⎝- x ⋅y + 3⋅x⋅y - x - y  - y - 2⎠"
      ]
     },
     "metadata": {},
     "output_type": "display_data"
    }
   ],
   "source": [
    "x, y, a, b, c = sympy.symbols('x, y, a, b, c')  \n",
    "for w in test.GB():\n",
    "    if w.lm.position() > 0:\n",
    "        p = eval(\" + \".join([f\"{m}*{c}\" for m, c in w.poly])).collect([a, b, c])\n",
    "        display(p)"
   ]
  },
  {
   "cell_type": "code",
   "execution_count": 73,
   "metadata": {},
   "outputs": [
    {
     "data": {
      "image/png": "[encoded data removed]",
      "text/latex": [
       "$\\displaystyle - x^{3} y - x^{2} y - x y^{4}$"
      ],
      "text/plain": [
       "   3      2        4\n",
       "- x ⋅y - x ⋅y - x⋅y "
      ]
     },
     "execution_count": 73,
     "metadata": {},
     "output_type": "execute_result"
    }
   ],
   "source": [
    "(((2 + x + y - 3*x*y + x**3*y + y**2)*(x**2*y + x**3*y + x*y**4))\\\n",
    " .expand()/p.coeff(c)).cancel()"
   ]
  },
  {
   "cell_type": "code",
   "execution_count": null,
   "metadata": {},
   "outputs": [],
   "source": []
  }
 ],
 "metadata": {
  "kernelspec": {
   "display_name": "Python 3 (ipykernel)",
   "language": "python",
   "name": "python3"
  },
  "language_info": {
   "codemirror_mode": {
    "name": "ipython",
    "version": 3
   },
   "file_extension": ".py",
   "mimetype": "text/x-python",
   "name": "python",
   "nbconvert_exporter": "python",
   "pygments_lexer": "ipython3",
   "version": "3.11.2"
  }
 },
 "nbformat": 4,
 "nbformat_minor": 2
}
