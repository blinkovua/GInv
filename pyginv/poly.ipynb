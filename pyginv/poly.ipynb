{
 "cells": [
  {
   "cell_type": "code",
   "execution_count": 1,
   "metadata": {},
   "outputs": [],
   "source": [
    "import sympy\n",
    "sympy.init_printing()\n",
    "\n",
    "from poly import *"
   ]
  },
  {
   "cell_type": "code",
   "execution_count": 2,
   "metadata": {},
   "outputs": [],
   "source": [
    "var = ['a', 'b', 'c', 'd', 'e', 'f']\n",
    "fun = ['u', 'v', 'w']\n",
    "Monom.init(var, fun)"
   ]
  },
  {
   "cell_type": "code",
   "execution_count": 3,
   "metadata": {},
   "outputs": [],
   "source": [
    "Monom.cmp = Monom.POTlex"
   ]
  },
  {
   "cell_type": "code",
   "execution_count": 4,
   "metadata": {},
   "outputs": [],
   "source": [
    "for i, g in enumerate(var):\n",
    "    globals()[g] = Poly(Monom(i))\n",
    "for i, g in enumerate(fun):\n",
    "    globals()[g] = Poly(Monom(pos=i))"
   ]
  },
  {
   "cell_type": "code",
   "execution_count": 5,
   "metadata": {},
   "outputs": [
    {
     "data": {
      "text/plain": [
       "[]"
      ]
     },
     "execution_count": 5,
     "metadata": {},
     "output_type": "execute_result"
    }
   ],
   "source": [
    "Poly()"
   ]
  },
  {
   "cell_type": "code",
   "execution_count": 6,
   "metadata": {},
   "outputs": [
    {
     "name": "stdout",
     "output_type": "stream",
     "text": [
      "0\n"
     ]
    }
   ],
   "source": [
    "print(Poly())"
   ]
  },
  {
   "cell_type": "code",
   "execution_count": 7,
   "metadata": {},
   "outputs": [
    {
     "data": {
      "image/png": "[encoded data removed]",
      "text/latex": [
       "$$\\alpha$$"
      ],
      "text/plain": [
       "α"
      ]
     },
     "execution_count": 7,
     "metadata": {},
     "output_type": "execute_result"
    }
   ],
   "source": [
    "alpha, beta, tau = sympy.symbols('alpha, beta, tau', real=True)\n",
    "alpha"
   ]
  },
  {
   "cell_type": "code",
   "execution_count": 8,
   "metadata": {},
   "outputs": [
    {
     "data": {
      "text/plain": [
       "[[[0 0 0 0 0 0], 21546]]"
      ]
     },
     "execution_count": 8,
     "metadata": {},
     "output_type": "execute_result"
    }
   ],
   "source": [
    "Poly(21546)"
   ]
  },
  {
   "cell_type": "code",
   "execution_count": 9,
   "metadata": {},
   "outputs": [
    {
     "name": "stdout",
     "output_type": "stream",
     "text": [
      "21546\n"
     ]
    }
   ],
   "source": [
    "print(Poly(21546))"
   ]
  },
  {
   "cell_type": "code",
   "execution_count": 10,
   "metadata": {},
   "outputs": [
    {
     "data": {
      "text/plain": [
       "[[[0 0 0 0 0 0], 21546*tau**4]]"
      ]
     },
     "execution_count": 10,
     "metadata": {},
     "output_type": "execute_result"
    }
   ],
   "source": [
    "Poly(tau**4*21546)"
   ]
  },
  {
   "cell_type": "code",
   "execution_count": 11,
   "metadata": {},
   "outputs": [
    {
     "name": "stdout",
     "output_type": "stream",
     "text": [
      "21546*tau**4\n"
     ]
    }
   ],
   "source": [
    "print(Poly(tau**4*21546))"
   ]
  },
  {
   "cell_type": "code",
   "execution_count": 12,
   "metadata": {},
   "outputs": [
    {
     "data": {
      "text/plain": [
       "[[[0;0 0 5 0 0 0], 1], [[1 1 0 0 0 1], 1236537*tau], [[0 0 0 1 0 0], alpha]]"
      ]
     },
     "execution_count": 12,
     "metadata": {},
     "output_type": "execute_result"
    }
   ],
   "source": [
    "h = u*c**5 + f*a*b*tau*1236537 + d*alpha\n",
    "h"
   ]
  },
  {
   "cell_type": "code",
   "execution_count": 13,
   "metadata": {},
   "outputs": [
    {
     "name": "stdout",
     "output_type": "stream",
     "text": [
      "u*c**5 + a*b*f*1236537*tau + d*alpha\n"
     ]
    }
   ],
   "source": [
    "g = Poly(h)\n",
    "print(g)"
   ]
  },
  {
   "cell_type": "code",
   "execution_count": 14,
   "metadata": {},
   "outputs": [
    {
     "data": {
      "text/plain": [
       "False"
      ]
     },
     "execution_count": 14,
     "metadata": {},
     "output_type": "execute_result"
    }
   ],
   "source": [
    "g != Poly(h)"
   ]
  },
  {
   "cell_type": "code",
   "execution_count": 15,
   "metadata": {
    "scrolled": true
   },
   "outputs": [
    {
     "data": {
      "text/plain": [
       "([0;0 0 5 0 0 0], 1)"
      ]
     },
     "execution_count": 15,
     "metadata": {},
     "output_type": "execute_result"
    }
   ],
   "source": [
    "h.lm(), h.lc()"
   ]
  },
  {
   "cell_type": "code",
   "execution_count": 16,
   "metadata": {},
   "outputs": [
    {
     "data": {
      "text/plain": [
       "[[[0;0 0 5 0 1 0], 1], [[1 1 0 0 1 1], 1236537*tau], [[0 0 0 1 1 0], alpha]]"
      ]
     },
     "execution_count": 16,
     "metadata": {},
     "output_type": "execute_result"
    }
   ],
   "source": [
    "g.prolong(4)"
   ]
  },
  {
   "cell_type": "code",
   "execution_count": 17,
   "metadata": {},
   "outputs": [
    {
     "data": {
      "text/plain": [
       "[[[1 1 0 0 0 1], 1236537]]"
      ]
     },
     "execution_count": 17,
     "metadata": {},
     "output_type": "execute_result"
    }
   ],
   "source": [
    "g.diff(tau)"
   ]
  },
  {
   "cell_type": "code",
   "execution_count": 18,
   "metadata": {},
   "outputs": [
    {
     "data": {
      "text/plain": [
       "[]"
      ]
     },
     "execution_count": 18,
     "metadata": {},
     "output_type": "execute_result"
    }
   ],
   "source": [
    "g.reduction(0, h)\n",
    "g"
   ]
  },
  {
   "cell_type": "code",
   "execution_count": 19,
   "metadata": {},
   "outputs": [
    {
     "name": "stdout",
     "output_type": "stream",
     "text": [
      "u*b**44*c**5*4194304 + u*b**40*c**5*f*11534336*tau + u*b**40*c**5*11534336*beta + u*b**36*c**5*f**2*14417920*tau**2 + u*b**36*c**5*f*28835840*beta*tau + u*b**36*c**5*14417920*beta**2 + u*b**32*c**5*f**3*10813440*tau**3 + u*b**32*c**5*f**2*32440320*beta*tau**2 + u*b**32*c**5*f*32440320*beta**2*tau + u*b**32*c**5*10813440*beta**3 + u*b**28*c**5*f**4*5406720*tau**4 + u*b**28*c**5*f**3*21626880*beta*tau**3 + u*b**28*c**5*f**2*32440320*beta**2*tau**2 + u*b**28*c**5*f*21626880*beta**3*tau + u*b**28*c**5*5406720*beta**4 + u*b**24*c**5*f**5*1892352*tau**5 + u*b**24*c**5*f**4*9461760*beta*tau**4 + u*b**24*c**5*f**3*18923520*beta**2*tau**3 + u*b**24*c**5*f**2*18923520*beta**3*tau**2 + u*b**24*c**5*f*9461760*beta**4*tau + u*b**24*c**5*1892352*beta**5 + u*b**20*c**5*f**6*473088*tau**6 + u*b**20*c**5*f**5*2838528*beta*tau**5 + u*b**20*c**5*f**4*7096320*beta**2*tau**4 + u*b**20*c**5*f**3*9461760*beta**3*tau**3 + u*b**20*c**5*f**2*7096320*beta**4*tau**2 + u*b**20*c**5*f*2838528*beta**5*tau + u*b**20*c**5*473088*beta**6 + u*b**16*c**5*f**7*84480*tau**7 + u*b**16*c**5*f**6*591360*beta*tau**6 + u*b**16*c**5*f**5*1774080*beta**2*tau**5 + u*b**16*c**5*f**4*2956800*beta**3*tau**4 + u*b**16*c**5*f**3*2956800*beta**4*tau**3 + u*b**16*c**5*f**2*1774080*beta**5*tau**2 + u*b**16*c**5*f*591360*beta**6*tau + u*b**16*c**5*84480*beta**7 + u*b**12*c**5*f**8*10560*tau**8 + u*b**12*c**5*f**7*84480*beta*tau**7 + u*b**12*c**5*f**6*295680*beta**2*tau**6 + u*b**12*c**5*f**5*591360*beta**3*tau**5 + u*b**12*c**5*f**4*739200*beta**4*tau**4 + u*b**12*c**5*f**3*591360*beta**5*tau**3 + u*b**12*c**5*f**2*295680*beta**6*tau**2 + u*b**12*c**5*f*84480*beta**7*tau + u*b**12*c**5*10560*beta**8 + u*b**8*c**5*f**9*880*tau**9 + u*b**8*c**5*f**8*7920*beta*tau**8 + u*b**8*c**5*f**7*31680*beta**2*tau**7 + u*b**8*c**5*f**6*73920*beta**3*tau**6 + u*b**8*c**5*f**5*110880*beta**4*tau**5 + u*b**8*c**5*f**4*110880*beta**5*tau**4 + u*b**8*c**5*f**3*73920*beta**6*tau**3 + u*b**8*c**5*f**2*31680*beta**7*tau**2 + u*b**8*c**5*f*7920*beta**8*tau + u*b**8*c**5*880*beta**9 + u*b**4*c**5*f**10*44*tau**10 + u*b**4*c**5*f**9*440*beta*tau**9 + u*b**4*c**5*f**8*1980*beta**2*tau**8 + u*b**4*c**5*f**7*5280*beta**3*tau**7 + u*b**4*c**5*f**6*9240*beta**4*tau**6 + u*b**4*c**5*f**5*11088*beta**5*tau**5 + u*b**4*c**5*f**4*9240*beta**6*tau**4 + u*b**4*c**5*f**3*5280*beta**7*tau**3 + u*b**4*c**5*f**2*1980*beta**8*tau**2 + u*b**4*c**5*f*440*beta**9*tau + u*b**4*c**5*44*beta**10 + u*c**5*f**11*tau**11 + u*c**5*f**10*11*beta*tau**10 + u*c**5*f**9*55*beta**2*tau**9 + u*c**5*f**8*165*beta**3*tau**8 + u*c**5*f**7*330*beta**4*tau**7 + u*c**5*f**6*462*beta**5*tau**6 + u*c**5*f**5*462*beta**6*tau**5 + u*c**5*f**4*330*beta**7*tau**4 + u*c**5*f**3*165*beta**8*tau**3 + u*c**5*f**2*55*beta**9*tau**2 + u*c**5*f*11*beta**10*tau + u*c**5*beta**11 + a*b**45*f*5186412085248*tau + a*b**41*f**2*14262633234432*tau**2 + a*b**41*f*14262633234432*beta*tau + a*b**37*f**3*17828291543040*tau**3 + a*b**37*f**2*35656583086080*beta*tau**2 + a*b**37*f*17828291543040*beta**2*tau + a*b**33*f**4*13371218657280*tau**4 + a*b**33*f**3*40113655971840*beta*tau**3 + a*b**33*f**2*40113655971840*beta**2*tau**2 + a*b**33*f*13371218657280*beta**3*tau + a*b**29*f**5*6685609328640*tau**5 + a*b**29*f**4*26742437314560*beta*tau**4 + a*b**29*f**3*40113655971840*beta**2*tau**3 + a*b**29*f**2*26742437314560*beta**3*tau**2 + a*b**29*f*6685609328640*beta**4*tau + a*b**25*f**6*2339963265024*tau**6 + a*b**25*f**5*11699816325120*beta*tau**5 + a*b**25*f**4*23399632650240*beta**2*tau**4 + a*b**25*f**3*23399632650240*beta**3*tau**3 + a*b**25*f**2*11699816325120*beta**4*tau**2 + a*b**25*f*2339963265024*beta**5*tau + a*b**21*f**7*584990816256*tau**7 + a*b**21*f**6*3509944897536*beta*tau**6 + a*b**21*f**5*8774862243840*beta**2*tau**5 + a*b**21*f**4*11699816325120*beta**3*tau**4 + a*b**21*f**3*8774862243840*beta**4*tau**3 + a*b**21*f**2*3509944897536*beta**5*tau**2 + a*b**21*f*584990816256*beta**6*tau + a*b**17*f**8*104462645760*tau**8 + a*b**17*f**7*731238520320*beta*tau**7 + a*b**17*f**6*2193715560960*beta**2*tau**6 + a*b**17*f**5*3656192601600*beta**3*tau**5 + a*b**17*f**4*3656192601600*beta**4*tau**4 + a*b**17*f**3*2193715560960*beta**5*tau**3 + a*b**17*f**2*731238520320*beta**6*tau**2 + a*b**17*f*104462645760*beta**7*tau + a*b**13*f**9*13057830720*tau**9 + a*b**13*f**8*104462645760*beta*tau**8 + a*b**13*f**7*365619260160*beta**2*tau**7 + a*b**13*f**6*731238520320*beta**3*tau**6 + a*b**13*f**5*914048150400*beta**4*tau**5 + a*b**13*f**4*731238520320*beta**5*tau**4 + a*b**13*f**3*365619260160*beta**6*tau**3 + a*b**13*f**2*104462645760*beta**7*tau**2 + a*b**13*f*13057830720*beta**8*tau + a*b**9*f**10*1088152560*tau**10 + a*b**9*f**9*9793373040*beta*tau**9 + a*b**9*f**8*39173492160*beta**2*tau**8 + a*b**9*f**7*91404815040*beta**3*tau**7 + a*b**9*f**6*137107222560*beta**4*tau**6 + a*b**9*f**5*137107222560*beta**5*tau**5 + a*b**9*f**4*91404815040*beta**6*tau**4 + a*b**9*f**3*39173492160*beta**7*tau**3 + a*b**9*f**2*9793373040*beta**8*tau**2 + a*b**9*f*1088152560*beta**9*tau + a*b**5*f**11*54407628*tau**11 + a*b**5*f**10*544076280*beta*tau**10 + a*b**5*f**9*2448343260*beta**2*tau**9 + a*b**5*f**8*6528915360*beta**3*tau**8 + a*b**5*f**7*11425601880*beta**4*tau**7 + a*b**5*f**6*13710722256*beta**5*tau**6 + a*b**5*f**5*11425601880*beta**6*tau**5 + a*b**5*f**4*6528915360*beta**7*tau**4 + a*b**5*f**3*2448343260*beta**8*tau**3 + a*b**5*f**2*544076280*beta**9*tau**2 + a*b**5*f*54407628*beta**10*tau + a*b*f**12*1236537*tau**12 + a*b*f**11*13601907*beta*tau**11 + a*b*f**10*68009535*beta**2*tau**10 + a*b*f**9*204028605*beta**3*tau**9 + a*b*f**8*408057210*beta**4*tau**8 + a*b*f**7*571280094*beta**5*tau**7 + a*b*f**6*571280094*beta**6*tau**6 + a*b*f**5*408057210*beta**7*tau**5 + a*b*f**4*204028605*beta**8*tau**4 + a*b*f**3*68009535*beta**9*tau**3 + a*b*f**2*13601907*beta**10*tau**2 + a*b*f*1236537*beta**11*tau + b**44*d*4194304*alpha + b**40*d*f*11534336*alpha*tau + b**40*d*11534336*alpha*beta + b**36*d*f**2*14417920*alpha*tau**2 + b**36*d*f*28835840*alpha*beta*tau + b**36*d*14417920*alpha*beta**2 + b**32*d*f**3*10813440*alpha*tau**3 + b**32*d*f**2*32440320*alpha*beta*tau**2 + b**32*d*f*32440320*alpha*beta**2*tau + b**32*d*10813440*alpha*beta**3 + b**28*d*f**4*5406720*alpha*tau**4 + b**28*d*f**3*21626880*alpha*beta*tau**3 + b**28*d*f**2*32440320*alpha*beta**2*tau**2 + b**28*d*f*21626880*alpha*beta**3*tau + b**28*d*5406720*alpha*beta**4 + b**24*d*f**5*1892352*alpha*tau**5 + b**24*d*f**4*9461760*alpha*beta*tau**4 + b**24*d*f**3*18923520*alpha*beta**2*tau**3 + b**24*d*f**2*18923520*alpha*beta**3*tau**2 + b**24*d*f*9461760*alpha*beta**4*tau + b**24*d*1892352*alpha*beta**5 + b**20*d*f**6*473088*alpha*tau**6 + b**20*d*f**5*2838528*alpha*beta*tau**5 + b**20*d*f**4*7096320*alpha*beta**2*tau**4 + b**20*d*f**3*9461760*alpha*beta**3*tau**3 + b**20*d*f**2*7096320*alpha*beta**4*tau**2 + b**20*d*f*2838528*alpha*beta**5*tau + b**20*d*473088*alpha*beta**6 + b**16*d*f**7*84480*alpha*tau**7 + b**16*d*f**6*591360*alpha*beta*tau**6 + b**16*d*f**5*1774080*alpha*beta**2*tau**5 + b**16*d*f**4*2956800*alpha*beta**3*tau**4 + b**16*d*f**3*2956800*alpha*beta**4*tau**3 + b**16*d*f**2*1774080*alpha*beta**5*tau**2 + b**16*d*f*591360*alpha*beta**6*tau + b**16*d*84480*alpha*beta**7 + b**12*d*f**8*10560*alpha*tau**8 + b**12*d*f**7*84480*alpha*beta*tau**7 + b**12*d*f**6*295680*alpha*beta**2*tau**6 + b**12*d*f**5*591360*alpha*beta**3*tau**5 + b**12*d*f**4*739200*alpha*beta**4*tau**4 + b**12*d*f**3*591360*alpha*beta**5*tau**3 + b**12*d*f**2*295680*alpha*beta**6*tau**2 + b**12*d*f*84480*alpha*beta**7*tau + b**12*d*10560*alpha*beta**8 + b**8*d*f**9*880*alpha*tau**9 + b**8*d*f**8*7920*alpha*beta*tau**8 + b**8*d*f**7*31680*alpha*beta**2*tau**7 + b**8*d*f**6*73920*alpha*beta**3*tau**6 + b**8*d*f**5*110880*alpha*beta**4*tau**5 + b**8*d*f**4*110880*alpha*beta**5*tau**4 + b**8*d*f**3*73920*alpha*beta**6*tau**3 + b**8*d*f**2*31680*alpha*beta**7*tau**2 + b**8*d*f*7920*alpha*beta**8*tau + b**8*d*880*alpha*beta**9 + b**4*d*f**10*44*alpha*tau**10 + b**4*d*f**9*440*alpha*beta*tau**9 + b**4*d*f**8*1980*alpha*beta**2*tau**8 + b**4*d*f**7*5280*alpha*beta**3*tau**7 + b**4*d*f**6*9240*alpha*beta**4*tau**6 + b**4*d*f**5*11088*alpha*beta**5*tau**5 + b**4*d*f**4*9240*alpha*beta**6*tau**4 + b**4*d*f**3*5280*alpha*beta**7*tau**3 + b**4*d*f**2*1980*alpha*beta**8*tau**2 + b**4*d*f*440*alpha*beta**9*tau + b**4*d*44*alpha*beta**10 + d*f**11*alpha*tau**11 + d*f**10*11*alpha*beta*tau**10 + d*f**9*55*alpha*beta**2*tau**9 + d*f**8*165*alpha*beta**3*tau**8 + d*f**7*330*alpha*beta**4*tau**7 + d*f**6*462*alpha*beta**5*tau**6 + d*f**5*462*alpha*beta**6*tau**5 + d*f**4*330*alpha*beta**7*tau**4 + d*f**3*165*alpha*beta**8*tau**3 + d*f**2*55*alpha*beta**9*tau**2 + d*f*11*alpha*beta**10*tau + d*alpha*beta**11\n"
     ]
    }
   ],
   "source": [
    "h *= (4*b**4 + f*tau + beta)**11\n",
    "print(h)"
   ]
  },
  {
   "cell_type": "code",
   "execution_count": 20,
   "metadata": {},
   "outputs": [
    {
     "name": "stdout",
     "output_type": "stream",
     "text": [
      "u*b**44*c**5*4194304 + u*c**5*f**11*tau**11 + u*c**5*f**10*11*beta*tau**10 + u*c**5*f**9*55*beta**2*tau**9 + u*c**5*f**8*165*beta**3*tau**8 + u*c**5*f**7*330*beta**4*tau**7 + u*c**5*f**6*462*beta**5*tau**6 + u*c**5*f**5*462*beta**6*tau**5 + u*c**5*f**4*330*beta**7*tau**4 + u*c**5*f**3*165*beta**8*tau**3 + u*c**5*f**2*55*beta**9*tau**2 + u*c**5*f*11*beta**10*tau + u*c**5*beta**11\n"
     ]
    }
   ],
   "source": [
    "h.NFtail(4*b**4 + f*tau + beta)\n",
    "print(h)"
   ]
  },
  {
   "cell_type": "code",
   "execution_count": 21,
   "metadata": {},
   "outputs": [
    {
     "data": {
      "text/plain": [
       "[]"
      ]
     },
     "execution_count": 21,
     "metadata": {},
     "output_type": "execute_result"
    }
   ],
   "source": [
    "h.NFhead(4*b**4 + f*tau + beta)\n",
    "h"
   ]
  },
  {
   "cell_type": "code",
   "execution_count": 22,
   "metadata": {},
   "outputs": [
    {
     "name": "stdout",
     "output_type": "stream",
     "text": [
      "b**4*4 + beta\n"
     ]
    }
   ],
   "source": [
    "h = (4*b**4 + a*b*c**2 + f*tau + beta)\n",
    "h.reduce(a*b*c**2 + f*tau)\n",
    "print(h)"
   ]
  },
  {
   "cell_type": "code",
   "execution_count": 23,
   "metadata": {},
   "outputs": [
    {
     "name": "stdout",
     "output_type": "stream",
     "text": [
      "a*b*c**2 + b**4*4 + f*tau + beta\n"
     ]
    }
   ],
   "source": [
    "h = (4*b**4 + a*b*c**2 + f*tau + beta)\n",
    "h.reduce(a*b*c + f*tau)\n",
    "print(h)"
   ]
  },
  {
   "cell_type": "code",
   "execution_count": null,
   "metadata": {},
   "outputs": [],
   "source": []
  }
 ],
 "metadata": {
  "kernelspec": {
   "display_name": "Python 3",
   "language": "python",
   "name": "python3"
  },
  "language_info": {
   "codemirror_mode": {
    "name": "ipython",
    "version": 3
   },
   "file_extension": ".py",
   "mimetype": "text/x-python",
   "name": "python",
   "nbconvert_exporter": "python",
   "pygments_lexer": "ipython3",
   "version": "3.7.3"
  }
 },
 "nbformat": 4,
 "nbformat_minor": 2
}
