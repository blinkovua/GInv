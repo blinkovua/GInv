{
 "cells": [
  {
   "cell_type": "code",
   "execution_count": 1,
   "metadata": {},
   "outputs": [],
   "source": [
    "from monom import *"
   ]
  },
  {
   "cell_type": "code",
   "execution_count": 2,
   "metadata": {},
   "outputs": [],
   "source": [
    "var = ['a', 'b', 'c', 'd', 'e', 'f']\n",
    "fun = ['u', 'v', 'w']\n",
    "Monom.init(var, fun)"
   ]
  },
  {
   "cell_type": "code",
   "execution_count": 3,
   "metadata": {},
   "outputs": [],
   "source": [
    "Monom.cmp = Monom.POTlex"
   ]
  },
  {
   "cell_type": "code",
   "execution_count": 4,
   "metadata": {},
   "outputs": [],
   "source": [
    "for i, g in enumerate(var):\n",
    "    globals()[g] = Monom(i)\n",
    "for i, g in enumerate(fun):\n",
    "    globals()[g] = Monom(pos=i)"
   ]
  },
  {
   "cell_type": "code",
   "execution_count": 5,
   "metadata": {},
   "outputs": [
    {
     "name": "stdout",
     "output_type": "stream",
     "text": [
      "[1;0 0 4 2 0 0]\n",
      "v*c**4*d**2\n",
      "df(v, c, 4, d, 2)\n",
      "v(a, b, c + 4, d + 2, e, f)\n"
     ]
    }
   ],
   "source": [
    "m = Monom(pos=1).prolong(2).prolong(2).prolong(3)**2\n",
    "print(f\"{m!r}\")\n",
    "print(f\"{m}\")\n",
    "print(f\"{m.df()}\")\n",
    "print(f\"{m.gf()}\")"
   ]
  },
  {
   "cell_type": "code",
   "execution_count": 6,
   "metadata": {},
   "outputs": [
    {
     "name": "stdout",
     "output_type": "stream",
     "text": [
      "[2;0 0 4 4 4 0]\n",
      "w*c**4*d**4*e**4\n",
      "df(w, c, 4, d, 4, e, 4)\n",
      "w(a, b, c + 4, d + 4, e + 4, f)\n"
     ]
    }
   ],
   "source": [
    "m = Monom(pos=2).prolong(4).prolong(2).prolong(3)**4\n",
    "print(f\"{m!r}\")\n",
    "print(f\"{m}\")\n",
    "print(f\"{m.df()}\")\n",
    "print(f\"{m.gf()}\")"
   ]
  },
  {
   "cell_type": "code",
   "execution_count": 7,
   "metadata": {},
   "outputs": [
    {
     "name": "stdout",
     "output_type": "stream",
     "text": [
      "[2;0 0 2 2 0 0]\n",
      "w*c**2*d**2\n",
      "df(w, c, 2, d, 2)\n",
      "w(a, b, c + 2, d + 2, e, f)\n"
     ]
    }
   ],
   "source": [
    "m = w*c*c*d**2\n",
    "print(f\"{m!r}\")\n",
    "print(f\"{m}\")\n",
    "print(f\"{m.df()}\")\n",
    "print(f\"{m.gf()}\")"
   ]
  },
  {
   "cell_type": "code",
   "execution_count": 8,
   "metadata": {},
   "outputs": [
    {
     "name": "stdout",
     "output_type": "stream",
     "text": [
      "[0;4 0 2 0 0 0]\n",
      "u*a**4*c**2\n",
      "df(u, a, 4, c, 2)\n",
      "u(a + 4, b, c + 2, d, e, f)\n"
     ]
    }
   ],
   "source": [
    "m = a*a**4*b*u*c/a/b*c\n",
    "print(f\"{m!r}\")\n",
    "print(f\"{m}\")\n",
    "print(f\"{m.df()}\")\n",
    "print(f\"{m.gf()}\")"
   ]
  },
  {
   "cell_type": "code",
   "execution_count": 9,
   "metadata": {},
   "outputs": [
    {
     "data": {
      "text/plain": [
       "[0, 0, 0, 0, 0, 1, 2]"
      ]
     },
     "execution_count": 9,
     "metadata": {},
     "output_type": "execute_result"
    }
   ],
   "source": [
    "(a*a**4*b*u*c).expand()"
   ]
  },
  {
   "cell_type": "code",
   "execution_count": 10,
   "metadata": {},
   "outputs": [
    {
     "name": "stdout",
     "output_type": "stream",
     "text": [
      "[2;0 1 2 0 0 0]\n",
      "w*b*c**2\n",
      "df(w, b, c, 2)\n",
      "w(a, b + 1, c + 2, d, e, f)\n"
     ]
    }
   ],
   "source": [
    "m1 = w*b*c**2\n",
    "print(f\"{m1!r}\")\n",
    "print(f\"{m1}\")\n",
    "print(f\"{m1.df()}\")\n",
    "print(f\"{m1.gf()}\")"
   ]
  },
  {
   "cell_type": "code",
   "execution_count": 11,
   "metadata": {},
   "outputs": [
    {
     "name": "stdout",
     "output_type": "stream",
     "text": [
      "[0 0 0 0 0 0]\n",
      "1\n"
     ]
    }
   ],
   "source": [
    "m = m1/m1\n",
    "print(f\"{m!r}\")\n",
    "print(f\"{m}\")"
   ]
  },
  {
   "cell_type": "code",
   "execution_count": 12,
   "metadata": {},
   "outputs": [
    {
     "name": "stdout",
     "output_type": "stream",
     "text": [
      "[1;1 0 0 0 1 2]\n",
      "v*a*e*f**2\n",
      "df(v, a, e, f, 2)\n",
      "v(a + 1, b, c, d, e + 1, f + 2)\n"
     ]
    }
   ],
   "source": [
    "m2 = a*e*f**2*Monom(pos=1)\n",
    "print(f\"{m2!r}\")\n",
    "print(f\"{m2}\")\n",
    "print(f\"{m2.df()}\")\n",
    "print(f\"{m2.gf()}\")"
   ]
  },
  {
   "cell_type": "code",
   "execution_count": 13,
   "metadata": {},
   "outputs": [
    {
     "data": {
      "text/plain": [
       "1"
      ]
     },
     "execution_count": 13,
     "metadata": {},
     "output_type": "execute_result"
    }
   ],
   "source": [
    "m1.POTlex(m2)"
   ]
  },
  {
   "cell_type": "code",
   "execution_count": 14,
   "metadata": {},
   "outputs": [
    {
     "data": {
      "text/plain": [
       "-1"
      ]
     },
     "execution_count": 14,
     "metadata": {},
     "output_type": "execute_result"
    }
   ],
   "source": [
    "m1.TOPdeglex(m2)"
   ]
  },
  {
   "cell_type": "code",
   "execution_count": 15,
   "metadata": {},
   "outputs": [
    {
     "data": {
      "text/plain": [
       "True"
      ]
     },
     "execution_count": 15,
     "metadata": {},
     "output_type": "execute_result"
    }
   ],
   "source": [
    "m2 < m1 <= m1"
   ]
  },
  {
   "cell_type": "code",
   "execution_count": 16,
   "metadata": {},
   "outputs": [
    {
     "data": {
      "text/plain": [
       "{[0 0 1 0 0 0], [0 1 0 0 0 0], [1 0 0 0 0 0], [1;1 0 0 0 1 2], [2;0 1 2 0 0 0]}"
      ]
     },
     "execution_count": 16,
     "metadata": {},
     "output_type": "execute_result"
    }
   ],
   "source": [
    "set([m1, m2, a, b, c])"
   ]
  },
  {
   "cell_type": "code",
   "execution_count": 17,
   "metadata": {},
   "outputs": [
    {
     "data": {
      "text/plain": [
       "False"
      ]
     },
     "execution_count": 17,
     "metadata": {},
     "output_type": "execute_result"
    }
   ],
   "source": [
    "m1.divisible(m2)"
   ]
  },
  {
   "cell_type": "code",
   "execution_count": 18,
   "metadata": {},
   "outputs": [
    {
     "data": {
      "text/plain": [
       "True"
      ]
     },
     "execution_count": 18,
     "metadata": {},
     "output_type": "execute_result"
    }
   ],
   "source": [
    "m2.prolong(0).divisible(m2)"
   ]
  },
  {
   "cell_type": "code",
   "execution_count": 19,
   "metadata": {},
   "outputs": [
    {
     "data": {
      "text/plain": [
       "True"
      ]
     },
     "execution_count": 19,
     "metadata": {},
     "output_type": "execute_result"
    }
   ],
   "source": [
    "m2.prolong(0).divisibleTrue(m2)"
   ]
  },
  {
   "cell_type": "code",
   "execution_count": 20,
   "metadata": {},
   "outputs": [
    {
     "data": {
      "text/plain": [
       "0"
      ]
     },
     "execution_count": 20,
     "metadata": {},
     "output_type": "execute_result"
    }
   ],
   "source": [
    "m2.nonmult(m2.prolong(0)**3)"
   ]
  },
  {
   "cell_type": "code",
   "execution_count": 21,
   "metadata": {},
   "outputs": [
    {
     "name": "stdout",
     "output_type": "stream",
     "text": [
      "[3 0 0 0 0 0], [2 1 0 0 0 0], [2 0 1 0 0 0], [2 0 0 1 0 0], [2 0 0 0 1 0], [2 0 0 0 0 1], [1 2 0 0 0 0], [1 1 1 0 0 0], [1 1 0 1 0 0], [1 1 0 0 1 0], [1 1 0 0 0 1], [1 0 2 0 0 0], [1 0 1 1 0 0], [1 0 1 0 1 0], [1 0 1 0 0 1], [1 0 0 2 0 0], [1 0 0 1 1 0], [1 0 0 1 0 1], [1 0 0 0 2 0], [1 0 0 0 1 1], [1 0 0 0 0 2], [0 3 0 0 0 0], [0 2 1 0 0 0], [0 2 0 1 0 0], [0 2 0 0 1 0], [0 2 0 0 0 1], [0 1 2 0 0 0], [0 1 1 1 0 0], [0 1 1 0 1 0], [0 1 1 0 0 1], [0 1 0 2 0 0], [0 1 0 1 1 0], [0 1 0 1 0 1], [0 1 0 0 2 0], [0 1 0 0 1 1], [0 1 0 0 0 2], [0 0 3 0 0 0], [0 0 2 1 0 0], [0 0 2 0 1 0], [0 0 2 0 0 1], [0 0 1 2 0 0], [0 0 1 1 1 0], [0 0 1 1 0 1], [0 0 1 0 2 0], [0 0 1 0 1 1], [0 0 1 0 0 2], [0 0 0 3 0 0], [0 0 0 2 1 0], [0 0 0 2 0 1], [0 0 0 1 2 0], [0 0 0 1 1 1], [0 0 0 1 0 2], [0 0 0 0 3 0], [0 0 0 0 2 1], [0 0 0 0 1 2], [0 0 0 0 0 3], \n"
     ]
    }
   ],
   "source": [
    "for m in Monom.gradus(3):\n",
    "    print(f\"{m!r}\", end=\", \")\n",
    "print()"
   ]
  },
  {
   "cell_type": "code",
   "execution_count": 22,
   "metadata": {},
   "outputs": [
    {
     "ename": "AssertionError",
     "evalue": "",
     "output_type": "error",
     "traceback": [
      "\u001b[0;31m---------------------------------------------------------------------------\u001b[0m",
      "\u001b[0;31mAssertionError\u001b[0m                            Traceback (most recent call last)",
      "\u001b[0;32m<ipython-input-22-a4997e498440>\u001b[0m in \u001b[0;36m<module>\u001b[0;34m()\u001b[0m\n\u001b[0;32m----> 1\u001b[0;31m \u001b[0;34m(\u001b[0m\u001b[0mm2\u001b[0m\u001b[0;34m.\u001b[0m\u001b[0mprolong\u001b[0m\u001b[0;34m(\u001b[0m\u001b[0;36m0\u001b[0m\u001b[0;34m)\u001b[0m\u001b[0;34m**\u001b[0m\u001b[0;36m3\u001b[0m\u001b[0;34m)\u001b[0m\u001b[0;34m.\u001b[0m\u001b[0mnonmult\u001b[0m\u001b[0;34m(\u001b[0m\u001b[0mm2\u001b[0m\u001b[0;34m)\u001b[0m\u001b[0;34m\u001b[0m\u001b[0;34m\u001b[0m\u001b[0m\n\u001b[0m",
      "\u001b[0;32m/home/user/users/blinkov/Work/2024/Jupiter/pyginv/monom.py\u001b[0m in \u001b[0;36mnonmult\u001b[0;34m(self, other)\u001b[0m\n\u001b[1;32m    217\u001b[0m       \u001b[0;32mif\u001b[0m \u001b[0mself\u001b[0m\u001b[0;34m[\u001b[0m\u001b[0mi\u001b[0m\u001b[0;34m]\u001b[0m \u001b[0;34m<\u001b[0m \u001b[0mother\u001b[0m\u001b[0;34m[\u001b[0m\u001b[0mi\u001b[0m\u001b[0;34m]\u001b[0m\u001b[0;34m:\u001b[0m\u001b[0;34m\u001b[0m\u001b[0;34m\u001b[0m\u001b[0m\n\u001b[1;32m    218\u001b[0m         \u001b[0;32mreturn\u001b[0m \u001b[0mi\u001b[0m\u001b[0;34m\u001b[0m\u001b[0;34m\u001b[0m\u001b[0m\n\u001b[0;32m--> 219\u001b[0;31m     \u001b[0;32massert\u001b[0m \u001b[0;32mFalse\u001b[0m\u001b[0;34m\u001b[0m\u001b[0;34m\u001b[0m\u001b[0m\n\u001b[0m\u001b[1;32m    220\u001b[0m \u001b[0;34m\u001b[0m\u001b[0m\n\u001b[1;32m    221\u001b[0m   \u001b[0;34m@\u001b[0m\u001b[0mstaticmethod\u001b[0m\u001b[0;34m\u001b[0m\u001b[0;34m\u001b[0m\u001b[0m\n",
      "\u001b[0;31mAssertionError\u001b[0m: "
     ]
    }
   ],
   "source": [
    "(m2.prolong(0)**3).nonmult(m2)"
   ]
  },
  {
   "cell_type": "code",
   "execution_count": 23,
   "metadata": {},
   "outputs": [
    {
     "ename": "AssertionError",
     "evalue": "",
     "output_type": "error",
     "traceback": [
      "\u001b[0;31m---------------------------------------------------------------------------\u001b[0m",
      "\u001b[0;31mAssertionError\u001b[0m                            Traceback (most recent call last)",
      "\u001b[0;32m<ipython-input-23-25dfc6dba8c6>\u001b[0m in \u001b[0;36m<module>\u001b[0;34m()\u001b[0m\n\u001b[0;32m----> 1\u001b[0;31m \u001b[0mm2\u001b[0m\u001b[0;34m.\u001b[0m\u001b[0mprolong\u001b[0m\u001b[0;34m(\u001b[0m\u001b[0;36m2\u001b[0m\u001b[0;34m)\u001b[0m\u001b[0;34m.\u001b[0m\u001b[0mnonmult\u001b[0m\u001b[0;34m(\u001b[0m\u001b[0mm1\u001b[0m\u001b[0;34m)\u001b[0m\u001b[0;34m\u001b[0m\u001b[0;34m\u001b[0m\u001b[0m\n\u001b[0m",
      "\u001b[0;32m/home/user/users/blinkov/Work/2024/Jupiter/pyginv/monom.py\u001b[0m in \u001b[0;36mnonmult\u001b[0;34m(self, other)\u001b[0m\n\u001b[1;32m    213\u001b[0m \u001b[0;34m\u001b[0m\u001b[0m\n\u001b[1;32m    214\u001b[0m   \u001b[0;32mdef\u001b[0m \u001b[0mnonmult\u001b[0m\u001b[0;34m(\u001b[0m\u001b[0mself\u001b[0m\u001b[0;34m,\u001b[0m \u001b[0mother\u001b[0m\u001b[0;34m)\u001b[0m\u001b[0;34m:\u001b[0m\u001b[0;34m\u001b[0m\u001b[0;34m\u001b[0m\u001b[0m\n\u001b[0;32m--> 215\u001b[0;31m     \u001b[0;32massert\u001b[0m \u001b[0mself\u001b[0m\u001b[0;34m.\u001b[0m\u001b[0m__pos\u001b[0m \u001b[0;34m==\u001b[0m \u001b[0mother\u001b[0m\u001b[0;34m.\u001b[0m\u001b[0m__pos\u001b[0m\u001b[0;34m\u001b[0m\u001b[0;34m\u001b[0m\u001b[0m\n\u001b[0m\u001b[1;32m    216\u001b[0m     \u001b[0;32mfor\u001b[0m \u001b[0mi\u001b[0m \u001b[0;32min\u001b[0m \u001b[0mrange\u001b[0m\u001b[0;34m(\u001b[0m\u001b[0mlen\u001b[0m\u001b[0;34m(\u001b[0m\u001b[0mself\u001b[0m\u001b[0;34m)\u001b[0m\u001b[0;34m)\u001b[0m\u001b[0;34m:\u001b[0m\u001b[0;34m\u001b[0m\u001b[0;34m\u001b[0m\u001b[0m\n\u001b[1;32m    217\u001b[0m       \u001b[0;32mif\u001b[0m \u001b[0mself\u001b[0m\u001b[0;34m[\u001b[0m\u001b[0mi\u001b[0m\u001b[0;34m]\u001b[0m \u001b[0;34m<\u001b[0m \u001b[0mother\u001b[0m\u001b[0;34m[\u001b[0m\u001b[0mi\u001b[0m\u001b[0;34m]\u001b[0m\u001b[0;34m:\u001b[0m\u001b[0;34m\u001b[0m\u001b[0;34m\u001b[0m\u001b[0m\n",
      "\u001b[0;31mAssertionError\u001b[0m: "
     ]
    }
   ],
   "source": [
    "m2.prolong(2).nonmult(m1)"
   ]
  },
  {
   "cell_type": "code",
   "execution_count": null,
   "metadata": {},
   "outputs": [],
   "source": []
  }
 ],
 "metadata": {
  "kernelspec": {
   "display_name": "Python 3",
   "language": "python",
   "name": "python3"
  },
  "language_info": {
   "codemirror_mode": {
    "name": "ipython",
    "version": 3
   },
   "file_extension": ".py",
   "mimetype": "text/x-python",
   "name": "python",
   "nbconvert_exporter": "python",
   "pygments_lexer": "ipython3",
   "version": "3.7.3"
  }
 },
 "nbformat": 4,
 "nbformat_minor": 2
}
