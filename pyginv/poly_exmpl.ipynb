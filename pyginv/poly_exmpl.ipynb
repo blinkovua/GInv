{
 "cells": [
  {
   "cell_type": "code",
   "execution_count": 1,
   "metadata": {},
   "outputs": [],
   "source": [
    "from IPython.display import display, Image\n",
    "from pprint import pprint\n",
    "import json\n",
    "\n",
    "from ginv import *\n",
    "sympy.init_printing()"
   ]
  },
  {
   "cell_type": "markdown",
   "metadata": {},
   "source": [
    "The database of polynomial systems.\n",
    "\n",
    "The demonstration database is an essential part of PHCpack\n",
    "\n",
    "http://homepages.math.uic.edu/~jan/"
   ]
  },
  {
   "cell_type": "code",
   "execution_count": 2,
   "metadata": {},
   "outputs": [],
   "source": [
    "with open('poly_exmpl.json', 'r') as f:\n",
    "      poly_exmpl = json.loads(f.read())"
   ]
  },
  {
   "cell_type": "code",
   "execution_count": 3,
   "metadata": {},
   "outputs": [
    {
     "data": {
      "text/plain": [
       "'Popov19 Popov20 Popov21 Popov23 Popov24 Popov25 assur44 aubry2 augot benchmark_D1 benchmark_i1 boon butcher butcher8 butemb3 camera1s caprasse cassou chandra4 chandra5 chandra6 chemequ chemequs chemkin cohn2 cohn3 comb3000 comb3000s conform1 cpdm5 cyc8emb1 cyclic10 cyclic11 cyclic5 cyclic6 cyclic7 cyclic8 cyclic9 d1 des18_3 des22_24 dessin1 dessin2 discret3 discret3s dl ducos10 ducos7_3 ducos7_5 ducos8 eco10 eco11 eco12 eco5 eco6 eco7 eco8 eco9 el44 el50 extcyc4 extcyc5 extcyc6 extcyc7 extcyc8 f633 f744 f855 f966 fabrice24 fbremb2 fbrfive12 fbrfive4 filter9 fourbar game4two game5two game6two game7two gaukwa2 gaukwa3 gaukwa4 geneig hairer1 hairer2 hairer3 hairer4 hawes4 hcyclic5 hcyclic6 hcyclic7 hcyclic8 heart hemmecke hf744 hf855 hietarinta1 hunecke i1 ilias12 ilias13 ilias_k_2 ilias_k_3 ipp ipp2 issac97 jcf26 katsura10 katsura5 katsura6 katsura7 katsura8 katsura9 kin1 kinema kotsireas ku10 lanconelli lichtblau liu lorentz lumped matrix mckay mckay.gls50mod mickey morgenstern noon3 noon4 noon5 noon6 noon7 noon8 noon9 pb601 pb601es pb601vs pinchon1 pltp34sys pole27sys pole28sys pole34sys pole43sys proddeco puma quadfor2 quadgrid rabmo rbpl rbpl24 rbpl24es rbpl24s rcyc8emb1 rcyc9emb2 redcyc5 redcyc6 redcyc7 redcyc8 redeco10 redeco11 redeco12 redeco5 redeco6 redeco7 redeco8 redeco9 rediff3 reif reimer4 reimer5 reimer6 reimer7 reimer8 robspat rose rps10 s9_1 sendra solotarev sparse5 speer stewgou40 tangents tangents0 tangents1 tangents2 test trinks utbikker uteshev_bikker vermeer vernov1 virasoro wang16 wood wright'"
      ]
     },
     "execution_count": 3,
     "metadata": {},
     "output_type": "execute_result"
    }
   ],
   "source": [
    "\" \".join(sorted(poly_exmpl.keys()))"
   ]
  },
  {
   "cell_type": "code",
   "execution_count": 4,
   "metadata": {},
   "outputs": [
    {
     "data": {
      "text/plain": [
       "'caprasse cassou chandra4 chandra5 chemequ chemequs cohn2 cohn3 conform1 cpdm5 cyclic5 eco5 extcyc4 fbrfive4 fourbar game4two game5two gaukwa2 hcyclic5 hemmecke issac97 lanconelli lichtblau liu lorentz lumped mickey morgenstern noon3 noon4 noon5 pb601 pb601es pb601vs proddeco quadfor2 quadgrid redcyc5 redeco5 rediff3 reimer4 reimer5 rose sendra solotarev sparse5 speer test utbikker uteshev_bikker vermeer vernov1 wang16 wood wright'"
      ]
     },
     "execution_count": 4,
     "metadata": {},
     "output_type": "execute_result"
    }
   ],
   "source": [
    "\" \".join(sorted(k for k, v in poly_exmpl.items()\\\n",
    "    if len(v['eqs']) < 6))"
   ]
  },
  {
   "cell_type": "code",
   "execution_count": 5,
   "metadata": {},
   "outputs": [
    {
     "data": {
      "text/plain": [
       "'Popov19 Popov20 assur44 aubry2 augot benchmark_i1 butcher butcher8 butemb3 chemkin comb3000 comb3000s cyc8emb1 cyclic10 cyclic11 cyclic7 cyclic8 cyclic9 des18_3 des22_24 dessin1 dessin2 discret3 discret3s dl ducos10 ducos7_3 ducos7_5 ducos8 eco10 eco11 eco7 eco8 eco9 el44 el50 extcyc6 extcyc7 extcyc8 f633 fabrice24 fbremb2 filter9 game7two gaukwa3 gaukwa4 hairer1 hawes4 hcyclic6 hcyclic7 hcyclic8 heart hietarinta1 i1 ilias12 ilias13 ilias_k_2 ilias_k_3 ipp katsura10 katsura6 katsura7 katsura8 katsura9 kinema kotsireas ku10 lanconelli morgenstern noon7 noon8 noon9 puma rabmo rbpl24 rbpl24es rbpl24s rcyc8emb1 redcyc7 redcyc8 redeco10 redeco11 redeco7 redeco8 redeco9 reimer7 reimer8 robspat rps10 s9_1 stewgou40 virasoro'"
      ]
     },
     "execution_count": 5,
     "metadata": {},
     "output_type": "execute_result"
    }
   ],
   "source": [
    "\" \".join(sorted(k for k, v in poly_exmpl.items()\\\n",
    "    if 7 <= len(v['var']) < 12))"
   ]
  },
  {
   "cell_type": "code",
   "execution_count": 6,
   "metadata": {},
   "outputs": [
    {
     "name": "stdout",
     "output_type": "stream",
     "text": [
      "z0, z1, z2, z3, z4, z5, z6\n"
     ]
    },
    {
     "data": {
      "text/plain": [
       "{'key': ['cyclic n-roots', 'related'],\n",
       " 'var': ['z0', 'z1', 'z2', 'z3', 'z4', 'z5', 'z6'],\n",
       " 'eqs': ['z0 + z1 + z2 + z3 + z4 + z5 + z6',\n",
       "  'z0*z1 + z1*z2 + z2*z3 + z3*z4 + z4*z5 + z5*z6 + z6*z0',\n",
       "  'z0*z1*z2 + z1*z2*z3 + z2*z3*z4 + z3*z4*z5 + z4*z5*z6 + z5*z6*z0 + z6*z0*z1',\n",
       "  'z0*z1*z2*z3 + z1*z2*z3*z4 + z2*z3*z4*z5 + z3*z4*z5*z6 + z4*z5*z6*z0+ z5*z6*z0*z1 + z6*z0*z1*z2',\n",
       "  'z0*z1*z2*z3*z4 + z1*z2*z3*z4*z5 + z2*z3*z4*z5*z6 + z3*z4*z5*z6*z0 + z4*z5*z6*z0*z1 + z5*z6*z0*z1*z2 + z6*z0*z1*z2*z3',\n",
       "  'z0*z1*z2*z3*z4*z5 + z1*z2*z3*z4*z5*z6 + z2*z3*z4*z5*z6*z0 + z3*z4*z5*z6*z0*z1+ z4*z5*z6*z0*z1*z2 + z5*z6*z0*z1*z2*z3 + z6*z0*z1*z2*z3*z4',\n",
       "  'z0*z1*z2*z3*z4*z5*z6 - 1'],\n",
       " 'TITLE': 'cyclic 7-roots problem',\n",
       " 'ROOT': 'total degree : 7! = 5040\\n\\nbound based on set structure analysis : 3960\\n with set structure\\n\\t{z0 z1 z2 z3 z4 z5 z6 }\\n\\t{z0 z2 z4 }{z1 z3 z5 }{z6 }\\n\\t{z0 z3 }{z1 z4 }{z2 z5 }{z6 }\\n\\t{z0 }{z1 }{z2 }{z3 }{z4 }{z5 }{z6 }\\n\\t{z0 }{z1 }{z2 }{z3 }{z4 }{z5 }{z6 }\\n\\t{z0 }{z1 }{z2 }{z3 }{z4 }{z5 }{z6 }\\n\\t{z0 }{z1 }{z2 }{z3 }{z4 }{z5 }{z6 }\\n\\nmixed volume : 924 = 132*7 = 66*14',\n",
       " 'REFERENCE': 'Bj\\\\\"orck, G. and Fr\\\\\"oberg, R.:\\n`A faster way to count the solutions of inhomogeneous systems\\n of algebraic equations, with applications to cyclic n-roots\\',\\nin J. Symbolic Computation (1991) 12, pp 329-336.\\n\\nBackelin, J. and Fr\\\\\"oberg, R.:\\n`How we proved that there are exactly 924 cyclic 7-roots\\' ,\\nProceedings of ISSAC-91, pp 103-111, ACM, New York, 1991.\\n\\nBj\\\\\"orck, G: `Functions of modulus one on Z_p whose Fourier transforms\\nhave constant modulus\\'.\\nProceedings of the Alfred Haar Memorial Conference, Budapest,\\nColloquia Mathematica Societatis J\\\\\\'anos Bolyai 49, pp 193-197, 1985.\\n\\nBj\\\\\"orck, G: `Functions of modulus one on Z_n whose Fourier transforms\\nhave constant modulus, and \"cyclic n-roots\"\\'.\\nRecent Advances in Fourier Analysis and its Applications.\\n(J.S. Byrnes and J.F. Byrnes, eds) NATO Adv. Sci. Inst. Ser. C:\\nMath. Phys. Sci. 315, 131-140, Kluwer, 1989.\\n\\nDavenport, J: `Looking at a set of equations\\'.\\nBath Computer Science Technical Report 87-06, 1987.',\n",
       " 'DESCRIPTION': 'This example stems from the problem of finding all \"bi-equimodular\"\\nvectors x in C^n, i.e.: all x with coordinates of constant absolute\\nvalue such that the Fourier transform of x is a vector with coordinates\\nof constant absolute value.',\n",
       " 'SYMMETRY': 'z3 z2 z1 z0 z6 z5 z4\\n z5 z6 z0 z1 z2 z3 z4\\n z4 z5 z6 z0 z1 z2 z3\\n z2 z1 z0 z6 z5 z4 z3\\n z4 z3 z2 z1 z0 z6 z5\\n z6 z0 z1 z2 z3 z4 z5\\n z3 z4 z5 z6 z0 z1 z2\\n z1 z0 z6 z5 z4 z3 z2\\n z5 z4 z3 z2 z1 z0 z6\\n z0 z1 z2 z3 z4 z5 z6\\n z2 z3 z4 z5 z6 z0 z1\\n z0 z6 z5 z4 z3 z2 z1\\n z1 z2 z3 z4 z5 z6 z0\\n z6 z5 z4 z3 z2 z1 z0\\n\\nThe orbits of solutions :  0 0 294 0 0 0 630',\n",
       " 'HP': '924'}"
      ]
     },
     "execution_count": 6,
     "metadata": {},
     "output_type": "execute_result"
    }
   ],
   "source": [
    "ex = poly_exmpl['cyclic7']\n",
    "print(\", \".join(ex['var']))\n",
    "ex"
   ]
  },
  {
   "cell_type": "code",
   "execution_count": 7,
   "metadata": {
    "scrolled": true
   },
   "outputs": [
    {
     "name": "stdout",
     "output_type": "stream",
     "text": [
      "prolong 0, Q 1\n",
      "z0\n",
      "prolong 0, Q 2\n",
      "z1**2\n",
      "prolong 2, Q 3\n",
      "z1*z2**2\n",
      "prolong 3, Q 4\n",
      "z1*z2*z3**2, z2**3*z3\n",
      "prolong 4, Q 5\n",
      "z1*z2*z3*z4**2, z2**2*z3**3, z2**2*z3**2*z4\n",
      "prolong 5, Q 6\n",
      "z1*z2*z3*z4*z5**2, z2*z3**2*z4**3, z2*z3**3*z4**2, z2*z3**3*z4*z5, z2**2*z3*z4**2*z5, z1*z3**2*z4**2*z5, z2*z3**4*z4\n",
      "prolong 6, Q 7\n",
      "z1*z2*z3*z4*z5*z6**2, z2*z3*z4**2*z5**3, z2*z3**2*z4**2*z5**2, z2*z3**2*z4**2*z5*z6, z3**3*z4**2*z5**2, z2*z3*z4**3*z5**2, z3**3*z4**2*z5*z6, z2*z3*z4**4*z5, z2**3*z4**2*z5**2, z3**2*z4**4*z5, z3**3*z4**3*z5, z1*z2*z4**3*z5**2, z3**4*z4**2*z5\n",
      "prolong 7, Q 0\n",
      "z2**2*z3*z4*z5**2*z6**2, z1*z2*z4**3*z5*z6**2, z2*z3*z4**3*z5*z6**2, z3**2*z4**3*z5*z6**2, z1*z3**2*z4*z5**2*z6**2, z1*z3*z4**3*z5**2*z6, z3**2*z4**3*z5**2*z6, z1*z3**3*z4**2*z6**2, z2**2*z4**3*z5**2*z6, z2**2*z3*z4*z5**3*z6, z3*z4**4*z5**2*z6, z1*z3**3*z4*z5**2*z6, z1*z2*z4**4*z5*z6, z1*z3**2*z4*z5**3*z6, z1*z2*z4**2*z5**3*z6, z1*z3*z4**4*z5*z6, z2*z3**2*z4*z5**3*z6, z3**2*z4**2*z5**4, z2**2*z3*z4*z5**4, z3**3*z4*z5**3*z6, z2*z3**2*z4*z5**4, z3**2*z4**3*z5**3, z2**2*z3*z4**4*z6, z1*z3**3*z4*z5**3\n",
      "prolong 6, Q 0\n",
      "z2**2*z3*z4**3*z5\n",
      "prolong 7, Q 7\n",
      "z1*z3**3*z4**2*z5\n",
      "prolong 7, Q 0\n",
      "z1*z2*z4**4*z5**2\n",
      "prolong 8, Q 8\n",
      "z2**2*z3*z4**4*z5\n",
      "prolong 8, Q 8\n",
      "prolong 8, Q 0\n",
      "z1*z3*z4**2*z5**3*z6**2, z2**2*z4**2*z5**3*z6**2, z3**2*z4**2*z5**3*z6**2, z1*z4**3*z5**3*z6**2, z3*z4**3*z5**3*z6**2, z1*z3*z4*z5**4*z6**2, z2*z3*z4*z5**4*z6**2, z3*z4**2*z5**4*z6**2, z3**4*z4**2*z6**3, z2**2*z3*z4**3*z6**3, z1*z3**2*z4**3*z6**3, z3**3*z4**3*z6**3, z2*z3*z4**4*z6**3, z3**2*z4**4*z6**3, z2**3*z4*z5**3*z6**2, z2*z3**4*z5**2*z6**2, z1*z3**2*z4**4*z6**2, z2**2*z4**2*z5**4*z6, z1*z3*z4**2*z5**4*z6, z1*z4**3*z5**4*z6, z3*z4**3*z5**4*z6, z1*z2*z4*z5**5*z6, z1*z3*z4*z5**5*z6, z2*z3*z4*z5**5*z6, z1*z4**4*z5**2*z6**2, z3**4*z4**3*z6**2, z3**3*z4**4*z6**2, z3*z4**2*z5**5*z6, z2*z3*z4**5*z6**2, z2*z3**5*z5*z6**2, z2**5*z4*z5*z6**2, z1*z3**4*z4*z5*z6**2, z2**4*z4**2*z5*z6**2, z2**4*z4*z5**2*z6**2, z2*z4**4*z5**2*z6**2, z3**5*z4**2*z6**2, z1*z4**4*z5**3*z6, z3**2*z4**5*z6**2, z3**4*z4*z5**3*z6, z2**4*z4**3*z5*z6\n",
      "prolong 4, Q 0\n",
      "z2**4*z3\n",
      "prolong 5, Q 0\n",
      "z2**5*z3\n",
      "prolong 6, Q 6\n",
      "prolong 6, Q 0\n",
      "z1*z3**2*z4**3*z5\n",
      "prolong 7, Q 7\n",
      "z2*z3**5*z4\n",
      "prolong 7, Q 7\n",
      "prolong 7, Q 0\n",
      "z2**4*z4**2*z5**2\n",
      "prolong 8, Q 8\n",
      "z3**2*z4**5*z5\n",
      "prolong 8, Q 8\n",
      "z2*z3*z4**5*z5\n",
      "prolong 8, Q 8\n",
      "z3**3*z4**4*z5\n",
      "prolong 8, Q 8\n",
      "z1*z3**2*z4**4*z5\n",
      "prolong 8, Q 8\n",
      "z3**4*z4**3*z5\n",
      "prolong 8, Q 8\n",
      "z3**5*z4**2*z5\n",
      "prolong 8, Q 8\n",
      "z1*z3**4*z4**2*z5\n",
      "prolong 8, Q 8\n",
      "prolong 8, Q 0\n",
      "z1*z3**4*z4**2*z6**2\n",
      "prolong 9, Q 9\n",
      "z1*z3**4*z4*z5**2*z6\n",
      "prolong 9, Q 9\n",
      "z1*z3**4*z4*z5**3\n",
      "prolong 9, Q 9\n",
      "z2**4*z4**3*z5**2\n",
      "prolong 9, Q 9\n",
      "z2**5*z4**2*z5**2\n",
      "prolong 9, Q 9\n",
      "prolong 9, Q 0\n",
      "z2**2*z3**2*z5**3*z6**3, z2*z4**3*z5**3*z6**3, z4**4*z5**3*z6**3, z1*z2*z3*z5**4*z6**3, z2**2*z3*z5**4*z6**3, z1*z2*z4*z5**4*z6**3, z2**2*z4*z5**4*z6**3, z3**2*z4*z5**4*z6**3, z1*z4**2*z5**4*z6**3, z4**3*z5**4*z6**3, z1*z3**3*z5**3*z6**3, z2*z3**3*z5**3*z6**3, z2*z4**2*z5**4*z6**3, z2*z3**2*z5**4*z6**3, z1*z2*z5**5*z6**3, z2**4*z4*z5*z6**4, z1*z3**3*z4*z5*z6**4, z2*z3**4*z5*z6**4, z1*z3*z4**3*z5*z6**4, z2**2*z3**2*z5**2*z6**4, z1*z4*z5**5*z6**3, z2**4*z5**3*z6**3, z2**3*z5**4*z6**3, z2**4*z4**2*z6**4, z2**3*z4**2*z5*z6**4, z2**2*z4**3*z5*z6**4, z2**4*z5**2*z6**4, z1*z3**3*z5**2*z6**4, z2*z3**3*z5**2*z6**4, z2**3*z4*z5**2*z6**4, z2**2*z3**2*z5**4*z6**2, z2*z4**3*z5**4*z6**2, z4**4*z5**4*z6**2, z1*z3**3*z5**4*z6**2, z2*z3**3*z5**4*z6**2, z2**4*z5**4*z6**2, z1*z2*z3*z5**5*z6**2, z2**2*z3*z5**5*z6**2, z2**2*z4*z5**5*z6**2, z3**2*z4*z5**5*z6**2, z1*z4**2*z5**5*z6**2, z2*z4**2*z5**5*z6**2, z4**3*z5**5*z6**2, z3**4*z4*z5**2*z6**3, z2*z3**2*z4*z5**2*z6**4, z2**3*z5**5*z6**2, z4**5*z5**3*z6**2, z2**4*z4**3*z6**3, z2**5*z4**2*z6**3, z1*z3**4*z5**3*z6**2, z2*z3**2*z5**5*z6**2, z2**5*z5**3*z6**2, z2**5*z4**2*z5*z6**2, z3**5*z4*z5**3*z6, z2**5*z4**3*z5*z6\n",
      "prolong 9, Q 0\n",
      "z2**5*z4**3*z5**2\n",
      "prolong 10, Q 0\n",
      "z2**2*z3**2\n",
      "prolong 4, Q 5\n",
      "z1*z3**2*z4**2, z2*z3**4, z2*z3**3*z4, z2**2*z3*z4**2\n",
      "prolong 5, Q 6\n",
      "z2*z3**2*z4**2*z5, z3**3*z4**2*z5, z1*z3*z4**3*z5, z1*z3*z4**4, z1*z2*z4**3*z5, z2*z3*z4**4, z3**3*z4**3, z2*z3*z4**3*z5, z1*z3**3*z4**2\n",
      "prolong 6, Q 7\n",
      "z3*z4**4*z5*z6, z3**2*z4**3*z5*z6, z3**2*z4**3*z5**2, z3*z4**4*z5**2, z2*z3**3*z5**3, z2**2*z4**3*z5**2, z2**3*z4*z5**3, z2**2*z3*z4*z5**3, z2**3*z4**2*z5*z6, z1*z2*z4**2*z5**3, z3*z4**5*z5, z1*z3**2*z4*z5**3, z2**2*z3*z4*z5**2*z6, z1*z3**3*z4*z5**2, z1*z2*z4**4*z5, z2**4*z4**2*z5, z3**4*z4**3, z1*z3**4*z4**2\n",
      "prolong 7, Q 8\n",
      "z2*z3**2*z4*z5**2*z6**2, z2*z3**3*z5**2*z6**2, z1*z2*z4**2*z5**2*z6**2, z1*z3*z4**2*z5**2*z6**2, z2**2*z4**2*z5**3*z6, z1*z3*z4**2*z5**3*z6, z3**2*z4**2*z5**3*z6, z1*z4**3*z5**3*z6, z2*z4**3*z5**3*z6, z3*z4**3*z5**3*z6, z2**4*z4**2*z6**2, z1*z2*z3*z5**4*z6, z1*z3**3*z4*z5*z6**2, z1*z3**4*z4*z6**2, z2**2*z4**2*z5**4, z3**3*z4*z5**4, z1*z3*z4**2*z5**4, z1*z4**4*z5**3, z2*z4**4*z5**3, z3**4*z4*z5**3, z2**4*z4*z5**3, z1*z3**4*z4*z5**2, z2**4*z4**3*z5, z2**5*z4**2*z5, z3**5*z4**3\n",
      "prolong 8, Q 9\n",
      "z2**4*z4*z5*z6**3, z2**2*z4**3*z5*z6**3, z3*z4**5*z6**3, z1*z3**4*z5*z6**3, z1*z3**3*z5**2*z6**3, z1*z2*z4*z5**4*z6**2, z2**3*z4*z5**2*z6**3, z3**2*z4*z5**4*z6**2, z3**3*z4*z5**2*z6**3, z1*z3**3*z5**3*z6**2, z2**4*z5**3*z6**2, z2**3*z5**4*z6**2, z3**4*z4*z5**2*z6**2, z1*z3**4*z5**2*z6**2, z4**4*z5**3*z6**2, z2**2*z4**4*z5*z6**2, z3*z4**6*z6**2, z3**4*z5**3*z6**2, z2**4*z4**3*z6**2, z2**5*z4**2*z6**2, z3**2*z4*z5**5*z6, z1*z2*z3*z5**5*z6, z2*z4**3*z5**4*z6, z4**4*z5**4*z6, z1*z4**2*z5**5*z6, z1*z3**5*z5*z6**2, z4**5*z5**4, z3**5*z4*z5**3, z2**5*z4*z5**3, z2**5*z4**3*z5\n",
      "prolong 7, Q 10\n",
      "z2**2*z4**4*z5**2\n",
      "prolong 8, Q 8\n",
      "z3*z4**6*z5\n",
      "prolong 8, Q 8\n",
      "z1*z3**5*z4**2\n",
      "prolong 8, Q 10\n",
      "z1*z3**5*z4*z6**2\n",
      "prolong 9, Q 9\n",
      "z1*z3**5*z4*z5**2\n",
      "prolong 9, Q 9\n",
      "z2**2*z4**2*z5**2*z6**4, z2*z3*z4**2*z5**2*z6**4, z3**2*z4**2*z5**2*z6**4, z1*z4**3*z5**2*z6**4, z2*z4**3*z5**2*z6**4, z3*z4**3*z5**2*z6**4, z2**3*z5**3*z6**4, z1*z2*z3*z5**3*z6**4, z2**2*z3*z5**3*z6**4, z1*z3**2*z5**3*z6**4, z2*z3**2*z5**3*z6**4, z3**3*z5**3*z6**4, z3*z4*z5**5*z6**3, z4**2*z5**5*z6**3, z2*z4*z5**5*z6**3, z1*z2*z4*z5**3*z6**4, z4*z5**6*z6**3, z2**2*z5**5*z6**3, z1*z3**2*z5**4*z6**3, z2*z3*z5**5*z6**3, z2**2*z4*z5**3*z6**4, z1*z3*z4*z5**3*z6**4, z3**3*z5**4*z6**3, z2**5*z4*z6**4, z2**3*z4**3*z6**4, z3*z4*z5**6*z6**2, z4**2*z5**6*z6**2, z2*z4*z5**6*z6**2, z1*z4*z5**6*z6**2, z1*z2*z5**6*z6**2, z2**5*z4*z5**2*z6**2, z1*z3**5*z4*z5*z6**2, z2**5*z4**3*z6**2, z1*z3**2*z5**5*z6**2\n",
      "prolong 7, Q 11\n",
      "z2**3*z4**3*z5*z6\n",
      "prolong 8, Q 8\n",
      "z2**3*z4**3*z5**2\n",
      "prolong 8, Q 11\n",
      "z3**2*z4**3*z6**6\n",
      "prolong 9, Q 11\n",
      "z2**2*z5**6*z6**2, z2*z3*z5**6*z6**2, z2**5*z5**2*z6**3, z3**5*z5**3*z6**2, z3**5*z4*z5**2*z6**2\n",
      "prolong 10, Q 11\n",
      "z2*z3*z4**3*z6**6\n",
      "prolong 11, Q 11\n",
      "z1*z2*z4**3*z6**6\n",
      "prolong 11, Q 11\n",
      "z3**3*z4**2*z6**6\n",
      "prolong 11, Q 11\n",
      "z2*z3**2*z4**2*z6**6\n",
      "prolong 11, Q 11\n",
      "z1*z3*z4**3*z6**6, z3*z4**4*z6**6, z2**3*z4**2*z6**6, z2*z3**3*z5*z6**6, z2**4*z4*z6**6, z4**2*z5**4*z6**5, z3*z4*z5**4*z6**5, z1*z4*z5**4*z6**5, z1*z3*z5**4*z6**5, z2**2*z5**4*z6**5, z1*z2*z5**4*z6**5, z4**3*z5**3*z6**5, z3*z4**2*z5**3*z6**5, z2*z4**2*z5**3*z6**5, z1*z4**2*z5**3*z6**5, z3**2*z4*z5**3*z6**5, z2*z3*z4*z5**3*z6**5, z2*z3*z5**4*z6**5, z3**2*z5**4*z6**5, z2*z4*z5**4*z6**5, z4*z5**5*z6**5, z1*z3**3*z4*z6**6, z2**4*z5*z6**6, z1*z3**3*z5*z6**6, z2**3*z4*z5*z6**6, z2**2*z3*z4*z5*z6**6, z1*z3**2*z4*z5*z6**6, z4**4*z5**2*z6**5, z2*z3**2*z4*z5*z6**6, z3**3*z4*z5*z6**6, z1*z2*z4**2*z5*z6**6, z2**2*z4**2*z5*z6**6, z1*z3*z4**2*z5*z6**6, z2*z3*z4**2*z5*z6**6, z3**2*z4**2*z5*z6**6, z1*z4**3*z5*z6**6, z3*z4**3*z5*z6**6, z3**4*z4*z5*z6**5, z1*z2*z4**4*z6**5, z1*z4**4*z5*z6**5, z2**3*z5**2*z6**6, z3**4*z5**2*z6**5, z3**4*z4*z6**6, z2**2*z4**3*z6**6, z1*z2*z3*z5**2*z6**6, z1*z4**4*z6**6, z2**2*z3*z5**2*z6**6, z2**5*z5*z6**5, z1*z3*z5**5*z6**4, z1*z5**5*z6**5, z1*z3**4*z6**6, z3**2*z5**5*z6**4, z4**5*z5**2*z6**4, z1*z3**2*z5**2*z6**6, z1*z4**5*z5*z6**4, z3**5*z4*z5*z6**4, z3**5*z5**2*z6**4, z1*z2*z4**5*z6**4, z2**5*z6**6, z1*z3*z5**6*z6**3\n",
      "prolong 7, Q 0\n",
      "z1*z2*z4**5*z5\n",
      "prolong 8, Q 0\n",
      "z1*z4**5*z5**3\n",
      "prolong 9, Q 9\n",
      "prolong 9, Q 0\n",
      "z1*z4**5*z5**2*z6**2\n",
      "prolong 10, Q 10\n",
      "prolong 10, Q 0\n",
      "prolong 11, Q 0\n",
      "z2**4*z4, z1*z3**3*z4, z3**4*z4, z2**3*z4**2, z2*z3**2*z4**2, z3**3*z4**2, z1*z2*z4**3, z1*z3*z4**3, z2*z3*z4**3, z3**2*z4**3, z3*z4**4, z1*z3**4, z3**5, z2**2*z4**3, z1*z4**4, z2*z4**4, z1*z3**3*z5, z2*z3**3*z5, z3**4*z5, z2**3*z4*z5, z1*z2*z3*z4*z5, z2**2*z3*z4*z5, z1*z3**2*z4*z5, z4**5, z2*z3**2*z4*z5, z2**5, z2**4*z5, z3**3*z4*z5, z1*z2*z4**2*z5, z2**2*z4**2*z5, z1*z3*z4**2*z5\n"
     ]
    },
    {
     "name": "stdout",
     "output_type": "stream",
     "text": [
      "prolong 5, Q 6\n",
      "z2*z3*z4**2*z5**2, z3**2*z4**2*z5**2, z1*z4**3*z5**2, z2*z4**3*z5**2, z3*z4**3*z5**2, z4**4*z5**2, z2**3*z5**3, z1*z2*z3*z5**3, z2**2*z3*z5**3, z1*z3**2*z5**3, z2*z3**2*z5**3, z3**3*z5**3, z1*z2*z4*z5**3, z2**2*z4*z5**3, z1*z3*z4*z5**3, z2*z3*z4*z5**3, z3**2*z4*z5**3, z1*z4**2*z5**3, z2*z4**2*z5**3, z3*z4**2*z5**3, z4**3*z5**3, z1*z2*z5**4, z2**2*z5**4, z1*z3*z5**4, z2*z3*z5**4, z3**2*z5**4, z1*z4*z5**4, z2*z4*z5**4, z3*z4*z5**4, z4**2*z5**4, z1*z5**5, z2*z5**5, z3*z5**5, z4*z5**5, z5**6\n",
      "prolong 6, Q 7\n",
      "z2*z3*z4**2*z5*z6**2\n",
      "prolong 7, Q 8\n",
      "z3**2*z4**2*z5*z6**3, z1*z4**3*z5*z6**3, z2*z4**3*z5*z6**3, z3*z4**3*z5*z6**3, z4**4*z5*z6**3\n",
      "prolong 8, Q 9\n",
      "z2**3*z5**2*z6**4, z1*z2*z3*z5**2*z6**4, z2**2*z3*z5**2*z6**4, z1*z3**2*z5**2*z6**4, z2*z3**2*z5**2*z6**4, z3**3*z5**2*z6**4, z1*z2*z4*z5**2*z6**4, z2**2*z4*z5**2*z6**4, z1*z3*z4*z5**2*z6**4, z2*z3*z4*z5**2*z6**4, z3**2*z4*z5**2*z6**4, z1*z4**2*z5**2*z6**4, z2*z4**2*z5**2*z6**4, z3*z4**2*z5**2*z6**4\n",
      "prolong 9, Q 10\n",
      "z4**3*z5**2*z6**5, z1*z2*z5**3*z6**5, z2**2*z5**3*z6**5, z1*z3*z5**3*z6**5, z2*z3*z5**3*z6**5, z3**2*z5**3*z6**5, z1*z4*z5**3*z6**5, z2*z4*z5**3*z6**5, z3*z4*z5**3*z6**5, z4**2*z5**3*z6**5, z1*z5**4*z6**5, z2*z5**4*z6**5, z3*z5**4*z6**5, z4*z5**4*z6**5, z5**5*z6**5, z2**4*z6**6, z1*z3**3*z6**6, z2*z3**3*z6**6, z3**4*z6**6, z2**3*z4*z6**6, z1*z2*z3*z4*z6**6, z2**2*z3*z4*z6**6, z1*z3**2*z4*z6**6, z2*z3**2*z4*z6**6, z3**3*z4*z6**6, z1*z2*z4**2*z6**6, z2**2*z4**2*z6**6, z1*z3*z4**2*z6**6, z2*z3*z4**2*z6**6\n",
      "prolong 10, Q 11\n",
      "z3**2*z4**2*z6**7, z1*z4**3*z6**7, z2*z4**3*z6**7, z3*z4**3*z6**7, z4**4*z6**7, z2**3*z5*z6**7, z1*z2*z3*z5*z6**7, z2**2*z3*z5*z6**7, z1*z3**2*z5*z6**7, z2*z3**2*z5*z6**7, z3**3*z5*z6**7, z1*z2*z4*z5*z6**7, z2**2*z4*z5*z6**7, z1*z3*z4*z5*z6**7, z2*z3*z4*z5*z6**7, z3**2*z4*z5*z6**7, z1*z4**2*z5*z6**7, z2*z4**2*z5*z6**7, z3*z4**2*z5*z6**7, z4**3*z5*z6**7, z1*z2*z5**2*z6**7, z2**2*z5**2*z6**7, z1*z3*z5**2*z6**7, z2*z3*z5**2*z6**7, z3**2*z5**2*z6**7, z1*z4*z5**2*z6**7, z2*z4*z5**2*z6**7, z3*z4*z5**2*z6**7, z4**2*z5**2*z6**7, z1*z5**3*z6**7, z2*z5**3*z6**7, z3*z5**3*z6**7, z4*z5**3*z6**7, z5**4*z6**7, z2**3*z6**8, z1*z2*z3*z6**8, z2**2*z3*z6**8, z1*z3**2*z6**8, z2*z3**2*z6**8, z3**3*z6**8, z1*z2*z4*z6**8, z2**2*z4*z6**8, z1*z3*z4*z6**8, z2*z3*z4*z6**8, z3**2*z4*z6**8, z1*z4**2*z6**8, z2*z4**2*z6**8, z3*z4**2*z6**8\n",
      "prolong 11, Q 12\n",
      "z4**3*z6**9, z1*z2*z5*z6**9, z2**2*z5*z6**9, z1*z3*z5*z6**9, z2*z3*z5*z6**9, z3**2*z5*z6**9, z1*z4*z5*z6**9, z2*z4*z5*z6**9, z3*z4*z5*z6**9, z4**2*z5*z6**9, z1*z5**2*z6**9, z2*z5**2*z6**9, z3*z5**2*z6**9, z4*z5**2*z6**9, z5**3*z6**9, z1*z2*z6**10, z2**2*z6**10, z1*z3*z6**10, z2*z3*z6**10, z3**2*z6**10, z1*z4*z6**10, z2*z4*z6**10, z3*z4*z6**10, z4**2*z6**10, z1*z5*z6**10, z2*z5*z6**10, z3*z5*z6**10, z4*z5*z6**10, z5**2*z6**10, z1*z6**11, z2*z6**11, z3*z6**11, z4*z6**11, z5*z6**11, z6**12\n",
      "prolong 12, Q 0\n",
      "prolong 0, Q 0\n",
      "crit1: 567\n",
      "crit2: 55\n",
      " time: 1225.12 sec\n",
      "    count: 210\n",
      "reduction: 379058\n",
      "       HP: 924\n"
     ]
    }
   ],
   "source": [
    "Monom.cmp = Monom.TOPdeglex\n",
    "z0, z1, z2, z3, z4, z5, z6 = Poly.init(ex['var'])\n",
    "invdiv = Janet()\n",
    "res = ginvBlockLow([eval(eq) for eq in ex['eqs']], \\\n",
    "invdiv, level=3)\n",
    "print(f\"crit1: {res[1]}\")\n",
    "print(f\"crit2: {res[2]}\")\n",
    "print(f\" time: {res[0]:.2f} sec\")\n",
    "print(f\"    count: {invdiv.count()}\")\n",
    "print(f\"reduction: {invdiv.reduction()}\")\n",
    "print(f\"       HP: {invdiv.HP()}\")"
   ]
  },
  {
   "cell_type": "code",
   "execution_count": 8,
   "metadata": {},
   "outputs": [
    {
     "name": "stdout",
     "output_type": "stream",
     "text": [
      "7 12\n"
     ]
    }
   ],
   "source": [
    "n = len(ex['var'])\n",
    "maxdeg = max(w.lm.degree() for w in invdiv)\n",
    "print(n, maxdeg)"
   ]
  },
  {
   "cell_type": "code",
   "execution_count": 9,
   "metadata": {},
   "outputs": [],
   "source": [
    "# проверяем, что в системе конечно число решений\n",
    "for i in range(1, n):\n",
    "    assert invdiv.HP()[i] == 0"
   ]
  },
  {
   "cell_type": "code",
   "execution_count": 10,
   "metadata": {
    "scrolled": false
   },
   "outputs": [
    {
     "name": "stdout",
     "output_type": "stream",
     "text": [
      "число корней с учетом кратности: 924\n",
      "CPU times: user 163 ms, sys: 0 ns, total: 163 ms\n",
      "Wall time: 162 ms\n"
     ]
    }
   ],
   "source": [
    "%%time\n",
    "rows, i = {}, 0\n",
    "for d in range(maxdeg + 1):\n",
    "    for m in Monom.gradus(d):\n",
    "        if not invdiv.find(m):\n",
    "            rows[m] = i\n",
    "            i += 1\n",
    "print(f\"число корней с учетом кратности: {len(rows)}\")"
   ]
  },
  {
   "cell_type": "code",
   "execution_count": 11,
   "metadata": {},
   "outputs": [
    {
     "name": "stdout",
     "output_type": "stream",
     "text": [
      "[69694, 68288, 66858, 65585, 62887, 51490, 18216] 853776\n",
      "['8%', '8%', '8%', '8%', '7%', '6%', '2%']\n",
      "CPU times: user 6min 6s, sys: 40 ms, total: 6min 6s\n",
      "Wall time: 6min 6s\n"
     ]
    }
   ],
   "source": [
    "%%time\n",
    "n = len(ex['var'])\n",
    "dct = [{} for i in range(n)]\n",
    "for k, v in rows.items():\n",
    "    for i in range(n):\n",
    "        for m, c in Poly(Monom(i)*k).NF(invdiv):\n",
    "            if c:\n",
    "                dct[i][rows[m], v] = c\n",
    "print([len(dct[i]) for i in range(n)], invdiv.HP()[0]**2)\n",
    "print([f\"{len(dct[i])*100/invdiv.HP()[0]**2:.0f}%\" for i in range(n)])"
   ]
  },
  {
   "cell_type": "code",
   "execution_count": 12,
   "metadata": {
    "scrolled": true
   },
   "outputs": [
    {
     "name": "stdout",
     "output_type": "stream",
     "text": [
      "CPU times: user 18.6 s, sys: 316 ms, total: 19 s\n",
      "Wall time: 19.4 s\n"
     ]
    }
   ],
   "source": [
    "%%time\n",
    "import numpy as np\n",
    "from scipy import linalg\n",
    "\n",
    "for i in range(n):\n",
    "    A = np.empty((invdiv.HP()[0], invdiv.HP()[0]), dtype=np.float64)\n",
    "    d = dct[i]\n",
    "    for j in range(invdiv.HP()[0]):\n",
    "        for k in range(invdiv.HP()[0]):\n",
    "            A[j][k] = d.get((j, k), 0.)\n",
    "#     pprint(linalg.eigvals(A))"
   ]
  },
  {
   "cell_type": "code",
   "execution_count": null,
   "metadata": {},
   "outputs": [],
   "source": []
  }
 ],
 "metadata": {
  "kernelspec": {
   "display_name": "Python 3 (ipykernel)",
   "language": "python",
   "name": "python3"
  },
  "language_info": {
   "codemirror_mode": {
    "name": "ipython",
    "version": 3
   },
   "file_extension": ".py",
   "mimetype": "text/x-python",
   "name": "python",
   "nbconvert_exporter": "python",
   "pygments_lexer": "ipython3",
   "version": "3.11.2"
  }
 },
 "nbformat": 4,
 "nbformat_minor": 2
}
