{
 "cells": [
  {
   "cell_type": "code",
   "execution_count": 1,
   "metadata": {},
   "outputs": [],
   "source": [
    "from pprint import pprint\n",
    "\n",
    "import json"
   ]
  },
  {
   "cell_type": "code",
   "execution_count": 2,
   "metadata": {},
   "outputs": [],
   "source": [
    "with open('poly_exmpl.json', 'r') as f:\n",
    "      poly_exmpl = json.loads(f.read())"
   ]
  },
  {
   "cell_type": "code",
   "execution_count": 3,
   "metadata": {},
   "outputs": [
    {
     "data": {
      "text/plain": [
       "'Popov19 Popov20 Popov21 Popov23 Popov24 Popov25 assur44 aubry2 augot benchmark_D1 benchmark_i1 boon butcher butcher8 camera1s caprasse cassou chandra4 chandra5 chandra6 chemequ chemequs chemkin cohn2 cohn3 comb3000 comb3000s conform1 cpdm5 cyclic5 cyclic6 cyclic7 cyclic8 d1 des18_3 des22_24 dessin1 dessin2 discret3 dl ducos10 ducos7_3 ducos7_5 ducos8 eco10 eco11 eco12 eco7 eco8 eco9 el44 el50 extcyc4 extcyc5 extcyc6 extcyc7 extcyc8 f633 f744 f855 f966 fabrice24 filter9 geneig hairer1 hairer2 hairer3 hairer4 hawes4 hcyclic5 hcyclic6 hcyclic7 hcyclic8 heart hemmecke hf744 hf855 hietarinta1 hunecke i1 ilias12 ilias13 ilias_k_2 ilias_k_3 issac97 jcf26 katsura10 katsura6 katsura7 katsura8 katsura9 kin1 kinema kotsireas ku10 lanconelli lichtblau liu lorentz matrix mckay mckay.gls50mod mickey morgenstern noon5 noon6 noon7 noon8 noon9 pinchon1 puma quadfor2 quadgrid rabmo rbpl rbpl24 redcyc5 redcyc6 redcyc7 redcyc8 redeco10 redeco11 redeco12 redeco7 redeco8 redeco9 reif reimer4 reimer5 reimer6 reimer7 reimer8 rose s9_1 solotarev sparse5 speer tangents test uteshev_bikker vermeer vernov1 virasoro wang16 wright'"
      ]
     },
     "execution_count": 3,
     "metadata": {},
     "output_type": "execute_result"
    }
   ],
   "source": [
    "\" \".join(sorted(poly_exmpl.keys()))"
   ]
  },
  {
   "cell_type": "code",
   "execution_count": 4,
   "metadata": {},
   "outputs": [
    {
     "data": {
      "text/plain": [
       "{'desc': 'TITLE : cyclic n-roots problem\\n\\nREFERENCES :\\n\\nSee G\\\\\"oran Bj\\\\\"orck and Ralf Fr\\\\\"oberg:\\n`A faster way to count the solutions of inhomogeneous systems\\n of algebraic equations, with applications to cyclic n-roots\\',\\nin J. Symbolic Computation (1991) 12, pp 329--336.\\n\\nBackelin, J. and Froeberg, R.:\\n\"How we proved that there are exactly 924 cyclic 7-roots\" ,\\nProceedings of ISSAC-91, pp 103-111, ACM, New York, 1991.\\n\\nG. Bj\\\\\"orck and R. Fr\\\\\"oberg, R.:\\n\"Methods to ``divide out\\'\\' certain solutions from systems of algebraic\\n equations, applied to find all cyclic 8-roots \" ,\\nIn: Analysis, Algebra and Computers in Math. research,\\nM. Gyllenberg and L.E.Persson eds., Lect. Notes in Applied Math. vol. 564,\\npp 57-70, Dekker, 1994.\\n\\nJ. Canny and P. Pedersen. An algorithm for the Newton resultant.\\nTechnical Report 1394, Comp. Science Dept., Cornell University, 1993. \\n\\nI.Z. Emiris and J.F. Canny. Efficient incremental algorithms\\nfor the sparse resultant and the mixed volume. J. Symbolic Computation,\\n 20(2):117-149, August 1995. \\n\\nL. Pottier. Bounds for degree of the n-cyclic system.\\nINRIA Sophia-Antipolis, Manuscript, 1995. \\n\\nFrom the FRISCO test suite, see\\nhttp://www.inria.fr/safir/POL/index.html.',\n",
       " 'eqs': ['x1+x2+x3+x4+x5+x6+x7',\n",
       "  'x1*x2+x1*x7+x2*x3+x3*x4+x4*x5+x5*x6+x6*x7',\n",
       "  'x1*x2*x3+x1*x2*x7+x1*x6*x7+x2*x3*x4+x3*x4*x5+x4*x5*x6+x5*x6*x7',\n",
       "  'x1*x2*x3*x4+x1*x2*x3*x7+x1*x2*x6*x7+x1*x5*x6*x7+x2*x3*x4*x5+x3*x4*x5*x6+x4*x5*x6*x7',\n",
       "  'x1*x2*x3*x4*x5+x1*x2*x3*x4*x7+x1*x2*x3*x6*x7+x1*x2*x5*x6*x7+x1*x4*x5*x6*x7+x2*x3*x4*x5*x6+x3*x4*x5*x6*x7',\n",
       "  'x1*x2*x3*x4*x5*x6+x1*x2*x3*x4*x5*x7+x1*x2*x3*x4*x6*x7+x1*x2*x3*x5*x6*x7+x1*x2*x4*x5*x6*x7+x1*x3*x4*x5*x6*x7+x2*x3*x4*x5*x6*x7',\n",
       "  'x1*x2*x3*x4*x5*x6*x7-1'],\n",
       " 'var': ['x1', 'x2', 'x3', 'x4', 'x5', 'x6', 'x7'],\n",
       " 'HP': '924'}"
      ]
     },
     "execution_count": 4,
     "metadata": {},
     "output_type": "execute_result"
    }
   ],
   "source": [
    "poly_exmpl['cyclic7']"
   ]
  },
  {
   "cell_type": "code",
   "execution_count": null,
   "metadata": {},
   "outputs": [],
   "source": []
  }
 ],
 "metadata": {
  "kernelspec": {
   "display_name": "Python 3",
   "language": "python",
   "name": "python3"
  },
  "language_info": {
   "codemirror_mode": {
    "name": "ipython",
    "version": 3
   },
   "file_extension": ".py",
   "mimetype": "text/x-python",
   "name": "python",
   "nbconvert_exporter": "python",
   "pygments_lexer": "ipython3",
   "version": "3.7.3"
  }
 },
 "nbformat": 4,
 "nbformat_minor": 2
}
