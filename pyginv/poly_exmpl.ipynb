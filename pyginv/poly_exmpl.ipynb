{
 "cells": [
  {
   "cell_type": "code",
   "execution_count": 1,
   "metadata": {},
   "outputs": [],
   "source": [
    "from IPython.display import display, Image\n",
    "from pprint import pprint\n",
    "import json\n",
    "\n",
    "from ginv import *\n",
    "sympy.init_printing()"
   ]
  },
  {
   "cell_type": "markdown",
   "metadata": {},
   "source": [
    "The database of polynomial systems.\n",
    "\n",
    "The demonstration database is an essential part of PHCpack\n",
    "\n",
    "http://homepages.math.uic.edu/~jan/"
   ]
  },
  {
   "cell_type": "code",
   "execution_count": 2,
   "metadata": {},
   "outputs": [],
   "source": [
    "with open('poly_exmpl.json', 'r') as f:\n",
    "      poly_exmpl = json.loads(f.read())"
   ]
  },
  {
   "cell_type": "code",
   "execution_count": 3,
   "metadata": {},
   "outputs": [
    {
     "data": {
      "text/plain": [
       "'Popov19 Popov20 Popov21 Popov23 Popov24 Popov25 assur44 aubry2 augot benchmark_D1 benchmark_i1 boon butcher butcher8 butemb3 camera1s caprasse cassou chandra4 chandra5 chandra6 chemequ chemequs chemkin cohn2 cohn3 comb3000 comb3000s conform1 cpdm5 cyc8emb1 cyclic10 cyclic11 cyclic5 cyclic6 cyclic7 cyclic8 cyclic9 d1 des18_3 des22_24 dessin1 dessin2 discret3 discret3s dl ducos10 ducos7_3 ducos7_5 ducos8 eco10 eco11 eco12 eco5 eco6 eco7 eco8 eco9 el44 el50 extcyc4 extcyc5 extcyc6 extcyc7 extcyc8 f633 f744 f855 f966 fabrice24 fbremb2 fbrfive12 fbrfive4 filter9 fourbar game4two game5two game6two game7two gaukwa2 gaukwa3 gaukwa4 geneig hairer1 hairer2 hairer3 hairer4 hawes4 hcyclic5 hcyclic6 hcyclic7 hcyclic8 heart hemmecke hf744 hf855 hietarinta1 hunecke i1 ilias12 ilias13 ilias_k_2 ilias_k_3 ipp ipp2 issac97 jcf26 katsura10 katsura5 katsura6 katsura7 katsura8 katsura9 kin1 kinema kotsireas ku10 lanconelli lichtblau liu lorentz lumped matrix mckay mckay.gls50mod mickey morgenstern noon3 noon4 noon5 noon6 noon7 noon8 noon9 pb601 pb601es pb601vs pinchon1 pltp34sys pole27sys pole28sys pole34sys pole43sys proddeco puma quadfor2 quadgrid rabmo rbpl rbpl24 rbpl24es rbpl24s rcyc8emb1 rcyc9emb2 redcyc5 redcyc6 redcyc7 redcyc8 redeco10 redeco11 redeco12 redeco5 redeco6 redeco7 redeco8 redeco9 rediff3 reif reimer4 reimer5 reimer6 reimer7 reimer8 robspat rose rps10 s9_1 sendra solotarev sparse5 speer stewgou40 tangents tangents0 tangents1 tangents2 test trinks utbikker uteshev_bikker vermeer vernov1 virasoro wang16 wood wright'"
      ]
     },
     "execution_count": 3,
     "metadata": {},
     "output_type": "execute_result"
    }
   ],
   "source": [
    "\" \".join(sorted(poly_exmpl.keys()))"
   ]
  },
  {
   "cell_type": "code",
   "execution_count": 4,
   "metadata": {},
   "outputs": [
    {
     "data": {
      "text/plain": [
       "'caprasse cassou chandra4 chandra5 chemequ chemequs cohn2 cohn3 conform1 cpdm5 cyclic5 eco5 extcyc4 fbrfive4 fourbar game4two game5two gaukwa2 hcyclic5 hemmecke issac97 lanconelli lichtblau liu lorentz lumped mickey morgenstern noon3 noon4 noon5 pb601 pb601es pb601vs proddeco quadfor2 quadgrid redcyc5 redeco5 rediff3 reimer4 reimer5 rose sendra solotarev sparse5 speer test utbikker uteshev_bikker vermeer vernov1 wang16 wood wright'"
      ]
     },
     "execution_count": 4,
     "metadata": {},
     "output_type": "execute_result"
    }
   ],
   "source": [
    "\" \".join(sorted(k for k, v in poly_exmpl.items()\\\n",
    "    if len(v['eqs']) < 6))"
   ]
  },
  {
   "cell_type": "code",
   "execution_count": 5,
   "metadata": {},
   "outputs": [
    {
     "data": {
      "text/plain": [
       "{'eqs': ['8*w**2+5*x*w+2*z*w+3*w+5*x**2+7*y**2+7*z**2-7*x+2*x*y-7*y-4*w*y-8*z-7*x*z-8*y*z+8',\n",
       "  '3*w**2+9*w+4*x**2+9*y**2+7*z**2+7*x-5*w*x+2*x*y+5*y-3*w*y+6*y*z+7*z-6*w*z-2*x*z+5',\n",
       "  '-2*w**2+9*x*w+9*y*w+8*x**2+6*y**2-4*w+8*x+9*x*y+4*y+8*z-7*w*z-3*x*z-7*y*z-6*z**2+2',\n",
       "  '7*w**2+5*x*w+3*y*w+2*x**2-5*w+4*x+9*x*y+6*y-4*y**2-9*z-5*w*z-7*x*z-5*y*z-4*z**2+2'],\n",
       " 'var': ['x', 'y', 'z', 'w'],\n",
       " 'HP': '16',\n",
       " 'DESCRIPTION': 'From http://www.wolfram.comm/new/issac\\nISSAC System Challenge 1997\\n\\nGoal: compute a lexico gbasis'}"
      ]
     },
     "execution_count": 5,
     "metadata": {},
     "output_type": "execute_result"
    }
   ],
   "source": [
    "ex = poly_exmpl['issac97']\n",
    "ex"
   ]
  },
  {
   "cell_type": "code",
   "execution_count": 6,
   "metadata": {
    "scrolled": false
   },
   "outputs": [
    {
     "name": "stdout",
     "output_type": "stream",
     "text": [
      "prolong 0, Q 2\n",
      "x**2\n",
      "prolong 0, Q 2\n",
      "x*y, y**2, x*z\n",
      "prolong 2, Q 0\n",
      "y*z**2, z**3, y*z*w, z**2*w\n",
      "prolong 3, Q 0\n",
      "x*w**3, y*w**3, z*w**3\n",
      "prolong 4, Q 0\n",
      "w**5\n",
      "prolong 5, Q 0\n",
      "prolong 0, Q 0\n",
      "crit1: 0\n",
      "crit2: 0\n",
      " time: 0.35 sec\n",
      "    count: 12\n",
      "reduction: 535\n",
      "       HP: 16\n"
     ]
    },
    {
     "data": {
      "image/png": "[encoded data removed]",
      "text/plain": [
       "<IPython.core.display.Image object>"
      ]
     },
     "execution_count": 6,
     "metadata": {},
     "output_type": "execute_result"
    }
   ],
   "source": [
    "Monom.cmp = Monom.TOPdeglex\n",
    "var = ex['var']\n",
    "fun = []\n",
    "Monom.init(var, fun)\n",
    "for var_i, var_g in enumerate(var):\n",
    "    globals()[var_g] = Poly(Monom(var_i))\n",
    "# invdiv = JanetCache()\n",
    "invdiv = Janet()\n",
    "res = ginvBlockLow([eval(eq) for eq in ex['eqs']], \\\n",
    "invdiv, level=3)\n",
    "print(f\"crit1: {res[1]}\")\n",
    "print(f\"crit2: {res[2]}\")\n",
    "print(f\" time: {res[0]:.2f} sec\")\n",
    "print(f\"    count: {invdiv.count()}\")\n",
    "print(f\"reduction: {invdiv.reduction()}\")\n",
    "print(f\"       HP: {invdiv.HP()}\")\n",
    "invdiv.saveImage('invdiv.pdf', level=1)\n",
    "invdiv.saveImage('invdiv.png', level=1)\n",
    "Image('./invdiv.png')"
   ]
  },
  {
   "cell_type": "code",
   "execution_count": null,
   "metadata": {},
   "outputs": [],
   "source": []
  }
 ],
 "metadata": {
  "kernelspec": {
   "display_name": "Python 3",
   "language": "python",
   "name": "python3"
  },
  "language_info": {
   "codemirror_mode": {
    "name": "ipython",
    "version": 3
   },
   "file_extension": ".py",
   "mimetype": "text/x-python",
   "name": "python",
   "nbconvert_exporter": "python",
   "pygments_lexer": "ipython3",
   "version": "3.7.3"
  }
 },
 "nbformat": 4,
 "nbformat_minor": 2
}
