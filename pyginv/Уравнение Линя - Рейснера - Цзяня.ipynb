{
 "cells": [
  {
   "cell_type": "code",
   "execution_count": 1,
   "metadata": {},
   "outputs": [],
   "source": [
    "from IPython.display import display, Image\n",
    "from pprint import pprint\n",
    "from itertools import chain\n",
    "\n",
    "from ginv import *\n",
    "sympy.init_printing()"
   ]
  },
  {
   "cell_type": "markdown",
   "metadata": {},
   "source": [
    "Условие на классические симметрии\n",
    "\\begin{equation}\n",
    "\\begin{aligned}\n",
    "\\mathbf{2u_{tx}}& + u_{xx} u_{x} - u_{yy} = 0 \\\\\n",
    "\\mathbf{u_{\\varepsilon }}& - F(t, x, y, u, u_{t}, u_{x}, u_{y}) = 0 \\\\\n",
    "\\end{aligned}\n",
    "\\end{equation}\n",
    "Для второго уравнения системы введем полные производные от $F$.\n",
    "\\begin{equation}\n",
    "\\begin{aligned}\n",
    "\\frac{dF}{dt} &= F_t  + F_u u_{t} + F_{u_{t}} u_{tt} + F_{u_{x}} u_{tx} + F_{u_{y}} u_{ty}\\\\\n",
    "\\frac{dF}{dx} &= F_x  + F_u u_{x} + F_{u_{t}} u_{tx} + F_{u_{x}} u_{xx} + F_{u_{y}} u_{xy}\\\\\n",
    "\\frac{dF}{dy} &= F_y  + F_u u_{y} + F_{u_{t}} u_{ty} + F_{u_{x}} u_{xy} + F_{u_{y}} u_{yy}\\\\\n",
    "\\end{aligned}\n",
    "\\end{equation}\n",
    "\n",
    "Условие интегрируемости (совместности) данной системы можно записать через $S$-полином (лексикографическое упорядочение $t \\succ x \\succ y$)\n",
    "\\begin{equation}\n",
    "\\big(2\\mathbf{u_{tx}} + u_{xx} u_{x} - u_{yy})_\\varepsilon \n",
    "- \\mathbf{u_{\\varepsilon tx}} + 2\\frac{d^2}{dtdx}F = 0\n",
    "\\end{equation}\n",
    "\n",
    "В последнем уравнении в силу правила дифференцирования Лейбница производная по $\\varepsilon $\n",
    "входит в условие интрегриемости линейно. \n",
    "\\begin{equation}\n",
    " u_{xx} u_{\\varepsilon x}  + u_{\\varepsilon xx} u_{x} - u_{\\varepsilon yy} + 2\\frac{d^2}{dtdx}F = 0\n",
    "\\end{equation}\n",
    "При этом мы можем заменить $u_{\\varepsilon }$ на $F$ используя полные производные от $F$.\n",
    "\\begin{equation}\n",
    " u_{xx}\\frac{d}{dx}F\n",
    " +\\frac{d^2}{dx^2}F u_{x} - \\frac{d^2}{dy^2}F \n",
    "+ 2\\frac{d^2}{dtdx}F = 0\n",
    "\\end{equation}\n",
    "\n",
    "Учитывая в силу самого уравнения Линя-Рейснера-Цзяня\n",
    "\\begin{equation}\n",
    "\\begin{aligned}\n",
    "u_{tx} &= (- u_{xx} u_{x} + u_{yy})/2 \\\\\n",
    "u_{txx} &= (- u_{xxx} u_{x} -   u_{xxx} u_{xx} + u_{xyy})/2  \\\\\n",
    "u_{txy} &= (-  u_{xxy} u_{x} -  u_{xxx} u_{xy} + u_{yyy})/2  \\\\\n",
    "u_{ttx} &= (-  (- u_{xxx} u_{x} -   u_{xxx} u_{xx} + u_{xyy})/2 u_{x} -  u_{xx} (- u_{xx} u_{x} + u_{yy})/2 - \\gamma u_{tyy})/2  \\\\\n",
    "& \\cdots \\\\\n",
    "\\end{aligned}\n",
    "\\end{equation}\n",
    "и то что само $F$ не зависит от производных выше первого порядка $u_{t}, u_{x}, u_{y}$ можно получить \n",
    "систему линейных уравнений на $F$."
   ]
  },
  {
   "cell_type": "code",
   "execution_count": 2,
   "metadata": {},
   "outputs": [],
   "source": [
    "eps, t, x, y = sympy.symbols('ε, t, x, y', real=True)\n",
    "U = sympy.Function('u')(eps, t, x, y)\n",
    "\n",
    "u, ut, ux, uy = sympy.symbols('u, u_t, u_x, u_y', real=True)\n",
    "F = sympy.Function('f')(t, x, y, u, ut, ux, uy)"
   ]
  },
  {
   "cell_type": "code",
   "execution_count": 3,
   "metadata": {},
   "outputs": [
    {
     "data": {
      "image/png": "[encoded data removed]",
      "text/latex": [
       "$\\displaystyle \\frac{\\partial}{\\partial x} u{\\left(ε,t,x,y \\right)} \\frac{\\partial^{2}}{\\partial x^{2}} u{\\left(ε,t,x,y \\right)} - \\frac{\\partial^{2}}{\\partial y^{2}} u{\\left(ε,t,x,y \\right)} + 2 \\frac{\\partial^{2}}{\\partial x\\partial t} u{\\left(ε,t,x,y \\right)}$"
      ],
      "text/plain": [
       "                    2                    2                       2                \n",
       "∂                  ∂                    ∂                       ∂                 \n",
       "──(u(ε, t, x, y))⋅───(u(ε, t, x, y)) - ───(u(ε, t, x, y)) + 2⋅─────(u(ε, t, x, y))\n",
       "∂x                  2                    2                    ∂x ∂t               \n",
       "                  ∂x                   ∂y                                         "
      ]
     },
     "execution_count": 3,
     "metadata": {},
     "output_type": "execute_result"
    }
   ],
   "source": [
    "eq1 = 2*U.diff(t, x) + U.diff(x)*U.diff(x, 2)  - U.diff(y, 2)\n",
    "eq1"
   ]
  },
  {
   "cell_type": "code",
   "execution_count": 4,
   "metadata": {},
   "outputs": [],
   "source": [
    "func_poly = set([sympy.Add, sympy.Mul, sympy.Pow])\n",
    "def compact(f):\n",
    "    def cmpct(a):\n",
    "        if not a.args:\n",
    "            return a\n",
    "        else:\n",
    "            if a.func in func_poly:\n",
    "                return a.func(*tuple(cmpct(s) for s in a.args))\n",
    "            elif a.func != sympy.Derivative:\n",
    "                return sympy.Symbol(f\"{a.func}\")\n",
    "            else:\n",
    "                m = []\n",
    "                for xi, k in a.args[1:]:\n",
    "                    m.append(f\"{xi}\"*k)\n",
    "                return sympy.Symbol(f\"{a.args[0].func}_{{{''.join(m)}}}\", real=True)\n",
    "    return cmpct(f)"
   ]
  },
  {
   "cell_type": "code",
   "execution_count": 5,
   "metadata": {},
   "outputs": [
    {
     "data": {
      "image/png": "[encoded data removed]",
      "text/latex": [
       "$\\displaystyle 2 u_{tx} + u_{xx} u_{x} - u_{yy}$"
      ],
      "text/plain": [
       "2⋅u_{tx} + u_{xx}⋅u_{x} - u_{yy}"
      ]
     },
     "execution_count": 5,
     "metadata": {},
     "output_type": "execute_result"
    }
   ],
   "source": [
    "compact(eq1)"
   ]
  },
  {
   "cell_type": "code",
   "execution_count": 6,
   "metadata": {},
   "outputs": [
    {
     "data": {
      "image/png": "[encoded data removed]",
      "text/latex": [
       "$\\displaystyle 2 u_{txε} + u_{xx} u_{xε} + u_{xxε} u_{x} - u_{yyε}$"
      ],
      "text/plain": [
       "2⋅u_{txε} + u_{xx}⋅u_{xε} + u_{xxε}⋅u_{x} - u_{yyε}"
      ]
     },
     "execution_count": 6,
     "metadata": {},
     "output_type": "execute_result"
    }
   ],
   "source": [
    "compact(eq1.diff(eps))"
   ]
  },
  {
   "cell_type": "code",
   "execution_count": 7,
   "metadata": {},
   "outputs": [],
   "source": [
    "def Dt(a):\n",
    "    return a.diff(t) + a.diff(u)*ut + a.diff(ut)*U.diff(t, t)\\\n",
    "         + a.diff(ux)*U.diff(x, t) + a.diff(uy)*U.diff(y, t)\n",
    "def Dx(a):\n",
    "    return a.diff(x) + a.diff(u)*ux + a.diff(ut)*U.diff(t, x)\\\n",
    "         + a.diff(ux)*U.diff(x, x) + a.diff(uy)*U.diff(y, x)\n",
    "def Dy(a):\n",
    "    return a.diff(y) + a.diff(u)*uy + a.diff(ut)*U.diff(t, y)\\\n",
    "         + a.diff(ux)*U.diff(x, y) + a.diff(uy)*U.diff(y, y)"
   ]
  },
  {
   "cell_type": "code",
   "execution_count": 8,
   "metadata": {
    "scrolled": true
   },
   "outputs": [],
   "source": [
    "toD = {\n",
    "    t: Dt,\\\n",
    "    x: Dx,\\\n",
    "    y: Dy,\\\n",
    "}\n",
    "def totalD(a):\n",
    "    if not a.args:\n",
    "        return a\n",
    "    else:\n",
    "        if a.func != sympy.Derivative:\n",
    "            return a.func(*(totalD(s) for s in a.args))\n",
    "        elif (eps, 1) not in a.args:\n",
    "            return a\n",
    "        else:\n",
    "            assert a.args[0] == U\n",
    "            r = F\n",
    "            for v, l in a.args[1:]:\n",
    "                if v != eps:\n",
    "                    for i in range(l):\n",
    "                        r = toD[v](r)\n",
    "            return r\n",
    "eq2 = totalD(eq1.diff(eps)).expand()     "
   ]
  },
  {
   "cell_type": "code",
   "execution_count": 9,
   "metadata": {
    "scrolled": true
   },
   "outputs": [
    {
     "data": {
      "image/png": "[encoded data removed]",
      "text/latex": [
       "$\\displaystyle 2 f_{tu_t} u_{tx} + 2 f_{tu_x} u_{xx} + 2 f_{tu_y} u_{xy} + 2 f_{tu} u_{x} + 2 f_{tx} + 2 f_{u_tu_t} u_{tt} u_{tx} + f_{u_tu_t} u_{tx}^{2} u_{x} - f_{u_tu_t} u_{ty}^{2} + 2 f_{u_tu_x} u_{tt} u_{xx} + 2 f_{u_tu_x} u_{tx}^{2} + 2 f_{u_tu_x} u_{tx} u_{xx} u_{x} - 2 f_{u_tu_x} u_{ty} u_{xy} + 2 f_{u_tu_y} u_{tt} u_{xy} + 2 f_{u_tu_y} u_{tx} u_{ty} + 2 f_{u_tu_y} u_{tx} u_{xy} u_{x} - 2 f_{u_tu_y} u_{ty} u_{yy} + 2 f_{u_tx} u_{tt} + 2 f_{u_tx} u_{tx} u_{x} - 2 f_{u_ty} u_{ty} + 2 f_{u_t} u_{ttx} + f_{u_t} u_{txx} u_{x} + f_{u_t} u_{tx} u_{xx} - f_{u_t} u_{tyy} + 2 f_{u_xu_x} u_{tx} u_{xx} + f_{u_xu_x} u_{xx}^{2} u_{x} - f_{u_xu_x} u_{xy}^{2} + 2 f_{u_xu_y} u_{tx} u_{xy} + 2 f_{u_xu_y} u_{ty} u_{xx} + 2 f_{u_xu_y} u_{xx} u_{xy} u_{x} - 2 f_{u_xu_y} u_{xy} u_{yy} + 2 f_{u_xx} u_{tx} + 2 f_{u_xx} u_{xx} u_{x} - 2 f_{u_xy} u_{xy} + 2 f_{u_x} u_{txx} + f_{u_x} u_{xxx} u_{x} + f_{u_x} u_{xx}^{2} - f_{u_x} u_{xyy} + 2 f_{u_yu_y} u_{ty} u_{xy} + f_{u_yu_y} u_{xy}^{2} u_{x} - f_{u_yu_y} u_{yy}^{2} + 2 f_{u_yx} u_{ty} + 2 f_{u_yx} u_{xy} u_{x} - 2 f_{u_yy} u_{yy} + 2 f_{u_y} u_{txy} + f_{u_y} u_{xxy} u_{x} + f_{u_y} u_{xx} u_{xy} - f_{u_y} u_{yyy} + 2 f_{uu_t} u_{t} u_{tx} + 2 f_{uu_t} u_{x} u_{tt} + 2 f_{uu_t} u_{x} u_{tx} u_{x} - 2 f_{uu_t} u_{y} u_{ty} + 2 f_{uu_x} u_{t} u_{xx} + 2 f_{uu_x} u_{x} u_{tx} + 2 f_{uu_x} u_{x} u_{xx} u_{x} - 2 f_{uu_x} u_{y} u_{xy} + 2 f_{uu_y} u_{t} u_{xy} + 2 f_{uu_y} u_{x} u_{ty} + 2 f_{uu_y} u_{x} u_{xy} u_{x} - 2 f_{uu_y} u_{y} u_{yy} + 2 f_{uu} u_{t} u_{x} + f_{uu} u_{x}^{2} u_{x} - f_{uu} u_{y}^{2} + 2 f_{ux} u_{t} + 2 f_{ux} u_{x} u_{x} - 2 f_{uy} u_{y} + f_{u} u_{x} u_{xx} + 2 f_{u} u_{tx} + f_{u} u_{xx} u_{x} - f_{u} u_{yy} + f_{xx} u_{x} + f_{x} u_{xx} - f_{yy}$"
      ],
      "text/plain": [
       "                                                                                                     \n",
       "2⋅f_{tu_t}⋅u_{tx} + 2⋅f_{tu_x}⋅u_{xx} + 2⋅f_{tu_y}⋅u_{xy} + 2⋅f_{tu}⋅uₓ + 2⋅f_{tx} + 2⋅f_{u_tu_t}⋅u_{\n",
       "\n",
       "                              2                          2                                           \n",
       "tt}⋅u_{tx} + f_{u_tu_t}⋅u_{tx} ⋅u_{x} - f_{u_tu_t}⋅u_{ty}  + 2⋅f_{u_tu_x}⋅u_{tt}⋅u_{xx} + 2⋅f_{u_tu_x\n",
       "\n",
       "        2                                                                                            \n",
       "}⋅u_{tx}  + 2⋅f_{u_tu_x}⋅u_{tx}⋅u_{xx}⋅u_{x} - 2⋅f_{u_tu_x}⋅u_{ty}⋅u_{xy} + 2⋅f_{u_tu_y}⋅u_{tt}⋅u_{xy\n",
       "\n",
       "                                                                                                     \n",
       "} + 2⋅f_{u_tu_y}⋅u_{tx}⋅u_{ty} + 2⋅f_{u_tu_y}⋅u_{tx}⋅u_{xy}⋅u_{x} - 2⋅f_{u_tu_y}⋅u_{ty}⋅u_{yy} + 2⋅f_\n",
       "\n",
       "                                                                                                     \n",
       "{u_tx}⋅u_{tt} + 2⋅f_{u_tx}⋅u_{tx}⋅u_{x} - 2⋅f_{u_ty}⋅u_{ty} + 2⋅f_{u_t}⋅u_{ttx} + f_{u_t}⋅u_{txx}⋅u_{\n",
       "\n",
       "                                                                                             2       \n",
       "x} + f_{u_t}⋅u_{tx}⋅u_{xx} - f_{u_t}⋅u_{tyy} + 2⋅f_{u_xu_x}⋅u_{tx}⋅u_{xx} + f_{u_xu_x}⋅u_{xx} ⋅u_{x} \n",
       "\n",
       "                   2                                                                                 \n",
       "- f_{u_xu_x}⋅u_{xy}  + 2⋅f_{u_xu_y}⋅u_{tx}⋅u_{xy} + 2⋅f_{u_xu_y}⋅u_{ty}⋅u_{xx} + 2⋅f_{u_xu_y}⋅u_{xx}⋅\n",
       "\n",
       "                                                                                                     \n",
       "u_{xy}⋅u_{x} - 2⋅f_{u_xu_y}⋅u_{xy}⋅u_{yy} + 2⋅f_{u_xx}⋅u_{tx} + 2⋅f_{u_xx}⋅u_{xx}⋅u_{x} - 2⋅f_{u_xy}⋅\n",
       "\n",
       "                                                                   2                                 \n",
       "u_{xy} + 2⋅f_{u_x}⋅u_{txx} + f_{u_x}⋅u_{xxx}⋅u_{x} + f_{u_x}⋅u_{xx}  - f_{u_x}⋅u_{xyy} + 2⋅f_{u_yu_y}\n",
       "\n",
       "                                  2                          2                                       \n",
       "⋅u_{ty}⋅u_{xy} + f_{u_yu_y}⋅u_{xy} ⋅u_{x} - f_{u_yu_y}⋅u_{yy}  + 2⋅f_{u_yx}⋅u_{ty} + 2⋅f_{u_yx}⋅u_{xy\n",
       "\n",
       "                                                                                                     \n",
       "}⋅u_{x} - 2⋅f_{u_yy}⋅u_{yy} + 2⋅f_{u_y}⋅u_{txy} + f_{u_y}⋅u_{xxy}⋅u_{x} + f_{u_y}⋅u_{xx}⋅u_{xy} - f_{\n",
       "\n",
       "                                                                                                     \n",
       "u_y}⋅u_{yyy} + 2⋅f_{uu_t}⋅uₜ⋅u_{tx} + 2⋅f_{uu_t}⋅uₓ⋅u_{tt} + 2⋅f_{uu_t}⋅uₓ⋅u_{tx}⋅u_{x} - 2⋅f_{uu_t}⋅\n",
       "\n",
       "                                                                                                     \n",
       "u_y⋅u_{ty} + 2⋅f_{uu_x}⋅uₜ⋅u_{xx} + 2⋅f_{uu_x}⋅uₓ⋅u_{tx} + 2⋅f_{uu_x}⋅uₓ⋅u_{xx}⋅u_{x} - 2⋅f_{uu_x}⋅u_\n",
       "\n",
       "                                                                                                     \n",
       "y⋅u_{xy} + 2⋅f_{uu_y}⋅uₜ⋅u_{xy} + 2⋅f_{uu_y}⋅uₓ⋅u_{ty} + 2⋅f_{uu_y}⋅uₓ⋅u_{xy}⋅u_{x} - 2⋅f_{uu_y}⋅u_y⋅\n",
       "\n",
       "                                   2                   2                                             \n",
       "u_{yy} + 2⋅f_{uu}⋅uₜ⋅uₓ + f_{uu}⋅uₓ ⋅u_{x} - f_{uu}⋅u_y  + 2⋅f_{ux}⋅uₜ + 2⋅f_{ux}⋅uₓ⋅u_{x} - 2⋅f_{uy}\n",
       "\n",
       "                                                                                                     \n",
       "⋅u_y + f_{u}⋅uₓ⋅u_{xx} + 2⋅f_{u}⋅u_{tx} + f_{u}⋅u_{xx}⋅u_{x} - f_{u}⋅u_{yy} + f_{xx}⋅u_{x} + f_{x}⋅u_\n",
       "\n",
       "             \n",
       "{xx} - f_{yy}"
      ]
     },
     "execution_count": 9,
     "metadata": {},
     "output_type": "execute_result"
    }
   ],
   "source": [
    "compact(eq2)"
   ]
  },
  {
   "cell_type": "code",
   "execution_count": 10,
   "metadata": {
    "scrolled": true
   },
   "outputs": [],
   "source": [
    "s = sympy.solve(eq1, U.diff(t, x))[0]\n",
    "def sub_eq(a):\n",
    "    def find(args):\n",
    "        r = 0\n",
    "        for v, l in a.args[1:]:\n",
    "            if v in (t, x):\n",
    "                r += 1\n",
    "        return r == 2\n",
    "    if not a.args:\n",
    "        return a\n",
    "    else:\n",
    "        if a.func != sympy.Derivative:\n",
    "            return a.func(*(sub_eq(s) for s in a.args))\n",
    "        elif a.args[0] != U or not find(a.args):\n",
    "            return a\n",
    "        else:\n",
    "            r = s\n",
    "            for v, l in a.args[1:]:\n",
    "                if v in (t, x):\n",
    "                    l -= 1\n",
    "                r = r.diff(v, l)\n",
    "            return r\n",
    "eq3 = sub_eq(eq2).expand()\n",
    "eq3 = sub_eq(eq3).expand()\n",
    "eq3 = sub_eq(eq3).expand()"
   ]
  },
  {
   "cell_type": "code",
   "execution_count": 11,
   "metadata": {
    "scrolled": true
   },
   "outputs": [
    {
     "data": {
      "image/png": "[encoded data removed]",
      "text/latex": [
       "$\\displaystyle - f_{tu_t} u_{xx} u_{x} + f_{tu_t} u_{yy} + 2 f_{tu_x} u_{xx} + 2 f_{tu_y} u_{xy} + 2 f_{tu} u_{x} + 2 f_{tx} - f_{u_tu_t} u_{tt} u_{xx} u_{x} + f_{u_tu_t} u_{tt} u_{yy} - f_{u_tu_t} u_{ty}^{2} + \\frac{f_{u_tu_t} u_{xx}^{2} u_{x}^{3}}{4} - \\frac{f_{u_tu_t} u_{xx} u_{x}^{2} u_{yy}}{2} + \\frac{f_{u_tu_t} u_{x} u_{yy}^{2}}{4} + 2 f_{u_tu_x} u_{tt} u_{xx} - 2 f_{u_tu_x} u_{ty} u_{xy} - \\frac{f_{u_tu_x} u_{xx}^{2} u_{x}^{2}}{2} + \\frac{f_{u_tu_x} u_{yy}^{2}}{2} + 2 f_{u_tu_y} u_{tt} u_{xy} - f_{u_tu_y} u_{ty} u_{xx} u_{x} - f_{u_tu_y} u_{ty} u_{yy} - f_{u_tu_y} u_{xx} u_{xy} u_{x}^{2} + f_{u_tu_y} u_{xy} u_{x} u_{yy} + 2 f_{u_tx} u_{tt} - f_{u_tx} u_{xx} u_{x}^{2} + f_{u_tx} u_{x} u_{yy} - 2 f_{u_ty} u_{ty} + f_{u_xu_x} u_{xx} u_{yy} - f_{u_xu_x} u_{xy}^{2} + 2 f_{u_xu_y} u_{ty} u_{xx} + f_{u_xu_y} u_{xx} u_{xy} u_{x} - f_{u_xu_y} u_{xy} u_{yy} + f_{u_xx} u_{xx} u_{x} + f_{u_xx} u_{yy} - 2 f_{u_xy} u_{xy} + 2 f_{u_yu_y} u_{ty} u_{xy} + f_{u_yu_y} u_{xy}^{2} u_{x} - f_{u_yu_y} u_{yy}^{2} + 2 f_{u_yx} u_{ty} + 2 f_{u_yx} u_{xy} u_{x} - 2 f_{u_yy} u_{yy} - f_{uu_t} u_{t} u_{xx} u_{x} + f_{uu_t} u_{t} u_{yy} + 2 f_{uu_t} u_{x} u_{tt} - f_{uu_t} u_{x} u_{xx} u_{x}^{2} + f_{uu_t} u_{x} u_{x} u_{yy} - 2 f_{uu_t} u_{y} u_{ty} + 2 f_{uu_x} u_{t} u_{xx} + f_{uu_x} u_{x} u_{xx} u_{x} + f_{uu_x} u_{x} u_{yy} - 2 f_{uu_x} u_{y} u_{xy} + 2 f_{uu_y} u_{t} u_{xy} + 2 f_{uu_y} u_{x} u_{ty} + 2 f_{uu_y} u_{x} u_{xy} u_{x} - 2 f_{uu_y} u_{y} u_{yy} + 2 f_{uu} u_{t} u_{x} + f_{uu} u_{x}^{2} u_{x} - f_{uu} u_{y}^{2} + 2 f_{ux} u_{t} + 2 f_{ux} u_{x} u_{x} - 2 f_{uy} u_{y} + f_{u} u_{x} u_{xx} + f_{xx} u_{x} + f_{x} u_{xx} - f_{yy}$"
      ],
      "text/plain": [
       "                                                                                                     \n",
       "                                                                                                     \n",
       "-f_{tu_t}⋅u_{xx}⋅u_{x} + f_{tu_t}⋅u_{yy} + 2⋅f_{tu_x}⋅u_{xx} + 2⋅f_{tu_y}⋅u_{xy} + 2⋅f_{tu}⋅uₓ + 2⋅f_\n",
       "                                                                                                     \n",
       "\n",
       "                                                                                                     \n",
       "                                                                                    2   f_{u_tu_t}⋅u_\n",
       "{tx} - f_{u_tu_t}⋅u_{tt}⋅u_{xx}⋅u_{x} + f_{u_tu_t}⋅u_{tt}⋅u_{yy} - f_{u_tu_t}⋅u_{ty}  + ─────────────\n",
       "                                                                                                    4\n",
       "\n",
       "    2      3                          2                                 2                            \n",
       "{xx} ⋅u_{x}    f_{u_tu_t}⋅u_{xx}⋅u_{x} ⋅u_{yy}   f_{u_tu_t}⋅u_{x}⋅u_{yy}                             \n",
       "──────────── - ─────────────────────────────── + ──────────────────────── + 2⋅f_{u_tu_x}⋅u_{tt}⋅u_{xx\n",
       "                              2                             4                                        \n",
       "\n",
       "                                                  2      2                    2                      \n",
       "                                 f_{u_tu_x}⋅u_{xx} ⋅u_{x}    f_{u_tu_x}⋅u_{yy}                       \n",
       "} - 2⋅f_{u_tu_x}⋅u_{ty}⋅u_{xy} - ───────────────────────── + ────────────────── + 2⋅f_{u_tu_y}⋅u_{tt}\n",
       "                                             2                       2                               \n",
       "\n",
       "                                                                                                     \n",
       "                                                                                                    2\n",
       "⋅u_{xy} - f_{u_tu_y}⋅u_{ty}⋅u_{xx}⋅u_{x} - f_{u_tu_y}⋅u_{ty}⋅u_{yy} - f_{u_tu_y}⋅u_{xx}⋅u_{xy}⋅u_{x} \n",
       "                                                                                                     \n",
       "\n",
       "                                                                                                     \n",
       "                                                                             2                       \n",
       " + f_{u_tu_y}⋅u_{xy}⋅u_{x}⋅u_{yy} + 2⋅f_{u_tx}⋅u_{tt} - f_{u_tx}⋅u_{xx}⋅u_{x}  + f_{u_tx}⋅u_{x}⋅u_{yy\n",
       "                                                                                                     \n",
       "\n",
       "                                                                                                     \n",
       "                                                                    2                                \n",
       "} - 2⋅f_{u_ty}⋅u_{ty} + f_{u_xu_x}⋅u_{xx}⋅u_{yy} - f_{u_xu_x}⋅u_{xy}  + 2⋅f_{u_xu_y}⋅u_{ty}⋅u_{xx} + \n",
       "                                                                                                     \n",
       "\n",
       "                                                                                                     \n",
       "                                                                                                     \n",
       "f_{u_xu_y}⋅u_{xx}⋅u_{xy}⋅u_{x} - f_{u_xu_y}⋅u_{xy}⋅u_{yy} + f_{u_xx}⋅u_{xx}⋅u_{x} + f_{u_xx}⋅u_{yy} -\n",
       "                                                                                                     \n",
       "\n",
       "                                                                                                     \n",
       "                                                                   2                          2      \n",
       " 2⋅f_{u_xy}⋅u_{xy} + 2⋅f_{u_yu_y}⋅u_{ty}⋅u_{xy} + f_{u_yu_y}⋅u_{xy} ⋅u_{x} - f_{u_yu_y}⋅u_{yy}  + 2⋅f\n",
       "                                                                                                     \n",
       "\n",
       "                                                                                                     \n",
       "                                                                                                     \n",
       "_{u_yx}⋅u_{ty} + 2⋅f_{u_yx}⋅u_{xy}⋅u_{x} - 2⋅f_{u_yy}⋅u_{yy} - f_{uu_t}⋅uₜ⋅u_{xx}⋅u_{x} + f_{uu_t}⋅uₜ\n",
       "                                                                                                     \n",
       "\n",
       "                                                                                                     \n",
       "                                                         2                                           \n",
       "⋅u_{yy} + 2⋅f_{uu_t}⋅uₓ⋅u_{tt} - f_{uu_t}⋅uₓ⋅u_{xx}⋅u_{x}  + f_{uu_t}⋅uₓ⋅u_{x}⋅u_{yy} - 2⋅f_{uu_t}⋅u_\n",
       "                                                                                                     \n",
       "\n",
       "                                                                                                     \n",
       "                                                                                                     \n",
       "y⋅u_{ty} + 2⋅f_{uu_x}⋅uₜ⋅u_{xx} + f_{uu_x}⋅uₓ⋅u_{xx}⋅u_{x} + f_{uu_x}⋅uₓ⋅u_{yy} - 2⋅f_{uu_x}⋅u_y⋅u_{x\n",
       "                                                                                                     \n",
       "\n",
       "                                                                                                     \n",
       "                                                                                                     \n",
       "y} + 2⋅f_{uu_y}⋅uₜ⋅u_{xy} + 2⋅f_{uu_y}⋅uₓ⋅u_{ty} + 2⋅f_{uu_y}⋅uₓ⋅u_{xy}⋅u_{x} - 2⋅f_{uu_y}⋅u_y⋅u_{yy}\n",
       "                                                                                                     \n",
       "\n",
       "                                                                                                     \n",
       "                             2                   2                                                   \n",
       " + 2⋅f_{uu}⋅uₜ⋅uₓ + f_{uu}⋅uₓ ⋅u_{x} - f_{uu}⋅u_y  + 2⋅f_{ux}⋅uₜ + 2⋅f_{ux}⋅uₓ⋅u_{x} - 2⋅f_{uy}⋅u_y +\n",
       "                                                                                                     \n",
       "\n",
       "                                                       \n",
       "                                                       \n",
       " f_{u}⋅uₓ⋅u_{xx} + f_{xx}⋅u_{x} + f_{x}⋅u_{xx} - f_{yy}\n",
       "                                                       "
      ]
     },
     "execution_count": 11,
     "metadata": {},
     "output_type": "execute_result"
    }
   ],
   "source": [
    "compact(eq3)"
   ]
  },
  {
   "cell_type": "code",
   "execution_count": 12,
   "metadata": {},
   "outputs": [
    {
     "data": {
      "image/png": "[encoded data removed]",
      "text/latex": [
       "$\\displaystyle \\left\\{\\frac{\\partial^{2}}{\\partial t^{2}} u{\\left(ε,t,x,y \\right)}, \\frac{\\partial^{2}}{\\partial x^{2}} u{\\left(ε,t,x,y \\right)}, \\frac{\\partial^{2}}{\\partial y^{2}} u{\\left(ε,t,x,y \\right)}, \\frac{\\partial^{2}}{\\partial y\\partial t} u{\\left(ε,t,x,y \\right)}, \\frac{\\partial^{2}}{\\partial y\\partial x} u{\\left(ε,t,x,y \\right)}\\right\\}$"
      ],
      "text/plain": [
       "⎧  2                   2                   2                    2                     2              \n",
       "⎪ ∂                   ∂                   ∂                    ∂                     ∂               \n",
       "⎨───(u(ε, t, x, y)), ───(u(ε, t, x, y)), ───(u(ε, t, x, y)), ─────(u(ε, t, x, y)), ─────(u(ε, t, x, y\n",
       "⎪  2                   2                   2                 ∂y ∂t                 ∂y ∂x             \n",
       "⎩∂t                  ∂x                  ∂y                                                          \n",
       "\n",
       "  ⎫\n",
       "  ⎪\n",
       "))⎬\n",
       "  ⎪\n",
       "  ⎭"
      ]
     },
     "execution_count": 12,
     "metadata": {},
     "output_type": "execute_result"
    }
   ],
   "source": [
    "toU = {\n",
    "    U.diff(t): ut,\\\n",
    "    U.diff(x): ux,\\\n",
    "    U.diff(y): uy,\\\n",
    "}\n",
    "DF = set()\n",
    "def lstD(a):\n",
    "    if not a.args:\n",
    "        return a\n",
    "    else:\n",
    "        if a.func != sympy.Derivative:\n",
    "            return a.func(*(lstD(s) for s in a.args))\n",
    "        elif a.args[0] != U:\n",
    "            return a\n",
    "        elif a in toU:\n",
    "            return toU[a]\n",
    "        else:\n",
    "            DF.add(a)\n",
    "            return a\n",
    "eq4 = lstD(eq3).expand()\n",
    "DF"
   ]
  },
  {
   "cell_type": "code",
   "execution_count": 13,
   "metadata": {},
   "outputs": [
    {
     "data": {
      "image/png": "[encoded data removed]",
      "text/latex": [
       "$\\displaystyle \\left[ u_{yy}, \\  u_{ty}, \\  u_{xx}, \\  u_{xy}, \\  u_{tt}\\right]$"
      ],
      "text/plain": [
       "[u_{yy}, u_{ty}, u_{xx}, u_{xy}, u_{tt}]"
      ]
     },
     "execution_count": 13,
     "metadata": {},
     "output_type": "execute_result"
    }
   ],
   "source": [
    "[compact(df) for df in DF]"
   ]
  },
  {
   "cell_type": "code",
   "execution_count": 14,
   "metadata": {},
   "outputs": [
    {
     "name": "stdout",
     "output_type": "stream",
     "text": [
      "2 f_{tu} u_{x} + 2 f_{tx} + 2 f_{uu} u_{t} u_{x} + f_{uu} u_{x}^{3} - f_{uu} u_{y}^{2} + 2 f_{ux} u_{t} + 2 f_{ux} u_{x}^{2} - 2 f_{uy} u_{y} + f_{xx} u_{x} - f_{yy} = 0, \\\\\n",
      "2 f_{u_tx} + 2 f_{uu_t} u_{x} = 0, \\\\\n",
      "2 f_{tu_y} - 2 f_{u_xy} + 2 f_{u_yx} u_{x} - 2 f_{uu_x} u_{y} + 2 f_{uu_y} u_{t} + 2 f_{uu_y} u_{x}^{2} = 0, \\\\\n",
      "2 f_{u_tu_y} = 0, \\\\\n",
      "- f_{u_xu_x} + f_{u_yu_y} u_{x} = 0, \\\\\n",
      "- f_{tu_t} u_{x} + 2 f_{tu_x} - f_{u_tx} u_{x}^{2} + f_{u_xx} u_{x} - f_{uu_t} u_{t} u_{x} - f_{uu_t} u_{x}^{3} + 2 f_{uu_x} u_{t} + f_{uu_x} u_{x}^{2} + f_{u} u_{x} + f_{x} = 0, \\\\\n",
      "- f_{u_tu_t} u_{x} + 2 f_{u_tu_x} = 0, \\\\\n",
      "- f_{u_tu_y} u_{x}^{2} + f_{u_xu_y} u_{x} = 0, \\\\\n",
      "\\frac{f_{u_tu_t} u_{x}^{3}}{4} - \\frac{f_{u_tu_x} u_{x}^{2}}{2} = 0, \\\\\n",
      "- 2 f_{u_ty} + 2 f_{u_yx} - 2 f_{uu_t} u_{y} + 2 f_{uu_y} u_{x} = 0, \\\\\n",
      "- 2 f_{u_tu_x} + 2 f_{u_yu_y} = 0, \\\\\n",
      "- f_{u_tu_y} u_{x} + 2 f_{u_xu_y} = 0, \\\\\n",
      "- f_{u_tu_t} = 0, \\\\\n",
      "f_{tu_t} + f_{u_tx} u_{x} + f_{u_xx} - 2 f_{u_yy} + f_{uu_t} u_{t} + f_{uu_t} u_{x}^{2} + f_{uu_x} u_{x} - 2 f_{uu_y} u_{y} = 0, \\\\\n",
      "f_{u_tu_t} = 0, \\\\\n",
      "f_{u_tu_y} u_{x} - f_{u_xu_y} = 0, \\\\\n",
      "- \\frac{f_{u_tu_t} u_{x}^{2}}{2} + f_{u_xu_x} = 0, \\\\\n",
      "- f_{u_tu_y} = 0, \\\\\n",
      "\\frac{f_{u_tu_t} u_{x}}{4} + \\frac{f_{u_tu_x}}{2} - f_{u_yu_y} = 0, \\\\\n"
     ]
    },
    {
     "data": {
      "image/png": "[encoded data removed]",
      "text/latex": [
       "$\\displaystyle 2 f_{tu} u_{x} + 2 f_{tx} + 2 f_{uu} u_{t} u_{x} + f_{uu} u_{x}^{3} - f_{uu} u_{y}^{2} + 2 f_{ux} u_{t} + 2 f_{ux} u_{x}^{2} - 2 f_{uy} u_{y} + f_{xx} u_{x} - f_{yy}$"
      ],
      "text/plain": [
       "                                                   3             2                            2      \n",
       "2⋅f_{tu}⋅uₓ + 2⋅f_{tx} + 2⋅f_{uu}⋅uₜ⋅uₓ + f_{uu}⋅uₓ  - f_{uu}⋅u_y  + 2⋅f_{ux}⋅uₜ + 2⋅f_{ux}⋅uₓ  - 2⋅f\n",
       "\n",
       "                              \n",
       "_{uy}⋅u_y + f_{xx}⋅uₓ - f_{yy}"
      ]
     },
     "metadata": {},
     "output_type": "display_data"
    },
    {
     "data": {
      "image/png": "[encoded data removed]",
      "text/latex": [
       "$\\displaystyle 2 f_{u_tx} + 2 f_{uu_t} u_{x}$"
      ],
      "text/plain": [
       "2⋅f_{u_tx} + 2⋅f_{uu_t}⋅uₓ"
      ]
     },
     "metadata": {},
     "output_type": "display_data"
    },
    {
     "data": {
      "image/png": "[encoded data removed]",
      "text/latex": [
       "$\\displaystyle 2 f_{tu_y} - 2 f_{u_xy} + 2 f_{u_yx} u_{x} - 2 f_{uu_x} u_{y} + 2 f_{uu_y} u_{t} + 2 f_{uu_y} u_{x}^{2}$"
      ],
      "text/plain": [
       "                                                                                        2\n",
       "2⋅f_{tu_y} - 2⋅f_{u_xy} + 2⋅f_{u_yx}⋅uₓ - 2⋅f_{uu_x}⋅u_y + 2⋅f_{uu_y}⋅uₜ + 2⋅f_{uu_y}⋅uₓ "
      ]
     },
     "metadata": {},
     "output_type": "display_data"
    },
    {
     "data": {
      "image/png": "[encoded data removed]",
      "text/latex": [
       "$\\displaystyle 2 f_{u_tu_y}$"
      ],
      "text/plain": [
       "2⋅f_{u_tu_y}"
      ]
     },
     "metadata": {},
     "output_type": "display_data"
    },
    {
     "data": {
      "image/png": "[encoded data removed]",
      "text/latex": [
       "$\\displaystyle - f_{u_xu_x} + f_{u_yu_y} u_{x}$"
      ],
      "text/plain": [
       "-f_{u_xu_x} + f_{u_yu_y}⋅uₓ"
      ]
     },
     "metadata": {},
     "output_type": "display_data"
    },
    {
     "data": {
      "image/png": "[encoded data removed]",
      "text/latex": [
       "$\\displaystyle - f_{tu_t} u_{x} + 2 f_{tu_x} - f_{u_tx} u_{x}^{2} + f_{u_xx} u_{x} - f_{uu_t} u_{t} u_{x} - f_{uu_t} u_{x}^{3} + 2 f_{uu_x} u_{t} + f_{uu_x} u_{x}^{2} + f_{u} u_{x} + f_{x}$"
      ],
      "text/plain": [
       "                                       2                                             3               \n",
       "-f_{tu_t}⋅uₓ + 2⋅f_{tu_x} - f_{u_tx}⋅uₓ  + f_{u_xx}⋅uₓ - f_{uu_t}⋅uₜ⋅uₓ - f_{uu_t}⋅uₓ  + 2⋅f_{uu_x}⋅u\n",
       "\n",
       "               2                   \n",
       "ₜ + f_{uu_x}⋅uₓ  + f_{u}⋅uₓ + f_{x}"
      ]
     },
     "metadata": {},
     "output_type": "display_data"
    },
    {
     "data": {
      "image/png": "[encoded data removed]",
      "text/latex": [
       "$\\displaystyle - f_{u_tu_t} u_{x} + 2 f_{u_tu_x}$"
      ],
      "text/plain": [
       "-f_{u_tu_t}⋅uₓ + 2⋅f_{u_tu_x}"
      ]
     },
     "metadata": {},
     "output_type": "display_data"
    },
    {
     "data": {
      "image/png": "[encoded data removed]",
      "text/latex": [
       "$\\displaystyle - f_{u_tu_y} u_{x}^{2} + f_{u_xu_y} u_{x}$"
      ],
      "text/plain": [
       "               2                \n",
       "- f_{u_tu_y}⋅uₓ  + f_{u_xu_y}⋅uₓ"
      ]
     },
     "metadata": {},
     "output_type": "display_data"
    },
    {
     "data": {
      "image/png": "[encoded data removed]",
      "text/latex": [
       "$\\displaystyle \\frac{f_{u_tu_t} u_{x}^{3}}{4} - \\frac{f_{u_tu_x} u_{x}^{2}}{2}$"
      ],
      "text/plain": [
       "             3                2\n",
       "f_{u_tu_t}⋅uₓ    f_{u_tu_x}⋅uₓ \n",
       "────────────── - ──────────────\n",
       "      4                2       "
      ]
     },
     "metadata": {},
     "output_type": "display_data"
    },
    {
     "data": {
      "image/png": "[encoded data removed]",
      "text/latex": [
       "$\\displaystyle - 2 f_{u_ty} + 2 f_{u_yx} - 2 f_{uu_t} u_{y} + 2 f_{uu_y} u_{x}$"
      ],
      "text/plain": [
       "-2⋅f_{u_ty} + 2⋅f_{u_yx} - 2⋅f_{uu_t}⋅u_y + 2⋅f_{uu_y}⋅uₓ"
      ]
     },
     "metadata": {},
     "output_type": "display_data"
    },
    {
     "data": {
      "image/png": "[encoded data removed]",
      "text/latex": [
       "$\\displaystyle - 2 f_{u_tu_x} + 2 f_{u_yu_y}$"
      ],
      "text/plain": [
       "-2⋅f_{u_tu_x} + 2⋅f_{u_yu_y}"
      ]
     },
     "metadata": {},
     "output_type": "display_data"
    },
    {
     "data": {
      "image/png": "[encoded data removed]",
      "text/latex": [
       "$\\displaystyle - f_{u_tu_y} u_{x} + 2 f_{u_xu_y}$"
      ],
      "text/plain": [
       "-f_{u_tu_y}⋅uₓ + 2⋅f_{u_xu_y}"
      ]
     },
     "metadata": {},
     "output_type": "display_data"
    },
    {
     "data": {
      "image/png": "[encoded data removed]",
      "text/latex": [
       "$\\displaystyle - f_{u_tu_t}$"
      ],
      "text/plain": [
       "-f_{u_tu_t}"
      ]
     },
     "metadata": {},
     "output_type": "display_data"
    },
    {
     "data": {
      "image/png": "[encoded data removed]",
      "text/latex": [
       "$\\displaystyle f_{tu_t} + f_{u_tx} u_{x} + f_{u_xx} - 2 f_{u_yy} + f_{uu_t} u_{t} + f_{uu_t} u_{x}^{2} + f_{uu_x} u_{x} - 2 f_{uu_y} u_{y}$"
      ],
      "text/plain": [
       "                                                                          2                          \n",
       "f_{tu_t} + f_{u_tx}⋅uₓ + f_{u_xx} - 2⋅f_{u_yy} + f_{uu_t}⋅uₜ + f_{uu_t}⋅uₓ  + f_{uu_x}⋅uₓ - 2⋅f_{uu_y\n",
       "\n",
       "     \n",
       "}⋅u_y"
      ]
     },
     "metadata": {},
     "output_type": "display_data"
    },
    {
     "data": {
      "image/png": "[encoded data removed]",
      "text/latex": [
       "$\\displaystyle f_{u_tu_t}$"
      ],
      "text/plain": [
       "f_{u_tu_t}"
      ]
     },
     "metadata": {},
     "output_type": "display_data"
    },
    {
     "data": {
      "image/png": "[encoded data removed]",
      "text/latex": [
       "$\\displaystyle f_{u_tu_y} u_{x} - f_{u_xu_y}$"
      ],
      "text/plain": [
       "f_{u_tu_y}⋅uₓ - f_{u_xu_y}"
      ]
     },
     "metadata": {},
     "output_type": "display_data"
    },
    {
     "data": {
      "image/png": "[encoded data removed]",
      "text/latex": [
       "$\\displaystyle - \\frac{f_{u_tu_t} u_{x}^{2}}{2} + f_{u_xu_x}$"
      ],
      "text/plain": [
       "               2             \n",
       "  f_{u_tu_t}⋅uₓ              \n",
       "- ────────────── + f_{u_xu_x}\n",
       "        2                    "
      ]
     },
     "metadata": {},
     "output_type": "display_data"
    },
    {
     "data": {
      "image/png": "[encoded data removed]",
      "text/latex": [
       "$\\displaystyle - f_{u_tu_y}$"
      ],
      "text/plain": [
       "-f_{u_tu_y}"
      ]
     },
     "metadata": {},
     "output_type": "display_data"
    },
    {
     "data": {
      "image/png": "[encoded data removed]",
      "text/latex": [
       "$\\displaystyle \\frac{f_{u_tu_t} u_{x}}{4} + \\frac{f_{u_tu_x}}{2} - f_{u_yu_y}$"
      ],
      "text/plain": [
       "f_{u_tu_t}⋅uₓ   f_{u_tu_x}             \n",
       "───────────── + ────────── - f_{u_yu_y}\n",
       "      4             2                  "
      ]
     },
     "metadata": {},
     "output_type": "display_data"
    }
   ],
   "source": [
    "def to_eqs(a, var):\n",
    "    for x in var:\n",
    "        r = []\n",
    "        for b in a:\n",
    "            if b:\n",
    "                r.append([b.coeff(x, i) for i in range(b.as_poly(x).degree()+1) if b.coeff(x, i)])\n",
    "        a = chain(*r)\n",
    "    return list(a)\n",
    "\n",
    "eqs = to_eqs([eq4], DF)\n",
    "for eq in eqs:\n",
    "    print(sympy.latex(compact(eq)) + r\" = 0, \\\\\")\n",
    "for eq in eqs:\n",
    "    display(compact(eq))"
   ]
  },
  {
   "cell_type": "code",
   "execution_count": 15,
   "metadata": {},
   "outputs": [],
   "source": [
    "Monom.cmp = Monom.TOPdeglex"
   ]
  },
  {
   "cell_type": "code",
   "execution_count": 16,
   "metadata": {},
   "outputs": [],
   "source": [
    "var = 't, x, y, u, u_t, u_x, u_y'.split(', ')\n",
    "fun = ['f']\n",
    "Monom.init(var, fun)\n",
    "df = PolyDiff.df\n",
    "diff2poly = PolyDiff.diff2poly\n",
    "var, fun = PolyDiff.init()\n",
    "t, x, y, u, ut, ux, uy = var\n",
    "F1 = fun[0]"
   ]
  },
  {
   "cell_type": "code",
   "execution_count": 17,
   "metadata": {},
   "outputs": [
    {
     "data": {
      "image/png": "[encoded data removed]",
      "text/latex": [
       "$\\displaystyle 2 f_{tu} u_{x} + 2 f_{tx} + 2 f_{uu} u_{t} u_{x} + f_{uu} u_{x}^{3} - f_{uu} u_{y}^{2} + 2 f_{ux} u_{t} + 2 f_{ux} u_{x}^{2} - 2 f_{uy} u_{y} + f_{xx} u_{x} - f_{yy}$"
      ],
      "text/plain": [
       "                                                   3             2                            2      \n",
       "2⋅f_{tu}⋅uₓ + 2⋅f_{tx} + 2⋅f_{uu}⋅uₜ⋅uₓ + f_{uu}⋅uₓ  - f_{uu}⋅u_y  + 2⋅f_{ux}⋅uₜ + 2⋅f_{ux}⋅uₓ  - 2⋅f\n",
       "\n",
       "                              \n",
       "_{uy}⋅u_y + f_{xx}⋅uₓ - f_{yy}"
      ]
     },
     "execution_count": 17,
     "metadata": {},
     "output_type": "execute_result"
    }
   ],
   "source": [
    "compact(eqs[0])"
   ]
  },
  {
   "cell_type": "code",
   "execution_count": 18,
   "metadata": {},
   "outputs": [
    {
     "data": {
      "text/plain": [
       "[[[0;1 1 0 0 0 0 0], 2],\n",
       " [[0;0 2 0 0 0 0 0], u_x],\n",
       " [[0;0 0 2 0 0 0 0], -1],\n",
       " [[0;1 0 0 1 0 0 0], 2*u_x],\n",
       " [[0;0 1 0 1 0 0 0], 2*u_t + 2*u_x**2],\n",
       " [[0;0 0 1 1 0 0 0], -2*u_y],\n",
       " [[0;0 0 0 2 0 0 0], 2*u_t*u_x + u_x**3 - u_y**2]]"
      ]
     },
     "execution_count": 18,
     "metadata": {},
     "output_type": "execute_result"
    }
   ],
   "source": [
    "diff2poly(eqs[0])"
   ]
  },
  {
   "cell_type": "code",
   "execution_count": 19,
   "metadata": {},
   "outputs": [
    {
     "name": "stdout",
     "output_type": "stream",
     "text": [
      "df(f, t, x)*2 + df(f, x, 2)*u_x + df(f, y, 2)*(-1) + df(f, t, u)*2*u_x + df(f, x, u)*(2*u_t + 2*u_x**2) + df(f, y, u)*(-2*u_y) + df(f, u, 2)*(2*u_t*u_x + u_x**3 - u_y**2)\n"
     ]
    }
   ],
   "source": [
    "print(diff2poly(eqs[0]))"
   ]
  },
  {
   "cell_type": "code",
   "execution_count": 20,
   "metadata": {
    "scrolled": false
   },
   "outputs": [
    {
     "name": "stdout",
     "output_type": "stream",
     "text": [
      "prolong 0, Q 2\n",
      "df(f, u_t, u_y)\n",
      "prolong 0, Q 2\n",
      "df(f, u_x, u_y), df(f, u_x, 2), df(f, u_t, u_x), df(f, y, u_x), df(f, u_t, 2), df(f, u_y, 2), df(f, y, u_t), df(f, x, u_t), df(f, t, u_t), df(f, t, u_x), df(f, t, x)\n",
      "prolong 2, Q 0\n",
      "df(f, y, u_y, 2)\n",
      "prolong 3, Q 3\n",
      "df(f, x, u_y, 2)\n",
      "prolong 3, Q 3\n",
      "df(f, t, u_y, 2)\n",
      "prolong 3, Q 3\n",
      "df(f, u, u_x)\n",
      "prolong 2, Q 3\n",
      "df(f, u, u_y, 2)\n",
      "prolong 3, Q 3\n",
      "df(f, x, u_x, u_y)\n",
      "prolong 3, Q 3\n",
      "df(f, x, u_y)\n",
      "prolong 2, Q 3\n",
      "df(f, u, u_y)\n",
      "prolong 2, Q 3\n",
      "df(f, u, u_t)\n",
      "prolong 2, Q 3\n",
      "df(f, y, u, u_y)\n",
      "prolong 2, Q 3\n",
      "df(f, t, u, u_y)\n",
      "prolong 2, Q 3\n",
      "df(f, x, u_x), df(f, x, u), df(f, y, u)\n",
      "prolong 2, Q 3\n",
      "df(f, u, 2)\n",
      "prolong 2, Q 3\n",
      "df(f, y, 2, u_y)\n",
      "prolong 2, Q 3\n",
      "df(f, t, y, u_y)\n",
      "prolong 2, Q 3\n",
      "df(f, t, 2, u_y)\n",
      "prolong 2, Q 3\n",
      "df(f, t, u, u_x)\n",
      "prolong 3, Q 3\n",
      "df(f, y, 2, u_x)\n",
      "prolong 3, Q 3\n",
      "df(f, t, y, u_x)\n",
      "prolong 3, Q 3\n",
      "df(f, x, 2)\n",
      "prolong 2, Q 3\n",
      "df(f, t, 2, u_x)\n",
      "prolong 3, Q 3\n",
      "df(f, t, u, u_t)\n",
      "prolong 3, Q 3\n",
      "df(f, y, 2, u_t)\n",
      "prolong 3, Q 3\n",
      "df(f, t, y, u_t)\n",
      "prolong 3, Q 3\n",
      "df(f, t, 2, u_t)\n",
      "prolong 3, Q 3\n",
      "df(f, t, u, 2)\n",
      "prolong 3, Q 3\n",
      "df(f, y, 2, u)\n",
      "prolong 3, Q 3\n",
      "df(f, t, y, u)\n",
      "prolong 3, Q 3\n",
      "df(f, x, y, 2), df(f, t, 2, x)\n",
      "prolong 2, Q 0\n",
      "df(f, x, y, u_y)\n",
      "prolong 3, Q 3\n",
      "df(f, x, y, u_x)\n",
      "prolong 3, Q 3\n",
      "df(f, x, y, u_t)\n",
      "prolong 3, Q 3\n",
      "df(f, x, y, u)\n",
      "prolong 3, Q 0\n",
      "df(f, t, 2, u, 2)\n",
      "prolong 3, Q 4\n",
      "df(f, t, 2, u, u_y)\n",
      "prolong 4, Q 4\n",
      "df(f, t, 2, u, u_x)\n",
      "prolong 4, Q 4\n",
      "df(f, t, 2, u, u_t)\n",
      "prolong 4, Q 4\n",
      "df(f, t, 2, y, u)\n",
      "prolong 3, Q 4\n",
      "df(f, t, 2, y, u_y)\n",
      "prolong 4, Q 4\n",
      "df(f, t, 2, y, u_x)\n",
      "prolong 4, Q 4\n",
      "df(f, t, 2, y, u_t)\n",
      "prolong 4, Q 4\n",
      "df(f, y, 4)\n",
      "prolong 3, Q 0\n",
      "df(f, y, 3, u_y)\n",
      "prolong 4, Q 4\n",
      "df(f, y, 3, u_x)\n",
      "prolong 4, Q 4\n",
      "df(f, y, 3, u_t)\n",
      "prolong 4, Q 4\n",
      "df(f, y, 3, u)\n",
      "prolong 4, Q 0\n",
      "df(f, t, y, 4)\n",
      "prolong 3, Q 0\n",
      "df(f, t, y, 2, u_y)\n",
      "prolong 4, Q 4\n",
      "df(f, t, y, 2, u_x)\n",
      "prolong 4, Q 4\n",
      "df(f, t, y, 2, u_t)\n",
      "prolong 4, Q 4\n",
      "df(f, t, y, 2, u)\n",
      "prolong 4, Q 0\n",
      "df(f, t, y, 3, u_y)\n",
      "prolong 5, Q 5\n",
      "df(f, t, y, 3, u_x)\n",
      "prolong 5, Q 5\n",
      "df(f, t, y, 3, u_t)\n",
      "prolong 5, Q 5\n",
      "df(f, t, y, 3, u)\n",
      "prolong 5, Q 5\n",
      "prolong 5, Q 0\n",
      "df(f, t, 2, y, 4)\n",
      "prolong 4, Q 0\n",
      "df(f, t, 2, y, 2, u_y)\n",
      "prolong 5, Q 5\n",
      "df(f, t, 2, y, 2, u_x)\n",
      "prolong 5, Q 5\n",
      "df(f, t, 2, y, 2, u_t)\n",
      "prolong 5, Q 5\n",
      "df(f, t, 2, y, 2, u)\n",
      "prolong 5, Q 0\n",
      "df(f, t, 2, y, 3, u_y)\n",
      "prolong 6, Q 6\n",
      "df(f, t, 2, y, 3, u_x)\n",
      "prolong 6, Q 6\n",
      "df(f, t, 2, y, 3, u_t)\n",
      "prolong 6, Q 6\n",
      "df(f, t, 2, y, 3, u)\n",
      "prolong 6, Q 6\n",
      "prolong 6, Q 0\n",
      "prolong 0, Q 0\n",
      "    crit1: 0\n",
      "    crit2: 0\n",
      "     time: 3.14 sec\n",
      "    count: 75\n",
      "reduction: 854\n",
      "       HP: 5s + 5\n"
     ]
    }
   ],
   "source": [
    "LRT = Janet()\n",
    "res = ginvBlockLow([diff2poly(eq) for eq in eqs], \\\n",
    "LRT, level=1)\n",
    "print(f\"    crit1: {res[1]}\")\n",
    "print(f\"    crit2: {res[2]}\")\n",
    "print(f\"     time: {res[0]:.2f} sec\")\n",
    "print(f\"    count: {LRT.count()}\")\n",
    "print(f\"reduction: {LRT.reduction()}\")\n",
    "print(f\"       HP: {LRT.HP()}\")"
   ]
  },
  {
   "cell_type": "code",
   "execution_count": 21,
   "metadata": {},
   "outputs": [
    {
     "name": "stdout",
     "output_type": "stream",
     "text": [
      "df(f, u_y, 2)\n",
      "df(f, u_x, u_y)\n",
      "df(f, u_x, 2)\n",
      "df(f, u_t, u_y)\n",
      "df(f, u_t, u_x)\n",
      "df(f, u_t, 2)\n",
      "df(f, u, u_y)\n",
      "df(f, u, u_x)\n",
      "df(f, u, u_t)\n",
      "df(f, u, 2)\n",
      "df(f, y, u_x)*(-1) + df(f, t, u_y)\n",
      "df(f, y, u_t)\n",
      "df(f, y, u)\n",
      "df(f, x, u_y)\n",
      "df(f, x, u_x)*3 + df(f, y, u_y)*(-2) + df(f, u)\n",
      "df(f, x, u_t)\n",
      "df(f, x, u)\n",
      "df(f, x, 2) + df(f, t, u)*2\n",
      "df(f, t, u_x)*(-6) + df(f, y, u_y)*2*u_x + df(f, x)*(-3) + df(f, u)*(-u_x)\n",
      "df(f, t, u_t)*3 + df(f, y, u_y)*(-4) + df(f, u)*(-1)\n",
      "df(f, t, x)*2 + df(f, y, 2)*(-1)\n"
     ]
    }
   ],
   "source": [
    "for w in LRT.GB():\n",
    "    print(w.poly)"
   ]
  },
  {
   "cell_type": "code",
   "execution_count": 22,
   "metadata": {},
   "outputs": [
    {
     "name": "stdout",
     "output_type": "stream",
     "text": [
      "f_{u_yu_y} = 0, \\\\\n",
      "f_{u_xu_y} = 0, \\\\\n",
      "f_{u_xu_x} = 0, \\\\\n",
      "f_{u_tu_y} = 0, \\\\\n",
      "f_{u_tu_x} = 0, \\\\\n",
      "f_{u_tu_t} = 0, \\\\\n",
      "f_{uu_y} = 0, \\\\\n",
      "f_{uu_x} = 0, \\\\\n",
      "f_{uu_t} = 0, \\\\\n",
      "f_{uu} = 0, \\\\\n",
      "f_{tu_y} - f_{u_xy} = 0, \\\\\n",
      "f_{u_ty} = 0, \\\\\n",
      "f_{uy} = 0, \\\\\n",
      "f_{u_yx} = 0, \\\\\n",
      "3 f_{u_xx} - 2 f_{u_yy} + f_{u} = 0, \\\\\n",
      "f_{u_tx} = 0, \\\\\n",
      "f_{ux} = 0, \\\\\n",
      "2 f_{tu} + f_{xx} = 0, \\\\\n",
      "- 6 f_{tu_x} + 2 f_{u_yy} u_{x} - f_{u} u_{x} - 3 f_{x} = 0, \\\\\n",
      "3 f_{tu_t} - 4 f_{u_yy} - f_{u} = 0, \\\\\n",
      "2 f_{tx} - f_{yy} = 0, \\\\\n"
     ]
    }
   ],
   "source": [
    "for w in LRT.GB():\n",
    "    print(sympy.latex(compact(sum(sympy.Function('f')(t, x, y, u, ut, ux, uy)\\\n",
    "    .diff(*((v, d) for v, d in zip(var, m)))*c for m, c in w.poly).expand())) + r\" = 0, \\\\\")"
   ]
  },
  {
   "cell_type": "code",
   "execution_count": 23,
   "metadata": {},
   "outputs": [
    {
     "data": {
      "image/png": "[encoded data removed]",
      "text/latex": [
       "$\\displaystyle 0$"
      ],
      "text/plain": [
       "0"
      ]
     },
     "metadata": {},
     "output_type": "display_data"
    },
    {
     "data": {
      "image/png": "[encoded data removed]",
      "text/latex": [
       "$\\displaystyle 0$"
      ],
      "text/plain": [
       "0"
      ]
     },
     "metadata": {},
     "output_type": "display_data"
    },
    {
     "data": {
      "image/png": "[encoded data removed]",
      "text/latex": [
       "$\\displaystyle 0$"
      ],
      "text/plain": [
       "0"
      ]
     },
     "metadata": {},
     "output_type": "display_data"
    },
    {
     "data": {
      "image/png": "[encoded data removed]",
      "text/latex": [
       "$\\displaystyle 0$"
      ],
      "text/plain": [
       "0"
      ]
     },
     "metadata": {},
     "output_type": "display_data"
    },
    {
     "data": {
      "image/png": "[encoded data removed]",
      "text/latex": [
       "$\\displaystyle 0$"
      ],
      "text/plain": [
       "0"
      ]
     },
     "metadata": {},
     "output_type": "display_data"
    },
    {
     "data": {
      "image/png": "[encoded data removed]",
      "text/latex": [
       "$\\displaystyle 0$"
      ],
      "text/plain": [
       "0"
      ]
     },
     "metadata": {},
     "output_type": "display_data"
    },
    {
     "data": {
      "image/png": "[encoded data removed]",
      "text/latex": [
       "$\\displaystyle 0$"
      ],
      "text/plain": [
       "0"
      ]
     },
     "metadata": {},
     "output_type": "display_data"
    },
    {
     "data": {
      "image/png": "[encoded data removed]",
      "text/latex": [
       "$\\displaystyle 0$"
      ],
      "text/plain": [
       "0"
      ]
     },
     "metadata": {},
     "output_type": "display_data"
    },
    {
     "data": {
      "image/png": "[encoded data removed]",
      "text/latex": [
       "$\\displaystyle 0$"
      ],
      "text/plain": [
       "0"
      ]
     },
     "metadata": {},
     "output_type": "display_data"
    },
    {
     "data": {
      "image/png": "[encoded data removed]",
      "text/latex": [
       "$\\displaystyle 0$"
      ],
      "text/plain": [
       "0"
      ]
     },
     "metadata": {},
     "output_type": "display_data"
    },
    {
     "data": {
      "image/png": "[encoded data removed]",
      "text/latex": [
       "$\\displaystyle - B_{y} + C_{t}$"
      ],
      "text/plain": [
       "-B_{y} + C_{t}"
      ]
     },
     "metadata": {},
     "output_type": "display_data"
    },
    {
     "data": {
      "image/png": "[encoded data removed]",
      "text/latex": [
       "$\\displaystyle A_{y}$"
      ],
      "text/plain": [
       "A_{y}"
      ]
     },
     "metadata": {},
     "output_type": "display_data"
    },
    {
     "data": {
      "image/png": "[encoded data removed]",
      "text/latex": [
       "$\\displaystyle D_{y}$"
      ],
      "text/plain": [
       "D_{y}"
      ]
     },
     "metadata": {},
     "output_type": "display_data"
    },
    {
     "data": {
      "image/png": "[encoded data removed]",
      "text/latex": [
       "$\\displaystyle C_{x}$"
      ],
      "text/plain": [
       "C_{x}"
      ]
     },
     "metadata": {},
     "output_type": "display_data"
    },
    {
     "data": {
      "image/png": "[encoded data removed]",
      "text/latex": [
       "$\\displaystyle 3 B_{x} - 2 C_{y} + D$"
      ],
      "text/plain": [
       "3⋅B_{x} - 2⋅C_{y} + D"
      ]
     },
     "metadata": {},
     "output_type": "display_data"
    },
    {
     "data": {
      "image/png": "[encoded data removed]",
      "text/latex": [
       "$\\displaystyle A_{x}$"
      ],
      "text/plain": [
       "A_{x}"
      ]
     },
     "metadata": {},
     "output_type": "display_data"
    },
    {
     "data": {
      "image/png": "[encoded data removed]",
      "text/latex": [
       "$\\displaystyle D_{x}$"
      ],
      "text/plain": [
       "D_{x}"
      ]
     },
     "metadata": {},
     "output_type": "display_data"
    },
    {
     "data": {
      "image/png": "[encoded data removed]",
      "text/latex": [
       "$\\displaystyle A_{xx} u_{t} + B_{xx} u_{x} + C_{xx} u_{y} + 2 D_{t} + D_{xx} u + E_{xx}$"
      ],
      "text/plain": [
       "A_{xx}⋅uₜ + B_{xx}⋅uₓ + C_{xx}⋅u_y + 2⋅D_{t} + D_{xx}⋅u + E_{xx}"
      ]
     },
     "metadata": {},
     "output_type": "display_data"
    },
    {
     "data": {
      "image/png": "[encoded data removed]",
      "text/latex": [
       "$\\displaystyle - 3 A_{x} u_{t} - 6 B_{t} - 3 B_{x} u_{x} - 3 C_{x} u_{y} + 2 C_{y} u_{x} - D u_{x} - 3 D_{x} u - 3 E_{x}$"
      ],
      "text/plain": [
       "-3⋅A_{x}⋅uₜ - 6⋅B_{t} - 3⋅B_{x}⋅uₓ - 3⋅C_{x}⋅u_y + 2⋅C_{y}⋅uₓ - D⋅uₓ - 3⋅D_{x}⋅u - 3⋅E_{x}"
      ]
     },
     "metadata": {},
     "output_type": "display_data"
    },
    {
     "data": {
      "image/png": "[encoded data removed]",
      "text/latex": [
       "$\\displaystyle 3 A_{t} - 4 C_{y} - D$"
      ],
      "text/plain": [
       "3⋅A_{t} - 4⋅C_{y} - D"
      ]
     },
     "metadata": {},
     "output_type": "display_data"
    },
    {
     "data": {
      "image/png": "[encoded data removed]",
      "text/latex": [
       "$\\displaystyle 2 A_{tx} u_{t} - A_{yy} u_{t} + 2 B_{tx} u_{x} - B_{yy} u_{x} + 2 C_{tx} u_{y} - C_{yy} u_{y} + 2 D_{tx} u - D_{yy} u + 2 E_{tx} - E_{yy}$"
      ],
      "text/plain": [
       "2⋅A_{tx}⋅uₜ - A_{yy}⋅uₜ + 2⋅B_{tx}⋅uₓ - B_{yy}⋅uₓ + 2⋅C_{tx}⋅u_y - C_{yy}⋅u_y + 2⋅D_{tx}⋅u - D_{yy}⋅u\n",
       " + 2⋅E_{tx} - E_{yy}"
      ]
     },
     "metadata": {},
     "output_type": "display_data"
    }
   ],
   "source": [
    "F1 = [sum(sympy.Function(i)(t, x, y)*j for i, j in zip(\\\n",
    "    \"A, B, C, D, E\".split(', '),\n",
    "    (ut, ux, uy, u, 1)))]\n",
    "eqs1 = []\n",
    "for w in LRT.GB():\n",
    "    eqs1.append(sum(F1[m.position()].diff(*((v, d) for v, d in zip(var, m)))*c\\\n",
    "                    if m.position() >=0 else c for m, c in w.poly).expand())\n",
    "for eq in eqs1:\n",
    "    display(compact(eq))"
   ]
  },
  {
   "cell_type": "code",
   "execution_count": 24,
   "metadata": {
    "scrolled": false
   },
   "outputs": [
    {
     "data": {
      "image/png": "[encoded data removed]",
      "text/latex": [
       "$\\displaystyle - B_{y} + C_{t}$"
      ],
      "text/plain": [
       "-B_{y} + C_{t}"
      ]
     },
     "metadata": {},
     "output_type": "display_data"
    },
    {
     "data": {
      "image/png": "[encoded data removed]",
      "text/latex": [
       "$\\displaystyle A_{y}$"
      ],
      "text/plain": [
       "A_{y}"
      ]
     },
     "metadata": {},
     "output_type": "display_data"
    },
    {
     "data": {
      "image/png": "[encoded data removed]",
      "text/latex": [
       "$\\displaystyle D_{y}$"
      ],
      "text/plain": [
       "D_{y}"
      ]
     },
     "metadata": {},
     "output_type": "display_data"
    },
    {
     "data": {
      "image/png": "[encoded data removed]",
      "text/latex": [
       "$\\displaystyle C_{x}$"
      ],
      "text/plain": [
       "C_{x}"
      ]
     },
     "metadata": {},
     "output_type": "display_data"
    },
    {
     "data": {
      "image/png": "[encoded data removed]",
      "text/latex": [
       "$\\displaystyle 3 B_{x} - 2 C_{y} + D$"
      ],
      "text/plain": [
       "3⋅B_{x} - 2⋅C_{y} + D"
      ]
     },
     "metadata": {},
     "output_type": "display_data"
    },
    {
     "data": {
      "image/png": "[encoded data removed]",
      "text/latex": [
       "$\\displaystyle A_{x}$"
      ],
      "text/plain": [
       "A_{x}"
      ]
     },
     "metadata": {},
     "output_type": "display_data"
    },
    {
     "data": {
      "image/png": "[encoded data removed]",
      "text/latex": [
       "$\\displaystyle D_{x}$"
      ],
      "text/plain": [
       "D_{x}"
      ]
     },
     "metadata": {},
     "output_type": "display_data"
    },
    {
     "data": {
      "image/png": "[encoded data removed]",
      "text/latex": [
       "$\\displaystyle 2 D_{t} + E_{xx}$"
      ],
      "text/plain": [
       "2⋅D_{t} + E_{xx}"
      ]
     },
     "metadata": {},
     "output_type": "display_data"
    },
    {
     "data": {
      "image/png": "[encoded data removed]",
      "text/latex": [
       "$\\displaystyle C_{xx}$"
      ],
      "text/plain": [
       "C_{xx}"
      ]
     },
     "metadata": {},
     "output_type": "display_data"
    },
    {
     "data": {
      "image/png": "[encoded data removed]",
      "text/latex": [
       "$\\displaystyle B_{xx}$"
      ],
      "text/plain": [
       "B_{xx}"
      ]
     },
     "metadata": {},
     "output_type": "display_data"
    },
    {
     "data": {
      "image/png": "[encoded data removed]",
      "text/latex": [
       "$\\displaystyle A_{xx}$"
      ],
      "text/plain": [
       "A_{xx}"
      ]
     },
     "metadata": {},
     "output_type": "display_data"
    },
    {
     "data": {
      "image/png": "[encoded data removed]",
      "text/latex": [
       "$\\displaystyle D_{xx}$"
      ],
      "text/plain": [
       "D_{xx}"
      ]
     },
     "metadata": {},
     "output_type": "display_data"
    },
    {
     "data": {
      "image/png": "[encoded data removed]",
      "text/latex": [
       "$\\displaystyle - 6 B_{t} - 3 E_{x}$"
      ],
      "text/plain": [
       "-6⋅B_{t} - 3⋅E_{x}"
      ]
     },
     "metadata": {},
     "output_type": "display_data"
    },
    {
     "data": {
      "image/png": "[encoded data removed]",
      "text/latex": [
       "$\\displaystyle - 3 C_{x}$"
      ],
      "text/plain": [
       "-3⋅C_{x}"
      ]
     },
     "metadata": {},
     "output_type": "display_data"
    },
    {
     "data": {
      "image/png": "[encoded data removed]",
      "text/latex": [
       "$\\displaystyle - 3 B_{x} + 2 C_{y} - D$"
      ],
      "text/plain": [
       "-3⋅B_{x} + 2⋅C_{y} - D"
      ]
     },
     "metadata": {},
     "output_type": "display_data"
    },
    {
     "data": {
      "image/png": "[encoded data removed]",
      "text/latex": [
       "$\\displaystyle - 3 A_{x}$"
      ],
      "text/plain": [
       "-3⋅A_{x}"
      ]
     },
     "metadata": {},
     "output_type": "display_data"
    },
    {
     "data": {
      "image/png": "[encoded data removed]",
      "text/latex": [
       "$\\displaystyle - 3 D_{x}$"
      ],
      "text/plain": [
       "-3⋅D_{x}"
      ]
     },
     "metadata": {},
     "output_type": "display_data"
    },
    {
     "data": {
      "image/png": "[encoded data removed]",
      "text/latex": [
       "$\\displaystyle 3 A_{t} - 4 C_{y} - D$"
      ],
      "text/plain": [
       "3⋅A_{t} - 4⋅C_{y} - D"
      ]
     },
     "metadata": {},
     "output_type": "display_data"
    },
    {
     "data": {
      "image/png": "[encoded data removed]",
      "text/latex": [
       "$\\displaystyle 2 E_{tx} - E_{yy}$"
      ],
      "text/plain": [
       "2⋅E_{tx} - E_{yy}"
      ]
     },
     "metadata": {},
     "output_type": "display_data"
    },
    {
     "data": {
      "image/png": "[encoded data removed]",
      "text/latex": [
       "$\\displaystyle 2 C_{tx} - C_{yy}$"
      ],
      "text/plain": [
       "2⋅C_{tx} - C_{yy}"
      ]
     },
     "metadata": {},
     "output_type": "display_data"
    },
    {
     "data": {
      "image/png": "[encoded data removed]",
      "text/latex": [
       "$\\displaystyle 2 B_{tx} - B_{yy}$"
      ],
      "text/plain": [
       "2⋅B_{tx} - B_{yy}"
      ]
     },
     "metadata": {},
     "output_type": "display_data"
    },
    {
     "data": {
      "image/png": "[encoded data removed]",
      "text/latex": [
       "$\\displaystyle 2 A_{tx} - A_{yy}$"
      ],
      "text/plain": [
       "2⋅A_{tx} - A_{yy}"
      ]
     },
     "metadata": {},
     "output_type": "display_data"
    },
    {
     "data": {
      "image/png": "[encoded data removed]",
      "text/latex": [
       "$\\displaystyle 2 D_{tx} - D_{yy}$"
      ],
      "text/plain": [
       "2⋅D_{tx} - D_{yy}"
      ]
     },
     "metadata": {},
     "output_type": "display_data"
    }
   ],
   "source": [
    "eqs2 = to_eqs(eqs1, [u, ut, ux, uy])\n",
    "for eq in eqs2:\n",
    "    display(compact(eq))"
   ]
  },
  {
   "cell_type": "code",
   "execution_count": 25,
   "metadata": {},
   "outputs": [
    {
     "name": "stdout",
     "output_type": "stream",
     "text": [
      "prolong 0, Q 1\n",
      "df(A, y)\n",
      "prolong 0, Q 1\n",
      "df(D, y)\n",
      "prolong 0, Q 1\n",
      "df(A, x)\n",
      "prolong 0, Q 1\n",
      "df(B, x)\n",
      "prolong 0, Q 1\n",
      "df(C, x)\n",
      "prolong 0, Q 1\n",
      "df(D, x)\n",
      "prolong 0, Q 1\n",
      "df(A, t)\n",
      "prolong 0, Q 1\n",
      "df(B, t)\n",
      "prolong 0, Q 1\n",
      "df(C, t)\n",
      "prolong 0, Q 2\n",
      "df(E, x, 2)\n",
      "prolong 0, Q 2\n",
      "df(E, t, x)\n",
      "prolong 1, Q 0\n",
      "df(B, y, 2), df(C, y, 2)\n",
      "prolong 2, Q 0\n",
      "df(E, x, y, 2)\n",
      "prolong 3, Q 0\n",
      "df(E, y, 4)\n",
      "prolong 4, Q 0\n",
      "df(E, t, y, 4)\n",
      "prolong 5, Q 0\n",
      "prolong 0, Q 0\n",
      "    crit1: 0\n",
      "    crit2: 0\n",
      "     time: 0.15 sec\n",
      "    count: 16\n",
      "reduction: 72\n",
      "       HP: 5s + 6\n"
     ]
    }
   ],
   "source": [
    "var = 't, x, y'.split(', ')\n",
    "fun = \"A, B, C, D, E\".split(', ')\n",
    "Monom.init(var, fun)\n",
    "df = PolyDiff.df\n",
    "diff2poly = PolyDiff.diff2poly\n",
    "var, fun = PolyDiff.init()\n",
    "t, x, y = var\n",
    "A, B, C, D, E = fun\n",
    "\n",
    "LRT1 = Forest(Janet)\n",
    "res = ginvBlockLow([diff2poly(eq) for eq in eqs1 if eq], \\\n",
    "LRT1, level=1)\n",
    "print(f\"    crit1: {res[1]}\")\n",
    "print(f\"    crit2: {res[2]}\")\n",
    "print(f\"     time: {res[0]:.2f} sec\")\n",
    "print(f\"    count: {LRT1.count()}\")\n",
    "print(f\"reduction: {LRT1.reduction()}\")\n",
    "print(f\"       HP: {LRT1.HP()}\")"
   ]
  },
  {
   "cell_type": "code",
   "execution_count": 26,
   "metadata": {},
   "outputs": [
    {
     "name": "stdout",
     "output_type": "stream",
     "text": [
      "df(A, y)\n",
      "df(A, x)\n",
      "df(A, t)*3 + df(C, y)*(-4) + df(D)*(-1)\n",
      "df(B, y, 2) + df(D, t)*(-2)\n",
      "df(B, x)*3 + df(C, y)*(-2) + df(D)\n",
      "df(B, t)*(-2) + df(E, x)*(-1)\n",
      "df(C, y, 2)\n",
      "df(C, x)\n",
      "df(C, t) + df(B, y)*(-1)\n",
      "df(D, y)\n",
      "df(D, x)\n",
      "df(E, y, 4)*(-1) + df(D, t, 3)*(-8)\n",
      "df(E, x, y, 2) + df(D, t, 2)*4\n",
      "df(E, x, 2) + df(D, t)*2\n",
      "df(E, t, x)*(-2) + df(E, y, 2)\n"
     ]
    }
   ],
   "source": [
    "for w in LRT1.GB():\n",
    "    print(w.poly)"
   ]
  },
  {
   "cell_type": "code",
   "execution_count": 27,
   "metadata": {},
   "outputs": [
    {
     "data": {
      "image/png": "[encoded data removed]",
      "text/latex": [
       "$\\displaystyle 0$"
      ],
      "text/plain": [
       "0"
      ]
     },
     "metadata": {},
     "output_type": "display_data"
    },
    {
     "data": {
      "image/png": "[encoded data removed]",
      "text/latex": [
       "$\\displaystyle 0$"
      ],
      "text/plain": [
       "0"
      ]
     },
     "metadata": {},
     "output_type": "display_data"
    },
    {
     "data": {
      "image/png": "[encoded data removed]",
      "text/latex": [
       "$\\displaystyle 3 A_{t} - 4 C_{1} - D$"
      ],
      "text/plain": [
       "3⋅A_{t} - 4⋅C₁ - D"
      ]
     },
     "metadata": {},
     "output_type": "display_data"
    },
    {
     "data": {
      "image/png": "[encoded data removed]",
      "text/latex": [
       "$\\displaystyle B_{yy} - 2 D_{t}$"
      ],
      "text/plain": [
       "B_{yy} - 2⋅D_{t}"
      ]
     },
     "metadata": {},
     "output_type": "display_data"
    },
    {
     "data": {
      "image/png": "[encoded data removed]",
      "text/latex": [
       "$\\displaystyle 3 B_{x} - 2 C_{1} + D$"
      ],
      "text/plain": [
       "3⋅B_{x} - 2⋅C₁ + D"
      ]
     },
     "metadata": {},
     "output_type": "display_data"
    },
    {
     "data": {
      "image/png": "[encoded data removed]",
      "text/latex": [
       "$\\displaystyle - 2 B_{t} - E_{x}$"
      ],
      "text/plain": [
       "-2⋅B_{t} - E_{x}"
      ]
     },
     "metadata": {},
     "output_type": "display_data"
    },
    {
     "data": {
      "image/png": "[encoded data removed]",
      "text/latex": [
       "$\\displaystyle 0$"
      ],
      "text/plain": [
       "0"
      ]
     },
     "metadata": {},
     "output_type": "display_data"
    },
    {
     "data": {
      "image/png": "[encoded data removed]",
      "text/latex": [
       "$\\displaystyle 0$"
      ],
      "text/plain": [
       "0"
      ]
     },
     "metadata": {},
     "output_type": "display_data"
    },
    {
     "data": {
      "image/png": "[encoded data removed]",
      "text/latex": [
       "$\\displaystyle - B_{y} + C0_{t} + C1_{t} y$"
      ],
      "text/plain": [
       "-B_{y} + C_0_{t} + C_1_{t}⋅y"
      ]
     },
     "metadata": {},
     "output_type": "display_data"
    },
    {
     "data": {
      "image/png": "[encoded data removed]",
      "text/latex": [
       "$\\displaystyle 0$"
      ],
      "text/plain": [
       "0"
      ]
     },
     "metadata": {},
     "output_type": "display_data"
    },
    {
     "data": {
      "image/png": "[encoded data removed]",
      "text/latex": [
       "$\\displaystyle 0$"
      ],
      "text/plain": [
       "0"
      ]
     },
     "metadata": {},
     "output_type": "display_data"
    },
    {
     "data": {
      "image/png": "[encoded data removed]",
      "text/latex": [
       "$\\displaystyle - 8 D_{ttt} - E_{yyyy}$"
      ],
      "text/plain": [
       "-8⋅D_{ttt} - E_{yyyy}"
      ]
     },
     "metadata": {},
     "output_type": "display_data"
    },
    {
     "data": {
      "image/png": "[encoded data removed]",
      "text/latex": [
       "$\\displaystyle 4 D_{tt} + E_{xyy}$"
      ],
      "text/plain": [
       "4⋅D_{tt} + E_{xyy}"
      ]
     },
     "metadata": {},
     "output_type": "display_data"
    },
    {
     "data": {
      "image/png": "[encoded data removed]",
      "text/latex": [
       "$\\displaystyle 2 D_{t} + E_{xx}$"
      ],
      "text/plain": [
       "2⋅D_{t} + E_{xx}"
      ]
     },
     "metadata": {},
     "output_type": "display_data"
    },
    {
     "data": {
      "image/png": "[encoded data removed]",
      "text/latex": [
       "$\\displaystyle - 2 E_{tx} + E_{yy}$"
      ],
      "text/plain": [
       "-2⋅E_{tx} + E_{yy}"
      ]
     },
     "metadata": {},
     "output_type": "display_data"
    }
   ],
   "source": [
    "A, C0, C1, D = (a(t) for a in sympy.symbols('A, C0, C1, D', cls=sympy.Function))\n",
    "B, E = (a(t, x, y) for a in sympy.symbols('B, E', cls=sympy.Function))\n",
    "F2 = [A, B, C0 + C1*y, D, E]\n",
    "eqs3 = []\n",
    "for w in LRT1.GB():\n",
    "    eqs3.append(sum(F2[m.position()].diff(*((v, d) for v, d in zip(var, m)))*c\\\n",
    "                    if m.position() >=0 else c for m, c in w.poly).expand())\n",
    "for eq in eqs3:\n",
    "    display(compact(eq))"
   ]
  },
  {
   "cell_type": "code",
   "execution_count": 28,
   "metadata": {},
   "outputs": [
    {
     "data": {
      "image/png": "[encoded data removed]",
      "text/latex": [
       "$\\displaystyle 0$"
      ],
      "text/plain": [
       "0"
      ]
     },
     "metadata": {},
     "output_type": "display_data"
    },
    {
     "data": {
      "image/png": "[encoded data removed]",
      "text/latex": [
       "$\\displaystyle 0$"
      ],
      "text/plain": [
       "0"
      ]
     },
     "metadata": {},
     "output_type": "display_data"
    },
    {
     "data": {
      "image/png": "[encoded data removed]",
      "text/latex": [
       "$\\displaystyle 3 A_{t} - 4 C_{1} - D$"
      ],
      "text/plain": [
       "3⋅A_{t} - 4⋅C₁ - D"
      ]
     },
     "metadata": {},
     "output_type": "display_data"
    },
    {
     "data": {
      "image/png": "[encoded data removed]",
      "text/latex": [
       "$\\displaystyle 2 B_{3} - 2 D_{t}$"
      ],
      "text/plain": [
       "2⋅B₃ - 2⋅D_{t}"
      ]
     },
     "metadata": {},
     "output_type": "display_data"
    },
    {
     "data": {
      "image/png": "[encoded data removed]",
      "text/latex": [
       "$\\displaystyle 3 B_{1} - 2 C_{1} + D$"
      ],
      "text/plain": [
       "3⋅B₁ - 2⋅C₁ + D"
      ]
     },
     "metadata": {},
     "output_type": "display_data"
    },
    {
     "data": {
      "image/png": "[encoded data removed]",
      "text/latex": [
       "$\\displaystyle - 2 B0_{t} - 2 B1_{t} x - 2 B2_{t} y - 2 B3_{t} y^{2} - E_{x}$"
      ],
      "text/plain": [
       "                                                    2        \n",
       "-2⋅B_0_{t} - 2⋅B_1_{t}⋅x - 2⋅B_2_{t}⋅y - 2⋅B_3_{t}⋅y  - E_{x}"
      ]
     },
     "metadata": {},
     "output_type": "display_data"
    },
    {
     "data": {
      "image/png": "[encoded data removed]",
      "text/latex": [
       "$\\displaystyle 0$"
      ],
      "text/plain": [
       "0"
      ]
     },
     "metadata": {},
     "output_type": "display_data"
    },
    {
     "data": {
      "image/png": "[encoded data removed]",
      "text/latex": [
       "$\\displaystyle 0$"
      ],
      "text/plain": [
       "0"
      ]
     },
     "metadata": {},
     "output_type": "display_data"
    },
    {
     "data": {
      "image/png": "[encoded data removed]",
      "text/latex": [
       "$\\displaystyle - B_{2} - 2 B_{3} y + C0_{t} + C1_{t} y$"
      ],
      "text/plain": [
       "-B₂ - 2⋅B₃⋅y + C_0_{t} + C_1_{t}⋅y"
      ]
     },
     "metadata": {},
     "output_type": "display_data"
    },
    {
     "data": {
      "image/png": "[encoded data removed]",
      "text/latex": [
       "$\\displaystyle 0$"
      ],
      "text/plain": [
       "0"
      ]
     },
     "metadata": {},
     "output_type": "display_data"
    },
    {
     "data": {
      "image/png": "[encoded data removed]",
      "text/latex": [
       "$\\displaystyle 0$"
      ],
      "text/plain": [
       "0"
      ]
     },
     "metadata": {},
     "output_type": "display_data"
    },
    {
     "data": {
      "image/png": "[encoded data removed]",
      "text/latex": [
       "$\\displaystyle - 8 D_{ttt} - E_{yyyy}$"
      ],
      "text/plain": [
       "-8⋅D_{ttt} - E_{yyyy}"
      ]
     },
     "metadata": {},
     "output_type": "display_data"
    },
    {
     "data": {
      "image/png": "[encoded data removed]",
      "text/latex": [
       "$\\displaystyle 4 D_{tt} + E_{xyy}$"
      ],
      "text/plain": [
       "4⋅D_{tt} + E_{xyy}"
      ]
     },
     "metadata": {},
     "output_type": "display_data"
    },
    {
     "data": {
      "image/png": "[encoded data removed]",
      "text/latex": [
       "$\\displaystyle 2 D_{t} + E_{xx}$"
      ],
      "text/plain": [
       "2⋅D_{t} + E_{xx}"
      ]
     },
     "metadata": {},
     "output_type": "display_data"
    },
    {
     "data": {
      "image/png": "[encoded data removed]",
      "text/latex": [
       "$\\displaystyle - 2 E_{tx} + E_{yy}$"
      ],
      "text/plain": [
       "-2⋅E_{tx} + E_{yy}"
      ]
     },
     "metadata": {},
     "output_type": "display_data"
    }
   ],
   "source": [
    "A, B0, B1, B2, B3, C0, C1, D = (a(t) for a in sympy.symbols('A, B0, B1, B2, B3, C0, C1, D', cls=sympy.Function))\n",
    "E = sympy.Function('E')(t, x, y)\n",
    "F3 = [A, B0 + B1*x + B2*y + B3*y**2, C0 + C1*y, D, E]\n",
    "eqs3 = []\n",
    "for w in LRT1.GB():\n",
    "    eqs3.append(sum(F3[m.position()].diff(*((v, d) for v, d in zip(var, m)))*c\\\n",
    "                    if m.position() >=0 else c for m, c in w.poly).expand())\n",
    "for eq in eqs3:\n",
    "    display(compact(eq))"
   ]
  },
  {
   "cell_type": "code",
   "execution_count": 29,
   "metadata": {},
   "outputs": [
    {
     "data": {
      "image/png": "[encoded data removed]",
      "text/latex": [
       "$\\displaystyle 0$"
      ],
      "text/plain": [
       "0"
      ]
     },
     "metadata": {},
     "output_type": "display_data"
    },
    {
     "data": {
      "image/png": "[encoded data removed]",
      "text/latex": [
       "$\\displaystyle 0$"
      ],
      "text/plain": [
       "0"
      ]
     },
     "metadata": {},
     "output_type": "display_data"
    },
    {
     "data": {
      "image/png": "[encoded data removed]",
      "text/latex": [
       "$\\displaystyle 3 A_{t} - 4 C_{1} - D$"
      ],
      "text/plain": [
       "3⋅A_{t} - 4⋅C₁ - D"
      ]
     },
     "metadata": {},
     "output_type": "display_data"
    },
    {
     "data": {
      "image/png": "[encoded data removed]",
      "text/latex": [
       "$\\displaystyle 2 B_{3} - 2 D_{t}$"
      ],
      "text/plain": [
       "2⋅B₃ - 2⋅D_{t}"
      ]
     },
     "metadata": {},
     "output_type": "display_data"
    },
    {
     "data": {
      "image/png": "[encoded data removed]",
      "text/latex": [
       "$\\displaystyle 3 B_{1} - 2 C_{1} + D$"
      ],
      "text/plain": [
       "3⋅B₁ - 2⋅C₁ + D"
      ]
     },
     "metadata": {},
     "output_type": "display_data"
    },
    {
     "data": {
      "image/png": "[encoded data removed]",
      "text/latex": [
       "$\\displaystyle - 2 B0_{t} - 2 B1_{t} x - 2 B2_{t} y - 2 B3_{t} y^{2} - E_{1} - E_{4} y - 2 E_{5} x - E_{7} y^{2}$"
      ],
      "text/plain": [
       "                                                    2                            2\n",
       "-2⋅B_0_{t} - 2⋅B_1_{t}⋅x - 2⋅B_2_{t}⋅y - 2⋅B_3_{t}⋅y  - E₁ - E₄⋅y - 2⋅E₅⋅x - E₇⋅y "
      ]
     },
     "metadata": {},
     "output_type": "display_data"
    },
    {
     "data": {
      "image/png": "[encoded data removed]",
      "text/latex": [
       "$\\displaystyle 0$"
      ],
      "text/plain": [
       "0"
      ]
     },
     "metadata": {},
     "output_type": "display_data"
    },
    {
     "data": {
      "image/png": "[encoded data removed]",
      "text/latex": [
       "$\\displaystyle 0$"
      ],
      "text/plain": [
       "0"
      ]
     },
     "metadata": {},
     "output_type": "display_data"
    },
    {
     "data": {
      "image/png": "[encoded data removed]",
      "text/latex": [
       "$\\displaystyle - B_{2} - 2 B_{3} y + C0_{t} + C1_{t} y$"
      ],
      "text/plain": [
       "-B₂ - 2⋅B₃⋅y + C_0_{t} + C_1_{t}⋅y"
      ]
     },
     "metadata": {},
     "output_type": "display_data"
    },
    {
     "data": {
      "image/png": "[encoded data removed]",
      "text/latex": [
       "$\\displaystyle 0$"
      ],
      "text/plain": [
       "0"
      ]
     },
     "metadata": {},
     "output_type": "display_data"
    },
    {
     "data": {
      "image/png": "[encoded data removed]",
      "text/latex": [
       "$\\displaystyle 0$"
      ],
      "text/plain": [
       "0"
      ]
     },
     "metadata": {},
     "output_type": "display_data"
    },
    {
     "data": {
      "image/png": "[encoded data removed]",
      "text/latex": [
       "$\\displaystyle - 8 D_{ttt} - 24 E_{8}$"
      ],
      "text/plain": [
       "-8⋅D_{ttt} - 24⋅E₈"
      ]
     },
     "metadata": {},
     "output_type": "display_data"
    },
    {
     "data": {
      "image/png": "[encoded data removed]",
      "text/latex": [
       "$\\displaystyle 4 D_{tt} + 2 E_{7}$"
      ],
      "text/plain": [
       "4⋅D_{tt} + 2⋅E₇"
      ]
     },
     "metadata": {},
     "output_type": "display_data"
    },
    {
     "data": {
      "image/png": "[encoded data removed]",
      "text/latex": [
       "$\\displaystyle 2 D_{t} + 2 E_{5}$"
      ],
      "text/plain": [
       "2⋅D_{t} + 2⋅E₅"
      ]
     },
     "metadata": {},
     "output_type": "display_data"
    },
    {
     "data": {
      "image/png": "[encoded data removed]",
      "text/latex": [
       "$\\displaystyle - 2 E1_{t} + 2 E_{3} - 2 E4_{t} y - 4 E5_{t} x + 6 E_{6} y + 2 E_{7} x - 2 E7_{t} y^{2} + 12 E_{8} y^{2}$"
      ],
      "text/plain": [
       "                                                                             2          2\n",
       "-2⋅E_1_{t} + 2⋅E₃ - 2⋅E_4_{t}⋅y - 4⋅E_5_{t}⋅x + 6⋅E₆⋅y + 2⋅E₇⋅x - 2⋅E_7_{t}⋅y  + 12⋅E₈⋅y "
      ]
     },
     "metadata": {},
     "output_type": "display_data"
    }
   ],
   "source": [
    "A, B0, B1, B2, B3, C0, C1, D, E0, E1, E2, E3, E4, E5, E6, E7, E8 = (a(t) for a in\\\n",
    "    sympy.symbols('A, B0, B1, B2, B3, C0, C1, D, E0, E1, E2, E3, E4, E5, E6, E7, E8', cls=sympy.Function))\n",
    "F3 = [A, B0 + B1*x + B2*y + B3*y**2, C0 + C1*y, D,\\\n",
    "    E0 + E1*x + E2*y + E3*y**2 + E4*x*y + E5*x**2 + E6*y**3 + E7*x*y**2 + E8*y**4]\n",
    "eqs3 = []\n",
    "for w in LRT1.GB():\n",
    "    eqs3.append(sum(F3[m.position()].diff(*((v, d) for v, d in zip(var, m)))*c\\\n",
    "                    if m.position() >=0 else c for m, c in w.poly).expand())\n",
    "for eq in eqs3:\n",
    "    display(compact(eq))"
   ]
  },
  {
   "cell_type": "code",
   "execution_count": 30,
   "metadata": {},
   "outputs": [
    {
     "data": {
      "image/png": "[encoded data removed]",
      "text/latex": [
       "$\\displaystyle 3 A_{t} - 4 C_{1} - D$"
      ],
      "text/plain": [
       "3⋅A_{t} - 4⋅C₁ - D"
      ]
     },
     "metadata": {},
     "output_type": "display_data"
    },
    {
     "data": {
      "image/png": "[encoded data removed]",
      "text/latex": [
       "$\\displaystyle 2 B_{3} - 2 D_{t}$"
      ],
      "text/plain": [
       "2⋅B₃ - 2⋅D_{t}"
      ]
     },
     "metadata": {},
     "output_type": "display_data"
    },
    {
     "data": {
      "image/png": "[encoded data removed]",
      "text/latex": [
       "$\\displaystyle 3 B_{1} - 2 C_{1} + D$"
      ],
      "text/plain": [
       "3⋅B₁ - 2⋅C₁ + D"
      ]
     },
     "metadata": {},
     "output_type": "display_data"
    },
    {
     "data": {
      "image/png": "[encoded data removed]",
      "text/latex": [
       "$\\displaystyle - 2 B0_{t} - E_{1}$"
      ],
      "text/plain": [
       "-2⋅B_0_{t} - E₁"
      ]
     },
     "metadata": {},
     "output_type": "display_data"
    },
    {
     "data": {
      "image/png": "[encoded data removed]",
      "text/latex": [
       "$\\displaystyle - 2 B2_{t} - E_{4}$"
      ],
      "text/plain": [
       "-2⋅B_2_{t} - E₄"
      ]
     },
     "metadata": {},
     "output_type": "display_data"
    },
    {
     "data": {
      "image/png": "[encoded data removed]",
      "text/latex": [
       "$\\displaystyle - 2 B3_{t} - E_{7}$"
      ],
      "text/plain": [
       "-2⋅B_3_{t} - E₇"
      ]
     },
     "metadata": {},
     "output_type": "display_data"
    },
    {
     "data": {
      "image/png": "[encoded data removed]",
      "text/latex": [
       "$\\displaystyle - 2 B1_{t} - 2 E_{5}$"
      ],
      "text/plain": [
       "-2⋅B_1_{t} - 2⋅E₅"
      ]
     },
     "metadata": {},
     "output_type": "display_data"
    },
    {
     "data": {
      "image/png": "[encoded data removed]",
      "text/latex": [
       "$\\displaystyle - B_{2} + C0_{t}$"
      ],
      "text/plain": [
       "-B₂ + C_0_{t}"
      ]
     },
     "metadata": {},
     "output_type": "display_data"
    },
    {
     "data": {
      "image/png": "[encoded data removed]",
      "text/latex": [
       "$\\displaystyle - 2 B_{3} + C1_{t}$"
      ],
      "text/plain": [
       "-2⋅B₃ + C_1_{t}"
      ]
     },
     "metadata": {},
     "output_type": "display_data"
    },
    {
     "data": {
      "image/png": "[encoded data removed]",
      "text/latex": [
       "$\\displaystyle - 8 D_{ttt} - 24 E_{8}$"
      ],
      "text/plain": [
       "-8⋅D_{ttt} - 24⋅E₈"
      ]
     },
     "metadata": {},
     "output_type": "display_data"
    },
    {
     "data": {
      "image/png": "[encoded data removed]",
      "text/latex": [
       "$\\displaystyle 4 D_{tt} + 2 E_{7}$"
      ],
      "text/plain": [
       "4⋅D_{tt} + 2⋅E₇"
      ]
     },
     "metadata": {},
     "output_type": "display_data"
    },
    {
     "data": {
      "image/png": "[encoded data removed]",
      "text/latex": [
       "$\\displaystyle 2 D_{t} + 2 E_{5}$"
      ],
      "text/plain": [
       "2⋅D_{t} + 2⋅E₅"
      ]
     },
     "metadata": {},
     "output_type": "display_data"
    },
    {
     "data": {
      "image/png": "[encoded data removed]",
      "text/latex": [
       "$\\displaystyle - 2 E1_{t} + 2 E_{3}$"
      ],
      "text/plain": [
       "-2⋅E_1_{t} + 2⋅E₃"
      ]
     },
     "metadata": {},
     "output_type": "display_data"
    },
    {
     "data": {
      "image/png": "[encoded data removed]",
      "text/latex": [
       "$\\displaystyle - 2 E4_{t} + 6 E_{6}$"
      ],
      "text/plain": [
       "-2⋅E_4_{t} + 6⋅E₆"
      ]
     },
     "metadata": {},
     "output_type": "display_data"
    },
    {
     "data": {
      "image/png": "[encoded data removed]",
      "text/latex": [
       "$\\displaystyle - 2 E7_{t} + 12 E_{8}$"
      ],
      "text/plain": [
       "-2⋅E_7_{t} + 12⋅E₈"
      ]
     },
     "metadata": {},
     "output_type": "display_data"
    },
    {
     "data": {
      "image/png": "[encoded data removed]",
      "text/latex": [
       "$\\displaystyle - 4 E5_{t} + 2 E_{7}$"
      ],
      "text/plain": [
       "-4⋅E_5_{t} + 2⋅E₇"
      ]
     },
     "metadata": {},
     "output_type": "display_data"
    }
   ],
   "source": [
    "eqs3 = to_eqs(eqs3, [x, y])\n",
    "for eq in eqs3:\n",
    "    display(compact(eq))"
   ]
  },
  {
   "cell_type": "code",
   "execution_count": 31,
   "metadata": {},
   "outputs": [
    {
     "data": {
      "image/png": "[encoded data removed]",
      "text/latex": [
       "$\\displaystyle \\left\\{ B_{2}{\\left(t \\right)} : \\frac{d}{d t} C_{0}{\\left(t \\right)}, \\  B_{3}{\\left(t \\right)} : \\frac{\\frac{d}{d t} C_{1}{\\left(t \\right)}}{2}, \\  E_{3}{\\left(t \\right)} : \\frac{d}{d t} E_{1}{\\left(t \\right)}, \\  E_{5}{\\left(t \\right)} : - \\frac{d}{d t} D{\\left(t \\right)}, \\  E_{6}{\\left(t \\right)} : \\frac{\\frac{d}{d t} E_{4}{\\left(t \\right)}}{3}, \\  E_{7}{\\left(t \\right)} : - 2 \\frac{d^{2}}{d t^{2}} D{\\left(t \\right)}, \\  E_{8}{\\left(t \\right)} : - \\frac{\\frac{d^{3}}{d t^{3}} D{\\left(t \\right)}}{3}\\right\\}$"
      ],
      "text/plain": [
       "⎧                                                                                                    \n",
       "⎪                                                                                                    \n",
       "⎪                         d                                                     d                    \n",
       "⎪                         ──(C₁(t))                                             ──(E₄(t))            \n",
       "⎨       d                 dt                d                  d                dt                   \n",
       "⎪B₂(t): ──(C₀(t)), B₃(t): ─────────, E₃(t): ──(E₁(t)), E₅(t): -──(D(t)), E₆(t): ─────────, E₇(t): -2⋅\n",
       "⎪       dt                    2             dt                 dt                   3                \n",
       "⎪                                                                                                    \n",
       "⎩                                                                                                    \n",
       "\n",
       "                     3       ⎫\n",
       "                    d        ⎪\n",
       "                  -───(D(t)) ⎪\n",
       "  2                  3       ⎪\n",
       " d                 dt        ⎬\n",
       "───(D(t)), E₈(t): ───────────⎪\n",
       "  2                    3     ⎪\n",
       "dt                           ⎪\n",
       "                             ⎭"
      ]
     },
     "metadata": {},
     "output_type": "display_data"
    },
    {
     "data": {
      "image/png": "[encoded data removed]",
      "text/latex": [
       "$\\displaystyle 3 A_{t} - 4 C_{1} - D$"
      ],
      "text/plain": [
       "3⋅A_{t} - 4⋅C₁ - D"
      ]
     },
     "metadata": {},
     "output_type": "display_data"
    },
    {
     "data": {
      "image/png": "[encoded data removed]",
      "text/latex": [
       "$\\displaystyle C1_{t} - 2 D_{t}$"
      ],
      "text/plain": [
       "C_1_{t} - 2⋅D_{t}"
      ]
     },
     "metadata": {},
     "output_type": "display_data"
    },
    {
     "data": {
      "image/png": "[encoded data removed]",
      "text/latex": [
       "$\\displaystyle 3 B_{1} - 2 C_{1} + D$"
      ],
      "text/plain": [
       "3⋅B₁ - 2⋅C₁ + D"
      ]
     },
     "metadata": {},
     "output_type": "display_data"
    },
    {
     "data": {
      "image/png": "[encoded data removed]",
      "text/latex": [
       "$\\displaystyle - 2 B0_{t} - E_{1}$"
      ],
      "text/plain": [
       "-2⋅B_0_{t} - E₁"
      ]
     },
     "metadata": {},
     "output_type": "display_data"
    },
    {
     "data": {
      "image/png": "[encoded data removed]",
      "text/latex": [
       "$\\displaystyle - 2 C0_{tt} - E_{4}$"
      ],
      "text/plain": [
       "-2⋅C_0_{tt} - E₄"
      ]
     },
     "metadata": {},
     "output_type": "display_data"
    },
    {
     "data": {
      "image/png": "[encoded data removed]",
      "text/latex": [
       "$\\displaystyle - C1_{tt} + 2 D_{tt}$"
      ],
      "text/plain": [
       "-C_1_{tt} + 2⋅D_{tt}"
      ]
     },
     "metadata": {},
     "output_type": "display_data"
    },
    {
     "data": {
      "image/png": "[encoded data removed]",
      "text/latex": [
       "$\\displaystyle - 2 B1_{t} + 2 D_{t}$"
      ],
      "text/plain": [
       "-2⋅B_1_{t} + 2⋅D_{t}"
      ]
     },
     "metadata": {},
     "output_type": "display_data"
    },
    {
     "data": {
      "image/png": "[encoded data removed]",
      "text/latex": [
       "$\\displaystyle 0$"
      ],
      "text/plain": [
       "0"
      ]
     },
     "metadata": {},
     "output_type": "display_data"
    },
    {
     "data": {
      "image/png": "[encoded data removed]",
      "text/latex": [
       "$\\displaystyle 0$"
      ],
      "text/plain": [
       "0"
      ]
     },
     "metadata": {},
     "output_type": "display_data"
    },
    {
     "data": {
      "image/png": "[encoded data removed]",
      "text/latex": [
       "$\\displaystyle 0$"
      ],
      "text/plain": [
       "0"
      ]
     },
     "metadata": {},
     "output_type": "display_data"
    },
    {
     "data": {
      "image/png": "[encoded data removed]",
      "text/latex": [
       "$\\displaystyle 0$"
      ],
      "text/plain": [
       "0"
      ]
     },
     "metadata": {},
     "output_type": "display_data"
    },
    {
     "data": {
      "image/png": "[encoded data removed]",
      "text/latex": [
       "$\\displaystyle 0$"
      ],
      "text/plain": [
       "0"
      ]
     },
     "metadata": {},
     "output_type": "display_data"
    },
    {
     "data": {
      "image/png": "[encoded data removed]",
      "text/latex": [
       "$\\displaystyle 0$"
      ],
      "text/plain": [
       "0"
      ]
     },
     "metadata": {},
     "output_type": "display_data"
    },
    {
     "data": {
      "image/png": "[encoded data removed]",
      "text/latex": [
       "$\\displaystyle 0$"
      ],
      "text/plain": [
       "0"
      ]
     },
     "metadata": {},
     "output_type": "display_data"
    },
    {
     "data": {
      "image/png": "[encoded data removed]",
      "text/latex": [
       "$\\displaystyle 0$"
      ],
      "text/plain": [
       "0"
      ]
     },
     "metadata": {},
     "output_type": "display_data"
    },
    {
     "data": {
      "image/png": "[encoded data removed]",
      "text/latex": [
       "$\\displaystyle 0$"
      ],
      "text/plain": [
       "0"
      ]
     },
     "metadata": {},
     "output_type": "display_data"
    }
   ],
   "source": [
    "v = [B2, B3, E8, E7, E5, E3, E6]\n",
    "s = sympy.solve(eqs3[-9:-2], v)\n",
    "display(s)\n",
    "for eq in eqs3:\n",
    "    display(compact(eq.subs(s).doit()))"
   ]
  },
  {
   "cell_type": "code",
   "execution_count": 32,
   "metadata": {},
   "outputs": [
    {
     "data": {
      "image/png": "[encoded data removed]",
      "text/latex": [
       "$\\displaystyle \\left\\{ C_{1}{\\left(t \\right)} : \\frac{B_{1}{\\left(t \\right)}}{2} + \\frac{\\frac{d}{d t} A{\\left(t \\right)}}{2}, \\  D{\\left(t \\right)} : - 2 B_{1}{\\left(t \\right)} + \\frac{d}{d t} A{\\left(t \\right)}, \\  E_{1}{\\left(t \\right)} : - 2 \\frac{d}{d t} B_{0}{\\left(t \\right)}, \\  E_{4}{\\left(t \\right)} : - 2 \\frac{d^{2}}{d t^{2}} C_{0}{\\left(t \\right)}\\right\\}$"
      ],
      "text/plain": [
       "⎧               d                                                                             ⎫\n",
       "⎪               ──(A(t))                                                              2       ⎪\n",
       "⎪       B₁(t)   dt                         d                   d                     d        ⎪\n",
       "⎨C₁(t): ───── + ────────, D(t): -2⋅B₁(t) + ──(A(t)), E₁(t): -2⋅──(B₀(t)), E₄(t): -2⋅───(C₀(t))⎬\n",
       "⎪         2        2                       dt                  dt                     2       ⎪\n",
       "⎪                                                                                   dt        ⎪\n",
       "⎩                                                                                             ⎭"
      ]
     },
     "metadata": {},
     "output_type": "display_data"
    },
    {
     "data": {
      "image/png": "[encoded data removed]",
      "text/latex": [
       "$\\displaystyle 0$"
      ],
      "text/plain": [
       "0"
      ]
     },
     "metadata": {},
     "output_type": "display_data"
    },
    {
     "data": {
      "image/png": "[encoded data removed]",
      "text/latex": [
       "$\\displaystyle - \\frac{3 A_{tt}}{2} + \\frac{9 B1_{t}}{2}$"
      ],
      "text/plain": [
       "  3⋅A_{tt}   9⋅B_1_{t}\n",
       "- ──────── + ─────────\n",
       "     2           2    "
      ]
     },
     "metadata": {},
     "output_type": "display_data"
    },
    {
     "data": {
      "image/png": "[encoded data removed]",
      "text/latex": [
       "$\\displaystyle 0$"
      ],
      "text/plain": [
       "0"
      ]
     },
     "metadata": {},
     "output_type": "display_data"
    },
    {
     "data": {
      "image/png": "[encoded data removed]",
      "text/latex": [
       "$\\displaystyle 0$"
      ],
      "text/plain": [
       "0"
      ]
     },
     "metadata": {},
     "output_type": "display_data"
    },
    {
     "data": {
      "image/png": "[encoded data removed]",
      "text/latex": [
       "$\\displaystyle 0$"
      ],
      "text/plain": [
       "0"
      ]
     },
     "metadata": {},
     "output_type": "display_data"
    },
    {
     "data": {
      "image/png": "[encoded data removed]",
      "text/latex": [
       "$\\displaystyle \\frac{3 A_{ttt}}{2} - \\frac{9 B1_{tt}}{2}$"
      ],
      "text/plain": [
       "3⋅A_{ttt}   9⋅B_1_{tt}\n",
       "───────── - ──────────\n",
       "    2           2     "
      ]
     },
     "metadata": {},
     "output_type": "display_data"
    },
    {
     "data": {
      "image/png": "[encoded data removed]",
      "text/latex": [
       "$\\displaystyle 2 A_{tt} - 6 B1_{t}$"
      ],
      "text/plain": [
       "2⋅A_{tt} - 6⋅B_1_{t}"
      ]
     },
     "metadata": {},
     "output_type": "display_data"
    },
    {
     "data": {
      "image/png": "[encoded data removed]",
      "text/latex": [
       "$\\displaystyle 0$"
      ],
      "text/plain": [
       "0"
      ]
     },
     "metadata": {},
     "output_type": "display_data"
    },
    {
     "data": {
      "image/png": "[encoded data removed]",
      "text/latex": [
       "$\\displaystyle 0$"
      ],
      "text/plain": [
       "0"
      ]
     },
     "metadata": {},
     "output_type": "display_data"
    },
    {
     "data": {
      "image/png": "[encoded data removed]",
      "text/latex": [
       "$\\displaystyle 0$"
      ],
      "text/plain": [
       "0"
      ]
     },
     "metadata": {},
     "output_type": "display_data"
    },
    {
     "data": {
      "image/png": "[encoded data removed]",
      "text/latex": [
       "$\\displaystyle 0$"
      ],
      "text/plain": [
       "0"
      ]
     },
     "metadata": {},
     "output_type": "display_data"
    },
    {
     "data": {
      "image/png": "[encoded data removed]",
      "text/latex": [
       "$\\displaystyle 0$"
      ],
      "text/plain": [
       "0"
      ]
     },
     "metadata": {},
     "output_type": "display_data"
    },
    {
     "data": {
      "image/png": "[encoded data removed]",
      "text/latex": [
       "$\\displaystyle 0$"
      ],
      "text/plain": [
       "0"
      ]
     },
     "metadata": {},
     "output_type": "display_data"
    },
    {
     "data": {
      "image/png": "[encoded data removed]",
      "text/latex": [
       "$\\displaystyle 0$"
      ],
      "text/plain": [
       "0"
      ]
     },
     "metadata": {},
     "output_type": "display_data"
    },
    {
     "data": {
      "image/png": "[encoded data removed]",
      "text/latex": [
       "$\\displaystyle 0$"
      ],
      "text/plain": [
       "0"
      ]
     },
     "metadata": {},
     "output_type": "display_data"
    },
    {
     "data": {
      "image/png": "[encoded data removed]",
      "text/latex": [
       "$\\displaystyle 0$"
      ],
      "text/plain": [
       "0"
      ]
     },
     "metadata": {},
     "output_type": "display_data"
    }
   ],
   "source": [
    "v1 = [C1, D, E1, E4]\n",
    "s1 = sympy.solve([eq.subs(s).doit() for eq in eqs3[:1] + eqs3[2:5]], v1)\n",
    "display(s1)\n",
    "for eq in eqs3:\n",
    "    display(compact(eq.subs(s).doit().subs(s1).doit()))"
   ]
  },
  {
   "cell_type": "code",
   "execution_count": 33,
   "metadata": {},
   "outputs": [
    {
     "data": {
      "image/png": "[encoded data removed]",
      "text/latex": [
       "$\\displaystyle 0$"
      ],
      "text/plain": [
       "0"
      ]
     },
     "metadata": {},
     "output_type": "display_data"
    },
    {
     "data": {
      "image/png": "[encoded data removed]",
      "text/latex": [
       "$\\displaystyle 0$"
      ],
      "text/plain": [
       "0"
      ]
     },
     "metadata": {},
     "output_type": "display_data"
    },
    {
     "data": {
      "image/png": "[encoded data removed]",
      "text/latex": [
       "$\\displaystyle 0$"
      ],
      "text/plain": [
       "0"
      ]
     },
     "metadata": {},
     "output_type": "display_data"
    },
    {
     "data": {
      "image/png": "[encoded data removed]",
      "text/latex": [
       "$\\displaystyle 0$"
      ],
      "text/plain": [
       "0"
      ]
     },
     "metadata": {},
     "output_type": "display_data"
    },
    {
     "data": {
      "image/png": "[encoded data removed]",
      "text/latex": [
       "$\\displaystyle 0$"
      ],
      "text/plain": [
       "0"
      ]
     },
     "metadata": {},
     "output_type": "display_data"
    },
    {
     "data": {
      "image/png": "[encoded data removed]",
      "text/latex": [
       "$\\displaystyle 0$"
      ],
      "text/plain": [
       "0"
      ]
     },
     "metadata": {},
     "output_type": "display_data"
    },
    {
     "data": {
      "image/png": "[encoded data removed]",
      "text/latex": [
       "$\\displaystyle 0$"
      ],
      "text/plain": [
       "0"
      ]
     },
     "metadata": {},
     "output_type": "display_data"
    },
    {
     "data": {
      "image/png": "[encoded data removed]",
      "text/latex": [
       "$\\displaystyle 0$"
      ],
      "text/plain": [
       "0"
      ]
     },
     "metadata": {},
     "output_type": "display_data"
    },
    {
     "data": {
      "image/png": "[encoded data removed]",
      "text/latex": [
       "$\\displaystyle 0$"
      ],
      "text/plain": [
       "0"
      ]
     },
     "metadata": {},
     "output_type": "display_data"
    },
    {
     "data": {
      "image/png": "[encoded data removed]",
      "text/latex": [
       "$\\displaystyle 0$"
      ],
      "text/plain": [
       "0"
      ]
     },
     "metadata": {},
     "output_type": "display_data"
    },
    {
     "data": {
      "image/png": "[encoded data removed]",
      "text/latex": [
       "$\\displaystyle 0$"
      ],
      "text/plain": [
       "0"
      ]
     },
     "metadata": {},
     "output_type": "display_data"
    },
    {
     "data": {
      "image/png": "[encoded data removed]",
      "text/latex": [
       "$\\displaystyle 0$"
      ],
      "text/plain": [
       "0"
      ]
     },
     "metadata": {},
     "output_type": "display_data"
    },
    {
     "data": {
      "image/png": "[encoded data removed]",
      "text/latex": [
       "$\\displaystyle 0$"
      ],
      "text/plain": [
       "0"
      ]
     },
     "metadata": {},
     "output_type": "display_data"
    },
    {
     "data": {
      "image/png": "[encoded data removed]",
      "text/latex": [
       "$\\displaystyle 0$"
      ],
      "text/plain": [
       "0"
      ]
     },
     "metadata": {},
     "output_type": "display_data"
    },
    {
     "data": {
      "image/png": "[encoded data removed]",
      "text/latex": [
       "$\\displaystyle 0$"
      ],
      "text/plain": [
       "0"
      ]
     },
     "metadata": {},
     "output_type": "display_data"
    },
    {
     "data": {
      "image/png": "[encoded data removed]",
      "text/latex": [
       "$\\displaystyle 0$"
      ],
      "text/plain": [
       "0"
      ]
     },
     "metadata": {},
     "output_type": "display_data"
    }
   ],
   "source": [
    "A0 = sympy.Symbol('A0')\n",
    "s2 = {B1: A.diff(t)/3 + A0}\n",
    "for eq in eqs3:\n",
    "    display(compact(eq.subs(s).doit().subs(s1).doit().subs(s2).doit()))"
   ]
  },
  {
   "cell_type": "code",
   "execution_count": 34,
   "metadata": {},
   "outputs": [
    {
     "data": {
      "image/png": "[encoded data removed]",
      "text/latex": [
       "$\\displaystyle - 2 A_{0} u + A_{0} u_{x} x + \\frac{A_{0} u_{y} y}{2} + \\frac{u \\frac{d}{d t} A{\\left(t \\right)}}{3} + u_{t} A{\\left(t \\right)} + \\frac{u_{x} x \\frac{d}{d t} A{\\left(t \\right)}}{3} + \\frac{u_{x} y^{2} \\frac{d^{2}}{d t^{2}} A{\\left(t \\right)}}{3} + u_{x} y \\frac{d}{d t} C_{0}{\\left(t \\right)} + u_{x} B_{0}{\\left(t \\right)} + \\frac{2 u_{y} y \\frac{d}{d t} A{\\left(t \\right)}}{3} + u_{y} C_{0}{\\left(t \\right)} - \\frac{x^{2} \\frac{d^{2}}{d t^{2}} A{\\left(t \\right)}}{3} - \\frac{2 x y^{2} \\frac{d^{3}}{d t^{3}} A{\\left(t \\right)}}{3} - 2 x y \\frac{d^{2}}{d t^{2}} C_{0}{\\left(t \\right)} - 2 x \\frac{d}{d t} B_{0}{\\left(t \\right)} - \\frac{y^{4} \\frac{d^{4}}{d t^{4}} A{\\left(t \\right)}}{9} - \\frac{2 y^{3} \\frac{d^{3}}{d t^{3}} C_{0}{\\left(t \\right)}}{3} - 2 y^{2} \\frac{d^{2}}{d t^{2}} B_{0}{\\left(t \\right)} + y E_{2}{\\left(t \\right)} + E_{0}{\\left(t \\right)}$"
      ],
      "text/plain": [
       "                                                                              2                      \n",
       "                                                                          2  d                       \n",
       "                                 d                         d          uₓ⋅y ⋅───(A(t))                \n",
       "                               u⋅──(A(t))             uₓ⋅x⋅──(A(t))           2                      \n",
       "                    A₀⋅u_y⋅y     dt                        dt               dt               d       \n",
       "-2⋅A₀⋅u + A₀⋅uₓ⋅x + ──────── + ────────── + uₜ⋅A(t) + ───────────── + ─────────────── + uₓ⋅y⋅──(C₀(t)\n",
       "                       2           3                        3                3               dt      \n",
       "                                                                                                     \n",
       "\n",
       "                                                   2                  3                              \n",
       "                                               2  d               2  d                               \n",
       "                       d                      x ⋅───(A(t))   2⋅x⋅y ⋅───(A(t))                        \n",
       "               2⋅u_y⋅y⋅──(A(t))                    2                  3                 2            \n",
       "                       dt                        dt                 dt                 d             \n",
       ") + uₓ⋅B₀(t) + ──────────────── + u_y⋅C₀(t) - ──────────── - ──────────────── - 2⋅x⋅y⋅───(C₀(t)) - 2⋅\n",
       "                      3                            3                3                   2            \n",
       "                                                                                      dt             \n",
       "\n",
       "                   4                3                                           \n",
       "               4  d             3  d                                            \n",
       "              y ⋅───(A(t))   2⋅y ⋅───(C₀(t))                                    \n",
       "                   4                3                 2                         \n",
       "  d              dt               dt              2  d                          \n",
       "x⋅──(B₀(t)) - ──────────── - ─────────────── - 2⋅y ⋅───(B₀(t)) + y⋅E₂(t) + E₀(t)\n",
       "  dt               9                3                 2                         \n",
       "                                                    dt                          "
      ]
     },
     "execution_count": 34,
     "metadata": {},
     "output_type": "execute_result"
    }
   ],
   "source": [
    "F3 = sum(i*j for i, j in zip(F3, (ut, ux, uy, u, 1))).\\\n",
    "    subs(s).doit().subs(s1).doit().subs(s2).doit().expand()\n",
    "F3"
   ]
  },
  {
   "cell_type": "code",
   "execution_count": 35,
   "metadata": {},
   "outputs": [
    {
     "data": {
      "image/png": "[encoded data removed]",
      "text/latex": [
       "$\\displaystyle 0$"
      ],
      "text/plain": [
       "0"
      ]
     },
     "execution_count": 35,
     "metadata": {},
     "output_type": "execute_result"
    }
   ],
   "source": [
    "eq3.subs({F: F3}).doit().subs({ux: U.diff(x)}).expand()"
   ]
  },
  {
   "cell_type": "code",
   "execution_count": 36,
   "metadata": {},
   "outputs": [
    {
     "data": {
      "image/png": "[encoded data removed]",
      "text/latex": [
       "$\\displaystyle \\frac{u \\frac{d}{d t} A{\\left(t \\right)}}{3} + u_{t} A{\\left(t \\right)} + \\frac{u_{x} x \\frac{d}{d t} A{\\left(t \\right)}}{3} + \\frac{u_{x} y^{2} \\frac{d^{2}}{d t^{2}} A{\\left(t \\right)}}{3} + \\frac{2 u_{y} y \\frac{d}{d t} A{\\left(t \\right)}}{3} - \\frac{x^{2} \\frac{d^{2}}{d t^{2}} A{\\left(t \\right)}}{3} - \\frac{2 x y^{2} \\frac{d^{3}}{d t^{3}} A{\\left(t \\right)}}{3} - \\frac{y^{4} \\frac{d^{4}}{d t^{4}} A{\\left(t \\right)}}{9}$"
      ],
      "text/plain": [
       "                                               2                                 2                  3\n",
       "                                           2  d                              2  d               2  d \n",
       "  d                         d          uₓ⋅y ⋅───(A(t))           d          x ⋅───(A(t))   2⋅x⋅y ⋅───\n",
       "u⋅──(A(t))             uₓ⋅x⋅──(A(t))           2         2⋅u_y⋅y⋅──(A(t))        2                  3\n",
       "  dt                        dt               dt                  dt            dt                 dt \n",
       "────────── + uₜ⋅A(t) + ───────────── + ─────────────── + ──────────────── - ──────────── - ──────────\n",
       "    3                        3                3                 3                3                3  \n",
       "\n",
       "              4      \n",
       "          4  d       \n",
       "(A(t))   y ⋅───(A(t))\n",
       "              4      \n",
       "            dt       \n",
       "────── - ────────────\n",
       "              9      "
      ]
     },
     "metadata": {},
     "output_type": "display_data"
    },
    {
     "data": {
      "image/png": "[encoded data removed]",
      "text/latex": [
       "$\\displaystyle u_{x} B_{0}{\\left(t \\right)} - 2 x \\frac{d}{d t} B_{0}{\\left(t \\right)} - 2 y^{2} \\frac{d^{2}}{d t^{2}} B_{0}{\\left(t \\right)}$"
      ],
      "text/plain": [
       "                                  2       \n",
       "               d              2  d        \n",
       "uₓ⋅B₀(t) - 2⋅x⋅──(B₀(t)) - 2⋅y ⋅───(B₀(t))\n",
       "               dt                 2       \n",
       "                                dt        "
      ]
     },
     "metadata": {},
     "output_type": "display_data"
    },
    {
     "data": {
      "image/png": "[encoded data removed]",
      "text/latex": [
       "$\\displaystyle u_{x} y \\frac{d}{d t} C_{0}{\\left(t \\right)} + u_{y} C_{0}{\\left(t \\right)} - 2 x y \\frac{d^{2}}{d t^{2}} C_{0}{\\left(t \\right)} - \\frac{2 y^{3} \\frac{d^{3}}{d t^{3}} C_{0}{\\left(t \\right)}}{3}$"
      ],
      "text/plain": [
       "                                                       3       \n",
       "                                                   3  d        \n",
       "                                                2⋅y ⋅───(C₀(t))\n",
       "                                     2                 3       \n",
       "     d                              d                dt        \n",
       "uₓ⋅y⋅──(C₀(t)) + u_y⋅C₀(t) - 2⋅x⋅y⋅───(C₀(t)) - ───────────────\n",
       "     dt                              2                 3       \n",
       "                                   dt                          "
      ]
     },
     "metadata": {},
     "output_type": "display_data"
    },
    {
     "data": {
      "image/png": "[encoded data removed]",
      "text/latex": [
       "$\\displaystyle E_{0}{\\left(t \\right)}$"
      ],
      "text/plain": [
       "E₀(t)"
      ]
     },
     "metadata": {},
     "output_type": "display_data"
    },
    {
     "data": {
      "image/png": "[encoded data removed]",
      "text/latex": [
       "$\\displaystyle y E_{2}{\\left(t \\right)}$"
      ],
      "text/plain": [
       "y⋅E₂(t)"
      ]
     },
     "metadata": {},
     "output_type": "display_data"
    }
   ],
   "source": [
    "for a in (A, B0, C0, E0, E2):\n",
    "    display(sum(i for i in F3.args if a in i.atoms(sympy.Function)))"
   ]
  },
  {
   "cell_type": "code",
   "execution_count": 37,
   "metadata": {},
   "outputs": [
    {
     "data": {
      "image/png": "[encoded data removed]",
      "text/latex": [
       "$\\displaystyle - 2 u + u_{x} x + \\frac{u_{y} y}{2}$"
      ],
      "text/plain": [
       "              u_y⋅y\n",
       "-2⋅u + uₓ⋅x + ─────\n",
       "                2  "
      ]
     },
     "execution_count": 37,
     "metadata": {},
     "output_type": "execute_result"
    }
   ],
   "source": [
    "F3.coeff(A0)"
   ]
  },
  {
   "cell_type": "raw",
   "metadata": {},
   "source": [
    "Image('Мамонтов1.png')"
   ]
  },
  {
   "cell_type": "code",
   "execution_count": 39,
   "metadata": {},
   "outputs": [
    {
     "data": {
      "image/png": "[encoded data removed]",
      "text/plain": [
       "<IPython.core.display.Image object>"
      ]
     },
     "execution_count": 39,
     "metadata": {},
     "output_type": "execute_result"
    }
   ],
   "source": [
    "Image('Мамонтов2.png')"
   ]
  },
  {
   "cell_type": "code",
   "execution_count": null,
   "metadata": {},
   "outputs": [],
   "source": []
  }
 ],
 "metadata": {
  "kernelspec": {
   "display_name": "Python 3 (ipykernel)",
   "language": "python",
   "name": "python3"
  },
  "language_info": {
   "codemirror_mode": {
    "name": "ipython",
    "version": 3
   },
   "file_extension": ".py",
   "mimetype": "text/x-python",
   "name": "python",
   "nbconvert_exporter": "python",
   "pygments_lexer": "ipython3",
   "version": "3.11.2"
  }
 },
 "nbformat": 4,
 "nbformat_minor": 2
}
