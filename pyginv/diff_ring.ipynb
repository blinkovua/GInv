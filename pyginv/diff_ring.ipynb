{
 "cells": [
  {
   "cell_type": "code",
   "execution_count": 1,
   "metadata": {},
   "outputs": [],
   "source": [
    "from IPython.display import display, Image\n",
    "from pprint import pprint\n",
    "from itertools import chain\n",
    "\n",
    "from sympy import Function, Symbol, symbols\n",
    "\n",
    "from ginv import *\n",
    "sympy.init_printing()"
   ]
  },
  {
   "cell_type": "code",
   "execution_count": 2,
   "metadata": {},
   "outputs": [],
   "source": [
    "x1, x2, x3 = sympy.symbols('x1, x2, x3', real=True)\n",
    "u = sympy.Function('u', real=True)(x1, x2, x3)"
   ]
  },
  {
   "cell_type": "code",
   "execution_count": 3,
   "metadata": {},
   "outputs": [
    {
     "data": {
      "image/png": "[encoded data removed]",
      "text/latex": [
       "$$x_{1} u{\\left (x_{1},x_{2},x_{3} \\right )} + x_{2}^{2} \\left(x_{2} u{\\left (x_{1},x_{2},x_{3} \\right )} + x_{3} \\frac{\\partial^{2}}{\\partial x_{2}^{2}} u{\\left (x_{1},x_{2},x_{3} \\right )} + \\frac{\\partial^{2}}{\\partial x_{1}^{2}} u{\\left (x_{1},x_{2},x_{3} \\right )}\\right) + x_{3}$$"
      ],
      "text/plain": [
       "                       ⎛                        2                     2       \n",
       "                     2 ⎜                       ∂                     ∂        \n",
       "x₁⋅u(x₁, x₂, x₃) + x₂ ⋅⎜x₂⋅u(x₁, x₂, x₃) + x₃⋅────(u(x₁, x₂, x₃)) + ────(u(x₁,\n",
       "                       ⎜                         2                     2      \n",
       "                       ⎝                      ∂x₂                   ∂x₁       \n",
       "\n",
       "         ⎞     \n",
       "         ⎟     \n",
       " x₂, x₃))⎟ + x₃\n",
       "         ⎟     \n",
       "         ⎠     "
      ]
     },
     "execution_count": 3,
     "metadata": {},
     "output_type": "execute_result"
    }
   ],
   "source": [
    "p = (u.diff(x1, 2) + x3*u.diff(x2, 2) + u*x2)*x2**2 + x3 + u*x1\n",
    "p"
   ]
  },
  {
   "cell_type": "code",
   "execution_count": 2,
   "metadata": {},
   "outputs": [],
   "source": [
    "Monom.cmp = Monom.TOPdeglex"
   ]
  },
  {
   "cell_type": "code",
   "execution_count": 5,
   "metadata": {},
   "outputs": [],
   "source": [
    "var = ['x1', 'x2', 'x3']\n",
    "fun = ['u']\n",
    "Monom.init(var, fun)\n",
    "df = PolyDiff.df\n",
    "diff2poly = PolyDiff.diff2poly\n",
    "var, fun = PolyDiff.init()\n",
    "x1, x2, x3 = var\n",
    "u = fun[0]"
   ]
  },
  {
   "cell_type": "code",
   "execution_count": 6,
   "metadata": {
    "scrolled": false
   },
   "outputs": [
    {
     "name": "stdout",
     "output_type": "stream",
     "text": [
      "df(u, x1, 2)*x2**2 + df(u, x2, 2)*x2**2*x3 + df(u)*(x1 + x2**3) + x3\n",
      "df(u, x1, 2)*x2**2 + df(u, x2, 2)*x2**2*x3 + df(u)*(x1 + x2**3) + x3\n",
      "df(u, x1, 2)*x2**2 + df(u, x2, 2)*x2**2*x3 + df(u)*(x1 + x2**3) + x3\n",
      "[[[0;2 0 0], x2**2], [[0;0 2 0], x2**2*x3], [[0;0 0 0], x1 + x2**3], [[0 0 0], x3]]\n"
     ]
    },
    {
     "data": {
      "text/plain": [
       "[[[0;2 0 0], x2**2],\n",
       " [[0;0 2 0], x2**2*x3],\n",
       " [[0;0 0 0], x1 + x2**3],\n",
       " [[0 0 0], x3]]"
      ]
     },
     "execution_count": 6,
     "metadata": {},
     "output_type": "execute_result"
    }
   ],
   "source": [
    "p = diff2poly(p)\n",
    "print(p)\n",
    "print(f\"{p}\")\n",
    "print(f\"{p!s}\")\n",
    "print(f\"{p!r}\")\n",
    "p"
   ]
  },
  {
   "cell_type": "code",
   "execution_count": 7,
   "metadata": {},
   "outputs": [
    {
     "name": "stdout",
     "output_type": "stream",
     "text": [
      "df(u, x1, 2)*x2**3 + df(u, x2, 2)*x2**3*x3 + df(u)*(x1 + x2**4) + x3\n",
      "df(u, x1, 2)*x2**3 + df(u, x2, 2)*x2**3*x3 + df(u)*(x1 + x2**4) + x3\n",
      "df(u, x1, 2)*x2**3 + df(u, x2, 2)*x2**3*x3 + df(u)*(x1 + x2**4) + x3\n",
      "[[[0;2 0 0], x2**3], [[0;0 2 0], x2**3*x3], [[0;0 0 0], x1 + x2**4], [[0 0 0], x3]]\n"
     ]
    },
    {
     "data": {
      "text/plain": [
       "[[[0;2 0 0], x2**3],\n",
       " [[0;0 2 0], x2**3*x3],\n",
       " [[0;0 0 0], x1 + x2**4],\n",
       " [[0 0 0], x3]]"
      ]
     },
     "execution_count": 7,
     "metadata": {},
     "output_type": "execute_result"
    }
   ],
   "source": [
    "p = (df(u, x1, x1) + x3*df(u, x2, 2) + df(u)*x2)*x2**3 + x3 + df(u, x1, 0, x3, 0)*x1\n",
    "print(p)\n",
    "print(f\"{p}\")\n",
    "print(f\"{p!s}\")\n",
    "print(f\"{p!r}\")\n",
    "p"
   ]
  },
  {
   "cell_type": "code",
   "execution_count": 8,
   "metadata": {},
   "outputs": [
    {
     "data": {
      "text/plain": [
       "False"
      ]
     },
     "execution_count": 8,
     "metadata": {},
     "output_type": "execute_result"
    }
   ],
   "source": [
    "type(p) == Poly"
   ]
  },
  {
   "cell_type": "code",
   "execution_count": 9,
   "metadata": {},
   "outputs": [
    {
     "data": {
      "text/plain": [
       "True"
      ]
     },
     "execution_count": 9,
     "metadata": {},
     "output_type": "execute_result"
    }
   ],
   "source": [
    "type(p) == PolyDiff"
   ]
  },
  {
   "cell_type": "code",
   "execution_count": 10,
   "metadata": {
    "scrolled": false
   },
   "outputs": [
    {
     "name": "stdout",
     "output_type": "stream",
     "text": [
      "prolong 0, Q 2\n",
      "df(u, x3, 2)\n",
      "prolong 0, Q 2\n",
      "df(u, x1, 2)\n",
      "prolong 2, Q 0\n",
      "df(u, x1, x3, 2)\n",
      "prolong 3, Q 0\n",
      "df(u, x2, 2, x3)\n",
      "prolong 2, Q 0\n",
      "df(u, x2, x3, 2)\n",
      "prolong 3, Q 0\n",
      "df(u, x1, x2, 2, x3)\n",
      "prolong 3, Q 0\n",
      "df(u, x1, x2, x3, 2)\n",
      "prolong 4, Q 0\n",
      "df(u, x2, 4)\n",
      "prolong 3, Q 0\n",
      "df(u, x2, 3, x3)\n",
      "prolong 4, Q 0\n",
      "df(u, x1, x2, 4)\n",
      "prolong 4, Q 0\n",
      "df(u, x1, x2, 3, x3)\n",
      "prolong 5, Q 0\n",
      "prolong 0, Q 0\n",
      "crit1: 0\n",
      "crit2: 0\n",
      " time: 0.02 sec\n",
      "    count: 11\n",
      "reduction: 29\n",
      "       HP: 12\n"
     ]
    },
    {
     "data": {
      "image/png": "[encoded data removed]",
      "text/plain": [
       "<IPython.core.display.Image object>"
      ]
     },
     "execution_count": 10,
     "metadata": {},
     "output_type": "execute_result"
    }
   ],
   "source": [
    "diablo = Janet()\n",
    "# diablo = JanetCache()\n",
    "res = ginvBlockLow((\n",
    "df(u, x1, 2) + x3*df(u, x2, 2),\\\n",
    "df(u, x3, 2)), \\\n",
    "diablo, level=1)\n",
    "print(f\"crit1: {res[1]}\")\n",
    "print(f\"crit2: {res[2]}\")\n",
    "print(f\" time: {res[0]:.2f} sec\")\n",
    "print(f\"    count: {diablo.count()}\")\n",
    "print(f\"reduction: {diablo.reduction()}\")\n",
    "print(f\"       HP: {diablo.HP()}\")\n",
    "diablo.saveImage('diablo.pdf', level=1)\n",
    "diablo.saveImage('diablo.png', level=1)\n",
    "Image('./diablo.png')"
   ]
  },
  {
   "cell_type": "code",
   "execution_count": 12,
   "metadata": {},
   "outputs": [
    {
     "name": "stdout",
     "output_type": "stream",
     "text": [
      "df(u, x3, 2)\n",
      "df(u, x2, x3, 2)\n",
      "df(u, x2, 2, x3)\n",
      "df(u, x2, 3, x3)\n",
      "df(u, x2, 4)\n",
      "df(u, x1, x3, 2)\n",
      "df(u, x1, x2, x3, 2)\n",
      "df(u, x1, x2, 2, x3)\n",
      "df(u, x1, x2, 3, x3)\n",
      "df(u, x1, x2, 4)\n",
      "df(u, x1, 2) + df(u, x2, 2)*x3\n"
     ]
    }
   ],
   "source": [
    "for w in diablo:\n",
    "    print(w.poly)"
   ]
  },
  {
   "cell_type": "code",
   "execution_count": 13,
   "metadata": {},
   "outputs": [
    {
     "name": "stdout",
     "output_type": "stream",
     "text": [
      "df(u, x3, 2)\n",
      "df(u, x2, 2, x3)\n",
      "df(u, x2, 4)\n",
      "df(u, x1, 2) + df(u, x2, 2)*x3\n"
     ]
    }
   ],
   "source": [
    "for w in diablo.GB():\n",
    "    print(w.poly)"
   ]
  },
  {
   "cell_type": "code",
   "execution_count": 14,
   "metadata": {},
   "outputs": [
    {
     "name": "stdout",
     "output_type": "stream",
     "text": [
      "df(u, x1, 4)\n",
      "df(u, x2, 4)\n",
      "df(u, x3, 2)\n"
     ]
    }
   ],
   "source": [
    "for f in fun:\n",
    "    for v in var:\n",
    "        for i in range(5):\n",
    "            if not df(f, v, i).NF(diablo):\n",
    "                print(df(f, v, i))\n",
    "                break"
   ]
  },
  {
   "cell_type": "code",
   "execution_count": 16,
   "metadata": {},
   "outputs": [
    {
     "name": "stdout",
     "output_type": "stream",
     "text": [
      "df(u, x1, 4)\n",
      "df(u, x2, 4)\n",
      "df(u, x3, 2)\n",
      "{u: [4, 4, 2]}\n"
     ]
    }
   ],
   "source": [
    "degs = {}\n",
    "for f in fun:\n",
    "    degs[f] = [0 for v in var]\n",
    "    for k, v in enumerate(var):\n",
    "        for i in range(5):\n",
    "            if not df(f, v, i).NF(diablo):\n",
    "                degs[f][k] = i\n",
    "                print(df(f, v, i))\n",
    "                break\n",
    "pprint(degs)"
   ]
  },
  {
   "cell_type": "code",
   "execution_count": 31,
   "metadata": {},
   "outputs": [
    {
     "data": {
      "image/png": "[encoded data removed]",
      "text/latex": [
       "$$\\left [ u_{0} + u_{1} x_{3} + u_{10} x_{1} x_{2} + u_{11} x_{1} x_{2} x_{3} + u_{12} x_{1} x_{2}^{2} + u_{13} x_{1} x_{2}^{2} x_{3} + u_{14} x_{1} x_{2}^{3} + u_{15} x_{1} x_{2}^{3} x_{3} + u_{16} x_{1}^{2} + u_{17} x_{1}^{2} x_{3} + u_{18} x_{1}^{2} x_{2} + u_{19} x_{1}^{2} x_{2} x_{3} + u_{2} x_{2} + u_{20} x_{1}^{2} x_{2}^{2} + u_{21} x_{1}^{2} x_{2}^{2} x_{3} + u_{22} x_{1}^{2} x_{2}^{3} + u_{23} x_{1}^{2} x_{2}^{3} x_{3} + u_{24} x_{1}^{3} + u_{25} x_{1}^{3} x_{3} + u_{26} x_{1}^{3} x_{2} + u_{27} x_{1}^{3} x_{2} x_{3} + u_{28} x_{1}^{3} x_{2}^{2} + u_{29} x_{1}^{3} x_{2}^{2} x_{3} + u_{3} x_{2} x_{3} + u_{30} x_{1}^{3} x_{2}^{3} + u_{31} x_{1}^{3} x_{2}^{3} x_{3} + u_{4} x_{2}^{2} + u_{5} x_{2}^{2} x_{3} + u_{6} x_{2}^{3} + u_{7} x_{2}^{3} x_{3} + u_{8} x_{1} + u_{9} x_{1} x_{3}\\right ]$$"
      ],
      "text/plain": [
       "⎡                                                 2            2              \n",
       "⎣u₀ + u₁⋅x₃ + u₁₀⋅x₁⋅x₂ + u₁₁⋅x₁⋅x₂⋅x₃ + u₁₂⋅x₁⋅x₂  + u₁₃⋅x₁⋅x₂ ⋅x₃ + u₁₄⋅x₁⋅x\n",
       "\n",
       " 3            3            2         2            2            2              \n",
       "₂  + u₁₅⋅x₁⋅x₂ ⋅x₃ + u₁₆⋅x₁  + u₁₇⋅x₁ ⋅x₃ + u₁₈⋅x₁ ⋅x₂ + u₁₉⋅x₁ ⋅x₂⋅x₃ + u₂⋅x₂\n",
       "\n",
       "         2   2         2   2            2   3         2   3            3      \n",
       " + u₂₀⋅x₁ ⋅x₂  + u₂₁⋅x₁ ⋅x₂ ⋅x₃ + u₂₂⋅x₁ ⋅x₂  + u₂₃⋅x₁ ⋅x₂ ⋅x₃ + u₂₄⋅x₁  + u₂₅\n",
       "\n",
       "   3            3            3               3   2         3   2              \n",
       "⋅x₁ ⋅x₃ + u₂₆⋅x₁ ⋅x₂ + u₂₇⋅x₁ ⋅x₂⋅x₃ + u₂₈⋅x₁ ⋅x₂  + u₂₉⋅x₁ ⋅x₂ ⋅x₃ + u₃⋅x₂⋅x₃\n",
       "\n",
       "         3   3         3   3           2        2           3        3        \n",
       " + u₃₀⋅x₁ ⋅x₂  + u₃₁⋅x₁ ⋅x₂ ⋅x₃ + u₄⋅x₂  + u₅⋅x₂ ⋅x₃ + u₆⋅x₂  + u₇⋅x₂ ⋅x₃ + u₈\n",
       "\n",
       "              ⎤\n",
       "⋅x₁ + u₉⋅x₁⋅x₃⎦"
      ]
     },
     "execution_count": 31,
     "metadata": {},
     "output_type": "execute_result"
    }
   ],
   "source": [
    "def gen_series(self, deg=5):\n",
    "    res = []\n",
    "    for f in fun:\n",
    "        r = [0 for v in var]\n",
    "        for k, v in enumerate(var):\n",
    "            for i in range(deg):\n",
    "                if not df(f, v, i).NF(self):\n",
    "                    r[k] = i\n",
    "                    break\n",
    "        l0 = []\n",
    "        for k, v in enumerate(var):\n",
    "            l1 = [v**i for i in range(r[k])]\n",
    "            if not l0:\n",
    "                l0 = l1\n",
    "            else:\n",
    "                l2 = []\n",
    "                for v0 in l0:\n",
    "                    for v1 in l1:\n",
    "                        l2.append(v0*v1)\n",
    "                l0 = l2\n",
    "        dv = [v for k, v in enumerate(var) if r[k] == 0]\n",
    "        for k, v in enumerate(l0):\n",
    "            l0[k] = Function(f\"{f}{k}\")(*dv)*v if dv else Symbol(f\"{f}{k}\")*v\n",
    "        res.append(sum(l0))\n",
    "    return res\n",
    "gen_series(diablo)"
   ]
  },
  {
   "cell_type": "code",
   "execution_count": 20,
   "metadata": {},
   "outputs": [
    {
     "data": {
      "image/png": "[encoded data removed]",
      "text/latex": [
       "$$a{\\left ( \\right )}$$"
      ],
      "text/plain": [
       "a()"
      ]
     },
     "execution_count": 20,
     "metadata": {},
     "output_type": "execute_result"
    }
   ],
   "source": [
    "Function('a')()"
   ]
  },
  {
   "cell_type": "code",
   "execution_count": 13,
   "metadata": {},
   "outputs": [
    {
     "name": "stdout",
     "output_type": "stream",
     "text": [
      "df(u), \n",
      "df(u, x1), df(u, x2), df(u, x3), \n",
      "df(u, x1, x2), df(u, x1, x3), df(u, x2, 2), df(u, x2, x3), \n",
      "df(u, x1, x2, 2), df(u, x1, x2, x3), df(u, x2, 3), \n",
      "df(u, x1, x2, 3), \n",
      "число произвольных констант в ряде Тейлора: 12\n"
     ]
    }
   ],
   "source": [
    "rows, i = {}, 0\n",
    "for d in range(5):\n",
    "    for m in Monom.gradus(d, pos=0):\n",
    "        if not diablo.find(m):\n",
    "            print(f\"{m.df()}\", end=\", \")\n",
    "            rows[m] = i\n",
    "            i += 1\n",
    "    print()\n",
    "print(f\"число произвольных констант в ряде Тейлора: {len(rows)}\")"
   ]
  },
  {
   "cell_type": "code",
   "execution_count": 14,
   "metadata": {},
   "outputs": [
    {
     "data": {
      "image/png": "[encoded data removed]",
      "text/latex": [
       "$$C_{000} + C_{001} x_{3} + C_{002} x_{3}^{2} + C_{003} x_{3}^{3} + C_{004} x_{3}^{4} + C_{010} x_{2} + C_{011} x_{2} x_{3} + C_{012} x_{2} x_{3}^{2} + C_{013} x_{2} x_{3}^{3} + C_{020} x_{2}^{2} + C_{021} x_{2}^{2} x_{3} + C_{022} x_{2}^{2} x_{3}^{2} + C_{030} x_{2}^{3} + C_{031} x_{2}^{3} x_{3} + C_{040} x_{2}^{4} + C_{100} x_{1} + C_{101} x_{1} x_{3} + C_{102} x_{1} x_{3}^{2} + C_{103} x_{1} x_{3}^{3} + C_{110} x_{1} x_{2} + C_{111} x_{1} x_{2} x_{3} + C_{112} x_{1} x_{2} x_{3}^{2} + C_{120} x_{1} x_{2}^{2} + C_{121} x_{1} x_{2}^{2} x_{3} + C_{130} x_{1} x_{2}^{3} + C_{200} x_{1}^{2} + C_{201} x_{1}^{2} x_{3} + C_{202} x_{1}^{2} x_{3}^{2} + C_{210} x_{1}^{2} x_{2} + C_{211} x_{1}^{2} x_{2} x_{3} + C_{220} x_{1}^{2} x_{2}^{2} + C_{300} x_{1}^{3} + C_{301} x_{1}^{3} x_{3} + C_{310} x_{1}^{3} x_{2} + C_{400} x_{1}^{4}$$"
      ],
      "text/plain": [
       "                                 2             3             4                \n",
       "C_{000} + C_{001}⋅x₃ + C_{002}⋅x₃  + C_{003}⋅x₃  + C_{004}⋅x₃  + C_{010}⋅x₂ + \n",
       "\n",
       "                             2                3             2             2   \n",
       "C_{011}⋅x₂⋅x₃ + C_{012}⋅x₂⋅x₃  + C_{013}⋅x₂⋅x₃  + C_{020}⋅x₂  + C_{021}⋅x₂ ⋅x₃\n",
       "\n",
       "             2   2             3             3                4               \n",
       " + C_{022}⋅x₂ ⋅x₃  + C_{030}⋅x₂  + C_{031}⋅x₂ ⋅x₃ + C_{040}⋅x₂  + C_{100}⋅x₁ +\n",
       "\n",
       "                              2                3                              \n",
       " C_{101}⋅x₁⋅x₃ + C_{102}⋅x₁⋅x₃  + C_{103}⋅x₁⋅x₃  + C_{110}⋅x₁⋅x₂ + C_{111}⋅x₁⋅\n",
       "\n",
       "                        2                2                2                   \n",
       "x₂⋅x₃ + C_{112}⋅x₁⋅x₂⋅x₃  + C_{120}⋅x₁⋅x₂  + C_{121}⋅x₁⋅x₂ ⋅x₃ + C_{130}⋅x₁⋅x₂\n",
       "\n",
       "3             2             2                2   2             2              \n",
       "  + C_{200}⋅x₁  + C_{201}⋅x₁ ⋅x₃ + C_{202}⋅x₁ ⋅x₃  + C_{210}⋅x₁ ⋅x₂ + C_{211}⋅\n",
       "\n",
       "  2                   2   2             3             3                3      \n",
       "x₁ ⋅x₂⋅x₃ + C_{220}⋅x₁ ⋅x₂  + C_{300}⋅x₁  + C_{301}⋅x₁ ⋅x₃ + C_{310}⋅x₁ ⋅x₂ + \n",
       "\n",
       "          4\n",
       "C_{400}⋅x₁ "
      ]
     },
     "execution_count": 14,
     "metadata": {},
     "output_type": "execute_result"
    }
   ],
   "source": [
    "T = 0\n",
    "for d in range(5):\n",
    "    for m in Monom.gradus(d, pos=0):\n",
    "        r = PolyDiff(m)\n",
    "        r.NFhead(diablo)\n",
    "        if r or True:\n",
    "            p = \"\".join(str(i) for i in m)\n",
    "            r = sympy.Symbol(f\"C_{{{p}}}\")\n",
    "            for i, v in enumerate(m):\n",
    "                if v:\n",
    "                    r *= var[i]**v\n",
    "            T += r\n",
    "T"
   ]
  },
  {
   "cell_type": "code",
   "execution_count": 15,
   "metadata": {},
   "outputs": [
    {
     "data": {
      "image/png": "[encoded data removed]",
      "text/latex": [
       "$$\\left [ 2 C_{002} + 6 C_{003} x_{3} + 12 C_{004} x_{3}^{2} + 2 C_{012} x_{2} + 6 C_{013} x_{2} x_{3} + 2 C_{022} x_{2}^{2} + 2 C_{102} x_{1} + 6 C_{103} x_{1} x_{3} + 2 C_{112} x_{1} x_{2} + 2 C_{202} x_{1}^{2}, \\quad 2 C_{021} + 4 C_{022} x_{3} + 6 C_{031} x_{2} + 2 C_{121} x_{1}, \\quad 24 C_{040}, \\quad 2 C_{020} x_{3} + 2 C_{021} x_{3}^{2} + 2 C_{022} x_{3}^{3} + 6 C_{030} x_{2} x_{3} + 6 C_{031} x_{2} x_{3}^{2} + 12 C_{040} x_{2}^{2} x_{3} + 2 C_{120} x_{1} x_{3} + 2 C_{121} x_{1} x_{3}^{2} + 6 C_{130} x_{1} x_{2} x_{3} + 2 C_{200} + 2 C_{201} x_{3} + 2 C_{202} x_{3}^{2} + 2 C_{210} x_{2} + 2 C_{211} x_{2} x_{3} + 2 C_{220} x_{1}^{2} x_{3} + 2 C_{220} x_{2}^{2} + 6 C_{300} x_{1} + 6 C_{301} x_{1} x_{3} + 6 C_{310} x_{1} x_{2} + 12 C_{400} x_{1}^{2}\\right ]$$"
      ],
      "text/plain": [
       "⎡                                        2                                    \n",
       "⎣2⋅C_{002} + 6⋅C_{003}⋅x₃ + 12⋅C_{004}⋅x₃  + 2⋅C_{012}⋅x₂ + 6⋅C_{013}⋅x₂⋅x₃ + \n",
       "\n",
       "            2                                                                 \n",
       "2⋅C_{022}⋅x₂  + 2⋅C_{102}⋅x₁ + 6⋅C_{103}⋅x₁⋅x₃ + 2⋅C_{112}⋅x₁⋅x₂ + 2⋅C_{202}⋅x\n",
       "\n",
       " 2                                                                            \n",
       "₁ , 2⋅C_{021} + 4⋅C_{022}⋅x₃ + 6⋅C_{031}⋅x₂ + 2⋅C_{121}⋅x₁, 24⋅C_{040}, 2⋅C_{0\n",
       "\n",
       "                     2               3                                    2   \n",
       "20}⋅x₃ + 2⋅C_{021}⋅x₃  + 2⋅C_{022}⋅x₃  + 6⋅C_{030}⋅x₂⋅x₃ + 6⋅C_{031}⋅x₂⋅x₃  + \n",
       "\n",
       "             2                                       2                        \n",
       "12⋅C_{040}⋅x₂ ⋅x₃ + 2⋅C_{120}⋅x₁⋅x₃ + 2⋅C_{121}⋅x₁⋅x₃  + 6⋅C_{130}⋅x₁⋅x₂⋅x₃ + \n",
       "\n",
       "                                       2                                      \n",
       "2⋅C_{200} + 2⋅C_{201}⋅x₃ + 2⋅C_{202}⋅x₃  + 2⋅C_{210}⋅x₂ + 2⋅C_{211}⋅x₂⋅x₃ + 2⋅\n",
       "\n",
       "          2                  2                                                \n",
       "C_{220}⋅x₁ ⋅x₃ + 2⋅C_{220}⋅x₂  + 6⋅C_{300}⋅x₁ + 6⋅C_{301}⋅x₁⋅x₃ + 6⋅C_{310}⋅x₁\n",
       "\n",
       "                   2⎤\n",
       "⋅x₂ + 12⋅C_{400}⋅x₁ ⎦"
      ]
     },
     "execution_count": 15,
     "metadata": {},
     "output_type": "execute_result"
    }
   ],
   "source": [
    "eqs = []\n",
    "for w in diablo.GB():\n",
    "    eqs.append(eval(str(w.poly).\n",
    "        replace('df', 'sympy.diff').replace('u', 'T')).expand())\n",
    "eqs"
   ]
  },
  {
   "cell_type": "code",
   "execution_count": 16,
   "metadata": {},
   "outputs": [],
   "source": [
    "def to_eqs(a, var):\n",
    "    for x in var:\n",
    "        r = []\n",
    "        for b in a:\n",
    "            if b:\n",
    "                r.append([b.coeff(x, i) for i in range(b.as_poly(x).degree()+1) if b.coeff(x, i)])\n",
    "        a = chain(*r)\n",
    "    return list(a)"
   ]
  },
  {
   "cell_type": "code",
   "execution_count": 17,
   "metadata": {},
   "outputs": [
    {
     "data": {
      "image/png": "[encoded data removed]",
      "text/latex": [
       "$$\\left [ 2 C_{002}, \\quad 6 C_{003}, \\quad 12 C_{004}, \\quad 2 C_{012}, \\quad 6 C_{013}, \\quad 2 C_{022}, \\quad 2 C_{102}, \\quad 6 C_{103}, \\quad 2 C_{112}, \\quad 2 C_{202}, \\quad 2 C_{021}, \\quad 4 C_{022}, \\quad 6 C_{031}, \\quad 2 C_{121}, \\quad 24 C_{040}, \\quad 2 C_{200}, \\quad 2 C_{020} + 2 C_{201}, \\quad 2 C_{021} + 2 C_{202}, \\quad 2 C_{022}, \\quad 2 C_{210}, \\quad 6 C_{030} + 2 C_{211}, \\quad 6 C_{031}, \\quad 2 C_{220}, \\quad 12 C_{040}, \\quad 6 C_{300}, \\quad 2 C_{120} + 6 C_{301}, \\quad 2 C_{121}, \\quad 6 C_{310}, \\quad 6 C_{130}, \\quad 12 C_{400}, \\quad 2 C_{220}\\right ]$$"
      ],
      "text/plain": [
       "[2⋅C_{002}, 6⋅C_{003}, 12⋅C_{004}, 2⋅C_{012}, 6⋅C_{013}, 2⋅C_{022}, 2⋅C_{102},\n",
       " 6⋅C_{103}, 2⋅C_{112}, 2⋅C_{202}, 2⋅C_{021}, 4⋅C_{022}, 6⋅C_{031}, 2⋅C_{121}, \n",
       "24⋅C_{040}, 2⋅C_{200}, 2⋅C_{020} + 2⋅C_{201}, 2⋅C_{021} + 2⋅C_{202}, 2⋅C_{022}\n",
       ", 2⋅C_{210}, 6⋅C_{030} + 2⋅C_{211}, 6⋅C_{031}, 2⋅C_{220}, 12⋅C_{040}, 6⋅C_{300\n",
       "}, 2⋅C_{120} + 6⋅C_{301}, 2⋅C_{121}, 6⋅C_{310}, 6⋅C_{130}, 12⋅C_{400}, 2⋅C_{22\n",
       "0}]"
      ]
     },
     "execution_count": 17,
     "metadata": {},
     "output_type": "execute_result"
    }
   ],
   "source": [
    "a = to_eqs(eqs, [x1, x2, x3])\n",
    "a"
   ]
  },
  {
   "cell_type": "code",
   "execution_count": 18,
   "metadata": {},
   "outputs": [
    {
     "data": {
      "image/png": "[encoded data removed]",
      "text/latex": [
       "$$\\left \\{ C_{002} : 0, \\quad C_{003} : 0, \\quad C_{004} : 0, \\quad C_{012} : 0, \\quad C_{013} : 0, \\quad C_{020} : - C_{201}, \\quad C_{021} : 0, \\quad C_{022} : 0, \\quad C_{030} : - \\frac{C_{211}}{3}, \\quad C_{031} : 0, \\quad C_{040} : 0, \\quad C_{102} : 0, \\quad C_{103} : 0, \\quad C_{112} : 0, \\quad C_{120} : - 3 C_{301}, \\quad C_{121} : 0, \\quad C_{130} : 0, \\quad C_{200} : 0, \\quad C_{202} : 0, \\quad C_{210} : 0, \\quad C_{220} : 0, \\quad C_{300} : 0, \\quad C_{310} : 0, \\quad C_{400} : 0\\right \\}$$"
      ],
      "text/plain": [
       "⎧                                                                             \n",
       "⎨C_{002}: 0, C_{003}: 0, C_{004}: 0, C_{012}: 0, C_{013}: 0, C_{020}: -C_{201}\n",
       "⎩                                                                             \n",
       "\n",
       "                                   -C_{211}                                   \n",
       ", C_{021}: 0, C_{022}: 0, C_{030}: ─────────, C_{031}: 0, C_{040}: 0, C_{102}:\n",
       "                                       3                                      \n",
       "\n",
       "                                                                              \n",
       " 0, C_{103}: 0, C_{112}: 0, C_{120}: -3⋅C_{301}, C_{121}: 0, C_{130}: 0, C_{20\n",
       "                                                                              \n",
       "\n",
       "                                                                             ⎫\n",
       "0}: 0, C_{202}: 0, C_{210}: 0, C_{220}: 0, C_{300}: 0, C_{310}: 0, C_{400}: 0⎬\n",
       "                                                                             ⎭"
      ]
     },
     "execution_count": 18,
     "metadata": {},
     "output_type": "execute_result"
    }
   ],
   "source": [
    "sol = sympy.solve(a)\n",
    "sol"
   ]
  },
  {
   "cell_type": "code",
   "execution_count": 19,
   "metadata": {},
   "outputs": [
    {
     "data": {
      "image/png": "[encoded data removed]",
      "text/latex": [
       "$$C_{000} + C_{001} x_{3} + C_{010} x_{2} + C_{011} x_{2} x_{3} + C_{100} x_{1} + C_{101} x_{1} x_{3} + C_{110} x_{1} x_{2} + C_{111} x_{1} x_{2} x_{3} + C_{201} x_{1}^{2} x_{3} - C_{201} x_{2}^{2} + C_{211} x_{1}^{2} x_{2} x_{3} - \\frac{C_{211} x_{2}^{3}}{3} + C_{301} x_{1}^{3} x_{3} - 3 C_{301} x_{1} x_{2}^{2}$$"
      ],
      "text/plain": [
       "                                                                              \n",
       "                                                                              \n",
       "C_{000} + C_{001}⋅x₃ + C_{010}⋅x₂ + C_{011}⋅x₂⋅x₃ + C_{100}⋅x₁ + C_{101}⋅x₁⋅x₃\n",
       "                                                                              \n",
       "\n",
       "                                                                              \n",
       "                                                2                2            \n",
       " + C_{110}⋅x₁⋅x₂ + C_{111}⋅x₁⋅x₂⋅x₃ + C_{201}⋅x₁ ⋅x₃ - C_{201}⋅x₂  + C_{211}⋅x\n",
       "                                                                              \n",
       "\n",
       "                     3                                    \n",
       " 2         C_{211}⋅x₂              3                     2\n",
       "₁ ⋅x₂⋅x₃ - ─────────── + C_{301}⋅x₁ ⋅x₃ - 3⋅C_{301}⋅x₁⋅x₂ \n",
       "                3                                         "
      ]
     },
     "execution_count": 19,
     "metadata": {},
     "output_type": "execute_result"
    }
   ],
   "source": [
    "T0 = T.subs(sol)\n",
    "T0"
   ]
  },
  {
   "cell_type": "code",
   "execution_count": 20,
   "metadata": {},
   "outputs": [
    {
     "name": "stdout",
     "output_type": "stream",
     "text": [
      "0\n",
      "0\n",
      "0\n",
      "0\n"
     ]
    }
   ],
   "source": [
    "for w in diablo.GB():\n",
    "    print(eval(str(w.poly).\n",
    "        replace('df', 'sympy.diff').replace('u', 'T0')).expand())"
   ]
  },
  {
   "cell_type": "code",
   "execution_count": 21,
   "metadata": {
    "scrolled": true
   },
   "outputs": [
    {
     "data": {
      "image/png": "[encoded data removed]",
      "text/latex": [
       "$$0$$"
      ],
      "text/plain": [
       "0"
      ]
     },
     "execution_count": 21,
     "metadata": {},
     "output_type": "execute_result"
    }
   ],
   "source": [
    "T0.diff(x2, 2, x3).expand()"
   ]
  },
  {
   "cell_type": "code",
   "execution_count": 22,
   "metadata": {},
   "outputs": [
    {
     "data": {
      "image/png": "[encoded data removed]",
      "text/latex": [
       "$$0$$"
      ],
      "text/plain": [
       "0"
      ]
     },
     "execution_count": 22,
     "metadata": {},
     "output_type": "execute_result"
    }
   ],
   "source": [
    "(T0.diff(x1, 2) + x3*T0.diff(x2, 2)).expand()"
   ]
  },
  {
   "cell_type": "code",
   "execution_count": 23,
   "metadata": {},
   "outputs": [],
   "source": [
    "alpha, beta, gamma = sympy.symbols('alpha, beta, gamma', real=True)\n",
    "\n",
    "var = ['t', 'x', 'y']\n",
    "fun = ['A', 'B', 'C', 'D', 'E']\n",
    "Monom.init(var, fun)\n",
    "df = PolyDiff.df\n",
    "diff2poly = PolyDiff.diff2poly\n",
    "var, fun = PolyDiff.init()\n",
    "t, x, y = var\n",
    "A, B, C, D, E = fun"
   ]
  },
  {
   "cell_type": "code",
   "execution_count": 24,
   "metadata": {},
   "outputs": [],
   "source": [
    "eqs = [\n",
    "df(C, t)*(-1) + df(B, y)*(-2*gamma),\n",
    "df(A, y),\n",
    "df(D, y),\n",
    "df(C, y, 2),\n",
    "df(E, y, 4)*(-beta*gamma**2) + df(D, t, 3)*(-1),\n",
    "df(D, y, 4),\n",
    "df(C, y, 4),\n",
    "df(B, y, 4),\n",
    "df(A, y, 4),\n",
    "df(C, x),\n",
    "df(B, x)*(-3) + df(C, y)*2 + df(D)*(-1),\n",
    "df(A, x),\n",
    "df(D, x),\n",
    "df(E, x, y, 2)*beta*gamma + df(D, t, 2)*(-1),\n",
    "df(D, x, y, 2),\n",
    "df(C, x, y, 2),\n",
    "df(B, x, y, 2),\n",
    "df(A, x, y, 2),\n",
    "df(E, x, 2)*(-beta) + df(D, t)*(-1),\n",
    "df(D, x, 2),\n",
    "df(C, x, 2),\n",
    "df(B, x, 2),\n",
    "df(A, x, 2),\n",
    "df(B, t)*(-3) + df(E, x)*(-3*beta) + df(C, y)*2*alpha + df(D)*2*alpha,\n",
    "df(D, x),\n",
    "df(C, x),\n",
    "df(B, x)*(-3) + df(C, y)*2 + df(D)*(-1),\n",
    "df(A, x),\n",
    "df(A, t)*3 + df(C, y)*(-4) + df(D)*(-1),\n",
    "df(C, t, y) + df(D, t)*(-2),\n",
    "df(E, t, x)*beta + df(E, y, 2)*beta*gamma + df(D, t)*(-alpha),\n",
    "df(D, t, x) + df(D, y, 2)*gamma,\n",
    "df(C, t, x) + df(C, y, 2)*gamma,\n",
    "df(B, t, x) + df(B, y, 2)*gamma,\n",
    "df(A, t, x) + df(A, y, 2)*gamma,\n",
    "df(C, t, 2)*(-1) + df(E, x, y)*2*beta*gamma,\n",
    "df(D, x, y),\n",
    "df(C, x, y),\n",
    "df(B, x, y),\n",
    "df(A, x, y)\n",
    "]"
   ]
  },
  {
   "cell_type": "code",
   "execution_count": 25,
   "metadata": {},
   "outputs": [
    {
     "name": "stdout",
     "output_type": "stream",
     "text": [
      "prolong 0, Q 1\n",
      "df(A, y)\n",
      "prolong 0, Q 1\n",
      "df(D, y)\n",
      "prolong 0, Q 1\n",
      "df(A, x)\n",
      "prolong 0, Q 1\n",
      "df(B, x)\n",
      "prolong 0, Q 1\n",
      "df(C, x)\n",
      "prolong 0, Q 1\n",
      "df(D, x)\n",
      "prolong 0, Q 1\n",
      "df(A, t)\n",
      "prolong 0, Q 1\n",
      "df(B, t)\n",
      "prolong 0, Q 1\n",
      "df(C, t)\n",
      "prolong 0, Q 2\n",
      "df(C, y, 2)\n",
      "prolong 0, Q 2\n",
      "df(B, y, 2), df(E, x, 2), df(E, t, x)\n",
      "prolong 1, Q 3\n",
      "df(E, x, y, 2)\n",
      "prolong 2, Q 4\n",
      "df(E, y, 4)\n",
      "prolong 3, Q 0\n",
      "prolong 4, Q 0\n",
      "df(E, t, y, 4)\n",
      "prolong 5, Q 0\n",
      "prolong 0, Q 0\n",
      "crit1: 0\n",
      "crit2: 0\n",
      " time: 0.14 sec\n",
      "    count: 16\n",
      "reduction: 133\n",
      "[0, 0, 0, 0]\n",
      "[1, 0, 0, 0]\n",
      "4 4\n",
      "[2, 0, 0, 0]\n",
      "4 4\n",
      "[2, 0, 0, 0]\n",
      "4 4\n",
      "[1, 1, 0, 0]\n",
      "4 4\n",
      "[0, 4, 0, 0]\n",
      "4 4\n",
      "       HP: 5s + 6\n"
     ]
    }
   ],
   "source": [
    "LRT = Forest(Janet)\n",
    "# diablo = JanetCache()\n",
    "res = ginvBlockLow(eqs, \\\n",
    "LRT, level=1)\n",
    "print(f\"crit1: {res[1]}\")\n",
    "print(f\"crit2: {res[2]}\")\n",
    "print(f\" time: {res[0]:.2f} sec\")\n",
    "print(f\"    count: {LRT.count()}\")\n",
    "print(f\"reduction: {LRT.reduction()}\")\n",
    "print(f\"       HP: {LRT.HP()}\")"
   ]
  },
  {
   "cell_type": "code",
   "execution_count": 31,
   "metadata": {},
   "outputs": [
    {
     "name": "stdout",
     "output_type": "stream",
     "text": [
      "df(A, y)\n",
      "df(A, x)\n",
      "df(A, t)*3 + df(C, y)*(-4) + df(D)*(-1)\n",
      "df(B, y, 2)*gamma + df(D, t)\n",
      "df(B, x)*(-3) + df(C, y)*2 + df(D)*(-1)\n",
      "df(B, t)*(-3) + df(E, x)*(-3*beta) + df(C, y)*2*alpha + df(D)*2*alpha\n",
      "df(C, y, 2)\n",
      "df(C, x)\n",
      "df(C, t)*(-1) + df(B, y)*(-2*gamma)\n",
      "df(D, y)\n",
      "df(D, x)\n",
      "df(E, y, 4)*(-beta*gamma**2) + df(D, t, 3)*(-1)\n",
      "df(E, x, y, 2)*beta*gamma + df(D, t, 2)*(-1)\n",
      "df(E, x, 2)*(-beta) + df(D, t)*(-1)\n",
      "df(E, t, x)*beta + df(E, y, 2)*beta*gamma + df(D, t)*(-alpha)\n"
     ]
    }
   ],
   "source": [
    "for w in LRT.GB():\n",
    "    print(w.poly)"
   ]
  },
  {
   "cell_type": "code",
   "execution_count": null,
   "metadata": {},
   "outputs": [],
   "source": []
  }
 ],
 "metadata": {
  "kernelspec": {
   "display_name": "Python 3 (ipykernel)",
   "language": "python",
   "name": "python3"
  },
  "language_info": {
   "codemirror_mode": {
    "name": "ipython",
    "version": 3
   },
   "file_extension": ".py",
   "mimetype": "text/x-python",
   "name": "python",
   "nbconvert_exporter": "python",
   "pygments_lexer": "ipython3",
   "version": "3.11.2"
  }
 },
 "nbformat": 4,
 "nbformat_minor": 2
}
