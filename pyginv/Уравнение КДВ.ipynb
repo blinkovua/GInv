{
 "cells": [
  {
   "cell_type": "code",
   "execution_count": 1,
   "metadata": {},
   "outputs": [],
   "source": [
    "from IPython.display import display, Image\n",
    "from pprint import pprint\n",
    "from itertools import chain\n",
    "\n",
    "from ginv import *\n",
    "sympy.init_printing()"
   ]
  },
  {
   "cell_type": "markdown",
   "metadata": {},
   "source": [
    "Условие на высшие симметрии (сокращенная запись например $u_{xxx} = u_3$)\n",
    "\\begin{equation}\n",
    "\\begin{aligned}\n",
    "\\mathbf{u_{t}}& + 6 u_1 u + u_3 = 0 \\\\\n",
    "\\mathbf{u_{\\varepsilon }}& - F(t, x, u, u_1, u_2, \\ldots, u_5) = 0 \\\\\n",
    "\\end{aligned}\n",
    "\\end{equation}\n",
    "Для второго уравнения системы введем полные производные от $F$.\n",
    "\\begin{equation}\n",
    "\\begin{aligned}\n",
    "\\frac{dF}{dt} &= F_t  + F_u (6 u_1 u + u_3) + \\sum F_{u_{i}} (6 u_1 u + u_3)_i\\\\\n",
    "\\frac{dF}{dx} &= F_x  + F_u  u_1 + \\sum F_{u_{i}} u_{i+1}\n",
    "\\end{aligned}\n",
    "\\end{equation}\n",
    "\n",
    "Условие интегрируемости (совместности) данной системы можно записать через $S$-полином (лексикографическое упорядочение $t \\succ x $)\n",
    "\\begin{equation}\n",
    "\\big(\\mathbf{u_{t}}  + 6 u_1 u + u_3)_\\varepsilon \n",
    "- \\mathbf{u_{\\varepsilon t}} + \\frac{d}{dt}F = 0\n",
    "\\end{equation}\n",
    "\n",
    "В последнем уравнении в силу правила дифференцирования Лейбница производная по $\\varepsilon $\n",
    "входит в условие интрегриемости линейно. \n",
    "\\begin{equation}\n",
    "6𝑢 𝑢_{\\varepsilon 1}+  6𝑢_1 𝑢_{\\varepsilon }+ 𝑢_{\\varepsilon 3}\n",
    "\\frac{d}{dt}F = 0\n",
    "\\end{equation}\n",
    "При этом мы можем заменить $u_{\\varepsilon }$ на $F$ используя полные производные от $F$.\n",
    "\\begin{equation}\n",
    "6𝑢 \\frac{d}{dx}F+  6𝑢_1 F + \\frac{d^3}{dx^3}F + \\frac{d}{dt}F = 0\n",
    "\\end{equation}\n",
    "\n",
    "Поскольку само $F$ не зависит от производных выше пятого порядка можно получить \n",
    "систему линейных уравнений на $F$."
   ]
  },
  {
   "cell_type": "code",
   "execution_count": 2,
   "metadata": {},
   "outputs": [],
   "source": [
    "eps, t, x = sympy.symbols('ε, t, x', real=True)\n",
    "U = sympy.Function('u')(eps, t, x)\n",
    "\n",
    "u, ut, u1, u2, u3, u4, u5 = sympy.symbols('u, ut, u1, u2, u3, u4, u5', real=True)\n",
    "F = sympy.Function('f')(t, x, u, u1, u2, u3, u4, u5)"
   ]
  },
  {
   "cell_type": "code",
   "execution_count": 3,
   "metadata": {},
   "outputs": [
    {
     "data": {
      "image/png": "[encoded data removed]",
      "text/latex": [
       "$\\displaystyle 6 u{\\left(ε,t,x \\right)} \\frac{\\partial}{\\partial x} u{\\left(ε,t,x \\right)} + \\frac{\\partial}{\\partial t} u{\\left(ε,t,x \\right)} + \\frac{\\partial^{3}}{\\partial x^{3}} u{\\left(ε,t,x \\right)}$"
      ],
      "text/plain": [
       "                                                 3            \n",
       "             ∂                ∂                 ∂             \n",
       "6⋅u(ε, t, x)⋅──(u(ε, t, x)) + ──(u(ε, t, x)) + ───(u(ε, t, x))\n",
       "             ∂x               ∂t                 3            \n",
       "                                               ∂x             "
      ]
     },
     "execution_count": 3,
     "metadata": {},
     "output_type": "execute_result"
    }
   ],
   "source": [
    "eq1 = U.diff(t) + 6*U*U.diff(x) + U.diff(x, 3)\n",
    "eq1"
   ]
  },
  {
   "cell_type": "code",
   "execution_count": 4,
   "metadata": {},
   "outputs": [],
   "source": [
    "func_poly = set([sympy.Add, sympy.Mul, sympy.Pow])\n",
    "def compact(f):\n",
    "    def cmpct(a):\n",
    "        if not a.args:\n",
    "            return a\n",
    "        else:\n",
    "            if a.func in func_poly:\n",
    "                return a.func(*tuple(cmpct(s) for s in a.args))\n",
    "            elif a.func != sympy.Derivative:\n",
    "                return sympy.Symbol(f\"{a.func}\")\n",
    "            else:\n",
    "                m = []\n",
    "                for xi, k in a.args[1:]:\n",
    "                    m.append(f\"{xi}\"*k)\n",
    "                return sympy.Symbol(f\"{a.args[0].func}_{{{''.join(m)}}}\", real=True)\n",
    "    return cmpct(f)"
   ]
  },
  {
   "cell_type": "code",
   "execution_count": 5,
   "metadata": {},
   "outputs": [
    {
     "data": {
      "image/png": "[encoded data removed]",
      "text/latex": [
       "$\\displaystyle 6 u u_{x} + u_{t} + u_{xxx}$"
      ],
      "text/plain": [
       "6⋅u⋅u_{x} + u_{t} + u_{xxx}"
      ]
     },
     "execution_count": 5,
     "metadata": {},
     "output_type": "execute_result"
    }
   ],
   "source": [
    "compact(eq1)"
   ]
  },
  {
   "cell_type": "code",
   "execution_count": 6,
   "metadata": {},
   "outputs": [
    {
     "data": {
      "image/png": "[encoded data removed]",
      "text/latex": [
       "$\\displaystyle 6 u u_{xε} + u_{tε} + u_{xxxε} + 6 u_{x} u_{ε}$"
      ],
      "text/plain": [
       "6⋅u⋅u_{xε} + u_{tε} + u_{xxxε} + 6⋅u_{x}⋅u_{ε}"
      ]
     },
     "execution_count": 6,
     "metadata": {},
     "output_type": "execute_result"
    }
   ],
   "source": [
    "compact(eq1.diff(eps))"
   ]
  },
  {
   "cell_type": "code",
   "execution_count": 7,
   "metadata": {},
   "outputs": [],
   "source": [
    "def Dt(a):\n",
    "    return a.diff(t) -\\\n",
    "        sum(a.diff(f)*(6*U*U.diff(x) + U.diff(x, 3)).diff(x, k)\\\n",
    "            for k, f in enumerate([u, u1, u2, u3, u4, u5]))\n",
    "def Dx(a):\n",
    "    return a.diff(x) +\\\n",
    "        sum(a.diff(f)*U.diff(x, k+1)\\\n",
    "            for k, f in enumerate([u, u1, u2, u3, u4, u5]))"
   ]
  },
  {
   "cell_type": "code",
   "execution_count": 8,
   "metadata": {},
   "outputs": [
    {
     "data": {
      "image/png": "[encoded data removed]",
      "text/latex": [
       "$\\displaystyle f_{u1} u_{xx} + f_{u2} u_{xxx} + f_{u3} u_{xxxx} + f_{u4} u_{xxxxx} + f_{u5} u_{xxxxxx} + f_{u} u_{x} + f_{x}$"
      ],
      "text/plain": [
       "f_{u1}⋅u_{xx} + f_{u2}⋅u_{xxx} + f_{u3}⋅u_{xxxx} + f_{u4}⋅u_{xxxxx} + f_{u5}⋅u_{xxxxxx} + f_{u}⋅u_{x}\n",
       " + f_{x}"
      ]
     },
     "execution_count": 8,
     "metadata": {},
     "output_type": "execute_result"
    }
   ],
   "source": [
    "compact(Dx(F))"
   ]
  },
  {
   "cell_type": "code",
   "execution_count": 9,
   "metadata": {},
   "outputs": [
    {
     "data": {
      "image/png": "[encoded data removed]",
      "text/latex": [
       "$\\displaystyle f_{t} - f_{u1} \\cdot \\left(6 u u_{xx} + u_{xxxx} + 6 u_{x}^{2}\\right) - f_{u2} \\cdot \\left(6 u u_{xxx} + u_{xxxxx} + 18 u_{xx} u_{x}\\right) - f_{u3} \\cdot \\left(6 u u_{xxxx} + u_{xxxxxx} + 24 u_{xxx} u_{x} + 18 u_{xx}^{2}\\right) - f_{u4} \\cdot \\left(6 u u_{xxxxx} + u_{xxxxxxx} + 30 u_{xxxx} u_{x} + 60 u_{xxx} u_{xx}\\right) - f_{u5} \\cdot \\left(6 u u_{xxxxxx} + u_{xxxxxxxx} + 36 u_{xxxxx} u_{x} + 90 u_{xxxx} u_{xx} + 60 u_{xxx}^{2}\\right) - f_{u} \\left(6 u u_{x} + u_{xxx}\\right)$"
      ],
      "text/plain": [
       "               ⎛                               2⎞                                                    \n",
       "f_{t} - f_{u1}⋅⎝6⋅u⋅u_{xx} + u_{xxxx} + 6⋅u_{x} ⎠ - f_{u2}⋅(6⋅u⋅u_{xxx} + u_{xxxxx} + 18⋅u_{xx}⋅u_{x}\n",
       "\n",
       "           ⎛                                                        2⎞                               \n",
       ") - f_{u3}⋅⎝6⋅u⋅u_{xxxx} + u_{xxxxxx} + 24⋅u_{xxx}⋅u_{x} + 18⋅u_{xx} ⎠ - f_{u4}⋅(6⋅u⋅u_{xxxxx} + u_{x\n",
       "\n",
       "                                                          ⎛                                          \n",
       "xxxxxx} + 30⋅u_{xxxx}⋅u_{x} + 60⋅u_{xxx}⋅u_{xx}) - f_{u5}⋅⎝6⋅u⋅u_{xxxxxx} + u_{xxxxxxxx} + 36⋅u_{xxxx\n",
       "\n",
       "                                          2⎞                              \n",
       "x}⋅u_{x} + 90⋅u_{xxxx}⋅u_{xx} + 60⋅u_{xxx} ⎠ - f_{u}⋅(6⋅u⋅u_{x} + u_{xxx})"
      ]
     },
     "execution_count": 9,
     "metadata": {},
     "output_type": "execute_result"
    }
   ],
   "source": [
    "compact(Dt(F))"
   ]
  },
  {
   "cell_type": "code",
   "execution_count": 10,
   "metadata": {
    "scrolled": true
   },
   "outputs": [],
   "source": [
    "toD = {\n",
    "    t: Dt,\\\n",
    "    x: Dx,\\\n",
    "}\n",
    "def totalD(a):\n",
    "    if not a.args:\n",
    "        return a\n",
    "    else:\n",
    "        if a.func != sympy.Derivative:\n",
    "            return a.func(*(totalD(s) for s in a.args))\n",
    "        elif (eps, 1) not in a.args:\n",
    "            return a\n",
    "        else:\n",
    "            assert a.args[0] == U\n",
    "            r = F\n",
    "            for v, l in a.args[1:]:\n",
    "                if v != eps:\n",
    "                    for i in range(l):\n",
    "                        r = toD[v](r)\n",
    "            return r"
   ]
  },
  {
   "cell_type": "code",
   "execution_count": 11,
   "metadata": {
    "scrolled": true
   },
   "outputs": [
    {
     "data": {
      "image/png": "[encoded data removed]",
      "text/latex": [
       "$\\displaystyle 6 f u_{x} + f_{t} + f_{u1u1u1} u_{xx}^{3} + 3 f_{u1u1u2} u_{xxx} u_{xx}^{2} + 3 f_{u1u1u3} u_{xxxx} u_{xx}^{2} + 3 f_{u1u1u4} u_{xxxxx} u_{xx}^{2} + 3 f_{u1u1u5} u_{xxxxxx} u_{xx}^{2} + 3 f_{u1u1x} u_{xx}^{2} + 3 f_{u1u1} u_{xxx} u_{xx} + 3 f_{u1u2u2} u_{xxx}^{2} u_{xx} + 6 f_{u1u2u3} u_{xxxx} u_{xxx} u_{xx} + 6 f_{u1u2u4} u_{xxxxx} u_{xxx} u_{xx} + 6 f_{u1u2u5} u_{xxxxxx} u_{xxx} u_{xx} + 6 f_{u1u2x} u_{xxx} u_{xx} + 3 f_{u1u2} u_{xxxx} u_{xx} + 3 f_{u1u2} u_{xxx}^{2} + 3 f_{u1u3u3} u_{xxxx}^{2} u_{xx} + 6 f_{u1u3u4} u_{xxxxx} u_{xxxx} u_{xx} + 6 f_{u1u3u5} u_{xxxxxx} u_{xxxx} u_{xx} + 6 f_{u1u3x} u_{xxxx} u_{xx} + 3 f_{u1u3} u_{xxxxx} u_{xx} + 3 f_{u1u3} u_{xxxx} u_{xxx} + 3 f_{u1u4u4} u_{xxxxx}^{2} u_{xx} + 6 f_{u1u4u5} u_{xxxxxx} u_{xxxxx} u_{xx} + 6 f_{u1u4x} u_{xxxxx} u_{xx} + 3 f_{u1u4} u_{xxxxxx} u_{xx} + 3 f_{u1u4} u_{xxxxx} u_{xxx} + 3 f_{u1u5u5} u_{xxxxxx}^{2} u_{xx} + 6 f_{u1u5x} u_{xxxxxx} u_{xx} + 3 f_{u1u5} u_{xxxxxxx} u_{xx} + 3 f_{u1u5} u_{xxxxxx} u_{xxx} + 3 f_{u1xx} u_{xx} + 3 f_{u1x} u_{xxx} - 6 f_{u1} u_{x}^{2} + f_{u2u2u2} u_{xxx}^{3} + 3 f_{u2u2u3} u_{xxxx} u_{xxx}^{2} + 3 f_{u2u2u4} u_{xxxxx} u_{xxx}^{2} + 3 f_{u2u2u5} u_{xxxxxx} u_{xxx}^{2} + 3 f_{u2u2x} u_{xxx}^{2} + 3 f_{u2u2} u_{xxxx} u_{xxx} + 3 f_{u2u3u3} u_{xxxx}^{2} u_{xxx} + 6 f_{u2u3u4} u_{xxxxx} u_{xxxx} u_{xxx} + 6 f_{u2u3u5} u_{xxxxxx} u_{xxxx} u_{xxx} + 6 f_{u2u3x} u_{xxxx} u_{xxx} + 3 f_{u2u3} u_{xxxxx} u_{xxx} + 3 f_{u2u3} u_{xxxx}^{2} + 3 f_{u2u4u4} u_{xxxxx}^{2} u_{xxx} + 6 f_{u2u4u5} u_{xxxxxx} u_{xxxxx} u_{xxx} + 6 f_{u2u4x} u_{xxxxx} u_{xxx} + 3 f_{u2u4} u_{xxxxxx} u_{xxx} + 3 f_{u2u4} u_{xxxxx} u_{xxxx} + 3 f_{u2u5u5} u_{xxxxxx}^{2} u_{xxx} + 6 f_{u2u5x} u_{xxxxxx} u_{xxx} + 3 f_{u2u5} u_{xxxxxxx} u_{xxx} + 3 f_{u2u5} u_{xxxxxx} u_{xxxx} + 3 f_{u2xx} u_{xxx} + 3 f_{u2x} u_{xxxx} - 18 f_{u2} u_{xx} u_{x} + f_{u3u3u3} u_{xxxx}^{3} + 3 f_{u3u3u4} u_{xxxxx} u_{xxxx}^{2} + 3 f_{u3u3u5} u_{xxxxxx} u_{xxxx}^{2} + 3 f_{u3u3x} u_{xxxx}^{2} + 3 f_{u3u3} u_{xxxxx} u_{xxxx} + 3 f_{u3u4u4} u_{xxxxx}^{2} u_{xxxx} + 6 f_{u3u4u5} u_{xxxxxx} u_{xxxxx} u_{xxxx} + 6 f_{u3u4x} u_{xxxxx} u_{xxxx} + 3 f_{u3u4} u_{xxxxxx} u_{xxxx} + 3 f_{u3u4} u_{xxxxx}^{2} + 3 f_{u3u5u5} u_{xxxxxx}^{2} u_{xxxx} + 6 f_{u3u5x} u_{xxxxxx} u_{xxxx} + 3 f_{u3u5} u_{xxxxxxx} u_{xxxx} + 3 f_{u3u5} u_{xxxxxx} u_{xxxxx} + 3 f_{u3xx} u_{xxxx} + 3 f_{u3x} u_{xxxxx} - 24 f_{u3} u_{xxx} u_{x} - 18 f_{u3} u_{xx}^{2} + f_{u4u4u4} u_{xxxxx}^{3} + 3 f_{u4u4u5} u_{xxxxxx} u_{xxxxx}^{2} + 3 f_{u4u4x} u_{xxxxx}^{2} + 3 f_{u4u4} u_{xxxxxx} u_{xxxxx} + 3 f_{u4u5u5} u_{xxxxxx}^{2} u_{xxxxx} + 6 f_{u4u5x} u_{xxxxxx} u_{xxxxx} + 3 f_{u4u5} u_{xxxxxxx} u_{xxxxx} + 3 f_{u4u5} u_{xxxxxx}^{2} + 3 f_{u4xx} u_{xxxxx} + 3 f_{u4x} u_{xxxxxx} - 30 f_{u4} u_{xxxx} u_{x} - 60 f_{u4} u_{xxx} u_{xx} + f_{u5u5u5} u_{xxxxxx}^{3} + 3 f_{u5u5x} u_{xxxxxx}^{2} + 3 f_{u5u5} u_{xxxxxxx} u_{xxxxxx} + 3 f_{u5xx} u_{xxxxxx} + 3 f_{u5x} u_{xxxxxxx} - 36 f_{u5} u_{xxxxx} u_{x} - 90 f_{u5} u_{xxxx} u_{xx} - 60 f_{u5} u_{xxx}^{2} + 3 f_{uu1u1} u_{xx}^{2} u_{x} + 6 f_{uu1u2} u_{xxx} u_{xx} u_{x} + 6 f_{uu1u3} u_{xxxx} u_{xx} u_{x} + 6 f_{uu1u4} u_{xxxxx} u_{xx} u_{x} + 6 f_{uu1u5} u_{xxxxxx} u_{xx} u_{x} + 6 f_{uu1x} u_{xx} u_{x} + 3 f_{uu1} u_{xxx} u_{x} + 3 f_{uu1} u_{xx}^{2} + 3 f_{uu2u2} u_{xxx}^{2} u_{x} + 6 f_{uu2u3} u_{xxxx} u_{xxx} u_{x} + 6 f_{uu2u4} u_{xxxxx} u_{xxx} u_{x} + 6 f_{uu2u5} u_{xxxxxx} u_{xxx} u_{x} + 6 f_{uu2x} u_{xxx} u_{x} + 3 f_{uu2} u_{xxxx} u_{x} + 3 f_{uu2} u_{xxx} u_{xx} + 3 f_{uu3u3} u_{xxxx}^{2} u_{x} + 6 f_{uu3u4} u_{xxxxx} u_{xxxx} u_{x} + 6 f_{uu3u5} u_{xxxxxx} u_{xxxx} u_{x} + 6 f_{uu3x} u_{xxxx} u_{x} + 3 f_{uu3} u_{xxxxx} u_{x} + 3 f_{uu3} u_{xxxx} u_{xx} + 3 f_{uu4u4} u_{xxxxx}^{2} u_{x} + 6 f_{uu4u5} u_{xxxxxx} u_{xxxxx} u_{x} + 6 f_{uu4x} u_{xxxxx} u_{x} + 3 f_{uu4} u_{xxxxxx} u_{x} + 3 f_{uu4} u_{xxxxx} u_{xx} + 3 f_{uu5u5} u_{xxxxxx}^{2} u_{x} + 6 f_{uu5x} u_{xxxxxx} u_{x} + 3 f_{uu5} u_{xxxxxxx} u_{x} + 3 f_{uu5} u_{xxxxxx} u_{xx} + 3 f_{uuu1} u_{xx} u_{x}^{2} + 3 f_{uuu2} u_{xxx} u_{x}^{2} + 3 f_{uuu3} u_{xxxx} u_{x}^{2} + 3 f_{uuu4} u_{xxxxx} u_{x}^{2} + 3 f_{uuu5} u_{xxxxxx} u_{x}^{2} + f_{uuu} u_{x}^{3} + 3 f_{uux} u_{x}^{2} + 3 f_{uu} u_{xx} u_{x} + 3 f_{uxx} u_{x} + 3 f_{ux} u_{xx} + f_{xxx} + 6 f_{x} u$"
      ],
      "text/plain": [
       "                                     3                              2                               2\n",
       "6⋅f⋅u_{x} + f_{t} + f_{u1u1u1}⋅u_{xx}  + 3⋅f_{u1u1u2}⋅u_{xxx}⋅u_{xx}  + 3⋅f_{u1u1u3}⋅u_{xxxx}⋅u_{xx} \n",
       "\n",
       "                                2                                 2                     2            \n",
       " + 3⋅f_{u1u1u4}⋅u_{xxxxx}⋅u_{xx}  + 3⋅f_{u1u1u5}⋅u_{xxxxxx}⋅u_{xx}  + 3⋅f_{u1u1x}⋅u_{xx}  + 3⋅f_{u1u1\n",
       "\n",
       "                                       2                                                             \n",
       "}⋅u_{xxx}⋅u_{xx} + 3⋅f_{u1u2u2}⋅u_{xxx} ⋅u_{xx} + 6⋅f_{u1u2u3}⋅u_{xxxx}⋅u_{xxx}⋅u_{xx} + 6⋅f_{u1u2u4}\n",
       "\n",
       "                                                                                                     \n",
       "⋅u_{xxxxx}⋅u_{xxx}⋅u_{xx} + 6⋅f_{u1u2u5}⋅u_{xxxxxx}⋅u_{xxx}⋅u_{xx} + 6⋅f_{u1u2x}⋅u_{xxx}⋅u_{xx} + 3⋅f\n",
       "\n",
       "                                            2                        2                               \n",
       "_{u1u2}⋅u_{xxxx}⋅u_{xx} + 3⋅f_{u1u2}⋅u_{xxx}  + 3⋅f_{u1u3u3}⋅u_{xxxx} ⋅u_{xx} + 6⋅f_{u1u3u4}⋅u_{xxxxx\n",
       "\n",
       "                                                                                                     \n",
       "}⋅u_{xxxx}⋅u_{xx} + 6⋅f_{u1u3u5}⋅u_{xxxxxx}⋅u_{xxxx}⋅u_{xx} + 6⋅f_{u1u3x}⋅u_{xxxx}⋅u_{xx} + 3⋅f_{u1u3\n",
       "\n",
       "                                                                         2                           \n",
       "}⋅u_{xxxxx}⋅u_{xx} + 3⋅f_{u1u3}⋅u_{xxxx}⋅u_{xxx} + 3⋅f_{u1u4u4}⋅u_{xxxxx} ⋅u_{xx} + 6⋅f_{u1u4u5}⋅u_{x\n",
       "\n",
       "                                                                                                     \n",
       "xxxxx}⋅u_{xxxxx}⋅u_{xx} + 6⋅f_{u1u4x}⋅u_{xxxxx}⋅u_{xx} + 3⋅f_{u1u4}⋅u_{xxxxxx}⋅u_{xx} + 3⋅f_{u1u4}⋅u_\n",
       "\n",
       "                                         2                                                           \n",
       "{xxxxx}⋅u_{xxx} + 3⋅f_{u1u5u5}⋅u_{xxxxxx} ⋅u_{xx} + 6⋅f_{u1u5x}⋅u_{xxxxxx}⋅u_{xx} + 3⋅f_{u1u5}⋅u_{xxx\n",
       "\n",
       "                                                                                                     \n",
       "xxxx}⋅u_{xx} + 3⋅f_{u1u5}⋅u_{xxxxxx}⋅u_{xxx} + 3⋅f_{u1xx}⋅u_{xx} + 3⋅f_{u1x}⋅u_{xxx} - 6⋅f_{u1}⋅u_{x}\n",
       "\n",
       "2                     3                                2                                 2           \n",
       "  + f_{u2u2u2}⋅u_{xxx}  + 3⋅f_{u2u2u3}⋅u_{xxxx}⋅u_{xxx}  + 3⋅f_{u2u2u4}⋅u_{xxxxx}⋅u_{xxx}  + 3⋅f_{u2u\n",
       "\n",
       "                       2                      2                                                      \n",
       "2u5}⋅u_{xxxxxx}⋅u_{xxx}  + 3⋅f_{u2u2x}⋅u_{xxx}  + 3⋅f_{u2u2}⋅u_{xxxx}⋅u_{xxx} + 3⋅f_{u2u3u3}⋅u_{xxxx}\n",
       "\n",
       "2                                                                                                    \n",
       " ⋅u_{xxx} + 6⋅f_{u2u3u4}⋅u_{xxxxx}⋅u_{xxxx}⋅u_{xxx} + 6⋅f_{u2u3u5}⋅u_{xxxxxx}⋅u_{xxxx}⋅u_{xxx} + 6⋅f_\n",
       "\n",
       "                                                                             2                       \n",
       "{u2u3x}⋅u_{xxxx}⋅u_{xxx} + 3⋅f_{u2u3}⋅u_{xxxxx}⋅u_{xxx} + 3⋅f_{u2u3}⋅u_{xxxx}  + 3⋅f_{u2u4u4}⋅u_{xxxx\n",
       "\n",
       "  2                                                                                                  \n",
       "x} ⋅u_{xxx} + 6⋅f_{u2u4u5}⋅u_{xxxxxx}⋅u_{xxxxx}⋅u_{xxx} + 6⋅f_{u2u4x}⋅u_{xxxxx}⋅u_{xxx} + 3⋅f_{u2u4}⋅\n",
       "\n",
       "                                                                            2                        \n",
       "u_{xxxxxx}⋅u_{xxx} + 3⋅f_{u2u4}⋅u_{xxxxx}⋅u_{xxxx} + 3⋅f_{u2u5u5}⋅u_{xxxxxx} ⋅u_{xxx} + 6⋅f_{u2u5x}⋅u\n",
       "\n",
       "                                                                                                     \n",
       "_{xxxxxx}⋅u_{xxx} + 3⋅f_{u2u5}⋅u_{xxxxxxx}⋅u_{xxx} + 3⋅f_{u2u5}⋅u_{xxxxxx}⋅u_{xxxx} + 3⋅f_{u2xx}⋅u_{x\n",
       "\n",
       "                                                                       3                             \n",
       "xx} + 3⋅f_{u2x}⋅u_{xxxx} - 18⋅f_{u2}⋅u_{xx}⋅u_{x} + f_{u3u3u3}⋅u_{xxxx}  + 3⋅f_{u3u3u4}⋅u_{xxxxx}⋅u_{\n",
       "\n",
       "     2                                   2                       2                                   \n",
       "xxxx}  + 3⋅f_{u3u3u5}⋅u_{xxxxxx}⋅u_{xxxx}  + 3⋅f_{u3u3x}⋅u_{xxxx}  + 3⋅f_{u3u3}⋅u_{xxxxx}⋅u_{xxxx} + \n",
       "\n",
       "                      2                                                                              \n",
       "3⋅f_{u3u4u4}⋅u_{xxxxx} ⋅u_{xxxx} + 6⋅f_{u3u4u5}⋅u_{xxxxxx}⋅u_{xxxxx}⋅u_{xxxx} + 6⋅f_{u3u4x}⋅u_{xxxxx}\n",
       "\n",
       "                                                                 2                          2        \n",
       "⋅u_{xxxx} + 3⋅f_{u3u4}⋅u_{xxxxxx}⋅u_{xxxx} + 3⋅f_{u3u4}⋅u_{xxxxx}  + 3⋅f_{u3u5u5}⋅u_{xxxxxx} ⋅u_{xxxx\n",
       "\n",
       "                                                                                                     \n",
       "} + 6⋅f_{u3u5x}⋅u_{xxxxxx}⋅u_{xxxx} + 3⋅f_{u3u5}⋅u_{xxxxxxx}⋅u_{xxxx} + 3⋅f_{u3u5}⋅u_{xxxxxx}⋅u_{xxxx\n",
       "\n",
       "                                                                                           2         \n",
       "x} + 3⋅f_{u3xx}⋅u_{xxxx} + 3⋅f_{u3x}⋅u_{xxxxx} - 24⋅f_{u3}⋅u_{xxx}⋅u_{x} - 18⋅f_{u3}⋅u_{xx}  + f_{u4u\n",
       "\n",
       "              3                                    2                        2                        \n",
       "4u4}⋅u_{xxxxx}  + 3⋅f_{u4u4u5}⋅u_{xxxxxx}⋅u_{xxxxx}  + 3⋅f_{u4u4x}⋅u_{xxxxx}  + 3⋅f_{u4u4}⋅u_{xxxxxx}\n",
       "\n",
       "                                    2                                                                \n",
       "⋅u_{xxxxx} + 3⋅f_{u4u5u5}⋅u_{xxxxxx} ⋅u_{xxxxx} + 6⋅f_{u4u5x}⋅u_{xxxxxx}⋅u_{xxxxx} + 3⋅f_{u4u5}⋅u_{xx\n",
       "\n",
       "                                        2                                                            \n",
       "xxxxx}⋅u_{xxxxx} + 3⋅f_{u4u5}⋅u_{xxxxxx}  + 3⋅f_{u4xx}⋅u_{xxxxx} + 3⋅f_{u4x}⋅u_{xxxxxx} - 30⋅f_{u4}⋅u\n",
       "\n",
       "                                                                3                         2          \n",
       "_{xxxx}⋅u_{x} - 60⋅f_{u4}⋅u_{xxx}⋅u_{xx} + f_{u5u5u5}⋅u_{xxxxxx}  + 3⋅f_{u5u5x}⋅u_{xxxxxx}  + 3⋅f_{u5\n",
       "\n",
       "                                                                                                     \n",
       "u5}⋅u_{xxxxxxx}⋅u_{xxxxxx} + 3⋅f_{u5xx}⋅u_{xxxxxx} + 3⋅f_{u5x}⋅u_{xxxxxxx} - 36⋅f_{u5}⋅u_{xxxxx}⋅u_{x\n",
       "\n",
       "                                                 2                     2                             \n",
       "} - 90⋅f_{u5}⋅u_{xxxx}⋅u_{xx} - 60⋅f_{u5}⋅u_{xxx}  + 3⋅f_{uu1u1}⋅u_{xx} ⋅u_{x} + 6⋅f_{uu1u2}⋅u_{xxx}⋅\n",
       "\n",
       "                                                                                                     \n",
       "u_{xx}⋅u_{x} + 6⋅f_{uu1u3}⋅u_{xxxx}⋅u_{xx}⋅u_{x} + 6⋅f_{uu1u4}⋅u_{xxxxx}⋅u_{xx}⋅u_{x} + 6⋅f_{uu1u5}⋅u\n",
       "\n",
       "                                                                                             2       \n",
       "_{xxxxxx}⋅u_{xx}⋅u_{x} + 6⋅f_{uu1x}⋅u_{xx}⋅u_{x} + 3⋅f_{uu1}⋅u_{xxx}⋅u_{x} + 3⋅f_{uu1}⋅u_{xx}  + 3⋅f_\n",
       "\n",
       "               2                                                                                     \n",
       "{uu2u2}⋅u_{xxx} ⋅u_{x} + 6⋅f_{uu2u3}⋅u_{xxxx}⋅u_{xxx}⋅u_{x} + 6⋅f_{uu2u4}⋅u_{xxxxx}⋅u_{xxx}⋅u_{x} + 6\n",
       "\n",
       "                                                                                                     \n",
       "⋅f_{uu2u5}⋅u_{xxxxxx}⋅u_{xxx}⋅u_{x} + 6⋅f_{uu2x}⋅u_{xxx}⋅u_{x} + 3⋅f_{uu2}⋅u_{xxxx}⋅u_{x} + 3⋅f_{uu2}\n",
       "\n",
       "                                      2                                                              \n",
       "⋅u_{xxx}⋅u_{xx} + 3⋅f_{uu3u3}⋅u_{xxxx} ⋅u_{x} + 6⋅f_{uu3u4}⋅u_{xxxxx}⋅u_{xxxx}⋅u_{x} + 6⋅f_{uu3u5}⋅u_\n",
       "\n",
       "                                                                                                     \n",
       "{xxxxxx}⋅u_{xxxx}⋅u_{x} + 6⋅f_{uu3x}⋅u_{xxxx}⋅u_{x} + 3⋅f_{uu3}⋅u_{xxxxx}⋅u_{x} + 3⋅f_{uu3}⋅u_{xxxx}⋅\n",
       "\n",
       "                              2                                                                      \n",
       "u_{xx} + 3⋅f_{uu4u4}⋅u_{xxxxx} ⋅u_{x} + 6⋅f_{uu4u5}⋅u_{xxxxxx}⋅u_{xxxxx}⋅u_{x} + 6⋅f_{uu4x}⋅u_{xxxxx}\n",
       "\n",
       "                                                                                         2           \n",
       "⋅u_{x} + 3⋅f_{uu4}⋅u_{xxxxxx}⋅u_{x} + 3⋅f_{uu4}⋅u_{xxxxx}⋅u_{xx} + 3⋅f_{uu5u5}⋅u_{xxxxxx} ⋅u_{x} + 6⋅\n",
       "\n",
       "                                                                                                     \n",
       "f_{uu5x}⋅u_{xxxxxx}⋅u_{x} + 3⋅f_{uu5}⋅u_{xxxxxxx}⋅u_{x} + 3⋅f_{uu5}⋅u_{xxxxxx}⋅u_{xx} + 3⋅f_{uuu1}⋅u_\n",
       "\n",
       "          2                           2                            2                             2   \n",
       "{xx}⋅u_{x}  + 3⋅f_{uuu2}⋅u_{xxx}⋅u_{x}  + 3⋅f_{uuu3}⋅u_{xxxx}⋅u_{x}  + 3⋅f_{uuu4}⋅u_{xxxxx}⋅u_{x}  + \n",
       "\n",
       "                           2                3                  2                                     \n",
       "3⋅f_{uuu5}⋅u_{xxxxxx}⋅u_{x}  + f_{uuu}⋅u_{x}  + 3⋅f_{uux}⋅u_{x}  + 3⋅f_{uu}⋅u_{xx}⋅u_{x} + 3⋅f_{uxx}⋅\n",
       "\n",
       "                                             \n",
       "u_{x} + 3⋅f_{ux}⋅u_{xx} + f_{xxx} + 6⋅f_{x}⋅u"
      ]
     },
     "execution_count": 11,
     "metadata": {},
     "output_type": "execute_result"
    }
   ],
   "source": [
    "eq2 = totalD(eq1.diff(eps)).expand()\n",
    "compact(eq2)"
   ]
  },
  {
   "cell_type": "code",
   "execution_count": 12,
   "metadata": {},
   "outputs": [
    {
     "data": {
      "image/png": "[encoded data removed]",
      "text/latex": [
       "$\\displaystyle \\left\\{\\frac{\\partial^{6}}{\\partial x^{6}} u{\\left(ε,t,x \\right)}, \\frac{\\partial^{7}}{\\partial x^{7}} u{\\left(ε,t,x \\right)}\\right\\}$"
      ],
      "text/plain": [
       "⎧  6                7            ⎫\n",
       "⎪ ∂                ∂             ⎪\n",
       "⎨───(u(ε, t, x)), ───(u(ε, t, x))⎬\n",
       "⎪  6                7            ⎪\n",
       "⎩∂x               ∂x             ⎭"
      ]
     },
     "execution_count": 12,
     "metadata": {},
     "output_type": "execute_result"
    }
   ],
   "source": [
    "toU = dict((U.diff(x, k), f) for k, f in enumerate([u, u1, u2, u3, u4, u5]))\n",
    "DF = set()\n",
    "def lstD(a):\n",
    "    if not a.args:\n",
    "        return a\n",
    "    else:\n",
    "        if a.func != sympy.Derivative:\n",
    "            return a.func(*(lstD(s) for s in a.args))\n",
    "        elif a.args[0] != U:\n",
    "            return a\n",
    "        elif a in toU:\n",
    "            return toU[a]\n",
    "        else:\n",
    "            DF.add(a)\n",
    "            return a\n",
    "eq4 = lstD(eq2).expand()\n",
    "DF"
   ]
  },
  {
   "cell_type": "code",
   "execution_count": 13,
   "metadata": {},
   "outputs": [
    {
     "data": {
      "image/png": "[encoded data removed]",
      "text/latex": [
       "$\\displaystyle \\left[ u_{xxxxxxx}, \\  u_{xxxxxx}\\right]$"
      ],
      "text/plain": [
       "[u_{xxxxxxx}, u_{xxxxxx}]"
      ]
     },
     "execution_count": 13,
     "metadata": {},
     "output_type": "execute_result"
    }
   ],
   "source": [
    "[compact(df) for df in DF]"
   ]
  },
  {
   "cell_type": "code",
   "execution_count": 14,
   "metadata": {
    "scrolled": false
   },
   "outputs": [
    {
     "name": "stdout",
     "output_type": "stream",
     "text": [
      "6 f u_{1} + f_{t} + f_{u1u1u1} u_{2}^{3} + 3 f_{u1u1u2} u_{2}^{2} u_{3} + 3 f_{u1u1u3} u_{2}^{2} u_{4} + 3 f_{u1u1u4} u_{2}^{2} u_{5} + 3 f_{u1u1x} u_{2}^{2} + 3 f_{u1u1} u_{2} u_{3} + 3 f_{u1u2u2} u_{2} u_{3}^{2} + 6 f_{u1u2u3} u_{2} u_{3} u_{4} + 6 f_{u1u2u4} u_{2} u_{3} u_{5} + 6 f_{u1u2x} u_{2} u_{3} + 3 f_{u1u2} u_{2} u_{4} + 3 f_{u1u2} u_{3}^{2} + 3 f_{u1u3u3} u_{2} u_{4}^{2} + 6 f_{u1u3u4} u_{2} u_{4} u_{5} + 6 f_{u1u3x} u_{2} u_{4} + 3 f_{u1u3} u_{2} u_{5} + 3 f_{u1u3} u_{3} u_{4} + 3 f_{u1u4u4} u_{2} u_{5}^{2} + 6 f_{u1u4x} u_{2} u_{5} + 3 f_{u1u4} u_{3} u_{5} + 3 f_{u1xx} u_{2} + 3 f_{u1x} u_{3} - 6 f_{u1} u_{1}^{2} + f_{u2u2u2} u_{3}^{3} + 3 f_{u2u2u3} u_{3}^{2} u_{4} + 3 f_{u2u2u4} u_{3}^{2} u_{5} + 3 f_{u2u2x} u_{3}^{2} + 3 f_{u2u2} u_{3} u_{4} + 3 f_{u2u3u3} u_{3} u_{4}^{2} + 6 f_{u2u3u4} u_{3} u_{4} u_{5} + 6 f_{u2u3x} u_{3} u_{4} + 3 f_{u2u3} u_{3} u_{5} + 3 f_{u2u3} u_{4}^{2} + 3 f_{u2u4u4} u_{3} u_{5}^{2} + 6 f_{u2u4x} u_{3} u_{5} + 3 f_{u2u4} u_{4} u_{5} + 3 f_{u2xx} u_{3} + 3 f_{u2x} u_{4} - 18 f_{u2} u_{1} u_{2} + f_{u3u3u3} u_{4}^{3} + 3 f_{u3u3u4} u_{4}^{2} u_{5} + 3 f_{u3u3x} u_{4}^{2} + 3 f_{u3u3} u_{4} u_{5} + 3 f_{u3u4u4} u_{4} u_{5}^{2} + 6 f_{u3u4x} u_{4} u_{5} + 3 f_{u3u4} u_{5}^{2} + 3 f_{u3xx} u_{4} + 3 f_{u3x} u_{5} - 24 f_{u3} u_{1} u_{3} - 18 f_{u3} u_{2}^{2} + f_{u4u4u4} u_{5}^{3} + 3 f_{u4u4x} u_{5}^{2} + 3 f_{u4xx} u_{5} - 30 f_{u4} u_{1} u_{4} - 60 f_{u4} u_{2} u_{3} - 36 f_{u5} u_{1} u_{5} - 90 f_{u5} u_{2} u_{4} - 60 f_{u5} u_{3}^{2} + 3 f_{uu1u1} u_{1} u_{2}^{2} + 6 f_{uu1u2} u_{1} u_{2} u_{3} + 6 f_{uu1u3} u_{1} u_{2} u_{4} + 6 f_{uu1u4} u_{1} u_{2} u_{5} + 6 f_{uu1x} u_{1} u_{2} + 3 f_{uu1} u_{1} u_{3} + 3 f_{uu1} u_{2}^{2} + 3 f_{uu2u2} u_{1} u_{3}^{2} + 6 f_{uu2u3} u_{1} u_{3} u_{4} + 6 f_{uu2u4} u_{1} u_{3} u_{5} + 6 f_{uu2x} u_{1} u_{3} + 3 f_{uu2} u_{1} u_{4} + 3 f_{uu2} u_{2} u_{3} + 3 f_{uu3u3} u_{1} u_{4}^{2} + 6 f_{uu3u4} u_{1} u_{4} u_{5} + 6 f_{uu3x} u_{1} u_{4} + 3 f_{uu3} u_{1} u_{5} + 3 f_{uu3} u_{2} u_{4} + 3 f_{uu4u4} u_{1} u_{5}^{2} + 6 f_{uu4x} u_{1} u_{5} + 3 f_{uu4} u_{2} u_{5} + 3 f_{uuu1} u_{1}^{2} u_{2} + 3 f_{uuu2} u_{1}^{2} u_{3} + 3 f_{uuu3} u_{1}^{2} u_{4} + 3 f_{uuu4} u_{1}^{2} u_{5} + f_{uuu} u_{1}^{3} + 3 f_{uux} u_{1}^{2} + 3 f_{uu} u_{1} u_{2} + 3 f_{uxx} u_{1} + 3 f_{ux} u_{2} + f_{xxx} + 6 f_{x} u = 0, \\\\\n",
      "3 f_{u1u1u5} u_{2}^{2} + 6 f_{u1u2u5} u_{2} u_{3} + 6 f_{u1u3u5} u_{2} u_{4} + 6 f_{u1u4u5} u_{2} u_{5} + 3 f_{u1u4} u_{2} + 6 f_{u1u5x} u_{2} + 3 f_{u1u5} u_{3} + 3 f_{u2u2u5} u_{3}^{2} + 6 f_{u2u3u5} u_{3} u_{4} + 6 f_{u2u4u5} u_{3} u_{5} + 3 f_{u2u4} u_{3} + 6 f_{u2u5x} u_{3} + 3 f_{u2u5} u_{4} + 3 f_{u3u3u5} u_{4}^{2} + 6 f_{u3u4u5} u_{4} u_{5} + 3 f_{u3u4} u_{4} + 6 f_{u3u5x} u_{4} + 3 f_{u3u5} u_{5} + 3 f_{u4u4u5} u_{5}^{2} + 3 f_{u4u4} u_{5} + 6 f_{u4u5x} u_{5} + 3 f_{u4x} + 3 f_{u5xx} + 6 f_{uu1u5} u_{1} u_{2} + 6 f_{uu2u5} u_{1} u_{3} + 6 f_{uu3u5} u_{1} u_{4} + 6 f_{uu4u5} u_{1} u_{5} + 3 f_{uu4} u_{1} + 6 f_{uu5x} u_{1} + 3 f_{uu5} u_{2} + 3 f_{uuu5} u_{1}^{2} = 0, \\\\\n",
      "3 f_{u1u5u5} u_{2} + 3 f_{u2u5u5} u_{3} + 3 f_{u3u5u5} u_{4} + 3 f_{u4u5u5} u_{5} + 3 f_{u4u5} + 3 f_{u5u5x} + 3 f_{uu5u5} u_{1} = 0, \\\\\n",
      "f_{u5u5u5} = 0, \\\\\n",
      "3 f_{u1u5} u_{2} + 3 f_{u2u5} u_{3} + 3 f_{u3u5} u_{4} + 3 f_{u4u5} u_{5} + 3 f_{u5x} + 3 f_{uu5} u_{1} = 0, \\\\\n",
      "3 f_{u5u5} = 0, \\\\\n"
     ]
    },
    {
     "data": {
      "image/png": "[encoded data removed]",
      "text/latex": [
       "$\\displaystyle \\left[ 6 f u_{1} + f_{t} + f_{u1u1u1} u_{2}^{3} + 3 f_{u1u1u2} u_{2}^{2} u_{3} + 3 f_{u1u1u3} u_{2}^{2} u_{4} + 3 f_{u1u1u4} u_{2}^{2} u_{5} + 3 f_{u1u1x} u_{2}^{2} + 3 f_{u1u1} u_{2} u_{3} + 3 f_{u1u2u2} u_{2} u_{3}^{2} + 6 f_{u1u2u3} u_{2} u_{3} u_{4} + 6 f_{u1u2u4} u_{2} u_{3} u_{5} + 6 f_{u1u2x} u_{2} u_{3} + 3 f_{u1u2} u_{2} u_{4} + 3 f_{u1u2} u_{3}^{2} + 3 f_{u1u3u3} u_{2} u_{4}^{2} + 6 f_{u1u3u4} u_{2} u_{4} u_{5} + 6 f_{u1u3x} u_{2} u_{4} + 3 f_{u1u3} u_{2} u_{5} + 3 f_{u1u3} u_{3} u_{4} + 3 f_{u1u4u4} u_{2} u_{5}^{2} + 6 f_{u1u4x} u_{2} u_{5} + 3 f_{u1u4} u_{3} u_{5} + 3 f_{u1xx} u_{2} + 3 f_{u1x} u_{3} - 6 f_{u1} u_{1}^{2} + f_{u2u2u2} u_{3}^{3} + 3 f_{u2u2u3} u_{3}^{2} u_{4} + 3 f_{u2u2u4} u_{3}^{2} u_{5} + 3 f_{u2u2x} u_{3}^{2} + 3 f_{u2u2} u_{3} u_{4} + 3 f_{u2u3u3} u_{3} u_{4}^{2} + 6 f_{u2u3u4} u_{3} u_{4} u_{5} + 6 f_{u2u3x} u_{3} u_{4} + 3 f_{u2u3} u_{3} u_{5} + 3 f_{u2u3} u_{4}^{2} + 3 f_{u2u4u4} u_{3} u_{5}^{2} + 6 f_{u2u4x} u_{3} u_{5} + 3 f_{u2u4} u_{4} u_{5} + 3 f_{u2xx} u_{3} + 3 f_{u2x} u_{4} - 18 f_{u2} u_{1} u_{2} + f_{u3u3u3} u_{4}^{3} + 3 f_{u3u3u4} u_{4}^{2} u_{5} + 3 f_{u3u3x} u_{4}^{2} + 3 f_{u3u3} u_{4} u_{5} + 3 f_{u3u4u4} u_{4} u_{5}^{2} + 6 f_{u3u4x} u_{4} u_{5} + 3 f_{u3u4} u_{5}^{2} + 3 f_{u3xx} u_{4} + 3 f_{u3x} u_{5} - 24 f_{u3} u_{1} u_{3} - 18 f_{u3} u_{2}^{2} + f_{u4u4u4} u_{5}^{3} + 3 f_{u4u4x} u_{5}^{2} + 3 f_{u4xx} u_{5} - 30 f_{u4} u_{1} u_{4} - 60 f_{u4} u_{2} u_{3} - 36 f_{u5} u_{1} u_{5} - 90 f_{u5} u_{2} u_{4} - 60 f_{u5} u_{3}^{2} + 3 f_{uu1u1} u_{1} u_{2}^{2} + 6 f_{uu1u2} u_{1} u_{2} u_{3} + 6 f_{uu1u3} u_{1} u_{2} u_{4} + 6 f_{uu1u4} u_{1} u_{2} u_{5} + 6 f_{uu1x} u_{1} u_{2} + 3 f_{uu1} u_{1} u_{3} + 3 f_{uu1} u_{2}^{2} + 3 f_{uu2u2} u_{1} u_{3}^{2} + 6 f_{uu2u3} u_{1} u_{3} u_{4} + 6 f_{uu2u4} u_{1} u_{3} u_{5} + 6 f_{uu2x} u_{1} u_{3} + 3 f_{uu2} u_{1} u_{4} + 3 f_{uu2} u_{2} u_{3} + 3 f_{uu3u3} u_{1} u_{4}^{2} + 6 f_{uu3u4} u_{1} u_{4} u_{5} + 6 f_{uu3x} u_{1} u_{4} + 3 f_{uu3} u_{1} u_{5} + 3 f_{uu3} u_{2} u_{4} + 3 f_{uu4u4} u_{1} u_{5}^{2} + 6 f_{uu4x} u_{1} u_{5} + 3 f_{uu4} u_{2} u_{5} + 3 f_{uuu1} u_{1}^{2} u_{2} + 3 f_{uuu2} u_{1}^{2} u_{3} + 3 f_{uuu3} u_{1}^{2} u_{4} + 3 f_{uuu4} u_{1}^{2} u_{5} + f_{uuu} u_{1}^{3} + 3 f_{uux} u_{1}^{2} + 3 f_{uu} u_{1} u_{2} + 3 f_{uxx} u_{1} + 3 f_{ux} u_{2} + f_{xxx} + 6 f_{x} u, \\  3 f_{u1u1u5} u_{2}^{2} + 6 f_{u1u2u5} u_{2} u_{3} + 6 f_{u1u3u5} u_{2} u_{4} + 6 f_{u1u4u5} u_{2} u_{5} + 3 f_{u1u4} u_{2} + 6 f_{u1u5x} u_{2} + 3 f_{u1u5} u_{3} + 3 f_{u2u2u5} u_{3}^{2} + 6 f_{u2u3u5} u_{3} u_{4} + 6 f_{u2u4u5} u_{3} u_{5} + 3 f_{u2u4} u_{3} + 6 f_{u2u5x} u_{3} + 3 f_{u2u5} u_{4} + 3 f_{u3u3u5} u_{4}^{2} + 6 f_{u3u4u5} u_{4} u_{5} + 3 f_{u3u4} u_{4} + 6 f_{u3u5x} u_{4} + 3 f_{u3u5} u_{5} + 3 f_{u4u4u5} u_{5}^{2} + 3 f_{u4u4} u_{5} + 6 f_{u4u5x} u_{5} + 3 f_{u4x} + 3 f_{u5xx} + 6 f_{uu1u5} u_{1} u_{2} + 6 f_{uu2u5} u_{1} u_{3} + 6 f_{uu3u5} u_{1} u_{4} + 6 f_{uu4u5} u_{1} u_{5} + 3 f_{uu4} u_{1} + 6 f_{uu5x} u_{1} + 3 f_{uu5} u_{2} + 3 f_{uuu5} u_{1}^{2}, \\  3 f_{u1u5u5} u_{2} + 3 f_{u2u5u5} u_{3} + 3 f_{u3u5u5} u_{4} + 3 f_{u4u5u5} u_{5} + 3 f_{u4u5} + 3 f_{u5u5x} + 3 f_{uu5u5} u_{1}, \\  f_{u5u5u5}, \\  3 f_{u1u5} u_{2} + 3 f_{u2u5} u_{3} + 3 f_{u3u5} u_{4} + 3 f_{u4u5} u_{5} + 3 f_{u5x} + 3 f_{uu5} u_{1}, \\  3 f_{u5u5}\\right]$"
      ],
      "text/plain": [
       "⎡                              3                  2                     2                     2      \n",
       "⎣6⋅f⋅u₁ + f_{t} + f_{u1u1u1}⋅u₂  + 3⋅f_{u1u1u2}⋅u₂ ⋅u₃ + 3⋅f_{u1u1u3}⋅u₂ ⋅u₄ + 3⋅f_{u1u1u4}⋅u₂ ⋅u₅ + \n",
       "\n",
       "              2                                        2                                             \n",
       "3⋅f_{u1u1x}⋅u₂  + 3⋅f_{u1u1}⋅u₂⋅u₃ + 3⋅f_{u1u2u2}⋅u₂⋅u₃  + 6⋅f_{u1u2u3}⋅u₂⋅u₃⋅u₄ + 6⋅f_{u1u2u4}⋅u₂⋅u₃\n",
       "\n",
       "                                                          2                     2                    \n",
       "⋅u₅ + 6⋅f_{u1u2x}⋅u₂⋅u₃ + 3⋅f_{u1u2}⋅u₂⋅u₄ + 3⋅f_{u1u2}⋅u₃  + 3⋅f_{u1u3u3}⋅u₂⋅u₄  + 6⋅f_{u1u3u4}⋅u₂⋅u\n",
       "\n",
       "                                                                                   2                 \n",
       "₄⋅u₅ + 6⋅f_{u1u3x}⋅u₂⋅u₄ + 3⋅f_{u1u3}⋅u₂⋅u₅ + 3⋅f_{u1u3}⋅u₃⋅u₄ + 3⋅f_{u1u4u4}⋅u₂⋅u₅  + 6⋅f_{u1u4x}⋅u₂\n",
       "\n",
       "                                                                   2                3                \n",
       "⋅u₅ + 3⋅f_{u1u4}⋅u₃⋅u₅ + 3⋅f_{u1xx}⋅u₂ + 3⋅f_{u1x}⋅u₃ - 6⋅f_{u1}⋅u₁  + f_{u2u2u2}⋅u₃  + 3⋅f_{u2u2u3}⋅\n",
       "\n",
       "  2                     2                    2                                        2              \n",
       "u₃ ⋅u₄ + 3⋅f_{u2u2u4}⋅u₃ ⋅u₅ + 3⋅f_{u2u2x}⋅u₃  + 3⋅f_{u2u2}⋅u₃⋅u₄ + 3⋅f_{u2u3u3}⋅u₃⋅u₄  + 6⋅f_{u2u3u4\n",
       "\n",
       "                                                                 2                     2             \n",
       "}⋅u₃⋅u₄⋅u₅ + 6⋅f_{u2u3x}⋅u₃⋅u₄ + 3⋅f_{u2u3}⋅u₃⋅u₅ + 3⋅f_{u2u3}⋅u₄  + 3⋅f_{u2u4u4}⋅u₃⋅u₅  + 6⋅f_{u2u4x\n",
       "\n",
       "                                                                                           3         \n",
       "}⋅u₃⋅u₅ + 3⋅f_{u2u4}⋅u₄⋅u₅ + 3⋅f_{u2xx}⋅u₃ + 3⋅f_{u2x}⋅u₄ - 18⋅f_{u2}⋅u₁⋅u₂ + f_{u3u3u3}⋅u₄  + 3⋅f_{u\n",
       "\n",
       "         2                    2                                        2                             \n",
       "3u3u4}⋅u₄ ⋅u₅ + 3⋅f_{u3u3x}⋅u₄  + 3⋅f_{u3u3}⋅u₄⋅u₅ + 3⋅f_{u3u4u4}⋅u₄⋅u₅  + 6⋅f_{u3u4x}⋅u₄⋅u₅ + 3⋅f_{u\n",
       "\n",
       "       2                                                                2                3           \n",
       "3u4}⋅u₅  + 3⋅f_{u3xx}⋅u₄ + 3⋅f_{u3x}⋅u₅ - 24⋅f_{u3}⋅u₁⋅u₃ - 18⋅f_{u3}⋅u₂  + f_{u4u4u4}⋅u₅  + 3⋅f_{u4u\n",
       "\n",
       "      2                                                                                              \n",
       "4x}⋅u₅  + 3⋅f_{u4xx}⋅u₅ - 30⋅f_{u4}⋅u₁⋅u₄ - 60⋅f_{u4}⋅u₂⋅u₃ - 36⋅f_{u5}⋅u₁⋅u₅ - 90⋅f_{u5}⋅u₂⋅u₄ - 60⋅\n",
       "\n",
       "         2                    2                                                                      \n",
       "f_{u5}⋅u₃  + 3⋅f_{uu1u1}⋅u₁⋅u₂  + 6⋅f_{uu1u2}⋅u₁⋅u₂⋅u₃ + 6⋅f_{uu1u3}⋅u₁⋅u₂⋅u₄ + 6⋅f_{uu1u4}⋅u₁⋅u₂⋅u₅ \n",
       "\n",
       "                                                   2                    2                            \n",
       "+ 6⋅f_{uu1x}⋅u₁⋅u₂ + 3⋅f_{uu1}⋅u₁⋅u₃ + 3⋅f_{uu1}⋅u₂  + 3⋅f_{uu2u2}⋅u₁⋅u₃  + 6⋅f_{uu2u3}⋅u₁⋅u₃⋅u₄ + 6⋅\n",
       "\n",
       "                                                                                             2       \n",
       "f_{uu2u4}⋅u₁⋅u₃⋅u₅ + 6⋅f_{uu2x}⋅u₁⋅u₃ + 3⋅f_{uu2}⋅u₁⋅u₄ + 3⋅f_{uu2}⋅u₂⋅u₃ + 3⋅f_{uu3u3}⋅u₁⋅u₄  + 6⋅f_\n",
       "\n",
       "                                                                                           2         \n",
       "{uu3u4}⋅u₁⋅u₄⋅u₅ + 6⋅f_{uu3x}⋅u₁⋅u₄ + 3⋅f_{uu3}⋅u₁⋅u₅ + 3⋅f_{uu3}⋅u₂⋅u₄ + 3⋅f_{uu4u4}⋅u₁⋅u₅  + 6⋅f_{u\n",
       "\n",
       "                                            2                   2                   2                \n",
       "u4x}⋅u₁⋅u₅ + 3⋅f_{uu4}⋅u₂⋅u₅ + 3⋅f_{uuu1}⋅u₁ ⋅u₂ + 3⋅f_{uuu2}⋅u₁ ⋅u₃ + 3⋅f_{uuu3}⋅u₁ ⋅u₄ + 3⋅f_{uuu4}\n",
       "\n",
       "   2                3               2                                                                \n",
       "⋅u₁ ⋅u₅ + f_{uuu}⋅u₁  + 3⋅f_{uux}⋅u₁  + 3⋅f_{uu}⋅u₁⋅u₂ + 3⋅f_{uxx}⋅u₁ + 3⋅f_{ux}⋅u₂ + f_{xxx} + 6⋅f_{\n",
       "\n",
       "                     2                                                                               \n",
       "x}⋅u, 3⋅f_{u1u1u5}⋅u₂  + 6⋅f_{u1u2u5}⋅u₂⋅u₃ + 6⋅f_{u1u3u5}⋅u₂⋅u₄ + 6⋅f_{u1u4u5}⋅u₂⋅u₅ + 3⋅f_{u1u4}⋅u₂\n",
       "\n",
       "                                                   2                                                 \n",
       " + 6⋅f_{u1u5x}⋅u₂ + 3⋅f_{u1u5}⋅u₃ + 3⋅f_{u2u2u5}⋅u₃  + 6⋅f_{u2u3u5}⋅u₃⋅u₄ + 6⋅f_{u2u4u5}⋅u₃⋅u₅ + 3⋅f_\n",
       "\n",
       "                                                            2                                        \n",
       "{u2u4}⋅u₃ + 6⋅f_{u2u5x}⋅u₃ + 3⋅f_{u2u5}⋅u₄ + 3⋅f_{u3u3u5}⋅u₄  + 6⋅f_{u3u4u5}⋅u₄⋅u₅ + 3⋅f_{u3u4}⋅u₄ + \n",
       "\n",
       "                                                2                                                    \n",
       "6⋅f_{u3u5x}⋅u₄ + 3⋅f_{u3u5}⋅u₅ + 3⋅f_{u4u4u5}⋅u₅  + 3⋅f_{u4u4}⋅u₅ + 6⋅f_{u4u5x}⋅u₅ + 3⋅f_{u4x} + 3⋅f_\n",
       "\n",
       "                                                                                                     \n",
       "{u5xx} + 6⋅f_{uu1u5}⋅u₁⋅u₂ + 6⋅f_{uu2u5}⋅u₁⋅u₃ + 6⋅f_{uu3u5}⋅u₁⋅u₄ + 6⋅f_{uu4u5}⋅u₁⋅u₅ + 3⋅f_{uu4}⋅u₁\n",
       "\n",
       "                                               2                                                     \n",
       " + 6⋅f_{uu5x}⋅u₁ + 3⋅f_{uu5}⋅u₂ + 3⋅f_{uuu5}⋅u₁ , 3⋅f_{u1u5u5}⋅u₂ + 3⋅f_{u2u5u5}⋅u₃ + 3⋅f_{u3u5u5}⋅u₄\n",
       "\n",
       "                                                                                                     \n",
       " + 3⋅f_{u4u5u5}⋅u₅ + 3⋅f_{u4u5} + 3⋅f_{u5u5x} + 3⋅f_{uu5u5}⋅u₁, f_{u5u5u5}, 3⋅f_{u1u5}⋅u₂ + 3⋅f_{u2u5\n",
       "\n",
       "                                                                           ⎤\n",
       "}⋅u₃ + 3⋅f_{u3u5}⋅u₄ + 3⋅f_{u4u5}⋅u₅ + 3⋅f_{u5x} + 3⋅f_{uu5}⋅u₁, 3⋅f_{u5u5}⎦"
      ]
     },
     "execution_count": 14,
     "metadata": {},
     "output_type": "execute_result"
    }
   ],
   "source": [
    "def to_eqs(a, var):\n",
    "    for x in var:\n",
    "        r = []\n",
    "        for b in a:\n",
    "            if b:\n",
    "                r.append([b.coeff(x, i) for i in range(b.as_poly(x).degree()+1) if b.coeff(x, i)])\n",
    "        a = chain(*r)\n",
    "    return list(a)\n",
    "\n",
    "eqs = to_eqs([eq4], DF)\n",
    "eqs = [eq.subs({U: u}) for eq in eqs]\n",
    "for eq in eqs:\n",
    "    print(sympy.latex(compact(eq)) + r\" = 0, \\\\\")\n",
    "[compact(eq) for eq in eqs]"
   ]
  },
  {
   "cell_type": "code",
   "execution_count": 15,
   "metadata": {},
   "outputs": [],
   "source": [
    "Monom.cmp = Monom.TOPdeglex"
   ]
  },
  {
   "cell_type": "code",
   "execution_count": 41,
   "metadata": {},
   "outputs": [],
   "source": [
    "var = 't, x, u, u1, u2, u3, u4, u5'.split(', ')\n",
    "fun = ['f']\n",
    "Monom.init(var, fun)\n",
    "df = PolyDiff.df\n",
    "diff2poly = PolyDiff.diff2poly\n",
    "var, fun = PolyDiff.init()\n",
    "t, x, u, u1, u2, u3, u4, u5 = var\n",
    "F = fun[0]"
   ]
  },
  {
   "cell_type": "code",
   "execution_count": 42,
   "metadata": {},
   "outputs": [
    {
     "data": {
      "text/plain": [
       "[[[0;0 2 0 0 0 0 0 1], 3],\n",
       " [[0;0 1 1 0 0 0 0 1], 6*u1],\n",
       " [[0;0 0 2 0 0 0 0 1], 3*u1**2],\n",
       " [[0;0 1 0 1 0 0 0 1], 6*u2],\n",
       " [[0;0 0 1 1 0 0 0 1], 6*u1*u2],\n",
       " [[0;0 0 0 2 0 0 0 1], 3*u2**2],\n",
       " [[0;0 1 0 0 1 0 0 1], 6*u3],\n",
       " [[0;0 0 1 0 1 0 0 1], 6*u1*u3],\n",
       " [[0;0 0 0 1 1 0 0 1], 6*u2*u3],\n",
       " [[0;0 0 0 0 2 0 0 1], 3*u3**2],\n",
       " [[0;0 1 0 0 0 1 0 1], 6*u4],\n",
       " [[0;0 0 1 0 0 1 0 1], 6*u1*u4],\n",
       " [[0;0 0 0 1 0 1 0 1], 6*u2*u4],\n",
       " [[0;0 0 0 0 1 1 0 1], 6*u3*u4],\n",
       " [[0;0 0 0 0 0 2 0 1], 3*u4**2],\n",
       " [[0;0 1 0 0 0 0 1 1], 6*u5],\n",
       " [[0;0 0 1 0 0 0 1 1], 6*u1*u5],\n",
       " [[0;0 0 0 1 0 0 1 1], 6*u2*u5],\n",
       " [[0;0 0 0 0 1 0 1 1], 6*u3*u5],\n",
       " [[0;0 0 0 0 0 1 1 1], 6*u4*u5],\n",
       " [[0;0 0 0 0 0 0 2 1], 3*u5**2],\n",
       " [[0;0 1 0 0 0 0 1 0], 3],\n",
       " [[0;0 0 1 0 0 0 1 0], 3*u1],\n",
       " [[0;0 0 0 1 0 0 1 0], 3*u2],\n",
       " [[0;0 0 0 0 1 0 1 0], 3*u3],\n",
       " [[0;0 0 0 0 0 1 1 0], 3*u4],\n",
       " [[0;0 0 0 0 0 0 2 0], 3*u5],\n",
       " [[0;0 0 1 0 0 0 0 1], 3*u2],\n",
       " [[0;0 0 0 1 0 0 0 1], 3*u3],\n",
       " [[0;0 0 0 0 1 0 0 1], 3*u4],\n",
       " [[0;0 0 0 0 0 1 0 1], 3*u5]]"
      ]
     },
     "execution_count": 42,
     "metadata": {},
     "output_type": "execute_result"
    }
   ],
   "source": [
    "diff2poly(eqs[1])"
   ]
  },
  {
   "cell_type": "code",
   "execution_count": 43,
   "metadata": {},
   "outputs": [
    {
     "name": "stdout",
     "output_type": "stream",
     "text": [
      "df(f, x, 2, u5)*3 + df(f, x, u, u5)*6*u1 + df(f, u, 2, u5)*3*u1**2 + df(f, x, u1, u5)*6*u2 + df(f, u, u1, u5)*6*u1*u2 + df(f, u1, 2, u5)*3*u2**2 + df(f, x, u2, u5)*6*u3 + df(f, u, u2, u5)*6*u1*u3 + df(f, u1, u2, u5)*6*u2*u3 + df(f, u2, 2, u5)*3*u3**2 + df(f, x, u3, u5)*6*u4 + df(f, u, u3, u5)*6*u1*u4 + df(f, u1, u3, u5)*6*u2*u4 + df(f, u2, u3, u5)*6*u3*u4 + df(f, u3, 2, u5)*3*u4**2 + df(f, x, u4, u5)*6*u5 + df(f, u, u4, u5)*6*u1*u5 + df(f, u1, u4, u5)*6*u2*u5 + df(f, u2, u4, u5)*6*u3*u5 + df(f, u3, u4, u5)*6*u4*u5 + df(f, u4, 2, u5)*3*u5**2 + df(f, x, u4)*3 + df(f, u, u4)*3*u1 + df(f, u1, u4)*3*u2 + df(f, u2, u4)*3*u3 + df(f, u3, u4)*3*u4 + df(f, u4, 2)*3*u5 + df(f, u, u5)*3*u2 + df(f, u1, u5)*3*u3 + df(f, u2, u5)*3*u4 + df(f, u3, u5)*3*u5\n"
     ]
    }
   ],
   "source": [
    "print(diff2poly(eqs[1]))"
   ]
  },
  {
   "cell_type": "code",
   "execution_count": 44,
   "metadata": {
    "scrolled": false
   },
   "outputs": [
    {
     "name": "stdout",
     "output_type": "stream",
     "text": [
      "prolong 0, Q 2\n",
      "df(f, u5, 2)\n",
      "prolong 0, Q 2\n",
      "df(f, x, u5)\n",
      "prolong 2, Q 3\n",
      "df(f, u4, u5)\n",
      "prolong 2, Q 3\n",
      "df(f, u3, u5)\n",
      "prolong 2, Q 3\n",
      "df(f, u2, u5)\n",
      "prolong 2, Q 3\n",
      "df(f, u1, u5)\n",
      "prolong 2, Q 3\n",
      "df(f, u, u5)\n",
      "prolong 2, Q 3\n",
      "df(f, x, u4)\n",
      "prolong 2, Q 3\n",
      "df(f, u4, 2)\n",
      "prolong 2, Q 3\n",
      "df(f, u3, u4, 2)\n",
      "prolong 2, Q 3\n",
      "df(f, u3, u4, u5)\n",
      "prolong 3, Q 3\n",
      "df(f, u2, u4, 2)\n",
      "prolong 2, Q 3\n",
      "df(f, u2, u4, u5)\n",
      "prolong 3, Q 3\n",
      "df(f, u1, u4, 2)\n",
      "prolong 2, Q 3\n",
      "df(f, u1, u4, u5)\n",
      "prolong 3, Q 3\n",
      "df(f, u, u4, 2)\n",
      "prolong 2, Q 3\n",
      "df(f, u, u4, u5)\n",
      "prolong 3, Q 3\n",
      "df(f, u3, u4)\n",
      "prolong 2, Q 3\n",
      "df(f, u2, u3, u4)\n",
      "prolong 2, Q 3\n",
      "df(f, u2, u3, u5)\n",
      "prolong 3, Q 3\n",
      "df(f, u1, u3, u4)\n",
      "prolong 2, Q 3\n",
      "df(f, u1, u3, u5)\n",
      "prolong 3, Q 3\n",
      "df(f, u, u3, u4)\n",
      "prolong 2, Q 3\n",
      "df(f, u, u3, u5)\n",
      "prolong 3, Q 3\n",
      "df(f, u2, u4)\n",
      "prolong 2, Q 3\n",
      "df(f, u1, u2, u4)\n",
      "prolong 2, Q 3\n",
      "df(f, u1, u2, u5)\n",
      "prolong 3, Q 3\n",
      "df(f, u, u2, u4)\n",
      "prolong 2, Q 3\n",
      "df(f, u, u2, u5)\n",
      "prolong 3, Q 3\n",
      "df(f, u1, u4)\n",
      "prolong 2, Q 3\n",
      "df(f, u, u1, u4)\n",
      "prolong 2, Q 3\n",
      "df(f, u, u1, u5)\n",
      "prolong 3, Q 3\n",
      "df(f, u, u4)\n",
      "prolong 2, Q 3\n",
      "df(f, x, 3)\n",
      "prolong 2, Q 0\n",
      "df(f, x, 2, u5)\n",
      "prolong 3, Q 3\n",
      "df(f, x, 2, u4)\n",
      "prolong 3, Q 0\n",
      "df(f, x, u3)\n",
      "prolong 2, Q 4\n",
      "df(f, u3, 2)\n",
      "prolong 2, Q 3\n",
      "df(f, u2, u3, 2)\n",
      "prolong 3, Q 3\n",
      "df(f, u1, u3, 2)\n",
      "prolong 3, Q 3\n",
      "df(f, u, u3, 2)\n",
      "prolong 3, Q 3\n",
      "df(f, u2, u3)\n",
      "prolong 2, Q 3\n",
      "df(f, u1, u2, u3)\n",
      "prolong 3, Q 3\n",
      "df(f, u, u2, u3)\n",
      "prolong 3, Q 3\n",
      "df(f, u1, u3)\n",
      "prolong 2, Q 3\n",
      "df(f, u, u1, u3)\n",
      "prolong 3, Q 3\n",
      "df(f, u, u3)\n",
      "prolong 2, Q 3\n",
      "df(f, x, 2, u3)\n",
      "prolong 3, Q 4\n",
      "df(f, x, u2)\n",
      "prolong 2, Q 4\n",
      "df(f, u2, 2)\n",
      "prolong 2, Q 3\n",
      "df(f, u1, u2, 2)\n",
      "prolong 3, Q 3\n",
      "df(f, u, u2, 2)\n",
      "prolong 3, Q 3\n",
      "df(f, u1, u2)\n",
      "prolong 2, Q 3\n",
      "df(f, u, u1, u2)\n",
      "prolong 3, Q 3\n",
      "df(f, u, u2)\n",
      "prolong 2, Q 3\n",
      "df(f, x, 2, u2)\n",
      "prolong 3, Q 4\n",
      "df(f, x, u1)\n",
      "prolong 2, Q 4\n",
      "df(f, u1, 2)\n",
      "prolong 2, Q 3\n",
      "df(f, u, u1, 2)\n",
      "prolong 3, Q 3\n",
      "df(f, u, u1)\n",
      "prolong 2, Q 3\n",
      "df(f, t, u5)\n",
      "prolong 2, Q 3\n",
      "df(f, t, u4, 2)\n",
      "prolong 2, Q 3\n",
      "df(f, t, u4, u5)\n",
      "prolong 3, Q 3\n",
      "df(f, t, u3, u4)\n",
      "prolong 2, Q 3\n",
      "df(f, t, u3, u5)\n",
      "prolong 3, Q 3\n",
      "df(f, t, u2, u4)\n",
      "prolong 2, Q 3\n",
      "df(f, t, u2, u5)\n",
      "prolong 3, Q 3\n",
      "df(f, t, u1, u4)\n",
      "prolong 2, Q 3\n",
      "df(f, t, u1, u5)\n",
      "prolong 3, Q 3\n",
      "df(f, t, u, u4)\n",
      "prolong 2, Q 3\n",
      "df(f, t, u, u5)\n",
      "prolong 3, Q 3\n",
      "df(f, t, x, u4)\n",
      "prolong 2, Q 3\n",
      "df(f, t, x, u5)\n",
      "prolong 3, Q 3\n",
      "df(f, t, u3, 2)\n",
      "prolong 3, Q 3\n",
      "df(f, t, u2, u3)\n",
      "prolong 3, Q 3\n",
      "df(f, t, u1, u3)\n",
      "prolong 3, Q 3\n",
      "df(f, t, u, u3)\n",
      "prolong 3, Q 3\n",
      "df(f, t, x, u3)\n",
      "prolong 3, Q 3\n",
      "df(f, t, u2, 2)\n",
      "prolong 3, Q 3\n",
      "df(f, t, u1, u2)\n",
      "prolong 3, Q 3\n",
      "df(f, t, u, u2)\n",
      "prolong 3, Q 3\n",
      "df(f, t, x, u2)\n",
      "prolong 3, Q 3\n",
      "df(f, t, u1, 2)\n",
      "prolong 3, Q 3\n",
      "df(f, t, u, u1)\n",
      "prolong 3, Q 3\n",
      "df(f, x, 2, u1)\n",
      "prolong 3, Q 3\n",
      "df(f, t, x, u1)\n",
      "prolong 3, Q 4\n",
      "df(f, x, u)\n",
      "prolong 2, Q 4\n",
      "df(f, u, 2)\n",
      "prolong 2, Q 3\n",
      "df(f, t, u4)\n",
      "prolong 2, Q 3\n",
      "df(f, t, u, 2)\n",
      "prolong 3, Q 3\n",
      "df(f, x, 2, u)\n",
      "prolong 3, Q 3\n",
      "df(f, t, x, u)\n",
      "prolong 3, Q 4\n",
      "df(f, t, u1)\n",
      "prolong 2, Q 3\n",
      "df(f, u4)\n",
      "prolong 1, Q 2\n",
      "df(f, t, u3)\n",
      "prolong 2, Q 3\n",
      "df(f, u2)\n",
      "prolong 1, Q 2\n",
      "df(f, t, u2)\n",
      "prolong 2, Q 3\n",
      "df(f, t, u)\n",
      "prolong 2, Q 3\n",
      "df(f, x, 2)\n",
      "prolong 2, Q 3\n",
      "df(f, t)\n",
      "prolong 0, Q 2\n",
      "df(f, x)\n",
      "prolong 1, Q 2\n",
      "prolong 0, Q 0\n",
      "    crit1: 0\n",
      "    crit2: 0\n",
      "     time: 18.84 sec\n",
      "    count: 19\n",
      "reduction: 2039\n",
      "       HP: 5\n"
     ]
    }
   ],
   "source": [
    "LRT = Janet()\n",
    "res = ginvBlockLow([diff2poly(eq) for eq in eqs], \\\n",
    "LRT, level=1)\n",
    "print(f\"    crit1: {res[1]}\")\n",
    "print(f\"    crit2: {res[2]}\")\n",
    "print(f\"     time: {res[0]:.2f} sec\")\n",
    "print(f\"    count: {LRT.count()}\")\n",
    "print(f\"reduction: {LRT.reduction()}\")\n",
    "print(f\"       HP: {LRT.HP()}\")"
   ]
  },
  {
   "cell_type": "code",
   "execution_count": 46,
   "metadata": {},
   "outputs": [
    {
     "name": "stdout",
     "output_type": "stream",
     "text": [
      "df(f, u5, 2)\n",
      "df(f, u4)\n",
      "df(f, u3, u5)\n",
      "df(f, u3, 2)\n",
      "df(f, u2) + df(f, u5)*(-20*u1)\n",
      "df(f, u1, u5)\n",
      "df(f, u1, u3)\n",
      "df(f, u1, 2)\n",
      "df(f, u, u5)\n",
      "df(f, u, u3) + df(f, u5)*(-10)\n",
      "df(f, u, u1) + df(f, u3)*(-6)\n",
      "df(f, u, 2) + df(f, u5)*(-60*u1)\n",
      "df(f, x)*(-2) + df(f, u)*u1 + df(f, u3)*(-6*u1**2) + df(f, u5)*(-10*u1*u3)\n",
      "df(f, t)*2 + df(f, u)*(6*u*u1 + 3*u3) + df(f, u1)*(-12*u1**2) + df(f, u3)*(-36*u*u1**2 - 30*u1*u3) + df(f, u5)*(-60*u*u1*u3 - 12*u1*u5 - 30*u3**2) + df(f)*12*u1\n"
     ]
    }
   ],
   "source": [
    "for w in LRT.GB():\n",
    "    print(w.poly)"
   ]
  },
  {
   "cell_type": "code",
   "execution_count": 21,
   "metadata": {},
   "outputs": [
    {
     "data": {
      "image/png": "[encoded data removed]",
      "text/latex": [
       "$\\displaystyle \\left[ 0, \\  0, \\  A_{u3}, \\  A_{u3u3} u_{5} + B_{u3u3}, \\  - 20 A u_{1} + A_{u2} u_{5} + B_{u2}, \\  A_{u1}, \\  A_{u1u3} u_{5} + B_{u1u3}, \\  A_{u1u1} u_{5} + B_{u1u1}, \\  A_{u}, \\  - 10 A + A_{uu3} u_{5} + B_{uu3}, \\  - 6 A_{u3} u_{5} + A_{uu1} u_{5} - 6 B_{u3} + B_{uu1}, \\  - 60 A u_{1} + A_{uu} u_{5} + B_{uu}, \\  - 10 A u_{1} u_{3} - 6 A_{u3} u_{1}^{2} u_{5} + A_{u} u_{1} u_{5} - 2 A_{x} u_{5} - 6 B_{u3} u_{1}^{2} + B_{u} u_{1} - 2 B_{x}, \\  - 60 A u u_{1} u_{3} - 30 A u_{3}^{2} + 2 A_{t} u_{5} - 12 A_{u1} u_{1}^{2} u_{5} - 36 A_{u3} u u_{1}^{2} u_{5} - 30 A_{u3} u_{1} u_{3} u_{5} + 6 A_{u} u u_{1} u_{5} + 3 A_{u} u_{3} u_{5} + 12 B u_{1} + 2 B_{t} - 12 B_{u1} u_{1}^{2} - 36 B_{u3} u u_{1}^{2} - 30 B_{u3} u_{1} u_{3} + 6 B_{u} u u_{1} + 3 B_{u} u_{3}\\right]$"
      ],
      "text/plain": [
       "⎡                                                                                                    \n",
       "⎣0, 0, A_{u3}, A_{u3u3}⋅u₅ + B_{u3u3}, -20⋅A⋅u₁ + A_{u2}⋅u₅ + B_{u2}, A_{u1}, A_{u1u3}⋅u₅ + B_{u1u3},\n",
       "\n",
       "                                                                                                     \n",
       " A_{u1u1}⋅u₅ + B_{u1u1}, A_{u}, -10⋅A + A_{uu3}⋅u₅ + B_{uu3}, -6⋅A_{u3}⋅u₅ + A_{uu1}⋅u₅ - 6⋅B_{u3} + \n",
       "\n",
       "                                                                 2                                   \n",
       "B_{uu1}, -60⋅A⋅u₁ + A_{uu}⋅u₅ + B_{uu}, -10⋅A⋅u₁⋅u₃ - 6⋅A_{u3}⋅u₁ ⋅u₅ + A_{u}⋅u₁⋅u₅ - 2⋅A_{x}⋅u₅ - 6⋅\n",
       "\n",
       "         2                                              2                            2               \n",
       "B_{u3}⋅u₁  + B_{u}⋅u₁ - 2⋅B_{x}, -60⋅A⋅u⋅u₁⋅u₃ - 30⋅A⋅u₃  + 2⋅A_{t}⋅u₅ - 12⋅A_{u1}⋅u₁ ⋅u₅ - 36⋅A_{u3}\n",
       "\n",
       "     2                                                                                             2 \n",
       "⋅u⋅u₁ ⋅u₅ - 30⋅A_{u3}⋅u₁⋅u₃⋅u₅ + 6⋅A_{u}⋅u⋅u₁⋅u₅ + 3⋅A_{u}⋅u₃⋅u₅ + 12⋅B⋅u₁ + 2⋅B_{t} - 12⋅B_{u1}⋅u₁  \n",
       "\n",
       "                2                                              ⎤\n",
       "- 36⋅B_{u3}⋅u⋅u₁  - 30⋅B_{u3}⋅u₁⋅u₃ + 6⋅B_{u}⋅u⋅u₁ + 3⋅B_{u}⋅u₃⎦"
      ]
     },
     "execution_count": 21,
     "metadata": {},
     "output_type": "execute_result"
    }
   ],
   "source": [
    "A, B = [sympy.Function(f)(t, x, u, u1, u2, u3) for f in \"A, B\".split(', ')]\n",
    "F = [A*u5 + B]\n",
    "eqs5 = []\n",
    "for w in LRT.GB():\n",
    "    eqs5.append(sum(F[m.position()].diff(*((v, d) for v, d in zip(var, m)))*c\\\n",
    "                    if m.position() >=0 else c for m, c in w.poly).expand())\n",
    "[compact(eq) for eq in eqs5]"
   ]
  },
  {
   "cell_type": "code",
   "execution_count": 22,
   "metadata": {},
   "outputs": [
    {
     "data": {
      "image/png": "[encoded data removed]",
      "text/latex": [
       "$\\displaystyle \\left[ A_{u3}, \\  B_{u3u3}, \\  A_{u3u3}, \\  - 20 A u_{1} + B_{u2}, \\  A_{u2}, \\  A_{u1}, \\  B_{u1u3}, \\  A_{u1u3}, \\  B_{u1u1}, \\  A_{u1u1}, \\  A_{u}, \\  - 10 A + B_{uu3}, \\  A_{uu3}, \\  - 6 B_{u3} + B_{uu1}, \\  - 6 A_{u3} + A_{uu1}, \\  - 60 A u_{1} + B_{uu}, \\  A_{uu}, \\  - 10 A u_{1} u_{3} - 6 B_{u3} u_{1}^{2} + B_{u} u_{1} - 2 B_{x}, \\  - 6 A_{u3} u_{1}^{2} + A_{u} u_{1} - 2 A_{x}, \\  - 60 A u u_{1} u_{3} - 30 A u_{3}^{2} + 12 B u_{1} + 2 B_{t} - 12 B_{u1} u_{1}^{2} - 36 B_{u3} u u_{1}^{2} - 30 B_{u3} u_{1} u_{3} + 6 B_{u} u u_{1} + 3 B_{u} u_{3}, \\  2 A_{t} - 12 A_{u1} u_{1}^{2} - 36 A_{u3} u u_{1}^{2} - 30 A_{u3} u_{1} u_{3} + 6 A_{u} u u_{1} + 3 A_{u} u_{3}\\right]$"
      ],
      "text/plain": [
       "⎡                                                                                                    \n",
       "⎣A_{u3}, B_{u3u3}, A_{u3u3}, -20⋅A⋅u₁ + B_{u2}, A_{u2}, A_{u1}, B_{u1u3}, A_{u1u3}, B_{u1u1}, A_{u1u1\n",
       "\n",
       "                                                                                                     \n",
       "}, A_{u}, -10⋅A + B_{uu3}, A_{uu3}, -6⋅B_{u3} + B_{uu1}, -6⋅A_{u3} + A_{uu1}, -60⋅A⋅u₁ + B_{uu}, A_{u\n",
       "\n",
       "                             2                                    2                                  \n",
       "u}, -10⋅A⋅u₁⋅u₃ - 6⋅B_{u3}⋅u₁  + B_{u}⋅u₁ - 2⋅B_{x}, - 6⋅A_{u3}⋅u₁  + A_{u}⋅u₁ - 2⋅A_{x}, -60⋅A⋅u⋅u₁⋅\n",
       "\n",
       "            2                                   2                 2                                  \n",
       "u₃ - 30⋅A⋅u₃  + 12⋅B⋅u₁ + 2⋅B_{t} - 12⋅B_{u1}⋅u₁  - 36⋅B_{u3}⋅u⋅u₁  - 30⋅B_{u3}⋅u₁⋅u₃ + 6⋅B_{u}⋅u⋅u₁ \n",
       "\n",
       "                                    2                 2                                              \n",
       "+ 3⋅B_{u}⋅u₃, 2⋅A_{t} - 12⋅A_{u1}⋅u₁  - 36⋅A_{u3}⋅u⋅u₁  - 30⋅A_{u3}⋅u₁⋅u₃ + 6⋅A_{u}⋅u⋅u₁ + 3⋅A_{u}⋅u₃\n",
       "\n",
       "⎤\n",
       "⎦"
      ]
     },
     "execution_count": 22,
     "metadata": {},
     "output_type": "execute_result"
    }
   ],
   "source": [
    "eqs5 = to_eqs(eqs5, [u5])\n",
    "[compact(eq) for eq in eqs5]"
   ]
  },
  {
   "cell_type": "code",
   "execution_count": 23,
   "metadata": {},
   "outputs": [
    {
     "name": "stdout",
     "output_type": "stream",
     "text": [
      "prolong 0, Q 1\n",
      "df(A, u3)\n",
      "prolong 0, Q 1\n",
      "df(A, u2)\n",
      "prolong 0, Q 1\n",
      "df(B, u2)\n",
      "prolong 0, Q 1\n",
      "df(A, u1)\n",
      "prolong 0, Q 1\n",
      "df(A, u)\n",
      "prolong 0, Q 1\n",
      "df(A, x)\n",
      "prolong 0, Q 1\n",
      "df(B, x)\n",
      "prolong 1, Q 1\n",
      "df(A, t)\n",
      "prolong 1, Q 1\n",
      "df(B, t)\n",
      "prolong 1, Q 2\n",
      "df(B, u3, 2)\n",
      "prolong 2, Q 2\n",
      "df(B, u1, u3)\n",
      "prolong 1, Q 2\n",
      "df(B, u, u3)\n",
      "prolong 1, Q 2\n",
      "df(B, u1, u2)\n",
      "prolong 2, Q 2\n",
      "df(B, u, u2)\n",
      "prolong 2, Q 2\n",
      "df(B, u1, 2)\n",
      "prolong 2, Q 2\n",
      "df(B, u, u1)\n",
      "prolong 2, Q 2\n",
      "df(B, u, 2)\n",
      "prolong 2, Q 2\n",
      "prolong 2, Q 0\n",
      "prolong 0, Q 0\n",
      "    crit1: 0\n",
      "    crit2: 0\n",
      "     time: 1.24 sec\n",
      "    count: 17\n",
      "reduction: 284\n",
      "       HP: 5\n"
     ]
    }
   ],
   "source": [
    "var = 't, x, u, u1, u2, u3'.split(', ')\n",
    "fun = \"A, B\".split(', ')\n",
    "Monom.init(var, fun)\n",
    "df = PolyDiff.df\n",
    "diff2poly = PolyDiff.diff2poly\n",
    "var, fun = PolyDiff.init()\n",
    "t, x, u, u1, u2, u3 = var\n",
    "A, B = fun\n",
    "\n",
    "LRT1 = Forest(Janet)\n",
    "res = ginvBlockLow([diff2poly(eq) for eq in eqs5], \\\n",
    "LRT1, level=1)\n",
    "print(f\"    crit1: {res[1]}\")\n",
    "print(f\"    crit2: {res[2]}\")\n",
    "print(f\"     time: {res[0]:.2f} sec\")\n",
    "print(f\"    count: {LRT1.count()}\")\n",
    "print(f\"reduction: {LRT1.reduction()}\")\n",
    "print(f\"       HP: {LRT1.HP()}\")"
   ]
  },
  {
   "cell_type": "code",
   "execution_count": 24,
   "metadata": {},
   "outputs": [
    {
     "name": "stdout",
     "output_type": "stream",
     "text": [
      "df(A, u3)\n",
      "df(A, u2)\n",
      "df(A, u1)\n",
      "df(A, u)\n",
      "df(A, x)\n",
      "df(A, t)\n",
      "df(B, u3, 2)\n",
      "df(B, u2) + df(A)*(-20*u1)\n",
      "df(B, u1, u3)\n",
      "df(B, u, u3) + df(A)*(-10)\n",
      "df(B, x)*(-2) + df(B, u)*u1 + df(B, u3)*(-6*u1**2) + df(A)*(-10*u1*u3)\n",
      "df(B, t)*2 + df(B, u)*(6*u*u1 + 3*u3) + df(B, u1)*(-12*u1**2) + df(B, u3)*(-36*u*u1**2 - 30*u1*u3) + df(B)*12*u1 + df(A)*(-60*u*u1*u3 - 30*u3**2)\n"
     ]
    }
   ],
   "source": [
    "for w in LRT1.GB():\n",
    "    print(w.poly)"
   ]
  },
  {
   "cell_type": "code",
   "execution_count": 25,
   "metadata": {},
   "outputs": [
    {
     "data": {
      "image/png": "[encoded data removed]",
      "text/latex": [
       "$\\displaystyle \\left[ 0, \\  0, \\  0, \\  0, \\  0, \\  0, \\  0, \\  - 20 A u_{1} + B0_{u2} + B1_{u2} u_{1} + B3_{u2} u_{3}, \\  0, \\  - 10 A + B3_{u}, \\  - 10 A u_{1} u_{3} + B0_{u} u_{1} - 2 B0_{x} + B1_{u} u_{1}^{2} - 2 B1_{x} u_{1} - 6 B_{3} u_{1}^{2} + B3_{u} u_{1} u_{3} - 2 B3_{x} u_{3}, \\  - 60 A u u_{1} u_{3} - 30 A u_{3}^{2} + 12 B_{0} u_{1} + 2 B0_{t} + 6 B0_{u} u u_{1} + 3 B0_{u} u_{3} + 2 B1_{t} u_{1} + 6 B1_{u} u u_{1}^{2} + 3 B1_{u} u_{1} u_{3} - 36 B_{3} u u_{1}^{2} - 18 B_{3} u_{1} u_{3} + 2 B3_{t} u_{3} + 6 B3_{u} u u_{1} u_{3} + 3 B3_{u} u_{3}^{2}\\right]$"
      ],
      "text/plain": [
       "⎡                                                                                                    \n",
       "⎣0, 0, 0, 0, 0, 0, 0, -20⋅A⋅u₁ + B_0_{u2} + B_1_{u2}⋅u₁ + B_3_{u2}⋅u₃, 0, -10⋅A + B_3_{u}, -10⋅A⋅u₁⋅u\n",
       "\n",
       "                                       2                         2                                   \n",
       "₃ + B_0_{u}⋅u₁ - 2⋅B_0_{x} + B_1_{u}⋅u₁  - 2⋅B_1_{x}⋅u₁ - 6⋅B₃⋅u₁  + B_3_{u}⋅u₁⋅u₃ - 2⋅B_3_{x}⋅u₃, -6\n",
       "\n",
       "                     2                                                                               \n",
       "0⋅A⋅u⋅u₁⋅u₃ - 30⋅A⋅u₃  + 12⋅B₀⋅u₁ + 2⋅B_0_{t} + 6⋅B_0_{u}⋅u⋅u₁ + 3⋅B_0_{u}⋅u₃ + 2⋅B_1_{t}⋅u₁ + 6⋅B_1_\n",
       "\n",
       "        2                               2                                                            \n",
       "{u}⋅u⋅u₁  + 3⋅B_1_{u}⋅u₁⋅u₃ - 36⋅B₃⋅u⋅u₁  - 18⋅B₃⋅u₁⋅u₃ + 2⋅B_3_{t}⋅u₃ + 6⋅B_3_{u}⋅u⋅u₁⋅u₃ + 3⋅B_3_{u\n",
       "\n",
       "    2⎤\n",
       "}⋅u₃ ⎦"
      ]
     },
     "execution_count": 25,
     "metadata": {},
     "output_type": "execute_result"
    }
   ],
   "source": [
    "A = sympy.Symbol(\"A\")\n",
    "B0, B1, B3 = [sympy.Function(f)(t, x, u, u2) for f in \"B0, B1, B3\".split(', ')]\n",
    "B = B0 + B1*u1 + B3*u3\n",
    "F = [A, B]\n",
    "eqs6 = []\n",
    "for w in LRT1.GB():\n",
    "    eqs6.append(sum(F[m.position()].diff(*((v, d) for v, d in zip(var, m)))*c\\\n",
    "                    if m.position() >=0 else c for m, c in w.poly).expand())\n",
    "[compact(eq) for eq in eqs6]"
   ]
  },
  {
   "cell_type": "code",
   "execution_count": 26,
   "metadata": {},
   "outputs": [
    {
     "data": {
      "image/png": "[encoded data removed]",
      "text/latex": [
       "$\\displaystyle \\left[ B0_{u2}, \\  B3_{u2}, \\  - 20 A + B1_{u2}, \\  - 10 A + B3_{u}, \\  - 2 B0_{x}, \\  - 2 B3_{x}, \\  B0_{u} - 2 B1_{x}, \\  - 10 A + B3_{u}, \\  B1_{u} - 6 B_{3}, \\  2 B0_{t}, \\  3 B0_{u} + 2 B3_{t}, \\  - 30 A + 3 B3_{u}, \\  12 B_{0} + 6 B0_{u} u + 2 B1_{t}, \\  - 60 A u + 3 B1_{u} - 18 B_{3} + 6 B3_{u} u, \\  6 B1_{u} u - 36 B_{3} u\\right]$"
      ],
      "text/plain": [
       "[B_0_{u2}, B_3_{u2}, -20⋅A + B_1_{u2}, -10⋅A + B_3_{u}, -2⋅B_0_{x}, -2⋅B_3_{x}, B_0_{u} - 2⋅B_1_{x}, \n",
       "-10⋅A + B_3_{u}, B_1_{u} - 6⋅B₃, 2⋅B_0_{t}, 3⋅B_0_{u} + 2⋅B_3_{t}, -30⋅A + 3⋅B_3_{u}, 12⋅B₀ + 6⋅B_0_{\n",
       "u}⋅u + 2⋅B_1_{t}, -60⋅A⋅u + 3⋅B_1_{u} - 18⋅B₃ + 6⋅B_3_{u}⋅u, 6⋅B_1_{u}⋅u - 36⋅B₃⋅u]"
      ]
     },
     "execution_count": 26,
     "metadata": {},
     "output_type": "execute_result"
    }
   ],
   "source": [
    "eqs6 = to_eqs(eqs6, [u1, u3])\n",
    "[compact(eq) for eq in eqs6]"
   ]
  },
  {
   "cell_type": "code",
   "execution_count": 27,
   "metadata": {},
   "outputs": [
    {
     "name": "stdout",
     "output_type": "stream",
     "text": [
      "prolong 0, Q 1\n",
      "df(B0, u2)\n",
      "prolong 0, Q 1\n",
      "df(B1, u2)\n",
      "prolong 0, Q 1\n",
      "df(B3, u2)\n",
      "prolong 0, Q 1\n",
      "df(B1, u)\n",
      "prolong 0, Q 1\n",
      "df(B3, u)\n",
      "prolong 1, Q 1\n",
      "df(B0, x)\n",
      "prolong 1, Q 1\n",
      "df(B1, x)\n",
      "prolong 1, Q 1\n",
      "df(B3, x)\n",
      "prolong 1, Q 1\n",
      "df(B0, t)\n",
      "prolong 1, Q 1\n",
      "df(B1, t)\n",
      "prolong 1, Q 1\n",
      "df(B3, t)\n",
      "prolong 1, Q 0\n",
      "df(B0, u, 2)\n",
      "prolong 0, Q 0\n",
      "    crit1: 0\n",
      "    crit2: 0\n",
      "     time: 0.08 sec\n",
      "    count: 12\n",
      "reduction: 50\n",
      "       HP: s + 3\n"
     ]
    }
   ],
   "source": [
    "var = 't, x, u, u2'.split(', ')\n",
    "fun = \"B0, B1, B3\".split(', ')\n",
    "Monom.init(var, fun)\n",
    "df = PolyDiff.df\n",
    "diff2poly = PolyDiff.diff2poly\n",
    "var, fun = PolyDiff.init()\n",
    "t, x, u, u2 = var\n",
    "B0, B1, B3 = fun\n",
    "\n",
    "LRT2 = Forest(Janet)\n",
    "res = ginvBlockLow([diff2poly(eq) for eq in eqs6], \\\n",
    "LRT2, level=1)\n",
    "print(f\"    crit1: {res[1]}\")\n",
    "print(f\"    crit2: {res[2]}\")\n",
    "print(f\"     time: {res[0]:.2f} sec\")\n",
    "print(f\"    count: {LRT2.count()}\")\n",
    "print(f\"reduction: {LRT2.reduction()}\")\n",
    "print(f\"       HP: {LRT2.HP()}\")"
   ]
  },
  {
   "cell_type": "code",
   "execution_count": 28,
   "metadata": {},
   "outputs": [
    {
     "name": "stdout",
     "output_type": "stream",
     "text": [
      "df(B0, u2)\n",
      "df(B0, u, 2)\n",
      "df(B0, x)\n",
      "df(B0, t)\n",
      "df(B1, u2) + -20*A\n",
      "df(B1, u) + df(B3)*(-6)\n",
      "df(B1, x)*(-2) + df(B0, u)\n",
      "df(B1, t) + df(B0, u)*3*u + df(B0)*6\n",
      "df(B3, u2)\n",
      "df(B3, u) + -10*A\n",
      "df(B3, x)\n",
      "df(B3, t)*2 + df(B0, u)*3\n"
     ]
    }
   ],
   "source": [
    "for w in LRT2.GB():\n",
    "    print(w.poly)"
   ]
  },
  {
   "cell_type": "code",
   "execution_count": 29,
   "metadata": {},
   "outputs": [
    {
     "data": {
      "image/png": "[encoded data removed]",
      "text/latex": [
       "$\\displaystyle \\left[ 0, \\  0, \\  0, \\  0, \\  0, \\  B10_{u} - 6 B_{3}, \\  - 2 B10_{x} + C, \\  B10_{t} + 9 C u + 6 D, \\  0, \\  - 10 A + B3_{u}, \\  B3_{x}, \\  2 B3_{t} + 3 C\\right]$"
      ],
      "text/plain": [
       "[0, 0, 0, 0, 0, B_10_{u} - 6⋅B₃, -2⋅B_10_{x} + C, B_10_{t} + 9⋅C⋅u + 6⋅D, 0, -10⋅A + B_3_{u}, B_3_{x}\n",
       ", 2⋅B_3_{t} + 3⋅C]"
      ]
     },
     "execution_count": 29,
     "metadata": {},
     "output_type": "execute_result"
    }
   ],
   "source": [
    "C, D = sympy.symbols(\"C, D\")\n",
    "B10, B3 = [sympy.Function(f)(t, x, u) for f in \"B10, B3\".split(', ')]\n",
    "B0 = C*u + D\n",
    "B1 = B10 + 20*A*u2\n",
    "F = [B0, B1, B3]\n",
    "eqs7 = []\n",
    "for w in LRT2.GB():\n",
    "    eqs7.append(sum(F[m.position()].diff(*((v, d) for v, d in zip(var, m)))*c\\\n",
    "                    if m.position() >=0 else c for m, c in w.poly).expand())\n",
    "[compact(eq) for eq in eqs7]"
   ]
  },
  {
   "cell_type": "code",
   "execution_count": 30,
   "metadata": {},
   "outputs": [
    {
     "name": "stdout",
     "output_type": "stream",
     "text": [
      "prolong 0, Q 1\n",
      "df(B10, u)\n",
      "prolong 0, Q 1\n",
      "df(B3, u)\n",
      "prolong 0, Q 1\n",
      "df(B10, x)\n",
      "prolong 0, Q 1\n",
      "df(B3, x)\n",
      "prolong 1, Q 1\n",
      "df(B10, t)\n",
      "prolong 1, Q 1\n",
      "df(B3, t)\n",
      "prolong 1, Q 0\n",
      "prolong 0, Q 0\n",
      "    crit1: 0\n",
      "    crit2: 0\n",
      "     time: 0.03 sec\n",
      "    count: 6\n",
      "reduction: 14\n",
      "       HP: 2\n"
     ]
    }
   ],
   "source": [
    "var = 't, x, u'.split(', ')\n",
    "fun = \"B10, B3\".split(', ')\n",
    "Monom.init(var, fun)\n",
    "df = PolyDiff.df\n",
    "diff2poly = PolyDiff.diff2poly\n",
    "var, fun = PolyDiff.init()\n",
    "t, x, u = var\n",
    "B10, B3 = fun\n",
    "\n",
    "LRT3 = Forest(Janet)\n",
    "res = ginvBlockLow([diff2poly(eq) for eq in eqs7 if eq], \\\n",
    "LRT3, level=1)\n",
    "print(f\"    crit1: {res[1]}\")\n",
    "print(f\"    crit2: {res[2]}\")\n",
    "print(f\"     time: {res[0]:.2f} sec\")\n",
    "print(f\"    count: {LRT3.count()}\")\n",
    "print(f\"reduction: {LRT3.reduction()}\")\n",
    "print(f\"       HP: {LRT3.HP()}\")"
   ]
  },
  {
   "cell_type": "code",
   "execution_count": 31,
   "metadata": {},
   "outputs": [
    {
     "name": "stdout",
     "output_type": "stream",
     "text": [
      "df(B10, u) + df(B3)*(-6)\n",
      "df(B10, x)*(-2) + C\n",
      "df(B10, t) + 9*C*u + 6*D\n",
      "df(B3, u) + -10*A\n",
      "df(B3, x)\n",
      "df(B3, t)*2 + 3*C\n"
     ]
    }
   ],
   "source": [
    "for w in LRT3.GB():\n",
    "    print(w.poly)"
   ]
  },
  {
   "cell_type": "code",
   "execution_count": 32,
   "metadata": {},
   "outputs": [
    {
     "data": {
      "image/png": "[encoded data removed]",
      "text/latex": [
       "$\\displaystyle \\left[ 0, \\  0, \\  0, \\  0, \\  0, \\  0\\right]$"
      ],
      "text/plain": [
       "[0, 0, 0, 0, 0, 0]"
      ]
     },
     "execution_count": 32,
     "metadata": {},
     "output_type": "execute_result"
    }
   ],
   "source": [
    "H, I = sympy.symbols(\"H, I\")\n",
    "B3 = 10*A*u - 3*C/2*t + H\n",
    "B10 =  6*(10*A*u**2/2 - 3*C/2*t*u + H*u) + C/2*x - 6*D*t + I\n",
    "F = [B10, B3]\n",
    "eqs8 = []\n",
    "for w in LRT3.GB():\n",
    "    eqs8.append(sum(F[m.position()].diff(*((v, d) for v, d in zip(var, m)))*c\\\n",
    "                    if m.position() >=0 else c for m, c in w.poly).expand())\n",
    "[compact(eq) for eq in eqs8]"
   ]
  },
  {
   "cell_type": "code",
   "execution_count": 33,
   "metadata": {},
   "outputs": [
    {
     "data": {
      "image/png": "[encoded data removed]",
      "text/latex": [
       "$\\displaystyle \\left( C u + D, \\  30 A u^{2} + 20 A u_{2} - 9 C t u + \\frac{C x}{2} - 6 D t + 6 H u + I\\right)$"
      ],
      "text/plain": [
       "⎛               2                       C⋅x                    ⎞\n",
       "⎜C⋅u + D, 30⋅A⋅u  + 20⋅A⋅u₂ - 9⋅C⋅t⋅u + ─── - 6⋅D⋅t + 6⋅H⋅u + I⎟\n",
       "⎝                                        2                     ⎠"
      ]
     },
     "execution_count": 33,
     "metadata": {},
     "output_type": "execute_result"
    }
   ],
   "source": [
    "B0 = C*u + D\n",
    "B1 = B10 + 20*A*u2\n",
    "B0, B1"
   ]
  },
  {
   "cell_type": "code",
   "execution_count": 34,
   "metadata": {},
   "outputs": [
    {
     "data": {
      "image/png": "[encoded data removed]",
      "text/latex": [
       "$\\displaystyle C u + D + u_{1} \\cdot \\left(30 A u^{2} + 20 A u_{2} - 9 C t u + \\frac{C x}{2} - 6 D t + 6 H u + I\\right) + u_{3} \\cdot \\left(10 A u - \\frac{3 C t}{2} + H\\right)$"
      ],
      "text/plain": [
       "             ⎛      2                       C⋅x                    ⎞      ⎛         3⋅C⋅t    ⎞\n",
       "C⋅u + D + u₁⋅⎜30⋅A⋅u  + 20⋅A⋅u₂ - 9⋅C⋅t⋅u + ─── - 6⋅D⋅t + 6⋅H⋅u + I⎟ + u₃⋅⎜10⋅A⋅u - ───── + H⎟\n",
       "             ⎝                               2                     ⎠      ⎝           2      ⎠"
      ]
     },
     "execution_count": 34,
     "metadata": {},
     "output_type": "execute_result"
    }
   ],
   "source": [
    "B = B0 + B1*u1 + B3*u3\n",
    "B"
   ]
  },
  {
   "cell_type": "code",
   "execution_count": 35,
   "metadata": {},
   "outputs": [
    {
     "data": {
      "image/png": "[encoded data removed]",
      "text/latex": [
       "$\\displaystyle 30 A u^{2} u_{1} + 10 A u u_{3} + 20 A u_{1} u_{2} + A u_{5} - 9 C t u u_{1} - \\frac{3 C t u_{3}}{2} + C u + \\frac{C u_{1} x}{2} - 6 D t u_{1} + D + 6 H u u_{1} + H u_{3} + I u_{1}$"
      ],
      "text/plain": [
       "      2                                                   3⋅C⋅t⋅u₃         C⋅u₁⋅x                    \n",
       "30⋅A⋅u ⋅u₁ + 10⋅A⋅u⋅u₃ + 20⋅A⋅u₁⋅u₂ + A⋅u₅ - 9⋅C⋅t⋅u⋅u₁ - ──────── + C⋅u + ────── - 6⋅D⋅t⋅u₁ + D + 6⋅\n",
       "                                                             2               2                       \n",
       "\n",
       "                    \n",
       "H⋅u⋅u₁ + H⋅u₃ + I⋅u₁\n",
       "                    "
      ]
     },
     "execution_count": 35,
     "metadata": {},
     "output_type": "execute_result"
    }
   ],
   "source": [
    "F = (A*u5 + B).expand()\n",
    "F"
   ]
  },
  {
   "cell_type": "code",
   "execution_count": 36,
   "metadata": {},
   "outputs": [
    {
     "data": {
      "image/png": "[encoded data removed]",
      "text/latex": [
       "$\\displaystyle \\left[ 30 u^{2} u_{1} + 10 u u_{3} + 20 u_{1} u_{2} + u_{5}, \\  - 9 t u u_{1} - \\frac{3 t u_{3}}{2} + u + \\frac{u_{1} x}{2}, \\  - 6 t u_{1} + 1, \\  6 u u_{1} + u_{3}, \\  u_{1}\\right]$"
      ],
      "text/plain": [
       "⎡    2                                           3⋅t⋅u₃       u₁⋅x                              ⎤\n",
       "⎢30⋅u ⋅u₁ + 10⋅u⋅u₃ + 20⋅u₁⋅u₂ + u₅, -9⋅t⋅u⋅u₁ - ────── + u + ────, -6⋅t⋅u₁ + 1, 6⋅u⋅u₁ + u₃, u₁⎥\n",
       "⎣                                                  2           2                                ⎦"
      ]
     },
     "execution_count": 36,
     "metadata": {},
     "output_type": "execute_result"
    }
   ],
   "source": [
    "symm = [F.coeff(i) for i in (A, C, D, H, I)]\n",
    "symm"
   ]
  },
  {
   "cell_type": "code",
   "execution_count": 37,
   "metadata": {},
   "outputs": [
    {
     "data": {
      "image/png": "[encoded data removed]",
      "text/latex": [
       "$\\displaystyle \\left\\{ u_{xxxxx} : 36 u^{2} u_{x} + 6 u u_{t} - u_{txx} - 18 u_{xx} u_{x}, \\  u_{xxx} : - 6 u u_{x} - u_{t}\\right\\}$"
      ],
      "text/plain": [
       "⎧               2                                                                           ⎫\n",
       "⎨u_{xxxxx}: 36⋅u ⋅u_{x} + 6⋅u⋅u_{t} - u_{txx} - 18⋅u_{xx}⋅u_{x}, u_{xxx}: -6⋅u⋅u_{x} - u_{t}⎬\n",
       "⎩                                                                                           ⎭"
      ]
     },
     "execution_count": 37,
     "metadata": {},
     "output_type": "execute_result"
    }
   ],
   "source": [
    "sympy.solve([compact(eq1), compact(eq1.diff(x, 2))], [compact(U.diff(x, 3)), compact(U.diff(x, 5))])"
   ]
  },
  {
   "cell_type": "code",
   "execution_count": 38,
   "metadata": {},
   "outputs": [
    {
     "data": {
      "image/png": "[encoded data removed]",
      "text/latex": [
       "$\\displaystyle \\left[ - 30 u^{2} u_{1} - 10 u ut + 20 u_{1} u_{2} + u_{5}, \\  \\frac{3 t ut}{2} + u + \\frac{u_{1} x}{2}, \\  - 6 t u_{1} + 1, \\  - ut, \\  u_{1}\\right]$"
      ],
      "text/plain": [
       "⎡      2                               3⋅t⋅ut       u₁⋅x                      ⎤\n",
       "⎢- 30⋅u ⋅u₁ - 10⋅u⋅ut + 20⋅u₁⋅u₂ + u₅, ────── + u + ────, -6⋅t⋅u₁ + 1, -ut, u₁⎥\n",
       "⎣                                        2           2                        ⎦"
      ]
     },
     "execution_count": 38,
     "metadata": {},
     "output_type": "execute_result"
    }
   ],
   "source": [
    "[s.subs({u3: -(ut + 6*u*u1)}).expand() for s in symm]"
   ]
  },
  {
   "cell_type": "code",
   "execution_count": null,
   "metadata": {},
   "outputs": [],
   "source": []
  }
 ],
 "metadata": {
  "kernelspec": {
   "display_name": "Python 3 (ipykernel)",
   "language": "python",
   "name": "python3"
  },
  "language_info": {
   "codemirror_mode": {
    "name": "ipython",
    "version": 3
   },
   "file_extension": ".py",
   "mimetype": "text/x-python",
   "name": "python",
   "nbconvert_exporter": "python",
   "pygments_lexer": "ipython3",
   "version": "3.11.2"
  }
 },
 "nbformat": 4,
 "nbformat_minor": 2
}
