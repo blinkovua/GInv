{
 "cells": [
  {
   "cell_type": "code",
   "execution_count": 1,
   "metadata": {},
   "outputs": [],
   "source": [
    "from IPython.display import display, Image\n",
    "from pprint import pprint\n",
    "from itertools import chain\n",
    "\n",
    "from ginv import *\n",
    "sympy.init_printing()"
   ]
  },
  {
   "cell_type": "markdown",
   "metadata": {},
   "source": [
    "Условие на высшие симметрии (сокращенная запись например $u_{xxx} = u_3$)\n",
    "\\begin{equation}\n",
    "\\begin{aligned}\n",
    "\\mathbf{u_{t}}& + 6 u_1 u + u_3 = 0 \\\\\n",
    "\\mathbf{u_{\\varepsilon }}& - F(t, x, u, u_1, u_2, \\ldots, u_5) = 0 \\\\\n",
    "\\end{aligned}\n",
    "\\end{equation}\n",
    "Для второго уравнения системы введем полные производные от $F$.\n",
    "\\begin{equation}\n",
    "\\begin{aligned}\n",
    "\\frac{dF}{dt} &= F_t  - F_u (6 u_1 u + u_3) - \\sum F_{u_{i}} (6 u_1 u + u_3)_i\\\\\n",
    "\\frac{dF}{dx} &= F_x  + F_u  u_1 + \\sum F_{u_{i}} u_{i+1}\n",
    "\\end{aligned}\n",
    "\\end{equation}\n",
    "\n",
    "Условие интегрируемости (совместности) данной системы можно записать через $S$-полином (лексикографическое упорядочение $t \\succ x $)\n",
    "\\begin{equation}\n",
    "\\big(\\mathbf{u_{t}}  + 6 u_1 u + u_3)_\\varepsilon \n",
    "- \\mathbf{u_{\\varepsilon t}} + \\frac{d}{dt}F = 0\n",
    "\\end{equation}\n",
    "\n",
    "В последнем уравнении в силу правила дифференцирования Лейбница производная по $\\varepsilon $\n",
    "входит в условие интрегриемости линейно. \n",
    "\\begin{equation}\n",
    "6𝑢 𝑢_{\\varepsilon 1}+  6𝑢_1 𝑢_{\\varepsilon }+ 𝑢_{\\varepsilon 3}\n",
    "\\frac{d}{dt}F = 0\n",
    "\\end{equation}\n",
    "При этом мы можем заменить $u_{\\varepsilon }$ на $F$ используя полные производные от $F$.\n",
    "\\begin{equation}\n",
    "6𝑢 \\frac{d}{dx}F+  6𝑢_1 F + \\frac{d^3}{dx^3}F + \\frac{d}{dt}F = 0\n",
    "\\end{equation}\n",
    "\n",
    "Поскольку само $F$ не зависит от производных выше пятого порядка можно получить \n",
    "систему линейных уравнений на $F$."
   ]
  },
  {
   "cell_type": "code",
   "execution_count": 2,
   "metadata": {},
   "outputs": [],
   "source": [
    "eps, t, x = sympy.symbols('ε, t, x', real=True)\n",
    "U = sympy.Function('u')(eps, t, x)\n",
    "\n",
    "u, ut, u1, u2, u3, u4, u5 = sympy.symbols('u, u_t, u_1, u_2, u_3, u_4, u_5', real=True)\n",
    "F = sympy.Function('f')(t, x, u, u1, u2, u3, u4, u5)"
   ]
  },
  {
   "cell_type": "code",
   "execution_count": 3,
   "metadata": {},
   "outputs": [
    {
     "data": {
      "image/png": "[encoded data removed]",
      "text/latex": [
       "$\\displaystyle 6 u{\\left(ε,t,x \\right)} \\frac{\\partial}{\\partial x} u{\\left(ε,t,x \\right)} + \\frac{\\partial}{\\partial t} u{\\left(ε,t,x \\right)} + \\frac{\\partial^{3}}{\\partial x^{3}} u{\\left(ε,t,x \\right)}$"
      ],
      "text/plain": [
       "                                                 3            \n",
       "             ∂                ∂                 ∂             \n",
       "6⋅u(ε, t, x)⋅──(u(ε, t, x)) + ──(u(ε, t, x)) + ───(u(ε, t, x))\n",
       "             ∂x               ∂t                 3            \n",
       "                                               ∂x             "
      ]
     },
     "execution_count": 3,
     "metadata": {},
     "output_type": "execute_result"
    }
   ],
   "source": [
    "eq1 = U.diff(t) + 6*U*U.diff(x) + U.diff(x, 3)\n",
    "eq1"
   ]
  },
  {
   "cell_type": "code",
   "execution_count": 4,
   "metadata": {},
   "outputs": [],
   "source": [
    "func_poly = set([sympy.Add, sympy.Mul, sympy.Pow])\n",
    "def compact(f):\n",
    "    def cmpct(a):\n",
    "        if not a.args:\n",
    "            return a\n",
    "        else:\n",
    "            if a.func in func_poly:\n",
    "                return a.func(*tuple(cmpct(s) for s in a.args))\n",
    "            elif a.func != sympy.Derivative:\n",
    "                return sympy.Symbol(f\"{a.func}\")\n",
    "            else:\n",
    "                m = []\n",
    "                for xi, k in a.args[1:]:\n",
    "                    m.append(f\"{xi}\"*k)\n",
    "                return sympy.Symbol(f\"{a.args[0].func}_{{{''.join(m)}}}\", real=True)\n",
    "    return cmpct(f)"
   ]
  },
  {
   "cell_type": "code",
   "execution_count": 5,
   "metadata": {},
   "outputs": [
    {
     "data": {
      "image/png": "[encoded data removed]",
      "text/latex": [
       "$\\displaystyle 6 u u_{x} + u_{t} + u_{xxx}$"
      ],
      "text/plain": [
       "6⋅u⋅u_{x} + u_{t} + u_{xxx}"
      ]
     },
     "execution_count": 5,
     "metadata": {},
     "output_type": "execute_result"
    }
   ],
   "source": [
    "compact(eq1)"
   ]
  },
  {
   "cell_type": "code",
   "execution_count": 6,
   "metadata": {},
   "outputs": [
    {
     "data": {
      "image/png": "[encoded data removed]",
      "text/latex": [
       "$\\displaystyle 6 u u_{xε} + u_{tε} + u_{xxxε} + 6 u_{x} u_{ε}$"
      ],
      "text/plain": [
       "6⋅u⋅u_{xε} + u_{tε} + u_{xxxε} + 6⋅u_{x}⋅u_{ε}"
      ]
     },
     "execution_count": 6,
     "metadata": {},
     "output_type": "execute_result"
    }
   ],
   "source": [
    "compact(eq1.diff(eps))"
   ]
  },
  {
   "cell_type": "code",
   "execution_count": 7,
   "metadata": {},
   "outputs": [],
   "source": [
    "def Dt(a):\n",
    "    return a.diff(t) -\\\n",
    "        sum(a.diff(f)*(6*U*U.diff(x) + U.diff(x, 3)).diff(x, k)\\\n",
    "            for k, f in enumerate([u, u1, u2, u3, u4, u5]))\n",
    "def Dx(a):\n",
    "    return a.diff(x) +\\\n",
    "        sum(a.diff(f)*U.diff(x, k+1)\\\n",
    "            for k, f in enumerate([u, u1, u2, u3, u4, u5]))"
   ]
  },
  {
   "cell_type": "code",
   "execution_count": 8,
   "metadata": {},
   "outputs": [
    {
     "data": {
      "image/png": "[encoded data removed]",
      "text/latex": [
       "$\\displaystyle f_{t} - 6 f_{u_1} u u_{xx} - f_{u_1} u_{xxxx} - 6 f_{u_1} u_{x}^{2} - 6 f_{u_2} u u_{xxx} - f_{u_2} u_{xxxxx} - 18 f_{u_2} u_{xx} u_{x} - 6 f_{u_3} u u_{xxxx} - f_{u_3} u_{xxxxxx} - 24 f_{u_3} u_{xxx} u_{x} - 18 f_{u_3} u_{xx}^{2} - 6 f_{u_4} u u_{xxxxx} - f_{u_4} u_{xxxxxxx} - 30 f_{u_4} u_{xxxx} u_{x} - 60 f_{u_4} u_{xxx} u_{xx} - 6 f_{u_5} u u_{xxxxxx} - f_{u_5} u_{xxxxxxxx} - 36 f_{u_5} u_{xxxxx} u_{x} - 90 f_{u_5} u_{xxxx} u_{xx} - 60 f_{u_5} u_{xxx}^{2} - 6 f_{u} u u_{x} - f_{u} u_{xxx}$"
      ],
      "text/plain": [
       "                                                               2                           \n",
       "f_{t} - 6⋅f_{u_1}⋅u⋅u_{xx} - f_{u_1}⋅u_{xxxx} - 6⋅f_{u_1}⋅u_{x}  - 6⋅f_{u_2}⋅u⋅u_{xxx} - f_\n",
       "\n",
       "                                                                                           \n",
       "{u_2}⋅u_{xxxxx} - 18⋅f_{u_2}⋅u_{xx}⋅u_{x} - 6⋅f_{u_3}⋅u⋅u_{xxxx} - f_{u_3}⋅u_{xxxxxx} - 24⋅\n",
       "\n",
       "                                         2                                                 \n",
       "f_{u_3}⋅u_{xxx}⋅u_{x} - 18⋅f_{u_3}⋅u_{xx}  - 6⋅f_{u_4}⋅u⋅u_{xxxxx} - f_{u_4}⋅u_{xxxxxxx} - \n",
       "\n",
       "                                                                                           \n",
       "30⋅f_{u_4}⋅u_{xxxx}⋅u_{x} - 60⋅f_{u_4}⋅u_{xxx}⋅u_{xx} - 6⋅f_{u_5}⋅u⋅u_{xxxxxx} - f_{u_5}⋅u_\n",
       "\n",
       "                                                                                         2 \n",
       "{xxxxxxxx} - 36⋅f_{u_5}⋅u_{xxxxx}⋅u_{x} - 90⋅f_{u_5}⋅u_{xxxx}⋅u_{xx} - 60⋅f_{u_5}⋅u_{xxx}  \n",
       "\n",
       "                                 \n",
       "- 6⋅f_{u}⋅u⋅u_{x} - f_{u}⋅u_{xxx}"
      ]
     },
     "execution_count": 8,
     "metadata": {},
     "output_type": "execute_result"
    }
   ],
   "source": [
    "compact(Dt(F)).expand()"
   ]
  },
  {
   "cell_type": "code",
   "execution_count": 9,
   "metadata": {},
   "outputs": [
    {
     "data": {
      "image/png": "[encoded data removed]",
      "text/latex": [
       "$\\displaystyle f_{u_1} u_{xx} + f_{u_2} u_{xxx} + f_{u_3} u_{xxxx} + f_{u_4} u_{xxxxx} + f_{u_5} u_{xxxxxx} + f_{u} u_{x} + f_{x}$"
      ],
      "text/plain": [
       "f_{u_1}⋅u_{xx} + f_{u_2}⋅u_{xxx} + f_{u_3}⋅u_{xxxx} + f_{u_4}⋅u_{xxxxx} + f_{u_5}⋅u_{xxxxxx\n",
       "} + f_{u}⋅u_{x} + f_{x}"
      ]
     },
     "execution_count": 9,
     "metadata": {},
     "output_type": "execute_result"
    }
   ],
   "source": [
    "compact(Dx(F))"
   ]
  },
  {
   "cell_type": "code",
   "execution_count": 10,
   "metadata": {
    "scrolled": true
   },
   "outputs": [],
   "source": [
    "toD = {\n",
    "    t: Dt,\\\n",
    "    x: Dx,\\\n",
    "}\n",
    "def totalD(a):\n",
    "    if not a.args:\n",
    "        return a\n",
    "    else:\n",
    "        if a.func != sympy.Derivative:\n",
    "            return a.func(*(totalD(s) for s in a.args))\n",
    "        elif (eps, 1) not in a.args:\n",
    "            return a\n",
    "        else:\n",
    "            assert a.args[0] == U\n",
    "            r = F\n",
    "            for v, l in a.args[1:]:\n",
    "                if v != eps:\n",
    "                    for i in range(l):\n",
    "                        r = toD[v](r)\n",
    "            return r"
   ]
  },
  {
   "cell_type": "code",
   "execution_count": 11,
   "metadata": {
    "scrolled": true
   },
   "outputs": [
    {
     "data": {
      "image/png": "[encoded data removed]",
      "text/latex": [
       "$\\displaystyle 6 f u_{x} + f_{t} + f_{u_1u_1u_1} u_{xx}^{3} + 3 f_{u_1u_1u_2} u_{xxx} u_{xx}^{2} + 3 f_{u_1u_1u_3} u_{xxxx} u_{xx}^{2} + 3 f_{u_1u_1u_4} u_{xxxxx} u_{xx}^{2} + 3 f_{u_1u_1u_5} u_{xxxxxx} u_{xx}^{2} + 3 f_{u_1u_1x} u_{xx}^{2} + 3 f_{u_1u_1} u_{xxx} u_{xx} + 3 f_{u_1u_2u_2} u_{xxx}^{2} u_{xx} + 6 f_{u_1u_2u_3} u_{xxxx} u_{xxx} u_{xx} + 6 f_{u_1u_2u_4} u_{xxxxx} u_{xxx} u_{xx} + 6 f_{u_1u_2u_5} u_{xxxxxx} u_{xxx} u_{xx} + 6 f_{u_1u_2x} u_{xxx} u_{xx} + 3 f_{u_1u_2} u_{xxxx} u_{xx} + 3 f_{u_1u_2} u_{xxx}^{2} + 3 f_{u_1u_3u_3} u_{xxxx}^{2} u_{xx} + 6 f_{u_1u_3u_4} u_{xxxxx} u_{xxxx} u_{xx} + 6 f_{u_1u_3u_5} u_{xxxxxx} u_{xxxx} u_{xx} + 6 f_{u_1u_3x} u_{xxxx} u_{xx} + 3 f_{u_1u_3} u_{xxxxx} u_{xx} + 3 f_{u_1u_3} u_{xxxx} u_{xxx} + 3 f_{u_1u_4u_4} u_{xxxxx}^{2} u_{xx} + 6 f_{u_1u_4u_5} u_{xxxxxx} u_{xxxxx} u_{xx} + 6 f_{u_1u_4x} u_{xxxxx} u_{xx} + 3 f_{u_1u_4} u_{xxxxxx} u_{xx} + 3 f_{u_1u_4} u_{xxxxx} u_{xxx} + 3 f_{u_1u_5u_5} u_{xxxxxx}^{2} u_{xx} + 6 f_{u_1u_5x} u_{xxxxxx} u_{xx} + 3 f_{u_1u_5} u_{xxxxxxx} u_{xx} + 3 f_{u_1u_5} u_{xxxxxx} u_{xxx} + 3 f_{u_1xx} u_{xx} + 3 f_{u_1x} u_{xxx} - 6 f_{u_1} u_{x}^{2} + f_{u_2u_2u_2} u_{xxx}^{3} + 3 f_{u_2u_2u_3} u_{xxxx} u_{xxx}^{2} + 3 f_{u_2u_2u_4} u_{xxxxx} u_{xxx}^{2} + 3 f_{u_2u_2u_5} u_{xxxxxx} u_{xxx}^{2} + 3 f_{u_2u_2x} u_{xxx}^{2} + 3 f_{u_2u_2} u_{xxxx} u_{xxx} + 3 f_{u_2u_3u_3} u_{xxxx}^{2} u_{xxx} + 6 f_{u_2u_3u_4} u_{xxxxx} u_{xxxx} u_{xxx} + 6 f_{u_2u_3u_5} u_{xxxxxx} u_{xxxx} u_{xxx} + 6 f_{u_2u_3x} u_{xxxx} u_{xxx} + 3 f_{u_2u_3} u_{xxxxx} u_{xxx} + 3 f_{u_2u_3} u_{xxxx}^{2} + 3 f_{u_2u_4u_4} u_{xxxxx}^{2} u_{xxx} + 6 f_{u_2u_4u_5} u_{xxxxxx} u_{xxxxx} u_{xxx} + 6 f_{u_2u_4x} u_{xxxxx} u_{xxx} + 3 f_{u_2u_4} u_{xxxxxx} u_{xxx} + 3 f_{u_2u_4} u_{xxxxx} u_{xxxx} + 3 f_{u_2u_5u_5} u_{xxxxxx}^{2} u_{xxx} + 6 f_{u_2u_5x} u_{xxxxxx} u_{xxx} + 3 f_{u_2u_5} u_{xxxxxxx} u_{xxx} + 3 f_{u_2u_5} u_{xxxxxx} u_{xxxx} + 3 f_{u_2xx} u_{xxx} + 3 f_{u_2x} u_{xxxx} - 18 f_{u_2} u_{xx} u_{x} + f_{u_3u_3u_3} u_{xxxx}^{3} + 3 f_{u_3u_3u_4} u_{xxxxx} u_{xxxx}^{2} + 3 f_{u_3u_3u_5} u_{xxxxxx} u_{xxxx}^{2} + 3 f_{u_3u_3x} u_{xxxx}^{2} + 3 f_{u_3u_3} u_{xxxxx} u_{xxxx} + 3 f_{u_3u_4u_4} u_{xxxxx}^{2} u_{xxxx} + 6 f_{u_3u_4u_5} u_{xxxxxx} u_{xxxxx} u_{xxxx} + 6 f_{u_3u_4x} u_{xxxxx} u_{xxxx} + 3 f_{u_3u_4} u_{xxxxxx} u_{xxxx} + 3 f_{u_3u_4} u_{xxxxx}^{2} + 3 f_{u_3u_5u_5} u_{xxxxxx}^{2} u_{xxxx} + 6 f_{u_3u_5x} u_{xxxxxx} u_{xxxx} + 3 f_{u_3u_5} u_{xxxxxxx} u_{xxxx} + 3 f_{u_3u_5} u_{xxxxxx} u_{xxxxx} + 3 f_{u_3xx} u_{xxxx} + 3 f_{u_3x} u_{xxxxx} - 24 f_{u_3} u_{xxx} u_{x} - 18 f_{u_3} u_{xx}^{2} + f_{u_4u_4u_4} u_{xxxxx}^{3} + 3 f_{u_4u_4u_5} u_{xxxxxx} u_{xxxxx}^{2} + 3 f_{u_4u_4x} u_{xxxxx}^{2} + 3 f_{u_4u_4} u_{xxxxxx} u_{xxxxx} + 3 f_{u_4u_5u_5} u_{xxxxxx}^{2} u_{xxxxx} + 6 f_{u_4u_5x} u_{xxxxxx} u_{xxxxx} + 3 f_{u_4u_5} u_{xxxxxxx} u_{xxxxx} + 3 f_{u_4u_5} u_{xxxxxx}^{2} + 3 f_{u_4xx} u_{xxxxx} + 3 f_{u_4x} u_{xxxxxx} - 30 f_{u_4} u_{xxxx} u_{x} - 60 f_{u_4} u_{xxx} u_{xx} + f_{u_5u_5u_5} u_{xxxxxx}^{3} + 3 f_{u_5u_5x} u_{xxxxxx}^{2} + 3 f_{u_5u_5} u_{xxxxxxx} u_{xxxxxx} + 3 f_{u_5xx} u_{xxxxxx} + 3 f_{u_5x} u_{xxxxxxx} - 36 f_{u_5} u_{xxxxx} u_{x} - 90 f_{u_5} u_{xxxx} u_{xx} - 60 f_{u_5} u_{xxx}^{2} + 3 f_{uu_1u_1} u_{xx}^{2} u_{x} + 6 f_{uu_1u_2} u_{xxx} u_{xx} u_{x} + 6 f_{uu_1u_3} u_{xxxx} u_{xx} u_{x} + 6 f_{uu_1u_4} u_{xxxxx} u_{xx} u_{x} + 6 f_{uu_1u_5} u_{xxxxxx} u_{xx} u_{x} + 6 f_{uu_1x} u_{xx} u_{x} + 3 f_{uu_1} u_{xxx} u_{x} + 3 f_{uu_1} u_{xx}^{2} + 3 f_{uu_2u_2} u_{xxx}^{2} u_{x} + 6 f_{uu_2u_3} u_{xxxx} u_{xxx} u_{x} + 6 f_{uu_2u_4} u_{xxxxx} u_{xxx} u_{x} + 6 f_{uu_2u_5} u_{xxxxxx} u_{xxx} u_{x} + 6 f_{uu_2x} u_{xxx} u_{x} + 3 f_{uu_2} u_{xxxx} u_{x} + 3 f_{uu_2} u_{xxx} u_{xx} + 3 f_{uu_3u_3} u_{xxxx}^{2} u_{x} + 6 f_{uu_3u_4} u_{xxxxx} u_{xxxx} u_{x} + 6 f_{uu_3u_5} u_{xxxxxx} u_{xxxx} u_{x} + 6 f_{uu_3x} u_{xxxx} u_{x} + 3 f_{uu_3} u_{xxxxx} u_{x} + 3 f_{uu_3} u_{xxxx} u_{xx} + 3 f_{uu_4u_4} u_{xxxxx}^{2} u_{x} + 6 f_{uu_4u_5} u_{xxxxxx} u_{xxxxx} u_{x} + 6 f_{uu_4x} u_{xxxxx} u_{x} + 3 f_{uu_4} u_{xxxxxx} u_{x} + 3 f_{uu_4} u_{xxxxx} u_{xx} + 3 f_{uu_5u_5} u_{xxxxxx}^{2} u_{x} + 6 f_{uu_5x} u_{xxxxxx} u_{x} + 3 f_{uu_5} u_{xxxxxxx} u_{x} + 3 f_{uu_5} u_{xxxxxx} u_{xx} + 3 f_{uuu_1} u_{xx} u_{x}^{2} + 3 f_{uuu_2} u_{xxx} u_{x}^{2} + 3 f_{uuu_3} u_{xxxx} u_{x}^{2} + 3 f_{uuu_4} u_{xxxxx} u_{x}^{2} + 3 f_{uuu_5} u_{xxxxxx} u_{x}^{2} + f_{uuu} u_{x}^{3} + 3 f_{uux} u_{x}^{2} + 3 f_{uu} u_{xx} u_{x} + 3 f_{uxx} u_{x} + 3 f_{ux} u_{xx} + f_{xxx} + 6 f_{x} u$"
      ],
      "text/plain": [
       "                                        3                                 2                \n",
       "6⋅f⋅u_{x} + f_{t} + f_{u_1u_1u_1}⋅u_{xx}  + 3⋅f_{u_1u_1u_2}⋅u_{xxx}⋅u_{xx}  + 3⋅f_{u_1u_1u_\n",
       "\n",
       "                  2                                   2                                    \n",
       "3}⋅u_{xxxx}⋅u_{xx}  + 3⋅f_{u_1u_1u_4}⋅u_{xxxxx}⋅u_{xx}  + 3⋅f_{u_1u_1u_5}⋅u_{xxxxxx}⋅u_{xx}\n",
       "\n",
       "2                       2                                                        2         \n",
       "  + 3⋅f_{u_1u_1x}⋅u_{xx}  + 3⋅f_{u_1u_1}⋅u_{xxx}⋅u_{xx} + 3⋅f_{u_1u_2u_2}⋅u_{xxx} ⋅u_{xx} +\n",
       "\n",
       "                                                                                           \n",
       " 6⋅f_{u_1u_2u_3}⋅u_{xxxx}⋅u_{xxx}⋅u_{xx} + 6⋅f_{u_1u_2u_4}⋅u_{xxxxx}⋅u_{xxx}⋅u_{xx} + 6⋅f_{\n",
       "\n",
       "                                                                                           \n",
       "u_1u_2u_5}⋅u_{xxxxxx}⋅u_{xxx}⋅u_{xx} + 6⋅f_{u_1u_2x}⋅u_{xxx}⋅u_{xx} + 3⋅f_{u_1u_2}⋅u_{xxxx}\n",
       "\n",
       "                              2                           2                                \n",
       "⋅u_{xx} + 3⋅f_{u_1u_2}⋅u_{xxx}  + 3⋅f_{u_1u_3u_3}⋅u_{xxxx} ⋅u_{xx} + 6⋅f_{u_1u_3u_4}⋅u_{xxx\n",
       "\n",
       "                                                                                           \n",
       "xx}⋅u_{xxxx}⋅u_{xx} + 6⋅f_{u_1u_3u_5}⋅u_{xxxxxx}⋅u_{xxxx}⋅u_{xx} + 6⋅f_{u_1u_3x}⋅u_{xxxx}⋅u\n",
       "\n",
       "                                                                                           \n",
       "_{xx} + 3⋅f_{u_1u_3}⋅u_{xxxxx}⋅u_{xx} + 3⋅f_{u_1u_3}⋅u_{xxxx}⋅u_{xxx} + 3⋅f_{u_1u_4u_4}⋅u_{\n",
       "\n",
       "      2                                                                                    \n",
       "xxxxx} ⋅u_{xx} + 6⋅f_{u_1u_4u_5}⋅u_{xxxxxx}⋅u_{xxxxx}⋅u_{xx} + 6⋅f_{u_1u_4x}⋅u_{xxxxx}⋅u_{x\n",
       "\n",
       "                                                                                           \n",
       "x} + 3⋅f_{u_1u_4}⋅u_{xxxxxx}⋅u_{xx} + 3⋅f_{u_1u_4}⋅u_{xxxxx}⋅u_{xxx} + 3⋅f_{u_1u_5u_5}⋅u_{x\n",
       "\n",
       "      2                                                                                    \n",
       "xxxxx} ⋅u_{xx} + 6⋅f_{u_1u_5x}⋅u_{xxxxxx}⋅u_{xx} + 3⋅f_{u_1u_5}⋅u_{xxxxxxx}⋅u_{xx} + 3⋅f_{u\n",
       "\n",
       "                                                                                     2     \n",
       "_1u_5}⋅u_{xxxxxx}⋅u_{xxx} + 3⋅f_{u_1xx}⋅u_{xx} + 3⋅f_{u_1x}⋅u_{xxx} - 6⋅f_{u_1}⋅u_{x}  + f_\n",
       "\n",
       "                   3                                   2                                   \n",
       "{u_2u_2u_2}⋅u_{xxx}  + 3⋅f_{u_2u_2u_3}⋅u_{xxxx}⋅u_{xxx}  + 3⋅f_{u_2u_2u_4}⋅u_{xxxxx}⋅u_{xxx\n",
       "\n",
       " 2                                     2                        2                          \n",
       "}  + 3⋅f_{u_2u_2u_5}⋅u_{xxxxxx}⋅u_{xxx}  + 3⋅f_{u_2u_2x}⋅u_{xxx}  + 3⋅f_{u_2u_2}⋅u_{xxxx}⋅u\n",
       "\n",
       "                                 2                                                         \n",
       "_{xxx} + 3⋅f_{u_2u_3u_3}⋅u_{xxxx} ⋅u_{xxx} + 6⋅f_{u_2u_3u_4}⋅u_{xxxxx}⋅u_{xxxx}⋅u_{xxx} + 6\n",
       "\n",
       "                                                                                           \n",
       "⋅f_{u_2u_3u_5}⋅u_{xxxxxx}⋅u_{xxxx}⋅u_{xxx} + 6⋅f_{u_2u_3x}⋅u_{xxxx}⋅u_{xxx} + 3⋅f_{u_2u_3}⋅\n",
       "\n",
       "                                         2                            2                    \n",
       "u_{xxxxx}⋅u_{xxx} + 3⋅f_{u_2u_3}⋅u_{xxxx}  + 3⋅f_{u_2u_4u_4}⋅u_{xxxxx} ⋅u_{xxx} + 6⋅f_{u_2u\n",
       "\n",
       "                                                                                           \n",
       "_4u_5}⋅u_{xxxxxx}⋅u_{xxxxx}⋅u_{xxx} + 6⋅f_{u_2u_4x}⋅u_{xxxxx}⋅u_{xxx} + 3⋅f_{u_2u_4}⋅u_{xxx\n",
       "\n",
       "                                                                           2               \n",
       "xxx}⋅u_{xxx} + 3⋅f_{u_2u_4}⋅u_{xxxxx}⋅u_{xxxx} + 3⋅f_{u_2u_5u_5}⋅u_{xxxxxx} ⋅u_{xxx} + 6⋅f_\n",
       "\n",
       "                                                                                           \n",
       "{u_2u_5x}⋅u_{xxxxxx}⋅u_{xxx} + 3⋅f_{u_2u_5}⋅u_{xxxxxxx}⋅u_{xxx} + 3⋅f_{u_2u_5}⋅u_{xxxxxx}⋅u\n",
       "\n",
       "                                                                                           \n",
       "_{xxxx} + 3⋅f_{u_2xx}⋅u_{xxx} + 3⋅f_{u_2x}⋅u_{xxxx} - 18⋅f_{u_2}⋅u_{xx}⋅u_{x} + f_{u_3u_3u_\n",
       "\n",
       "           3                                     2                                      2  \n",
       "3}⋅u_{xxxx}  + 3⋅f_{u_3u_3u_4}⋅u_{xxxxx}⋅u_{xxxx}  + 3⋅f_{u_3u_3u_5}⋅u_{xxxxxx}⋅u_{xxxx}  +\n",
       "\n",
       "                       2                                                              2    \n",
       " 3⋅f_{u_3u_3x}⋅u_{xxxx}  + 3⋅f_{u_3u_3}⋅u_{xxxxx}⋅u_{xxxx} + 3⋅f_{u_3u_4u_4}⋅u_{xxxxx} ⋅u_{\n",
       "\n",
       "                                                                                           \n",
       "xxxx} + 6⋅f_{u_3u_4u_5}⋅u_{xxxxxx}⋅u_{xxxxx}⋅u_{xxxx} + 6⋅f_{u_3u_4x}⋅u_{xxxxx}⋅u_{xxxx} + \n",
       "\n",
       "                                                         2                             2   \n",
       "3⋅f_{u_3u_4}⋅u_{xxxxxx}⋅u_{xxxx} + 3⋅f_{u_3u_4}⋅u_{xxxxx}  + 3⋅f_{u_3u_5u_5}⋅u_{xxxxxx} ⋅u_\n",
       "\n",
       "                                                                                           \n",
       "{xxxx} + 6⋅f_{u_3u_5x}⋅u_{xxxxxx}⋅u_{xxxx} + 3⋅f_{u_3u_5}⋅u_{xxxxxxx}⋅u_{xxxx} + 3⋅f_{u_3u_\n",
       "\n",
       "                                                                                           \n",
       "5}⋅u_{xxxxxx}⋅u_{xxxxx} + 3⋅f_{u_3xx}⋅u_{xxxx} + 3⋅f_{u_3x}⋅u_{xxxxx} - 24⋅f_{u_3}⋅u_{xxx}⋅\n",
       "\n",
       "                         2                          3                                      \n",
       "u_{x} - 18⋅f_{u_3}⋅u_{xx}  + f_{u_4u_4u_4}⋅u_{xxxxx}  + 3⋅f_{u_4u_4u_5}⋅u_{xxxxxx}⋅u_{xxxxx\n",
       "\n",
       " 2                          2                                                              \n",
       "}  + 3⋅f_{u_4u_4x}⋅u_{xxxxx}  + 3⋅f_{u_4u_4}⋅u_{xxxxxx}⋅u_{xxxxx} + 3⋅f_{u_4u_5u_5}⋅u_{xxxx\n",
       "\n",
       "   2                                                                                       \n",
       "xx} ⋅u_{xxxxx} + 6⋅f_{u_4u_5x}⋅u_{xxxxxx}⋅u_{xxxxx} + 3⋅f_{u_4u_5}⋅u_{xxxxxxx}⋅u_{xxxxx} + \n",
       "\n",
       "                       2                                                                   \n",
       "3⋅f_{u_4u_5}⋅u_{xxxxxx}  + 3⋅f_{u_4xx}⋅u_{xxxxx} + 3⋅f_{u_4x}⋅u_{xxxxxx} - 30⋅f_{u_4}⋅u_{xx\n",
       "\n",
       "                                                                3                          \n",
       "xx}⋅u_{x} - 60⋅f_{u_4}⋅u_{xxx}⋅u_{xx} + f_{u_5u_5u_5}⋅u_{xxxxxx}  + 3⋅f_{u_5u_5x}⋅u_{xxxxxx\n",
       "\n",
       " 2                                                                                         \n",
       "}  + 3⋅f_{u_5u_5}⋅u_{xxxxxxx}⋅u_{xxxxxx} + 3⋅f_{u_5xx}⋅u_{xxxxxx} + 3⋅f_{u_5x}⋅u_{xxxxxxx} \n",
       "\n",
       "                                                                              2            \n",
       "- 36⋅f_{u_5}⋅u_{xxxxx}⋅u_{x} - 90⋅f_{u_5}⋅u_{xxxx}⋅u_{xx} - 60⋅f_{u_5}⋅u_{xxx}  + 3⋅f_{uu_1\n",
       "\n",
       "           2                                                                               \n",
       "u_1}⋅u_{xx} ⋅u_{x} + 6⋅f_{uu_1u_2}⋅u_{xxx}⋅u_{xx}⋅u_{x} + 6⋅f_{uu_1u_3}⋅u_{xxxx}⋅u_{xx}⋅u_{\n",
       "\n",
       "                                                                                           \n",
       "x} + 6⋅f_{uu_1u_4}⋅u_{xxxxx}⋅u_{xx}⋅u_{x} + 6⋅f_{uu_1u_5}⋅u_{xxxxxx}⋅u_{xx}⋅u_{x} + 6⋅f_{uu\n",
       "\n",
       "                                                                2                        2 \n",
       "_1x}⋅u_{xx}⋅u_{x} + 3⋅f_{uu_1}⋅u_{xxx}⋅u_{x} + 3⋅f_{uu_1}⋅u_{xx}  + 3⋅f_{uu_2u_2}⋅u_{xxx} ⋅\n",
       "\n",
       "                                                                                           \n",
       "u_{x} + 6⋅f_{uu_2u_3}⋅u_{xxxx}⋅u_{xxx}⋅u_{x} + 6⋅f_{uu_2u_4}⋅u_{xxxxx}⋅u_{xxx}⋅u_{x} + 6⋅f_\n",
       "\n",
       "                                                                                           \n",
       "{uu_2u_5}⋅u_{xxxxxx}⋅u_{xxx}⋅u_{x} + 6⋅f_{uu_2x}⋅u_{xxx}⋅u_{x} + 3⋅f_{uu_2}⋅u_{xxxx}⋅u_{x} \n",
       "\n",
       "                                                    2                                      \n",
       "+ 3⋅f_{uu_2}⋅u_{xxx}⋅u_{xx} + 3⋅f_{uu_3u_3}⋅u_{xxxx} ⋅u_{x} + 6⋅f_{uu_3u_4}⋅u_{xxxxx}⋅u_{xx\n",
       "\n",
       "                                                                                           \n",
       "xx}⋅u_{x} + 6⋅f_{uu_3u_5}⋅u_{xxxxxx}⋅u_{xxxx}⋅u_{x} + 6⋅f_{uu_3x}⋅u_{xxxx}⋅u_{x} + 3⋅f_{uu_\n",
       "\n",
       "                                                                         2                 \n",
       "3}⋅u_{xxxxx}⋅u_{x} + 3⋅f_{uu_3}⋅u_{xxxx}⋅u_{xx} + 3⋅f_{uu_4u_4}⋅u_{xxxxx} ⋅u_{x} + 6⋅f_{uu_\n",
       "\n",
       "                                                                                           \n",
       "4u_5}⋅u_{xxxxxx}⋅u_{xxxxx}⋅u_{x} + 6⋅f_{uu_4x}⋅u_{xxxxx}⋅u_{x} + 3⋅f_{uu_4}⋅u_{xxxxxx}⋅u_{x\n",
       "\n",
       "                                                          2                                \n",
       "} + 3⋅f_{uu_4}⋅u_{xxxxx}⋅u_{xx} + 3⋅f_{uu_5u_5}⋅u_{xxxxxx} ⋅u_{x} + 6⋅f_{uu_5x}⋅u_{xxxxxx}⋅\n",
       "\n",
       "                                                                                           \n",
       "u_{x} + 3⋅f_{uu_5}⋅u_{xxxxxxx}⋅u_{x} + 3⋅f_{uu_5}⋅u_{xxxxxx}⋅u_{xx} + 3⋅f_{uuu_1}⋅u_{xx}⋅u_\n",
       "\n",
       "   2                            2                             2                            \n",
       "{x}  + 3⋅f_{uuu_2}⋅u_{xxx}⋅u_{x}  + 3⋅f_{uuu_3}⋅u_{xxxx}⋅u_{x}  + 3⋅f_{uuu_4}⋅u_{xxxxx}⋅u_{\n",
       "\n",
       "  2                               2                3                  2                    \n",
       "x}  + 3⋅f_{uuu_5}⋅u_{xxxxxx}⋅u_{x}  + f_{uuu}⋅u_{x}  + 3⋅f_{uux}⋅u_{x}  + 3⋅f_{uu}⋅u_{xx}⋅u\n",
       "\n",
       "                                                              \n",
       "_{x} + 3⋅f_{uxx}⋅u_{x} + 3⋅f_{ux}⋅u_{xx} + f_{xxx} + 6⋅f_{x}⋅u"
      ]
     },
     "execution_count": 11,
     "metadata": {},
     "output_type": "execute_result"
    }
   ],
   "source": [
    "eq2 = totalD(eq1.diff(eps)).expand()\n",
    "compact(eq2)"
   ]
  },
  {
   "cell_type": "code",
   "execution_count": 12,
   "metadata": {},
   "outputs": [
    {
     "data": {
      "image/png": "[encoded data removed]",
      "text/latex": [
       "$\\displaystyle \\left\\{\\frac{\\partial^{6}}{\\partial x^{6}} u{\\left(ε,t,x \\right)}, \\frac{\\partial^{7}}{\\partial x^{7}} u{\\left(ε,t,x \\right)}\\right\\}$"
      ],
      "text/plain": [
       "⎧  6                7            ⎫\n",
       "⎪ ∂                ∂             ⎪\n",
       "⎨───(u(ε, t, x)), ───(u(ε, t, x))⎬\n",
       "⎪  6                7            ⎪\n",
       "⎩∂x               ∂x             ⎭"
      ]
     },
     "execution_count": 12,
     "metadata": {},
     "output_type": "execute_result"
    }
   ],
   "source": [
    "toU = dict((U.diff(x, k), f) for k, f in enumerate([u, u1, u2, u3, u4, u5]))\n",
    "DF = set()\n",
    "def lstD(a):\n",
    "    if not a.args:\n",
    "        return a\n",
    "    else:\n",
    "        if a.func != sympy.Derivative:\n",
    "            return a.func(*(lstD(s) for s in a.args))\n",
    "        elif a.args[0] != U:\n",
    "            return a\n",
    "        elif a in toU:\n",
    "            return toU[a]\n",
    "        else:\n",
    "            DF.add(a)\n",
    "            return a\n",
    "eq4 = lstD(eq2).expand()\n",
    "DF"
   ]
  },
  {
   "cell_type": "code",
   "execution_count": 13,
   "metadata": {},
   "outputs": [
    {
     "data": {
      "image/png": "[encoded data removed]",
      "text/latex": [
       "$\\displaystyle \\left[ u_{xxxxxx}, \\  u_{xxxxxxx}\\right]$"
      ],
      "text/plain": [
       "[u_{xxxxxx}, u_{xxxxxxx}]"
      ]
     },
     "execution_count": 13,
     "metadata": {},
     "output_type": "execute_result"
    }
   ],
   "source": [
    "[compact(df) for df in DF]"
   ]
  },
  {
   "cell_type": "code",
   "execution_count": 14,
   "metadata": {
    "scrolled": false
   },
   "outputs": [
    {
     "name": "stdout",
     "output_type": "stream",
     "text": [
      "6 f u_{1} + f_{t} + f_{u_1u_1u_1} u_{2}^{3} + 3 f_{u_1u_1u_2} u_{2}^{2} u_{3} + 3 f_{u_1u_1u_3} u_{2}^{2} u_{4} + 3 f_{u_1u_1u_4} u_{2}^{2} u_{5} + 3 f_{u_1u_1x} u_{2}^{2} + 3 f_{u_1u_1} u_{2} u_{3} + 3 f_{u_1u_2u_2} u_{2} u_{3}^{2} + 6 f_{u_1u_2u_3} u_{2} u_{3} u_{4} + 6 f_{u_1u_2u_4} u_{2} u_{3} u_{5} + 6 f_{u_1u_2x} u_{2} u_{3} + 3 f_{u_1u_2} u_{2} u_{4} + 3 f_{u_1u_2} u_{3}^{2} + 3 f_{u_1u_3u_3} u_{2} u_{4}^{2} + 6 f_{u_1u_3u_4} u_{2} u_{4} u_{5} + 6 f_{u_1u_3x} u_{2} u_{4} + 3 f_{u_1u_3} u_{2} u_{5} + 3 f_{u_1u_3} u_{3} u_{4} + 3 f_{u_1u_4u_4} u_{2} u_{5}^{2} + 6 f_{u_1u_4x} u_{2} u_{5} + 3 f_{u_1u_4} u_{3} u_{5} + 3 f_{u_1xx} u_{2} + 3 f_{u_1x} u_{3} - 6 f_{u_1} u_{1}^{2} + f_{u_2u_2u_2} u_{3}^{3} + 3 f_{u_2u_2u_3} u_{3}^{2} u_{4} + 3 f_{u_2u_2u_4} u_{3}^{2} u_{5} + 3 f_{u_2u_2x} u_{3}^{2} + 3 f_{u_2u_2} u_{3} u_{4} + 3 f_{u_2u_3u_3} u_{3} u_{4}^{2} + 6 f_{u_2u_3u_4} u_{3} u_{4} u_{5} + 6 f_{u_2u_3x} u_{3} u_{4} + 3 f_{u_2u_3} u_{3} u_{5} + 3 f_{u_2u_3} u_{4}^{2} + 3 f_{u_2u_4u_4} u_{3} u_{5}^{2} + 6 f_{u_2u_4x} u_{3} u_{5} + 3 f_{u_2u_4} u_{4} u_{5} + 3 f_{u_2xx} u_{3} + 3 f_{u_2x} u_{4} - 18 f_{u_2} u_{1} u_{2} + f_{u_3u_3u_3} u_{4}^{3} + 3 f_{u_3u_3u_4} u_{4}^{2} u_{5} + 3 f_{u_3u_3x} u_{4}^{2} + 3 f_{u_3u_3} u_{4} u_{5} + 3 f_{u_3u_4u_4} u_{4} u_{5}^{2} + 6 f_{u_3u_4x} u_{4} u_{5} + 3 f_{u_3u_4} u_{5}^{2} + 3 f_{u_3xx} u_{4} + 3 f_{u_3x} u_{5} - 24 f_{u_3} u_{1} u_{3} - 18 f_{u_3} u_{2}^{2} + f_{u_4u_4u_4} u_{5}^{3} + 3 f_{u_4u_4x} u_{5}^{2} + 3 f_{u_4xx} u_{5} - 30 f_{u_4} u_{1} u_{4} - 60 f_{u_4} u_{2} u_{3} - 36 f_{u_5} u_{1} u_{5} - 90 f_{u_5} u_{2} u_{4} - 60 f_{u_5} u_{3}^{2} + 3 f_{uu_1u_1} u_{1} u_{2}^{2} + 6 f_{uu_1u_2} u_{1} u_{2} u_{3} + 6 f_{uu_1u_3} u_{1} u_{2} u_{4} + 6 f_{uu_1u_4} u_{1} u_{2} u_{5} + 6 f_{uu_1x} u_{1} u_{2} + 3 f_{uu_1} u_{1} u_{3} + 3 f_{uu_1} u_{2}^{2} + 3 f_{uu_2u_2} u_{1} u_{3}^{2} + 6 f_{uu_2u_3} u_{1} u_{3} u_{4} + 6 f_{uu_2u_4} u_{1} u_{3} u_{5} + 6 f_{uu_2x} u_{1} u_{3} + 3 f_{uu_2} u_{1} u_{4} + 3 f_{uu_2} u_{2} u_{3} + 3 f_{uu_3u_3} u_{1} u_{4}^{2} + 6 f_{uu_3u_4} u_{1} u_{4} u_{5} + 6 f_{uu_3x} u_{1} u_{4} + 3 f_{uu_3} u_{1} u_{5} + 3 f_{uu_3} u_{2} u_{4} + 3 f_{uu_4u_4} u_{1} u_{5}^{2} + 6 f_{uu_4x} u_{1} u_{5} + 3 f_{uu_4} u_{2} u_{5} + 3 f_{uuu_1} u_{1}^{2} u_{2} + 3 f_{uuu_2} u_{1}^{2} u_{3} + 3 f_{uuu_3} u_{1}^{2} u_{4} + 3 f_{uuu_4} u_{1}^{2} u_{5} + f_{uuu} u_{1}^{3} + 3 f_{uux} u_{1}^{2} + 3 f_{uu} u_{1} u_{2} + 3 f_{uxx} u_{1} + 3 f_{ux} u_{2} + f_{xxx} + 6 f_{x} u = 0, \\\\\n",
      "92\n",
      "3 f_{u_1u_5} u_{2} + 3 f_{u_2u_5} u_{3} + 3 f_{u_3u_5} u_{4} + 3 f_{u_4u_5} u_{5} + 3 f_{u_5x} + 3 f_{uu_5} u_{1} = 0, \\\\\n",
      "6\n",
      "3 f_{u_1u_1u_5} u_{2}^{2} + 6 f_{u_1u_2u_5} u_{2} u_{3} + 6 f_{u_1u_3u_5} u_{2} u_{4} + 6 f_{u_1u_4u_5} u_{2} u_{5} + 3 f_{u_1u_4} u_{2} + 6 f_{u_1u_5x} u_{2} + 3 f_{u_1u_5} u_{3} + 3 f_{u_2u_2u_5} u_{3}^{2} + 6 f_{u_2u_3u_5} u_{3} u_{4} + 6 f_{u_2u_4u_5} u_{3} u_{5} + 3 f_{u_2u_4} u_{3} + 6 f_{u_2u_5x} u_{3} + 3 f_{u_2u_5} u_{4} + 3 f_{u_3u_3u_5} u_{4}^{2} + 6 f_{u_3u_4u_5} u_{4} u_{5} + 3 f_{u_3u_4} u_{4} + 6 f_{u_3u_5x} u_{4} + 3 f_{u_3u_5} u_{5} + 3 f_{u_4u_4u_5} u_{5}^{2} + 3 f_{u_4u_4} u_{5} + 6 f_{u_4u_5x} u_{5} + 3 f_{u_4x} + 3 f_{u_5xx} + 6 f_{uu_1u_5} u_{1} u_{2} + 6 f_{uu_2u_5} u_{1} u_{3} + 6 f_{uu_3u_5} u_{1} u_{4} + 6 f_{uu_4u_5} u_{1} u_{5} + 3 f_{uu_4} u_{1} + 6 f_{uu_5x} u_{1} + 3 f_{uu_5} u_{2} + 3 f_{uuu_5} u_{1}^{2} = 0, \\\\\n",
      "31\n",
      "3 f_{u_5u_5} = 0, \\\\\n",
      "2\n",
      "3 f_{u_1u_5u_5} u_{2} + 3 f_{u_2u_5u_5} u_{3} + 3 f_{u_3u_5u_5} u_{4} + 3 f_{u_4u_5u_5} u_{5} + 3 f_{u_4u_5} + 3 f_{u_5u_5x} + 3 f_{uu_5u_5} u_{1} = 0, \\\\\n",
      "7\n",
      "f_{u_5u_5u_5} = 0, \\\\\n",
      "2\n"
     ]
    },
    {
     "data": {
      "image/png": "[encoded data removed]",
      "text/latex": [
       "$\\displaystyle \\left[ 6 f u_{1} + f_{t} + f_{u_1u_1u_1} u_{2}^{3} + 3 f_{u_1u_1u_2} u_{2}^{2} u_{3} + 3 f_{u_1u_1u_3} u_{2}^{2} u_{4} + 3 f_{u_1u_1u_4} u_{2}^{2} u_{5} + 3 f_{u_1u_1x} u_{2}^{2} + 3 f_{u_1u_1} u_{2} u_{3} + 3 f_{u_1u_2u_2} u_{2} u_{3}^{2} + 6 f_{u_1u_2u_3} u_{2} u_{3} u_{4} + 6 f_{u_1u_2u_4} u_{2} u_{3} u_{5} + 6 f_{u_1u_2x} u_{2} u_{3} + 3 f_{u_1u_2} u_{2} u_{4} + 3 f_{u_1u_2} u_{3}^{2} + 3 f_{u_1u_3u_3} u_{2} u_{4}^{2} + 6 f_{u_1u_3u_4} u_{2} u_{4} u_{5} + 6 f_{u_1u_3x} u_{2} u_{4} + 3 f_{u_1u_3} u_{2} u_{5} + 3 f_{u_1u_3} u_{3} u_{4} + 3 f_{u_1u_4u_4} u_{2} u_{5}^{2} + 6 f_{u_1u_4x} u_{2} u_{5} + 3 f_{u_1u_4} u_{3} u_{5} + 3 f_{u_1xx} u_{2} + 3 f_{u_1x} u_{3} - 6 f_{u_1} u_{1}^{2} + f_{u_2u_2u_2} u_{3}^{3} + 3 f_{u_2u_2u_3} u_{3}^{2} u_{4} + 3 f_{u_2u_2u_4} u_{3}^{2} u_{5} + 3 f_{u_2u_2x} u_{3}^{2} + 3 f_{u_2u_2} u_{3} u_{4} + 3 f_{u_2u_3u_3} u_{3} u_{4}^{2} + 6 f_{u_2u_3u_4} u_{3} u_{4} u_{5} + 6 f_{u_2u_3x} u_{3} u_{4} + 3 f_{u_2u_3} u_{3} u_{5} + 3 f_{u_2u_3} u_{4}^{2} + 3 f_{u_2u_4u_4} u_{3} u_{5}^{2} + 6 f_{u_2u_4x} u_{3} u_{5} + 3 f_{u_2u_4} u_{4} u_{5} + 3 f_{u_2xx} u_{3} + 3 f_{u_2x} u_{4} - 18 f_{u_2} u_{1} u_{2} + f_{u_3u_3u_3} u_{4}^{3} + 3 f_{u_3u_3u_4} u_{4}^{2} u_{5} + 3 f_{u_3u_3x} u_{4}^{2} + 3 f_{u_3u_3} u_{4} u_{5} + 3 f_{u_3u_4u_4} u_{4} u_{5}^{2} + 6 f_{u_3u_4x} u_{4} u_{5} + 3 f_{u_3u_4} u_{5}^{2} + 3 f_{u_3xx} u_{4} + 3 f_{u_3x} u_{5} - 24 f_{u_3} u_{1} u_{3} - 18 f_{u_3} u_{2}^{2} + f_{u_4u_4u_4} u_{5}^{3} + 3 f_{u_4u_4x} u_{5}^{2} + 3 f_{u_4xx} u_{5} - 30 f_{u_4} u_{1} u_{4} - 60 f_{u_4} u_{2} u_{3} - 36 f_{u_5} u_{1} u_{5} - 90 f_{u_5} u_{2} u_{4} - 60 f_{u_5} u_{3}^{2} + 3 f_{uu_1u_1} u_{1} u_{2}^{2} + 6 f_{uu_1u_2} u_{1} u_{2} u_{3} + 6 f_{uu_1u_3} u_{1} u_{2} u_{4} + 6 f_{uu_1u_4} u_{1} u_{2} u_{5} + 6 f_{uu_1x} u_{1} u_{2} + 3 f_{uu_1} u_{1} u_{3} + 3 f_{uu_1} u_{2}^{2} + 3 f_{uu_2u_2} u_{1} u_{3}^{2} + 6 f_{uu_2u_3} u_{1} u_{3} u_{4} + 6 f_{uu_2u_4} u_{1} u_{3} u_{5} + 6 f_{uu_2x} u_{1} u_{3} + 3 f_{uu_2} u_{1} u_{4} + 3 f_{uu_2} u_{2} u_{3} + 3 f_{uu_3u_3} u_{1} u_{4}^{2} + 6 f_{uu_3u_4} u_{1} u_{4} u_{5} + 6 f_{uu_3x} u_{1} u_{4} + 3 f_{uu_3} u_{1} u_{5} + 3 f_{uu_3} u_{2} u_{4} + 3 f_{uu_4u_4} u_{1} u_{5}^{2} + 6 f_{uu_4x} u_{1} u_{5} + 3 f_{uu_4} u_{2} u_{5} + 3 f_{uuu_1} u_{1}^{2} u_{2} + 3 f_{uuu_2} u_{1}^{2} u_{3} + 3 f_{uuu_3} u_{1}^{2} u_{4} + 3 f_{uuu_4} u_{1}^{2} u_{5} + f_{uuu} u_{1}^{3} + 3 f_{uux} u_{1}^{2} + 3 f_{uu} u_{1} u_{2} + 3 f_{uxx} u_{1} + 3 f_{ux} u_{2} + f_{xxx} + 6 f_{x} u, \\  3 f_{u_1u_5} u_{2} + 3 f_{u_2u_5} u_{3} + 3 f_{u_3u_5} u_{4} + 3 f_{u_4u_5} u_{5} + 3 f_{u_5x} + 3 f_{uu_5} u_{1}, \\  3 f_{u_1u_1u_5} u_{2}^{2} + 6 f_{u_1u_2u_5} u_{2} u_{3} + 6 f_{u_1u_3u_5} u_{2} u_{4} + 6 f_{u_1u_4u_5} u_{2} u_{5} + 3 f_{u_1u_4} u_{2} + 6 f_{u_1u_5x} u_{2} + 3 f_{u_1u_5} u_{3} + 3 f_{u_2u_2u_5} u_{3}^{2} + 6 f_{u_2u_3u_5} u_{3} u_{4} + 6 f_{u_2u_4u_5} u_{3} u_{5} + 3 f_{u_2u_4} u_{3} + 6 f_{u_2u_5x} u_{3} + 3 f_{u_2u_5} u_{4} + 3 f_{u_3u_3u_5} u_{4}^{2} + 6 f_{u_3u_4u_5} u_{4} u_{5} + 3 f_{u_3u_4} u_{4} + 6 f_{u_3u_5x} u_{4} + 3 f_{u_3u_5} u_{5} + 3 f_{u_4u_4u_5} u_{5}^{2} + 3 f_{u_4u_4} u_{5} + 6 f_{u_4u_5x} u_{5} + 3 f_{u_4x} + 3 f_{u_5xx} + 6 f_{uu_1u_5} u_{1} u_{2} + 6 f_{uu_2u_5} u_{1} u_{3} + 6 f_{uu_3u_5} u_{1} u_{4} + 6 f_{uu_4u_5} u_{1} u_{5} + 3 f_{uu_4} u_{1} + 6 f_{uu_5x} u_{1} + 3 f_{uu_5} u_{2} + 3 f_{uuu_5} u_{1}^{2}, \\  3 f_{u_5u_5}, \\  3 f_{u_1u_5u_5} u_{2} + 3 f_{u_2u_5u_5} u_{3} + 3 f_{u_3u_5u_5} u_{4} + 3 f_{u_4u_5u_5} u_{5} + 3 f_{u_4u_5} + 3 f_{u_5u_5x} + 3 f_{uu_5u_5} u_{1}, \\  f_{u_5u_5u_5}\\right]$"
      ],
      "text/plain": [
       "⎡                                 3                     2                        2         \n",
       "⎣6⋅f⋅u₁ + f_{t} + f_{u_1u_1u_1}⋅u₂  + 3⋅f_{u_1u_1u_2}⋅u₂ ⋅u₃ + 3⋅f_{u_1u_1u_3}⋅u₂ ⋅u₄ + 3⋅f\n",
       "\n",
       "               2                      2                                             2      \n",
       "_{u_1u_1u_4}⋅u₂ ⋅u₅ + 3⋅f_{u_1u_1x}⋅u₂  + 3⋅f_{u_1u_1}⋅u₂⋅u₃ + 3⋅f_{u_1u_2u_2}⋅u₂⋅u₃  + 6⋅f\n",
       "\n",
       "                                                                                           \n",
       "_{u_1u_2u_3}⋅u₂⋅u₃⋅u₄ + 6⋅f_{u_1u_2u_4}⋅u₂⋅u₃⋅u₅ + 6⋅f_{u_1u_2x}⋅u₂⋅u₃ + 3⋅f_{u_1u_2}⋅u₂⋅u₄\n",
       "\n",
       "                  2                        2                                               \n",
       " + 3⋅f_{u_1u_2}⋅u₃  + 3⋅f_{u_1u_3u_3}⋅u₂⋅u₄  + 6⋅f_{u_1u_3u_4}⋅u₂⋅u₄⋅u₅ + 6⋅f_{u_1u_3x}⋅u₂⋅\n",
       "\n",
       "                                                                    2                      \n",
       "u₄ + 3⋅f_{u_1u_3}⋅u₂⋅u₅ + 3⋅f_{u_1u_3}⋅u₃⋅u₄ + 3⋅f_{u_1u_4u_4}⋅u₂⋅u₅  + 6⋅f_{u_1u_4x}⋅u₂⋅u₅\n",
       "\n",
       "                                                                     2                   3 \n",
       " + 3⋅f_{u_1u_4}⋅u₃⋅u₅ + 3⋅f_{u_1xx}⋅u₂ + 3⋅f_{u_1x}⋅u₃ - 6⋅f_{u_1}⋅u₁  + f_{u_2u_2u_2}⋅u₃  \n",
       "\n",
       "                    2                        2                      2                      \n",
       "+ 3⋅f_{u_2u_2u_3}⋅u₃ ⋅u₄ + 3⋅f_{u_2u_2u_4}⋅u₃ ⋅u₅ + 3⋅f_{u_2u_2x}⋅u₃  + 3⋅f_{u_2u_2}⋅u₃⋅u₄ \n",
       "\n",
       "                       2                                                                   \n",
       "+ 3⋅f_{u_2u_3u_3}⋅u₃⋅u₄  + 6⋅f_{u_2u_3u_4}⋅u₃⋅u₄⋅u₅ + 6⋅f_{u_2u_3x}⋅u₃⋅u₄ + 3⋅f_{u_2u_3}⋅u₃\n",
       "\n",
       "                     2                        2                                            \n",
       "⋅u₅ + 3⋅f_{u_2u_3}⋅u₄  + 3⋅f_{u_2u_4u_4}⋅u₃⋅u₅  + 6⋅f_{u_2u_4x}⋅u₃⋅u₅ + 3⋅f_{u_2u_4}⋅u₄⋅u₅ \n",
       "\n",
       "                                                                      3                    \n",
       "+ 3⋅f_{u_2xx}⋅u₃ + 3⋅f_{u_2x}⋅u₄ - 18⋅f_{u_2}⋅u₁⋅u₂ + f_{u_3u_3u_3}⋅u₄  + 3⋅f_{u_3u_3u_4}⋅u\n",
       "\n",
       " 2                      2                                             2                    \n",
       "₄ ⋅u₅ + 3⋅f_{u_3u_3x}⋅u₄  + 3⋅f_{u_3u_3}⋅u₄⋅u₅ + 3⋅f_{u_3u_4u_4}⋅u₄⋅u₅  + 6⋅f_{u_3u_4x}⋅u₄⋅\n",
       "\n",
       "                    2                                                                    2 \n",
       "u₅ + 3⋅f_{u_3u_4}⋅u₅  + 3⋅f_{u_3xx}⋅u₄ + 3⋅f_{u_3x}⋅u₅ - 24⋅f_{u_3}⋅u₁⋅u₃ - 18⋅f_{u_3}⋅u₂  \n",
       "\n",
       "                  3                   2                                                    \n",
       "+ f_{u_4u_4u_4}⋅u₅  + 3⋅f_{u_4u_4x}⋅u₅  + 3⋅f_{u_4xx}⋅u₅ - 30⋅f_{u_4}⋅u₁⋅u₄ - 60⋅f_{u_4}⋅u₂\n",
       "\n",
       "                                                         2                      2          \n",
       "⋅u₃ - 36⋅f_{u_5}⋅u₁⋅u₅ - 90⋅f_{u_5}⋅u₂⋅u₄ - 60⋅f_{u_5}⋅u₃  + 3⋅f_{uu_1u_1}⋅u₁⋅u₂  + 6⋅f_{uu\n",
       "\n",
       "                                                                                           \n",
       "_1u_2}⋅u₁⋅u₂⋅u₃ + 6⋅f_{uu_1u_3}⋅u₁⋅u₂⋅u₄ + 6⋅f_{uu_1u_4}⋅u₁⋅u₂⋅u₅ + 6⋅f_{uu_1x}⋅u₁⋅u₂ + 3⋅f\n",
       "\n",
       "                             2                      2                                      \n",
       "_{uu_1}⋅u₁⋅u₃ + 3⋅f_{uu_1}⋅u₂  + 3⋅f_{uu_2u_2}⋅u₁⋅u₃  + 6⋅f_{uu_2u_3}⋅u₁⋅u₃⋅u₄ + 6⋅f_{uu_2u\n",
       "\n",
       "                                                                                           \n",
       "_4}⋅u₁⋅u₃⋅u₅ + 6⋅f_{uu_2x}⋅u₁⋅u₃ + 3⋅f_{uu_2}⋅u₁⋅u₄ + 3⋅f_{uu_2}⋅u₂⋅u₃ + 3⋅f_{uu_3u_3}⋅u₁⋅u\n",
       "\n",
       " 2                                                                                         \n",
       "₄  + 6⋅f_{uu_3u_4}⋅u₁⋅u₄⋅u₅ + 6⋅f_{uu_3x}⋅u₁⋅u₄ + 3⋅f_{uu_3}⋅u₁⋅u₅ + 3⋅f_{uu_3}⋅u₂⋅u₄ + 3⋅f\n",
       "\n",
       "                2                                                        2                 \n",
       "_{uu_4u_4}⋅u₁⋅u₅  + 6⋅f_{uu_4x}⋅u₁⋅u₅ + 3⋅f_{uu_4}⋅u₂⋅u₅ + 3⋅f_{uuu_1}⋅u₁ ⋅u₂ + 3⋅f_{uuu_2}\n",
       "\n",
       "   2                    2                    2                3               2            \n",
       "⋅u₁ ⋅u₃ + 3⋅f_{uuu_3}⋅u₁ ⋅u₄ + 3⋅f_{uuu_4}⋅u₁ ⋅u₅ + f_{uuu}⋅u₁  + 3⋅f_{uux}⋅u₁  + 3⋅f_{uu}⋅\n",
       "\n",
       "                                                                                           \n",
       "u₁⋅u₂ + 3⋅f_{uxx}⋅u₁ + 3⋅f_{ux}⋅u₂ + f_{xxx} + 6⋅f_{x}⋅u, 3⋅f_{u_1u_5}⋅u₂ + 3⋅f_{u_2u_5}⋅u₃\n",
       "\n",
       "                                                                                     2     \n",
       " + 3⋅f_{u_3u_5}⋅u₄ + 3⋅f_{u_4u_5}⋅u₅ + 3⋅f_{u_5x} + 3⋅f_{uu_5}⋅u₁, 3⋅f_{u_1u_1u_5}⋅u₂  + 6⋅\n",
       "\n",
       "                                                                                           \n",
       "f_{u_1u_2u_5}⋅u₂⋅u₃ + 6⋅f_{u_1u_3u_5}⋅u₂⋅u₄ + 6⋅f_{u_1u_4u_5}⋅u₂⋅u₅ + 3⋅f_{u_1u_4}⋅u₂ + 6⋅f\n",
       "\n",
       "                                                    2                                      \n",
       "_{u_1u_5x}⋅u₂ + 3⋅f_{u_1u_5}⋅u₃ + 3⋅f_{u_2u_2u_5}⋅u₃  + 6⋅f_{u_2u_3u_5}⋅u₃⋅u₄ + 6⋅f_{u_2u_4\n",
       "\n",
       "                                                                                      2    \n",
       "u_5}⋅u₃⋅u₅ + 3⋅f_{u_2u_4}⋅u₃ + 6⋅f_{u_2u_5x}⋅u₃ + 3⋅f_{u_2u_5}⋅u₄ + 3⋅f_{u_3u_3u_5}⋅u₄  + 6\n",
       "\n",
       "                                                                                           \n",
       "⋅f_{u_3u_4u_5}⋅u₄⋅u₅ + 3⋅f_{u_3u_4}⋅u₄ + 6⋅f_{u_3u_5x}⋅u₄ + 3⋅f_{u_3u_5}⋅u₅ + 3⋅f_{u_4u_4u_\n",
       "\n",
       "     2                                                                                     \n",
       "5}⋅u₅  + 3⋅f_{u_4u_4}⋅u₅ + 6⋅f_{u_4u_5x}⋅u₅ + 3⋅f_{u_4x} + 3⋅f_{u_5xx} + 6⋅f_{uu_1u_5}⋅u₁⋅u\n",
       "\n",
       "                                                                                           \n",
       "₂ + 6⋅f_{uu_2u_5}⋅u₁⋅u₃ + 6⋅f_{uu_3u_5}⋅u₁⋅u₄ + 6⋅f_{uu_4u_5}⋅u₁⋅u₅ + 3⋅f_{uu_4}⋅u₁ + 6⋅f_{\n",
       "\n",
       "                                          2                                                \n",
       "uu_5x}⋅u₁ + 3⋅f_{uu_5}⋅u₂ + 3⋅f_{uuu_5}⋅u₁ , 3⋅f_{u_5u_5}, 3⋅f_{u_1u_5u_5}⋅u₂ + 3⋅f_{u_2u_5\n",
       "\n",
       "                                                                                           \n",
       "u_5}⋅u₃ + 3⋅f_{u_3u_5u_5}⋅u₄ + 3⋅f_{u_4u_5u_5}⋅u₅ + 3⋅f_{u_4u_5} + 3⋅f_{u_5u_5x} + 3⋅f_{uu_\n",
       "\n",
       "                       ⎤\n",
       "5u_5}⋅u₁, f_{u_5u_5u_5}⎦"
      ]
     },
     "execution_count": 14,
     "metadata": {},
     "output_type": "execute_result"
    }
   ],
   "source": [
    "def to_eqs(a, var):\n",
    "    for x in var:\n",
    "        r = []\n",
    "        for b in a:\n",
    "            if b:\n",
    "                r.append([b.coeff(x, i) for i in range(b.as_poly(x).degree()+1) if b.coeff(x, i)])\n",
    "        a = chain(*r)\n",
    "    return list(a)\n",
    "\n",
    "eqs = to_eqs([eq4], DF)\n",
    "eqs = [eq.subs({U: u}) for eq in eqs]\n",
    "for eq in eqs:\n",
    "    print(sympy.latex(compact(eq)) + r\" = 0, \\\\\")\n",
    "    print(len(eq.args))\n",
    "[compact(eq) for eq in eqs]"
   ]
  },
  {
   "cell_type": "code",
   "execution_count": 15,
   "metadata": {},
   "outputs": [],
   "source": [
    "Monom.cmp = Monom.TOPdeglex"
   ]
  },
  {
   "cell_type": "code",
   "execution_count": 16,
   "metadata": {},
   "outputs": [],
   "source": [
    "var = 't, x, u, u_1, u_2, u_3, u_4, u_5'.split(', ')\n",
    "fun = ['f']\n",
    "var, fun = PolyDiff.init(var, fun)\n",
    "df = PolyDiff.df\n",
    "diff2poly = PolyDiff.diff2poly\n",
    "t, x, u, u1, u2, u3, u4, u5 = var\n",
    "F = fun[0]"
   ]
  },
  {
   "cell_type": "code",
   "execution_count": 17,
   "metadata": {},
   "outputs": [
    {
     "data": {
      "text/plain": [
       "[[[0;0 1 0 0 0 0 0 1], 3],\n",
       " [[0;0 0 1 0 0 0 0 1], 3*u_1],\n",
       " [[0;0 0 0 1 0 0 0 1], 3*u_2],\n",
       " [[0;0 0 0 0 1 0 0 1], 3*u_3],\n",
       " [[0;0 0 0 0 0 1 0 1], 3*u_4],\n",
       " [[0;0 0 0 0 0 0 1 1], 3*u_5]]"
      ]
     },
     "execution_count": 17,
     "metadata": {},
     "output_type": "execute_result"
    }
   ],
   "source": [
    "diff2poly(eqs[1])"
   ]
  },
  {
   "cell_type": "code",
   "execution_count": 18,
   "metadata": {},
   "outputs": [
    {
     "name": "stdout",
     "output_type": "stream",
     "text": [
      "df(f, x, u_5)*3 + df(f, u, u_5)*3*u_1 + df(f, u_1, u_5)*3*u_2 + df(f, u_2, u_5)*3*u_3 + df(f, u_3, u_5)*3*u_4 + df(f, u_4, u_5)*3*u_5\n"
     ]
    }
   ],
   "source": [
    "print(diff2poly(eqs[1]))"
   ]
  },
  {
   "cell_type": "code",
   "execution_count": 19,
   "metadata": {
    "scrolled": false
   },
   "outputs": [
    {
     "name": "stdout",
     "output_type": "stream",
     "text": [
      "prolong 0, Q 2\n",
      "df(f, u_5, 2)\n",
      "prolong 0, Q 2\n",
      "df(f, x, u_5)\n",
      "prolong 2, Q 3\n",
      "df(f, u_4, u_5)\n",
      "prolong 2, Q 3\n",
      "df(f, u_3, u_5)\n",
      "prolong 2, Q 3\n",
      "df(f, u_2, u_5)\n",
      "prolong 2, Q 3\n",
      "df(f, u_1, u_5)\n",
      "prolong 2, Q 3\n",
      "df(f, u, u_5)\n",
      "prolong 2, Q 3\n",
      "df(f, x, u_4)\n",
      "prolong 2, Q 3\n",
      "df(f, u_4, 2)\n",
      "prolong 2, Q 3\n",
      "df(f, u_3, u_4, 2)\n",
      "prolong 2, Q 3\n",
      "df(f, u_3, u_4, u_5)\n",
      "prolong 3, Q 3\n",
      "df(f, u_2, u_4, 2)\n",
      "prolong 2, Q 3\n",
      "df(f, u_2, u_4, u_5)\n",
      "prolong 3, Q 3\n",
      "df(f, u_1, u_4, 2)\n",
      "prolong 2, Q 3\n",
      "df(f, u_1, u_4, u_5)\n",
      "prolong 3, Q 3\n",
      "df(f, u, u_4, 2)\n",
      "prolong 2, Q 3\n",
      "df(f, u, u_4, u_5)\n",
      "prolong 3, Q 3\n",
      "df(f, u_3, u_4)\n",
      "prolong 2, Q 3\n",
      "df(f, u_2, u_3, u_4)\n",
      "prolong 2, Q 3\n",
      "df(f, u_2, u_3, u_5)\n",
      "prolong 3, Q 3\n",
      "df(f, u_1, u_3, u_4)\n",
      "prolong 2, Q 3\n",
      "df(f, u_1, u_3, u_5)\n",
      "prolong 3, Q 3\n",
      "df(f, u, u_3, u_4)\n",
      "prolong 2, Q 3\n",
      "df(f, u, u_3, u_5)\n",
      "prolong 3, Q 3\n",
      "df(f, u_2, u_4)\n",
      "prolong 2, Q 3\n",
      "df(f, u_1, u_2, u_4)\n",
      "prolong 2, Q 3\n",
      "df(f, u_1, u_2, u_5)\n",
      "prolong 3, Q 3\n",
      "df(f, u, u_2, u_4)\n",
      "prolong 2, Q 3\n",
      "df(f, u, u_2, u_5)\n",
      "prolong 3, Q 3\n",
      "df(f, u_1, u_4)\n",
      "prolong 2, Q 3\n",
      "df(f, u, u_1, u_4)\n",
      "prolong 2, Q 3\n",
      "df(f, u, u_1, u_5)\n",
      "prolong 3, Q 3\n",
      "df(f, u, u_4)\n",
      "prolong 2, Q 3\n",
      "df(f, x, 3)\n",
      "prolong 2, Q 0\n",
      "df(f, x, 2, u_5)\n",
      "prolong 3, Q 3\n",
      "df(f, x, 2, u_4)\n",
      "prolong 3, Q 0\n",
      "df(f, x, u_3)\n",
      "prolong 2, Q 4\n",
      "df(f, u_3, 2)\n",
      "prolong 2, Q 3\n",
      "df(f, u_2, u_3, 2)\n",
      "prolong 3, Q 3\n",
      "df(f, u_1, u_3, 2)\n",
      "prolong 3, Q 3\n",
      "df(f, u, u_3, 2)\n",
      "prolong 3, Q 3\n",
      "df(f, u_2, u_3)\n",
      "prolong 2, Q 3\n",
      "df(f, u_1, u_2, u_3)\n",
      "prolong 3, Q 3\n",
      "df(f, u, u_2, u_3)\n",
      "prolong 3, Q 3\n",
      "df(f, u_1, u_3)\n",
      "prolong 2, Q 3\n",
      "df(f, u, u_1, u_3)\n",
      "prolong 3, Q 3\n",
      "df(f, u, u_3)\n",
      "prolong 2, Q 3\n",
      "df(f, x, 2, u_3)\n",
      "prolong 3, Q 4\n",
      "df(f, x, u_2)\n",
      "prolong 2, Q 4\n",
      "df(f, u_2, 2)\n",
      "prolong 2, Q 3\n",
      "df(f, u_1, u_2, 2)\n",
      "prolong 3, Q 3\n",
      "df(f, u, u_2, 2)\n",
      "prolong 3, Q 3\n",
      "df(f, u_1, u_2)\n",
      "prolong 2, Q 3\n",
      "df(f, u, u_1, u_2)\n",
      "prolong 3, Q 3\n",
      "df(f, u, u_2)\n",
      "prolong 2, Q 3\n",
      "df(f, x, 2, u_2)\n",
      "prolong 3, Q 4\n",
      "df(f, x, u_1)\n",
      "prolong 2, Q 4\n",
      "df(f, u_1, 2)\n",
      "prolong 2, Q 3\n",
      "df(f, u, u_1, 2)\n",
      "prolong 3, Q 3\n",
      "df(f, u, u_1)\n",
      "prolong 2, Q 3\n",
      "df(f, t, u_5)\n",
      "prolong 2, Q 3\n",
      "df(f, t, u_4, 2)\n",
      "prolong 2, Q 3\n",
      "df(f, t, u_4, u_5)\n",
      "prolong 3, Q 3\n",
      "df(f, t, u_3, u_4)\n",
      "prolong 2, Q 3\n",
      "df(f, t, u_3, u_5)\n",
      "prolong 3, Q 3\n",
      "df(f, t, u_2, u_4)\n",
      "prolong 2, Q 3\n",
      "df(f, t, u_2, u_5)\n",
      "prolong 3, Q 3\n",
      "df(f, t, u_1, u_4)\n",
      "prolong 2, Q 3\n",
      "df(f, t, u_1, u_5)\n",
      "prolong 3, Q 3\n",
      "df(f, t, u, u_4)\n",
      "prolong 2, Q 3\n",
      "df(f, t, u, u_5)\n",
      "prolong 3, Q 3\n",
      "df(f, t, x, u_4)\n",
      "prolong 2, Q 3\n",
      "df(f, t, x, u_5)\n",
      "prolong 3, Q 3\n",
      "df(f, t, u_3, 2)\n",
      "prolong 3, Q 3\n",
      "df(f, t, u_2, u_3)\n",
      "prolong 3, Q 3\n",
      "df(f, t, u_1, u_3)\n",
      "prolong 3, Q 3\n",
      "df(f, t, u, u_3)\n",
      "prolong 3, Q 3\n",
      "df(f, t, x, u_3)\n",
      "prolong 3, Q 3\n",
      "df(f, t, u_2, 2)\n",
      "prolong 3, Q 3\n",
      "df(f, t, u_1, u_2)\n",
      "prolong 3, Q 3\n",
      "df(f, t, u, u_2)\n",
      "prolong 3, Q 3\n",
      "df(f, t, x, u_2)\n",
      "prolong 3, Q 3\n",
      "df(f, t, u_1, 2)\n",
      "prolong 3, Q 3\n",
      "df(f, t, u, u_1)\n",
      "prolong 3, Q 3\n",
      "df(f, x, 2, u_1)\n",
      "prolong 3, Q 3\n",
      "df(f, t, x, u_1)\n",
      "prolong 3, Q 4\n",
      "df(f, x, u)\n",
      "prolong 2, Q 4\n",
      "df(f, u, 2)\n",
      "prolong 2, Q 3\n",
      "df(f, t, u_4)\n",
      "prolong 2, Q 3\n",
      "df(f, t, u, 2)\n",
      "prolong 3, Q 3\n",
      "df(f, x, 2, u)\n",
      "prolong 3, Q 3\n",
      "df(f, t, x, u)\n",
      "prolong 3, Q 4\n",
      "df(f, t, u_1)\n",
      "prolong 2, Q 3\n",
      "df(f, u_4)\n",
      "prolong 1, Q 2\n",
      "df(f, t, u_3)\n",
      "prolong 2, Q 3\n",
      "df(f, u_2)\n",
      "prolong 1, Q 2\n",
      "df(f, t, u_2)\n",
      "prolong 2, Q 3\n",
      "df(f, t, u)\n",
      "prolong 2, Q 3\n",
      "df(f, x, 2)\n",
      "prolong 2, Q 3\n",
      "df(f, t)\n",
      "prolong 0, Q 2\n",
      "df(f, x)\n",
      "prolong 1, Q 2\n",
      "prolong 0, Q 0\n",
      "    crit1: 0\n",
      "    crit2: 0\n",
      "     time: 6.99 sec\n",
      "    count: 19\n",
      "reduction: 2039\n",
      "       HP: 5\n"
     ]
    }
   ],
   "source": [
    "LRT = Janet()\n",
    "res = ginvBlockLow([diff2poly(eq) for eq in eqs], \\\n",
    "LRT, level=1)\n",
    "print(f\"    crit1: {res[1]}\")\n",
    "print(f\"    crit2: {res[2]}\")\n",
    "print(f\"     time: {res[0]:.2f} sec\")\n",
    "print(f\"    count: {LRT.count()}\")\n",
    "print(f\"reduction: {LRT.reduction()}\")\n",
    "print(f\"       HP: {LRT.HP()}\")"
   ]
  },
  {
   "cell_type": "code",
   "execution_count": 20,
   "metadata": {},
   "outputs": [
    {
     "name": "stdout",
     "output_type": "stream",
     "text": [
      "{f}_{{u_5} {u_5}} df(f, u_5, 2)\n",
      "{f}_{{u_4}} df(f, u_4)\n",
      "{f}_{{u_3} {u_5}} df(f, u_3, u_5)\n",
      "{f}_{{u_3} {u_3}} df(f, u_3, 2)\n",
      "{f}_{{u_2}} df(f, u_2) + df(f, u_5)*-20*u_1\n",
      "{f}_{{u_1} {u_5}} df(f, u_1, u_5)\n",
      "{f}_{{u_1} {u_3}} df(f, u_1, u_3)\n",
      "{f}_{{u_1} {u_1}} df(f, u_1, 2)\n",
      "{f}_{{u} {u_5}} df(f, u, u_5)\n",
      "{f}_{{u} {u_3}} df(f, u, u_3) + df(f, u_5)*-10\n",
      "{f}_{{u} {u_1}} df(f, u, u_1) + df(f, u_3)*-6\n",
      "{f}_{{u} {u}} df(f, u, 2) + df(f, u_5)*-60*u_1\n",
      "{f}_{{x}} df(f, x)*-2 + df(f, u)*u_1 + df(f, u_3)*-6*u_1**2 + df(f, u_5)*-10*u_1*u_3\n",
      "{f}_{{t}} df(f, t)*2 + df(f, u)*6*u*u_1 + 3*u_3 + df(f, u_1)*-12*u_1**2 + df(f, u_3)*-36*u*u_1**2 - 30*u_1*u_3 + df(f, u_5)*-60*u*u_1*u_3 - 12*u_1*u_5 - 30*u_3**2 + df(f)*12*u_1\n"
     ]
    }
   ],
   "source": [
    "for w in LRT.GB():\n",
    "    print(w.lm.df_latex(), w.poly)"
   ]
  },
  {
   "cell_type": "code",
   "execution_count": 21,
   "metadata": {},
   "outputs": [
    {
     "data": {
      "image/png": "[encoded data removed]",
      "text/latex": [
       "$\\displaystyle \\left[ 0, \\  0, \\  0, \\  0, \\  - 20 A u_{1} + A_{u_2} u_{5} + B_{u_2} u_{3} + C_{u_2} u_{1} + D_{u_2}, \\  0, \\  0, \\  0, \\  A_{u}, \\  - 10 A + B_{u}, \\  - 6 B + C_{u}, \\  - 60 A u_{1} + A_{uu} u_{5} + B_{uu} u_{3} + C_{uu} u_{1} + D_{uu}, \\  - 10 A u_{1} u_{3} + A_{u} u_{1} u_{5} - 2 A_{x} u_{5} - 6 B u_{1}^{2} + B_{u} u_{1} u_{3} - 2 B_{x} u_{3} + C_{u} u_{1}^{2} - 2 C_{x} u_{1} + D_{u} u_{1} - 2 D_{x}, \\  - 60 A u u_{1} u_{3} - 30 A u_{3}^{2} + 2 A_{t} u_{5} + 6 A_{u} u u_{1} u_{5} + 3 A_{u} u_{3} u_{5} - 36 B u u_{1}^{2} - 18 B u_{1} u_{3} + 2 B_{t} u_{3} + 6 B_{u} u u_{1} u_{3} + 3 B_{u} u_{3}^{2} + 2 C_{t} u_{1} + 6 C_{u} u u_{1}^{2} + 3 C_{u} u_{1} u_{3} + 12 D u_{1} + 2 D_{t} + 6 D_{u} u u_{1} + 3 D_{u} u_{3}\\right]$"
      ],
      "text/plain": [
       "⎡                                                                                          \n",
       "⎣0, 0, 0, 0, -20⋅A⋅u₁ + A_{u_2}⋅u₅ + B_{u_2}⋅u₃ + C_{u_2}⋅u₁ + D_{u_2}, 0, 0, 0, A_{u}, -10\n",
       "\n",
       "                                                                                           \n",
       "⋅A + B_{u}, -6⋅B + C_{u}, -60⋅A⋅u₁ + A_{uu}⋅u₅ + B_{uu}⋅u₃ + C_{uu}⋅u₁ + D_{uu}, -10⋅A⋅u₁⋅u\n",
       "\n",
       "                                     2                                      2              \n",
       "₃ + A_{u}⋅u₁⋅u₅ - 2⋅A_{x}⋅u₅ - 6⋅B⋅u₁  + B_{u}⋅u₁⋅u₃ - 2⋅B_{x}⋅u₃ + C_{u}⋅u₁  - 2⋅C_{x}⋅u₁ \n",
       "\n",
       "                                             2                                             \n",
       "+ D_{u}⋅u₁ - 2⋅D_{x}, -60⋅A⋅u⋅u₁⋅u₃ - 30⋅A⋅u₃  + 2⋅A_{t}⋅u₅ + 6⋅A_{u}⋅u⋅u₁⋅u₅ + 3⋅A_{u}⋅u₃⋅\n",
       "\n",
       "              2                                                         2                  \n",
       "u₅ - 36⋅B⋅u⋅u₁  - 18⋅B⋅u₁⋅u₃ + 2⋅B_{t}⋅u₃ + 6⋅B_{u}⋅u⋅u₁⋅u₃ + 3⋅B_{u}⋅u₃  + 2⋅C_{t}⋅u₁ + 6⋅\n",
       "\n",
       "          2                                                                ⎤\n",
       "C_{u}⋅u⋅u₁  + 3⋅C_{u}⋅u₁⋅u₃ + 12⋅D⋅u₁ + 2⋅D_{t} + 6⋅D_{u}⋅u⋅u₁ + 3⋅D_{u}⋅u₃⎦"
      ]
     },
     "execution_count": 21,
     "metadata": {},
     "output_type": "execute_result"
    }
   ],
   "source": [
    "A, B, C, D = [sympy.Function(f)(t, x, u, u2) for f in \"A, B, C, D\".split(', ')]\n",
    "F = [A*u5 + B*u3 + C*u1 + D]\n",
    "eqs5 = []\n",
    "for w in LRT.GB():\n",
    "    eqs5.append(sum(F[m.position()].diff(*((v, d) for v, d in zip(var, m)))*c\\\n",
    "                    if m.position() >=0 else c for m, c in w.poly).expand())\n",
    "[compact(eq) for eq in eqs5]"
   ]
  },
  {
   "cell_type": "code",
   "execution_count": 22,
   "metadata": {},
   "outputs": [
    {
     "data": {
      "image/png": "[encoded data removed]",
      "text/latex": [
       "$\\displaystyle \\left[ D_{u_2}, \\  A_{u_2}, \\  B_{u_2}, \\  - 20 A + C_{u_2}, \\  A_{u}, \\  - 10 A + B_{u}, \\  - 6 B + C_{u}, \\  D_{uu}, \\  A_{uu}, \\  B_{uu}, \\  - 60 A + C_{uu}, \\  - 2 D_{x}, \\  - 2 A_{x}, \\  - 2 B_{x}, \\  - 2 C_{x} + D_{u}, \\  A_{u}, \\  - 10 A + B_{u}, \\  - 6 B + C_{u}, \\  2 D_{t}, \\  2 A_{t}, \\  2 B_{t} + 3 D_{u}, \\  3 A_{u}, \\  - 30 A + 3 B_{u}, \\  2 C_{t} + 12 D + 6 D_{u} u, \\  6 A_{u} u, \\  - 60 A u - 18 B + 6 B_{u} u + 3 C_{u}, \\  - 36 B u + 6 C_{u} u\\right]$"
      ],
      "text/plain": [
       "[D_{u_2}, A_{u_2}, B_{u_2}, -20⋅A + C_{u_2}, A_{u}, -10⋅A + B_{u}, -6⋅B + C_{u}, D_{uu}, A_\n",
       "{uu}, B_{uu}, -60⋅A + C_{uu}, -2⋅D_{x}, -2⋅A_{x}, -2⋅B_{x}, -2⋅C_{x} + D_{u}, A_{u}, -10⋅A \n",
       "+ B_{u}, -6⋅B + C_{u}, 2⋅D_{t}, 2⋅A_{t}, 2⋅B_{t} + 3⋅D_{u}, 3⋅A_{u}, -30⋅A + 3⋅B_{u}, 2⋅C_{\n",
       "t} + 12⋅D + 6⋅D_{u}⋅u, 6⋅A_{u}⋅u, -60⋅A⋅u - 18⋅B + 6⋅B_{u}⋅u + 3⋅C_{u}, -36⋅B⋅u + 6⋅C_{u}⋅u\n",
       "]"
      ]
     },
     "execution_count": 22,
     "metadata": {},
     "output_type": "execute_result"
    }
   ],
   "source": [
    "eqs5 = to_eqs(eqs5, [u1, u3, u5])\n",
    "[compact(eq) for eq in eqs5]"
   ]
  },
  {
   "cell_type": "code",
   "execution_count": 23,
   "metadata": {},
   "outputs": [
    {
     "name": "stdout",
     "output_type": "stream",
     "text": [
      "prolong 0, Q 1\n",
      "df(D, u_2)\n",
      "prolong 0, Q 1\n",
      "df(C, u_2)\n",
      "prolong 0, Q 1\n",
      "df(B, u_2)\n",
      "prolong 0, Q 1\n",
      "df(A, u_2)\n",
      "prolong 0, Q 1\n",
      "df(C, u)\n",
      "prolong 1, Q 1\n",
      "df(B, u)\n",
      "prolong 1, Q 1\n",
      "df(A, u)\n",
      "prolong 1, Q 1\n",
      "df(D, x)\n",
      "prolong 1, Q 1\n",
      "df(C, x)\n",
      "prolong 1, Q 1\n",
      "df(B, x)\n",
      "prolong 1, Q 1\n",
      "df(A, x)\n",
      "prolong 1, Q 1\n",
      "df(D, t)\n",
      "prolong 1, Q 1\n",
      "df(C, t)\n",
      "prolong 1, Q 1\n",
      "df(B, t)\n",
      "prolong 1, Q 1\n",
      "df(A, t)\n",
      "prolong 1, Q 2\n",
      "df(D, u, 2)\n",
      "prolong 1, Q 2\n",
      "df(D, u, u_2)\n",
      "prolong 2, Q 2\n",
      "prolong 2, Q 0\n",
      "prolong 0, Q 0\n",
      "    crit1: 0\n",
      "    crit2: 0\n",
      "     time: 0.06 sec\n",
      "    count: 17\n",
      "reduction: 97\n",
      "       HP: 5\n"
     ]
    }
   ],
   "source": [
    "var = 't, x, u, u_2'.split(', ')\n",
    "fun = \"A, B, C, D\".split(', ')\n",
    "var, fun = PolyDiff.init(var, fun)\n",
    "df = PolyDiff.df\n",
    "diff2poly = PolyDiff.diff2poly\n",
    "t, x, u, u2 = var\n",
    "A, B, C, D = fun\n",
    "\n",
    "LRT1 = Forest(Janet)\n",
    "res = ginvBlockLow([diff2poly(eq) for eq in eqs5], \\\n",
    "LRT1, level=1)\n",
    "print(f\"    crit1: {res[1]}\")\n",
    "print(f\"    crit2: {res[2]}\")\n",
    "print(f\"     time: {res[0]:.2f} sec\")\n",
    "print(f\"    count: {LRT1.count()}\")\n",
    "print(f\"reduction: {LRT1.reduction()}\")\n",
    "print(f\"       HP: {LRT1.HP()}\")"
   ]
  },
  {
   "cell_type": "code",
   "execution_count": 24,
   "metadata": {},
   "outputs": [
    {
     "name": "stdout",
     "output_type": "stream",
     "text": [
      "$ {A}_{{u_2}} 1 $,\n",
      "$ {A}_{{u}} 1 $,\n",
      "$ {A}_{{x}} 1 $,\n",
      "$ {A}_{{t}} 1 $,\n",
      "$ {B}_{{u_2}} 1 $,\n",
      "$ {B}_{{u}} 1 + {A} -10 $,\n",
      "$ {B}_{{x}} 1 $,\n",
      "$ {B}_{{t}} 2 + {D}_{{u}} 3 $,\n",
      "$ {C}_{{u_2}} 1 + {A} -20 $,\n",
      "$ {C}_{{u}} 1 + {B} -6 $,\n",
      "$ {C}_{{x}} -2 + {D}_{{u}} 1 $,\n",
      "$ {C}_{{t}} 1 + {D}_{{u}} 3*u + {D} 6 $,\n",
      "$ {D}_{{u_2}} 1 $,\n",
      "$ {D}_{{u} {u_2}} 1 $,\n",
      "$ {D}_{{u} {u}} 1 $,\n",
      "$ {D}_{{x}} 1 $,\n",
      "$ {D}_{{t}} 1 $,\n"
     ]
    }
   ],
   "source": [
    "for w in LRT1:\n",
    "    print('$', \" + \".join(f\"{m.df_latex()} {c}\" for m, c in w.poly), '$,')"
   ]
  },
  {
   "cell_type": "code",
   "execution_count": 25,
   "metadata": {},
   "outputs": [
    {
     "data": {
      "image/png": "[encoded data removed]",
      "text/latex": [
       "$\\displaystyle \\left[ 0, \\  0, \\  0, \\  0, \\  0, \\  0, \\  0, \\  0, \\  0, \\  0, \\  0, \\  0, \\  0, \\  0, \\  0, \\  0\\right]$"
      ],
      "text/plain": [
       "[0, 0, 0, 0, 0, 0, 0, 0, 0, 0, 0, 0, 0, 0, 0, 0]"
      ]
     },
     "execution_count": 25,
     "metadata": {},
     "output_type": "execute_result"
    }
   ],
   "source": [
    "A0, B0, D0, D1, C0 = sympy.symbols(\"A, B, D0, D1, C\")\n",
    "B = 10*A0*u - 3*t*D1/2 + B0\n",
    "C = 20*A0*u2 + x*D1/2  + 30*A0*u**2 - 18*t*D1/2*u + 6*B0*u - 6*t*D0 + C0\n",
    "D = D1*u + D0\n",
    "F = [A0, B, C, D]\n",
    "eqs6 = []\n",
    "for w in LRT1.GB():\n",
    "    eqs6.append(sum(F[m.position()].diff(*((v, d) for v, d in zip(var, m)))*c\\\n",
    "                    if m.position() >=0 else c for m, c in w.poly).expand())\n",
    "[compact(eq) for eq in eqs6]"
   ]
  },
  {
   "cell_type": "code",
   "execution_count": 26,
   "metadata": {},
   "outputs": [
    {
     "data": {
      "image/png": "[encoded data removed]",
      "text/latex": [
       "$\\displaystyle 30 A u^{2} u_{1} + 10 A u u_{3} + 20 A u_{1} u_{2} + A u_{5} + 6 B u u_{1} + B u_{3} + C u_{1} - 6 D_{0} t u_{1} + D_{0} - 9 D_{1} t u u_{1} - \\frac{3 D_{1} t u_{3}}{2} + D_{1} u + \\frac{D_{1} u_{1} x}{2}$"
      ],
      "text/plain": [
       "      2                                                                                    \n",
       "30⋅A⋅u ⋅u₁ + 10⋅A⋅u⋅u₃ + 20⋅A⋅u₁⋅u₂ + A⋅u₅ + 6⋅B⋅u⋅u₁ + B⋅u₃ + C⋅u₁ - 6⋅D₀⋅t⋅u₁ + D₀ - 9⋅D₁\n",
       "                                                                                           \n",
       "\n",
       "          3⋅D₁⋅t⋅u₃          D₁⋅u₁⋅x\n",
       "⋅t⋅u⋅u₁ - ───────── + D₁⋅u + ───────\n",
       "              2                 2   "
      ]
     },
     "execution_count": 26,
     "metadata": {},
     "output_type": "execute_result"
    }
   ],
   "source": [
    "F = (A0*u5 + B*u3 + C*u1 + D).expand()\n",
    "F"
   ]
  },
  {
   "cell_type": "code",
   "execution_count": 27,
   "metadata": {},
   "outputs": [
    {
     "name": "stdout",
     "output_type": "stream",
     "text": [
      "0 0 0 0 0 0 "
     ]
    }
   ],
   "source": [
    "for eq in eqs:\n",
    "    print(eq.subs(sympy.Function('f')(t, x, u, u1, u2, u3, u4, u5), F)\\\n",
    "          .doit().expand(), end=' ')"
   ]
  },
  {
   "cell_type": "code",
   "execution_count": 28,
   "metadata": {},
   "outputs": [
    {
     "data": {
      "image/png": "[encoded data removed]",
      "text/latex": [
       "$\\displaystyle \\left[ 30 u^{2} u_{1} + 10 u u_{3} + 20 u_{1} u_{2} + u_{5}, \\  6 u u_{1} + u_{3}, \\  - 6 t u_{1} + 1, \\  - 9 t u u_{1} - \\frac{3 t u_{3}}{2} + u + \\frac{u_{1} x}{2}, \\  u_{1}\\right]$"
      ],
      "text/plain": [
       "⎡    2                                                                     3⋅t⋅u₃       u₁⋅\n",
       "⎢30⋅u ⋅u₁ + 10⋅u⋅u₃ + 20⋅u₁⋅u₂ + u₅, 6⋅u⋅u₁ + u₃, -6⋅t⋅u₁ + 1, -9⋅t⋅u⋅u₁ - ────── + u + ───\n",
       "⎣                                                                            2           2 \n",
       "\n",
       "x    ⎤\n",
       "─, u₁⎥\n",
       "     ⎦"
      ]
     },
     "execution_count": 28,
     "metadata": {},
     "output_type": "execute_result"
    }
   ],
   "source": [
    "symm = [F.coeff(i) for i in (A0, B0, D0, D1, C0)]\n",
    "symm"
   ]
  },
  {
   "cell_type": "code",
   "execution_count": 29,
   "metadata": {
    "scrolled": true
   },
   "outputs": [
    {
     "name": "stdout",
     "output_type": "stream",
     "text": [
      "30 u^{2} u_{1} + 10 u u_{3} + 20 u_{1} u_{2} + u_{5}\n",
      "6 u u_{1} + u_{3}\n",
      "- 6 t u_{1} + 1\n",
      "- 9 t u u_{1} - \\frac{3 t u_{3}}{2} + u + \\frac{u_{1} x}{2}\n",
      "u_{1}\n"
     ]
    }
   ],
   "source": [
    "for s in symm:\n",
    "    print(sympy.latex(s))"
   ]
  },
  {
   "cell_type": "code",
   "execution_count": 30,
   "metadata": {},
   "outputs": [
    {
     "data": {
      "image/png": "[encoded data removed]",
      "text/latex": [
       "$\\displaystyle \\left\\{ u_{xxxxx} : 36 u^{2} u_{x} + 6 u u_{t} - u_{txx} - 18 u_{xx} u_{x}, \\  u_{xxx} : - 6 u u_{x} - u_{t}\\right\\}$"
      ],
      "text/plain": [
       "⎧               2                                                                          \n",
       "⎨u_{xxxxx}: 36⋅u ⋅u_{x} + 6⋅u⋅u_{t} - u_{txx} - 18⋅u_{xx}⋅u_{x}, u_{xxx}: -6⋅u⋅u_{x} - u_{t\n",
       "⎩                                                                                          \n",
       "\n",
       " ⎫\n",
       "}⎬\n",
       " ⎭"
      ]
     },
     "execution_count": 30,
     "metadata": {},
     "output_type": "execute_result"
    }
   ],
   "source": [
    "sympy.solve([compact(eq1), compact(eq1.diff(x, 2))], [compact(U.diff(x, 3)), compact(U.diff(x, 5))])"
   ]
  },
  {
   "cell_type": "code",
   "execution_count": 31,
   "metadata": {},
   "outputs": [
    {
     "data": {
      "image/png": "[encoded data removed]",
      "text/latex": [
       "$\\displaystyle \\left[ - 30 u^{2} u_{1} - 10 u u_{t} + 20 u_{1} u_{2} + u_{5}, \\  - u_{t}, \\  - 6 t u_{1} + 1, \\  \\frac{3 t u_{t}}{2} + u + \\frac{u_{1} x}{2}, \\  u_{1}\\right]$"
      ],
      "text/plain": [
       "⎡      2                                                 3⋅t⋅uₜ       u₁⋅x    ⎤\n",
       "⎢- 30⋅u ⋅u₁ - 10⋅u⋅uₜ + 20⋅u₁⋅u₂ + u₅, -uₜ, -6⋅t⋅u₁ + 1, ────── + u + ────, u₁⎥\n",
       "⎣                                                          2           2      ⎦"
      ]
     },
     "execution_count": 31,
     "metadata": {},
     "output_type": "execute_result"
    }
   ],
   "source": [
    "[s.subs({u3: -(ut + 6*u*u1)}).expand() for s in symm]"
   ]
  },
  {
   "cell_type": "code",
   "execution_count": 32,
   "metadata": {},
   "outputs": [
    {
     "name": "stdout",
     "output_type": "stream",
     "text": [
      "- 30 u^{2} u_{1} - 10 u u_{t} + 20 u_{1} u_{2} + u_{5}\n",
      "- u_{t}\n",
      "- 6 t u_{1} + 1\n",
      "\\frac{3 t u_{t}}{2} + u + \\frac{u_{1} x}{2}\n",
      "u_{1}\n"
     ]
    }
   ],
   "source": [
    "for s in symm:\n",
    "    print(sympy.latex(s.subs({u3: -(ut + 6*u*u1)}).expand()))"
   ]
  },
  {
   "cell_type": "code",
   "execution_count": null,
   "metadata": {},
   "outputs": [],
   "source": []
  }
 ],
 "metadata": {
  "kernelspec": {
   "display_name": "Python 3 (ipykernel)",
   "language": "python",
   "name": "python3"
  },
  "language_info": {
   "codemirror_mode": {
    "name": "ipython",
    "version": 3
   },
   "file_extension": ".py",
   "mimetype": "text/x-python",
   "name": "python",
   "nbconvert_exporter": "python",
   "pygments_lexer": "ipython3",
   "version": "3.11.2"
  }
 },
 "nbformat": 4,
 "nbformat_minor": 2
}
