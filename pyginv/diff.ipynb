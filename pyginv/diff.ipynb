{
 "cells": [
  {
   "cell_type": "code",
   "execution_count": 1,
   "metadata": {},
   "outputs": [],
   "source": [
    "from IPython.display import display, Image\n",
    "from pprint import pprint\n",
    "from itertools import chain\n",
    "\n",
    "from sympy import Function, Symbol, symbols\n",
    "\n",
    "from ginv import *\n",
    "sympy.init_printing()"
   ]
  },
  {
   "cell_type": "code",
   "execution_count": 2,
   "metadata": {},
   "outputs": [
    {
     "data": {
      "text/plain": [
       "([a, b, c, d, e], [u, v, w])"
      ]
     },
     "execution_count": 2,
     "metadata": {},
     "output_type": "execute_result"
    }
   ],
   "source": [
    "var = 'a, b, c, d, e'.split(', ')\n",
    "fun = 'u, v, w'.split(', ')\n",
    "PolyDiff.init(var, fun)"
   ]
  },
  {
   "cell_type": "code",
   "execution_count": 3,
   "metadata": {},
   "outputs": [],
   "source": [
    "Monom.cmp = Monom.POTlex # POTlex, TOPlex, POTdeglex, TOPdeglex"
   ]
  },
  {
   "cell_type": "code",
   "execution_count": 4,
   "metadata": {},
   "outputs": [
    {
     "name": "stdout",
     "output_type": "stream",
     "text": [
      "df(u) + df(w, a, 5, b, 3)*2*a*b*e**6 + 13*a*b + 12*b**2*c**3*d**2*e**5 + 5 \n",
      "-> [[[0;0 0 0 0 0], 1], [[2;5 3 0 0 0], 2*a*b*e**6], [[0 0 0 0 0], 13*a*b + 12*b**2*c**3*d**2*e**5 + 5]]\n",
      "u(a, b, c, d, e) + w(a, b, c, d, e).diff(a, 5, b, 3)*2*a*b*e**6 + 13*a*b + 12*b**2*c**3*d**2*e**5 + 5 \n",
      "-> [[[0;0 0 0 0 0], 1], [[2;5 3 0 0 0], 2*a*b*e**6], [[0 0 0 0 0], 13*a*b + 12*b**2*c**3*d**2*e**5 + 5]]\n",
      "0 -> []\n"
     ]
    }
   ],
   "source": [
    "var = 'a, b, c, d, e'.split(', ')\n",
    "fun = 'u, v, w'.split(', ')\n",
    "var, fun = PolyDiff.init(var, fun)\n",
    "a, b, c, d, e = var\n",
    "u, v, w = fun\n",
    "df = PolyDiff.df\n",
    "diff2poly = PolyDiff.diff2poly\n",
    "p = sympy.diff(a**1*b**2*c**3*d**4*e**5, a, d, 2) + (2*df(w, b, a, 5, b, 2)*e**6 + 13)*a*b + 5 + df(u)\n",
    "print(f\"{p} \\n-> {p!r}\")\n",
    "print(f\"{p.df_sympy()} \\n-> {p!r}\")\n",
    "print(f\"{PolyDiff()} -> {PolyDiff()!r}\") "
   ]
  },
  {
   "cell_type": "code",
   "execution_count": 5,
   "metadata": {},
   "outputs": [
    {
     "data": {
      "image/png": "[encoded data removed]",
      "text/latex": [
       "$\\displaystyle a b \\left(2 e^{6} \\frac{\\partial^{8}}{\\partial b^{3}\\partial a^{5}} w{\\left(a,b,c,d,e \\right)} + 13\\right) + 12 b^{2} c^{3} d^{2} e^{5} + u{\\left(a,b,c,d,e \\right)} + 5$"
      ],
      "text/plain": [
       "    ⎛         8                         ⎞                                        \n",
       "    ⎜   6    ∂                          ⎟       2  3  2  5                       \n",
       "a⋅b⋅⎜2⋅e ⋅───────(w(a, b, c, d, e)) + 13⎟ + 12⋅b ⋅c ⋅d ⋅e  + u(a, b, c, d, e) + 5\n",
       "    ⎜       3   5                       ⎟                                        \n",
       "    ⎝     ∂b  ∂a                        ⎠                                        "
      ]
     },
     "execution_count": 5,
     "metadata": {},
     "output_type": "execute_result"
    }
   ],
   "source": [
    "p_diff = sympy.diff(a**1*b**2*c**3*d**4*e**5, a, d, 2) +\\\n",
    "    (2*sympy.diff(w(a, b, c, d, e), b, a, 5, b, 2)*e**6 + 13)*a*b + 5 +\\\n",
    "    u(a, b, c, d, e)\n",
    "p_diff"
   ]
  },
  {
   "cell_type": "code",
   "execution_count": 6,
   "metadata": {},
   "outputs": [
    {
     "name": "stdout",
     "output_type": "stream",
     "text": [
      "df(u) + df(w, a, 5, b, 3)*2*a*b*e**6 + 13*a*b + 12*b**2*c**3*d**2*e**5 + 5 \n",
      "-> [[[0;0 0 0 0 0], 1], [[2;5 3 0 0 0], 2*a*b*e**6], [[0 0 0 0 0], 13*a*b + 12*b**2*c**3*d**2*e**5 + 5]]\n",
      "u(a, b, c, d, e) + w(a, b, c, d, e).diff(a, 5, b, 3)*2*a*b*e**6 + 13*a*b + 12*b**2*c**3*d**2*e**5 + 5 \n",
      "-> [[[0;0 0 0 0 0], 1], [[2;5 3 0 0 0], 2*a*b*e**6], [[0 0 0 0 0], 13*a*b + 12*b**2*c**3*d**2*e**5 + 5]]\n",
      "0 -> []\n"
     ]
    }
   ],
   "source": [
    "p = diff2poly(p_diff)\n",
    "print(f\"{p} \\n-> {p!r}\")\n",
    "print(f\"{p.df_sympy()} \\n-> {p!r}\")\n",
    "print(f\"{PolyDiff()} -> {PolyDiff()!r}\") "
   ]
  },
  {
   "cell_type": "code",
   "execution_count": 7,
   "metadata": {},
   "outputs": [
    {
     "data": {
      "image/png": "[encoded data removed]",
      "text/latex": [
       "$\\displaystyle \\left( \\alpha, \\  \\beta, \\  \\tau, \\  \\delta, \\  \\epsilon, \\  \\zeta\\right)$"
      ],
      "text/plain": [
       "(α, β, τ, δ, ε, ζ)"
      ]
     },
     "execution_count": 7,
     "metadata": {},
     "output_type": "execute_result"
    }
   ],
   "source": [
    "par = sympy.symbols('alpha, beta, tau, delta, epsilon, zeta', real=True)\n",
    "par"
   ]
  },
  {
   "cell_type": "code",
   "execution_count": 8,
   "metadata": {},
   "outputs": [
    {
     "name": "stdout",
     "output_type": "stream",
     "text": [
      "21546*tau**4/delta -> [[[0 0 0 0 0], 21546*tau**4/delta]]\n"
     ]
    }
   ],
   "source": [
    "p = PolyDiff(par[2]**4*21546/par[3])\n",
    "print(f\"{p} -> {p!r}\")"
   ]
  },
  {
   "cell_type": "code",
   "execution_count": 9,
   "metadata": {},
   "outputs": [
    {
     "name": "stdout",
     "output_type": "stream",
     "text": [
      "21546*tau**4 -> [[[0 0 0 0 0], 21546*tau**4]]\n"
     ]
    }
   ],
   "source": [
    "p.cancel()\n",
    "print(f\"{p} -> {p!r}\")"
   ]
  },
  {
   "cell_type": "code",
   "execution_count": 10,
   "metadata": {},
   "outputs": [
    {
     "name": "stdout",
     "output_type": "stream",
     "text": [
      "df(u, c, 5) + 1236537*a**2*b*tau + alpha*d \n",
      "-> [[[0;0 0 5 0 0], 1], [[0 0 0 0 0], 1236537*a**2*b*tau + alpha*d]]\n",
      "u(a, b, c, d, e).diff(c, 5) + 1236537*a**2*b*tau + alpha*d \n",
      "-> [[[0;0 0 5 0 0], 1], [[0 0 0 0 0], 1236537*a**2*b*tau + alpha*d]]\n"
     ]
    }
   ],
   "source": [
    "h = df(u, c, 5) + a**2*b*par[2]*1236537 + d*par[0]\n",
    "print(f\"{h} \\n-> {h!r}\")\n",
    "print(f\"{h.df_sympy()} \\n-> {h!r}\")"
   ]
  },
  {
   "cell_type": "code",
   "execution_count": 11,
   "metadata": {},
   "outputs": [
    {
     "name": "stdout",
     "output_type": "stream",
     "text": [
      "False\n",
      "True\n",
      "False\n"
     ]
    }
   ],
   "source": [
    "g = PolyDiff(h)\n",
    "print(g != h)\n",
    "print(g == h)\n",
    "print(g > h)"
   ]
  },
  {
   "cell_type": "code",
   "execution_count": 12,
   "metadata": {},
   "outputs": [
    {
     "data": {
      "text/plain": [
       "([0;0 0 5 0 0], 1)"
      ]
     },
     "execution_count": 12,
     "metadata": {},
     "output_type": "execute_result"
    }
   ],
   "source": [
    "h.lm(), h.lc()"
   ]
  },
  {
   "cell_type": "code",
   "execution_count": 13,
   "metadata": {},
   "outputs": [
    {
     "name": "stdout",
     "output_type": "stream",
     "text": [
      "df(u, c, 5, e) \n",
      "-> [[[0;0 0 5 0 1], 1]]\n",
      "u(a, b, c, d, e).diff(c, 5, e) \n",
      "-> [[[0;0 0 5 0 1], 1]]\n"
     ]
    }
   ],
   "source": [
    "p = g.prolong(4)\n",
    "print(f\"{p} \\n-> {p!r}\")\n",
    "print(f\"{p.df_sympy()} \\n-> {p!r}\")"
   ]
  },
  {
   "cell_type": "code",
   "execution_count": 14,
   "metadata": {},
   "outputs": [
    {
     "data": {
      "text/plain": [
       "[]"
      ]
     },
     "execution_count": 14,
     "metadata": {},
     "output_type": "execute_result"
    }
   ],
   "source": [
    "g.reduction(0, h)\n",
    "g"
   ]
  },
  {
   "cell_type": "code",
   "execution_count": 15,
   "metadata": {},
   "outputs": [
    {
     "name": "stdout",
     "output_type": "stream",
     "text": [
      "df(u, c, 5)*(4*b**4 + beta + e*tau)**9 + (1236537*a**2*b*tau + alpha*d)*(4*b**4 + beta + e*tau)**9\n",
      "CPU times: user 7.36 ms, sys: 0 ns, total: 7.36 ms\n",
      "Wall time: 9.82 ms\n"
     ]
    }
   ],
   "source": [
    "%%time\n",
    "h *= (4*b**4 + e*par[2] + par[1])**9\n",
    "print(h)"
   ]
  },
  {
   "cell_type": "code",
   "execution_count": 16,
   "metadata": {},
   "outputs": [
    {
     "name": "stdout",
     "output_type": "stream",
     "text": [
      "df(u, c, 5)*(4*b**4 + beta + e*tau)**9 + (1236537*a**2*b*tau + alpha*d)*(4*b**4 + beta + e*tau)**9\n",
      "CPU times: user 2.62 ms, sys: 371 µs, total: 2.99 ms\n",
      "Wall time: 3.28 ms\n"
     ]
    }
   ],
   "source": [
    "%%time\n",
    "h.NFtail(4*b**4 + e*par[2] + par[1])\n",
    "print(h)"
   ]
  },
  {
   "cell_type": "code",
   "execution_count": 17,
   "metadata": {},
   "outputs": [
    {
     "name": "stdout",
     "output_type": "stream",
     "text": [
      "df(u, c, 5) + 1236537*a**2*b*tau + alpha*d\n",
      "CPU times: user 1.32 s, sys: 0 ns, total: 1.32 s\n",
      "Wall time: 1.32 s\n"
     ]
    }
   ],
   "source": [
    "%%time\n",
    "h.pp()\n",
    "print(h)"
   ]
  },
  {
   "cell_type": "code",
   "execution_count": 18,
   "metadata": {},
   "outputs": [
    {
     "data": {
      "text/plain": [
       "False"
      ]
     },
     "execution_count": 18,
     "metadata": {},
     "output_type": "execute_result"
    }
   ],
   "source": [
    "type(p) == Poly"
   ]
  },
  {
   "cell_type": "code",
   "execution_count": 19,
   "metadata": {},
   "outputs": [
    {
     "data": {
      "text/plain": [
       "True"
      ]
     },
     "execution_count": 19,
     "metadata": {},
     "output_type": "execute_result"
    }
   ],
   "source": [
    "type(p) == PolyDiff"
   ]
  },
  {
   "cell_type": "code",
   "execution_count": 20,
   "metadata": {
    "scrolled": false
   },
   "outputs": [
    {
     "name": "stdout",
     "output_type": "stream",
     "text": [
      "prolong 0, Q 2\n",
      "df(u, x3, 2)\n",
      "prolong 0, Q 2\n",
      "df(u, x1, 2)\n",
      "prolong 2, Q 0\n",
      "df(u, x1, x3, 2)\n",
      "prolong 3, Q 0\n",
      "df(u, x2, 2, x3)\n",
      "prolong 2, Q 0\n",
      "df(u, x2, x3, 2)\n",
      "prolong 3, Q 0\n",
      "df(u, x1, x2, 2, x3)\n",
      "prolong 3, Q 0\n",
      "df(u, x1, x2, x3, 2)\n",
      "prolong 4, Q 0\n",
      "df(u, x2, 4)\n",
      "prolong 3, Q 0\n",
      "df(u, x2, 3, x3)\n",
      "prolong 4, Q 0\n",
      "df(u, x1, x2, 4)\n",
      "prolong 4, Q 0\n",
      "df(u, x1, x2, 3, x3)\n",
      "prolong 5, Q 0\n",
      "prolong 0, Q 0\n",
      "crit1: 0\n",
      "crit2: 0\n",
      " time: 0.02 sec\n",
      "    count: 11\n",
      "reduction: 29\n",
      "       HP: 12\n"
     ]
    },
    {
     "data": {
      "image/png": "[encoded data removed]",
      "text/plain": [
       "<IPython.core.display.Image object>"
      ]
     },
     "execution_count": 20,
     "metadata": {},
     "output_type": "execute_result"
    }
   ],
   "source": [
    "Monom.cmp = Monom.TOPdeglex\n",
    "var = 'x1, x2, x3'.split(', ')\n",
    "fun = 'u'.split(', ')\n",
    "var, fun = PolyDiff.init(var, fun)\n",
    "x1, x2, x3 = var\n",
    "u = fun[0]\n",
    "df = PolyDiff.df\n",
    "diff2poly = PolyDiff.diff2poly\n",
    "diablo = Janet()\n",
    "res = ginvBlockLow((\n",
    "df(u, x1, 2) + x3*df(u, x2, 2),\\\n",
    "df(u, x3, 2)), \\\n",
    "diablo, level=1)\n",
    "print(f\"crit1: {res[1]}\")\n",
    "print(f\"crit2: {res[2]}\")\n",
    "print(f\" time: {res[0]:.2f} sec\")\n",
    "print(f\"    count: {diablo.count()}\")\n",
    "print(f\"reduction: {diablo.reduction()}\")\n",
    "print(f\"       HP: {diablo.HP()}\")\n",
    "diablo.saveImage('diablo.pdf', level=1)\n",
    "diablo.saveImage('diablo.png', level=1)\n",
    "Image('./diablo.png')"
   ]
  },
  {
   "cell_type": "code",
   "execution_count": 21,
   "metadata": {},
   "outputs": [
    {
     "name": "stdout",
     "output_type": "stream",
     "text": [
      "df(u, x3, 2)\n",
      "df(u, x2, x3, 2)\n",
      "df(u, x2, 2, x3)\n",
      "df(u, x2, 3, x3)\n",
      "df(u, x2, 4)\n",
      "df(u, x1, x3, 2)\n",
      "df(u, x1, x2, x3, 2)\n",
      "df(u, x1, x2, 2, x3)\n",
      "df(u, x1, x2, 3, x3)\n",
      "df(u, x1, x2, 4)\n",
      "df(u, x1, 2) + df(u, x2, 2)*x3\n"
     ]
    }
   ],
   "source": [
    "for w in diablo:\n",
    "    print(w.poly)"
   ]
  },
  {
   "cell_type": "code",
   "execution_count": 22,
   "metadata": {},
   "outputs": [
    {
     "name": "stdout",
     "output_type": "stream",
     "text": [
      "df(u, x3, 2)\n",
      "df(u, x2, 2, x3)\n",
      "df(u, x2, 4)\n",
      "df(u, x1, 2) + df(u, x2, 2)*x3\n"
     ]
    }
   ],
   "source": [
    "for w in diablo.GB():\n",
    "    print(w.poly)"
   ]
  },
  {
   "cell_type": "code",
   "execution_count": 23,
   "metadata": {},
   "outputs": [
    {
     "data": {
      "image/png": "[encoded data removed]",
      "text/latex": [
       "$\\displaystyle \\frac{\\partial^{2}}{\\partial x_{3}^{2}} u{\\left(x_{1},x_{2},x_{3} \\right)}$"
      ],
      "text/plain": [
       "  2                \n",
       " ∂                 \n",
       "────(u(x₁, x₂, x₃))\n",
       "   2               \n",
       "∂x₃                "
      ]
     },
     "metadata": {},
     "output_type": "display_data"
    },
    {
     "data": {
      "image/png": "[encoded data removed]",
      "text/latex": [
       "$\\displaystyle \\frac{\\partial^{3}}{\\partial x_{3}\\partial x_{2}^{2}} u{\\left(x_{1},x_{2},x_{3} \\right)}$"
      ],
      "text/plain": [
       "    3                  \n",
       "   ∂                   \n",
       "────────(u(x₁, x₂, x₃))\n",
       "       2               \n",
       "∂x₃ ∂x₂                "
      ]
     },
     "metadata": {},
     "output_type": "display_data"
    },
    {
     "data": {
      "image/png": "[encoded data removed]",
      "text/latex": [
       "$\\displaystyle \\frac{\\partial^{4}}{\\partial x_{2}^{4}} u{\\left(x_{1},x_{2},x_{3} \\right)}$"
      ],
      "text/plain": [
       "  4                \n",
       " ∂                 \n",
       "────(u(x₁, x₂, x₃))\n",
       "   4               \n",
       "∂x₂                "
      ]
     },
     "metadata": {},
     "output_type": "display_data"
    },
    {
     "data": {
      "image/png": "[encoded data removed]",
      "text/latex": [
       "$\\displaystyle x_{3} \\frac{\\partial^{2}}{\\partial x_{2}^{2}} u{\\left(x_{1},x_{2},x_{3} \\right)} + \\frac{\\partial^{2}}{\\partial x_{1}^{2}} u{\\left(x_{1},x_{2},x_{3} \\right)}$"
      ],
      "text/plain": [
       "     2                     2                \n",
       "    ∂                     ∂                 \n",
       "x₃⋅────(u(x₁, x₂, x₃)) + ────(u(x₁, x₂, x₃))\n",
       "      2                     2               \n",
       "   ∂x₂                   ∂x₁                "
      ]
     },
     "metadata": {},
     "output_type": "display_data"
    }
   ],
   "source": [
    "for w in diablo.GB():\n",
    "    display(eval(w.poly.df_sympy()))"
   ]
  },
  {
   "cell_type": "code",
   "execution_count": 24,
   "metadata": {},
   "outputs": [
    {
     "name": "stdout",
     "output_type": "stream",
     "text": [
      "${u}$, \n",
      "${u}_{{x1}}$, ${u}_{{x2}}$, ${u}_{{x3}}$, \n",
      "${u}_{{x1} {x2}}$, ${u}_{{x1} {x3}}$, ${u}_{{x2} {x2}}$, ${u}_{{x2} {x3}}$, \n",
      "${u}_{{x1} {x2} {x2}}$, ${u}_{{x1} {x2} {x3}}$, ${u}_{{x2} {x2} {x2}}$, \n",
      "${u}_{{x1} {x2} {x2} {x2}}$, \n",
      "число произвольных констант в ряде Тейлора: 12\n"
     ]
    }
   ],
   "source": [
    "rows, i = {}, 0\n",
    "for d in range(5):\n",
    "    for m in Monom.gradus(d, pos=0):\n",
    "        if not diablo.find(m):\n",
    "            print(f\"${m.df_latex()}$\", end=\", \")\n",
    "            rows[m] = i\n",
    "            i += 1\n",
    "    print()\n",
    "print(f\"число произвольных констант в ряде Тейлора: {len(rows)}\")"
   ]
  },
  {
   "cell_type": "code",
   "execution_count": 25,
   "metadata": {},
   "outputs": [
    {
     "data": {
      "image/png": "[encoded data removed]",
      "text/latex": [
       "$\\displaystyle C_{000} + C_{001} x_{3} + C_{010} x_{2} + C_{011} x_{2} x_{3} + C_{020} x_{2}^{2} + C_{030} x_{2}^{3} + C_{100} x_{1} + C_{101} x_{1} x_{3} + C_{110} x_{1} x_{2} + C_{111} x_{1} x_{2} x_{3} + C_{120} x_{1} x_{2}^{2} + C_{130} x_{1} x_{2}^{3} + C_{200} x_{1}^{2} + C_{201} x_{1}^{2} x_{3} + C_{210} x_{1}^{2} x_{2} + C_{211} x_{1}^{2} x_{2} x_{3} + C_{300} x_{1}^{3} + C_{301} x_{1}^{3} x_{3} + C_{310} x_{1}^{3} x_{2} + C_{311} x_{1}^{3} x_{2} x_{3}$"
      ],
      "text/plain": [
       "                                                              2             3              \n",
       "C_{000} + C_{001}⋅x₃ + C_{010}⋅x₂ + C_{011}⋅x₂⋅x₃ + C_{020}⋅x₂  + C_{030}⋅x₂  + C_{100}⋅x₁ \n",
       "\n",
       "                                                                  2                3       \n",
       "+ C_{101}⋅x₁⋅x₃ + C_{110}⋅x₁⋅x₂ + C_{111}⋅x₁⋅x₂⋅x₃ + C_{120}⋅x₁⋅x₂  + C_{130}⋅x₁⋅x₂  + C_{2\n",
       "\n",
       "      2             2                2                2                   3             3  \n",
       "00}⋅x₁  + C_{201}⋅x₁ ⋅x₃ + C_{210}⋅x₁ ⋅x₂ + C_{211}⋅x₁ ⋅x₂⋅x₃ + C_{300}⋅x₁  + C_{301}⋅x₁ ⋅x\n",
       "\n",
       "              3                3      \n",
       "₃ + C_{310}⋅x₁ ⋅x₂ + C_{311}⋅x₁ ⋅x₂⋅x₃"
      ]
     },
     "execution_count": 25,
     "metadata": {},
     "output_type": "execute_result"
    }
   ],
   "source": [
    "T = 0\n",
    "for d in range(6):\n",
    "    for m in Monom.gradus(d, pos=0):\n",
    "        r = PolyDiff(m)\n",
    "        r.NFhead(diablo)\n",
    "        if r:\n",
    "            p = \"\".join(str(i) for i in m)\n",
    "            r = sympy.Symbol(f\"C_{{{p}}}\")\n",
    "            for i, v in enumerate(m):\n",
    "                if v:\n",
    "                    r *= var[i]**v\n",
    "            T += r\n",
    "T"
   ]
  },
  {
   "cell_type": "code",
   "execution_count": 26,
   "metadata": {},
   "outputs": [
    {
     "data": {
      "image/png": "[encoded data removed]",
      "text/latex": [
       "$\\displaystyle \\left[ 0, \\  0, \\  0, \\  2 C_{020} x_{3} + 6 C_{030} x_{2} x_{3} + 2 C_{120} x_{1} x_{3} + 6 C_{130} x_{1} x_{2} x_{3} + 2 C_{200} + 2 C_{201} x_{3} + 2 C_{210} x_{2} + 2 C_{211} x_{2} x_{3} + 6 C_{300} x_{1} + 6 C_{301} x_{1} x_{3} + 6 C_{310} x_{1} x_{2} + 6 C_{311} x_{1} x_{2} x_{3}\\right]$"
      ],
      "text/plain": [
       "[0, 0, 0, 2⋅C_{020}⋅x₃ + 6⋅C_{030}⋅x₂⋅x₃ + 2⋅C_{120}⋅x₁⋅x₃ + 6⋅C_{130}⋅x₁⋅x₂⋅x₃ + 2⋅C_{200}\n",
       " + 2⋅C_{201}⋅x₃ + 2⋅C_{210}⋅x₂ + 2⋅C_{211}⋅x₂⋅x₃ + 6⋅C_{300}⋅x₁ + 6⋅C_{301}⋅x₁⋅x₃ + 6⋅C_{31\n",
       "0}⋅x₁⋅x₂ + 6⋅C_{311}⋅x₁⋅x₂⋅x₃]"
      ]
     },
     "execution_count": 26,
     "metadata": {},
     "output_type": "execute_result"
    }
   ],
   "source": [
    "eqs = []\n",
    "for w in diablo.GB():\n",
    "    eqs.append(eval(str(w.poly).\n",
    "        replace('df', 'sympy.diff').replace('u', 'T')).expand())\n",
    "eqs"
   ]
  },
  {
   "cell_type": "code",
   "execution_count": 27,
   "metadata": {},
   "outputs": [],
   "source": [
    "def to_eqs(a, var):\n",
    "    for x in var:\n",
    "        r = []\n",
    "        for b in a:\n",
    "            if b:\n",
    "                r.append([b.coeff(x, i) for i in range(b.as_poly(x).degree()+1) if b.coeff(x, i)])\n",
    "        a = chain(*r)\n",
    "    return list(a)"
   ]
  },
  {
   "cell_type": "code",
   "execution_count": 28,
   "metadata": {},
   "outputs": [
    {
     "data": {
      "image/png": "[encoded data removed]",
      "text/latex": [
       "$\\displaystyle \\left[ 2 C_{200}, \\  2 C_{020} + 2 C_{201}, \\  2 C_{210}, \\  6 C_{030} + 2 C_{211}, \\  6 C_{300}, \\  2 C_{120} + 6 C_{301}, \\  6 C_{310}, \\  6 C_{130} + 6 C_{311}\\right]$"
      ],
      "text/plain": [
       "[2⋅C_{200}, 2⋅C_{020} + 2⋅C_{201}, 2⋅C_{210}, 6⋅C_{030} + 2⋅C_{211}, 6⋅C_{300}, 2⋅C_{120} +\n",
       " 6⋅C_{301}, 6⋅C_{310}, 6⋅C_{130} + 6⋅C_{311}]"
      ]
     },
     "execution_count": 28,
     "metadata": {},
     "output_type": "execute_result"
    }
   ],
   "source": [
    "a = to_eqs(eqs, [x1, x2, x3])\n",
    "a"
   ]
  },
  {
   "cell_type": "code",
   "execution_count": 29,
   "metadata": {},
   "outputs": [
    {
     "data": {
      "image/png": "[encoded data removed]",
      "text/latex": [
       "$\\displaystyle \\left\\{ C_{020} : - C_{201}, \\  C_{030} : - \\frac{C_{211}}{3}, \\  C_{120} : - 3 C_{301}, \\  C_{130} : - C_{311}, \\  C_{200} : 0, \\  C_{210} : 0, \\  C_{300} : 0, \\  C_{310} : 0\\right\\}$"
      ],
      "text/plain": [
       "⎧                            -C_{211}                                                      \n",
       "⎨C_{020}: -C_{201}, C_{030}: ─────────, C_{120}: -3⋅C_{301}, C_{130}: -C_{311}, C_{200}: 0,\n",
       "⎩                                3                                                         \n",
       "\n",
       "                                   ⎫\n",
       " C_{210}: 0, C_{300}: 0, C_{310}: 0⎬\n",
       "                                   ⎭"
      ]
     },
     "execution_count": 29,
     "metadata": {},
     "output_type": "execute_result"
    }
   ],
   "source": [
    "sol = sympy.solve(a)\n",
    "sol"
   ]
  },
  {
   "cell_type": "code",
   "execution_count": 30,
   "metadata": {},
   "outputs": [
    {
     "name": "stdout",
     "output_type": "stream",
     "text": [
      "C_{000} + C_{001} x_{3} + C_{010} x_{2} + C_{011} x_{2} x_{3} + C_{100} x_{1} + C_{101} x_{1} x_{3} + C_{110} x_{1} x_{2} + C_{111} x_{1} x_{2} x_{3} + C_{201} x_{1}^{2} x_{3} - C_{201} x_{2}^{2} + C_{211} x_{1}^{2} x_{2} x_{3} - \\frac{C_{211} x_{2}^{3}}{3} + C_{301} x_{1}^{3} x_{3} - 3 C_{301} x_{1} x_{2}^{2} + C_{311} x_{1}^{3} x_{2} x_{3} - C_{311} x_{1} x_{2}^{3}\n"
     ]
    }
   ],
   "source": [
    "T0 = T.subs(sol)\n",
    "print(sympy.latex(T0))"
   ]
  },
  {
   "cell_type": "code",
   "execution_count": 31,
   "metadata": {},
   "outputs": [
    {
     "name": "stdout",
     "output_type": "stream",
     "text": [
      "0 0 0 0 "
     ]
    }
   ],
   "source": [
    "for w in diablo.GB():\n",
    "    print(eval(str(w.poly).\n",
    "        replace('df', 'sympy.diff').replace('u', 'T0')).expand(), end=' ')"
   ]
  },
  {
   "cell_type": "code",
   "execution_count": 32,
   "metadata": {
    "scrolled": false
   },
   "outputs": [
    {
     "data": {
      "image/png": "[encoded data removed]",
      "text/latex": [
       "$\\displaystyle 0$"
      ],
      "text/plain": [
       "0"
      ]
     },
     "execution_count": 32,
     "metadata": {},
     "output_type": "execute_result"
    }
   ],
   "source": [
    "T0.diff(x2, 2, x3).expand()"
   ]
  },
  {
   "cell_type": "code",
   "execution_count": 33,
   "metadata": {},
   "outputs": [
    {
     "data": {
      "image/png": "[encoded data removed]",
      "text/latex": [
       "$\\displaystyle 0$"
      ],
      "text/plain": [
       "0"
      ]
     },
     "execution_count": 33,
     "metadata": {},
     "output_type": "execute_result"
    }
   ],
   "source": [
    "(T0.diff(x1, 2) + x3*T0.diff(x2, 2)).expand()"
   ]
  },
  {
   "cell_type": "code",
   "execution_count": 34,
   "metadata": {},
   "outputs": [],
   "source": [
    "alpha, beta, gamma = sympy.symbols('alpha, beta, gamma', real=True)\n",
    "\n",
    "var = 't, x, y'.split(', ')\n",
    "fun = 'A, B, C, D, E'.split(', ')\n",
    "var, fun = PolyDiff.init(var, fun)\n",
    "df = PolyDiff.df\n",
    "diff2poly = PolyDiff.diff2poly\n",
    "t, x, y = var\n",
    "A, B, C, D, E = fun"
   ]
  },
  {
   "cell_type": "code",
   "execution_count": 35,
   "metadata": {},
   "outputs": [],
   "source": [
    "eqs = [\n",
    "df(C, t)*(-1) + df(B, y)*(-2*gamma),\n",
    "df(A, y),\n",
    "df(D, y),\n",
    "df(C, y, 2),\n",
    "df(E, y, 4)*(-beta*gamma**2) + df(D, t, 3)*(-1),\n",
    "df(D, y, 4),\n",
    "df(C, y, 4),\n",
    "df(B, y, 4),\n",
    "df(A, y, 4),\n",
    "df(C, x),\n",
    "df(B, x)*(-3) + df(C, y)*2 + df(D)*(-1),\n",
    "df(A, x),\n",
    "df(D, x),\n",
    "df(E, x, y, 2)*beta*gamma + df(D, t, 2)*(-1),\n",
    "df(D, x, y, 2),\n",
    "df(C, x, y, 2),\n",
    "df(B, x, y, 2),\n",
    "df(A, x, y, 2),\n",
    "df(E, x, 2)*(-beta) + df(D, t)*(-1),\n",
    "df(D, x, 2),\n",
    "df(C, x, 2),\n",
    "df(B, x, 2),\n",
    "df(A, x, 2),\n",
    "df(B, t)*(-3) + df(E, x)*(-3*beta) + df(C, y)*2*alpha + df(D)*2*alpha,\n",
    "df(D, x),\n",
    "df(C, x),\n",
    "df(B, x)*(-3) + df(C, y)*2 + df(D)*(-1),\n",
    "df(A, x),\n",
    "df(A, t)*3 + df(C, y)*(-4) + df(D)*(-1),\n",
    "df(C, t, y) + df(D, t)*(-2),\n",
    "df(E, t, x)*beta + df(E, y, 2)*beta*gamma + df(D, t)*(-alpha),\n",
    "df(D, t, x) + df(D, y, 2)*gamma,\n",
    "df(C, t, x) + df(C, y, 2)*gamma,\n",
    "df(B, t, x) + df(B, y, 2)*gamma,\n",
    "df(A, t, x) + df(A, y, 2)*gamma,\n",
    "df(C, t, 2)*(-1) + df(E, x, y)*2*beta*gamma,\n",
    "df(D, x, y),\n",
    "df(C, x, y),\n",
    "df(B, x, y),\n",
    "df(A, x, y)\n",
    "]"
   ]
  },
  {
   "cell_type": "code",
   "execution_count": 36,
   "metadata": {},
   "outputs": [
    {
     "name": "stdout",
     "output_type": "stream",
     "text": [
      "prolong 0, Q 1\n",
      "df(D, y)\n",
      "prolong 0, Q 1\n",
      "df(A, y)\n",
      "prolong 0, Q 1\n",
      "df(D, x)\n",
      "prolong 1, Q 1\n",
      "df(C, x)\n",
      "prolong 1, Q 1\n",
      "df(B, x)\n",
      "prolong 1, Q 1\n",
      "df(A, x)\n",
      "prolong 1, Q 1\n",
      "df(C, t)\n",
      "prolong 1, Q 1\n",
      "df(B, t)\n",
      "prolong 1, Q 1\n",
      "df(A, t)\n",
      "prolong 1, Q 2\n",
      "df(C, y, 2)\n",
      "prolong 2, Q 2\n",
      "df(B, y, 2), df(E, x, 2), df(E, t, x)\n",
      "prolong 2, Q 3\n",
      "df(E, x, y, 2)\n",
      "prolong 3, Q 3\n",
      "df(E, y, 4)\n",
      "prolong 3, Q 4\n",
      "prolong 4, Q 0\n",
      "df(E, t, y, 4)\n",
      "prolong 5, Q 0\n",
      "prolong 0, Q 0\n",
      "crit1: 0\n",
      "crit2: 0\n",
      " time: 0.12 sec\n",
      "    count: 16\n",
      "reduction: 131\n",
      "       HP: 5s + 6\n"
     ]
    }
   ],
   "source": [
    "LRT = Forest(Janet)\n",
    "res = ginvBlockLow(eqs, LRT, level=1)\n",
    "print(f\"crit1: {res[1]}\")\n",
    "print(f\"crit2: {res[2]}\")\n",
    "print(f\" time: {res[0]:.2f} sec\")\n",
    "print(f\"    count: {LRT.count()}\")\n",
    "print(f\"reduction: {LRT.reduction()}\")\n",
    "print(f\"       HP: {LRT.HP()}\")"
   ]
  },
  {
   "cell_type": "code",
   "execution_count": 37,
   "metadata": {},
   "outputs": [
    {
     "name": "stdout",
     "output_type": "stream",
     "text": [
      "df(A, y)\n",
      "df(A, x)\n",
      "df(A, t)*3 + df(C, y)*-4 + df(D)*-1\n",
      "df(B, y, 2)*gamma + df(D, t)\n",
      "df(B, x)*-3 + df(C, y)*2 + df(D)*-1\n",
      "df(B, t)*-3 + df(E, x)*-3*beta + df(C, y)*2*alpha + df(D)*2*alpha\n",
      "df(C, y, 2)\n",
      "df(C, x)\n",
      "df(C, t)*-1 + df(B, y)*-2*gamma\n",
      "df(D, y)\n",
      "df(D, x)\n",
      "df(E, y, 4)*-beta*gamma**2 + df(D, t, 3)*-1\n",
      "df(E, x, y, 2)*beta*gamma + df(D, t, 2)*-1\n",
      "df(E, x, 2)*-beta + df(D, t)*-1\n",
      "df(E, t, x)*beta + df(E, y, 2)*beta*gamma + df(D, t)*-alpha\n"
     ]
    }
   ],
   "source": [
    "for w in LRT.GB():\n",
    "    print(w.poly)"
   ]
  },
  {
   "cell_type": "code",
   "execution_count": 38,
   "metadata": {},
   "outputs": [],
   "source": [
    "x, y, Re = sympy.symbols('x, y, Re', real=True)\n",
    "u, v, p, f1, f2 = (sympy.Function(f)(t, x, y) for f in 'u, v, p, f1, f2'.split(', '))"
   ]
  },
  {
   "cell_type": "code",
   "execution_count": 39,
   "metadata": {},
   "outputs": [
    {
     "data": {
      "image/png": "[encoded data removed]",
      "text/latex": [
       "$\\displaystyle \\frac{\\partial}{\\partial x} u{\\left(t,x,y \\right)} + \\frac{\\partial}{\\partial y} v{\\left(t,x,y \\right)}$"
      ],
      "text/plain": [
       "∂                ∂             \n",
       "──(u(t, x, y)) + ──(v(t, x, y))\n",
       "∂x               ∂y            "
      ]
     },
     "execution_count": 39,
     "metadata": {},
     "output_type": "execute_result"
    }
   ],
   "source": [
    "eq1 = u.diff(x) + v.diff(y)\n",
    "eq1"
   ]
  },
  {
   "cell_type": "code",
   "execution_count": 40,
   "metadata": {},
   "outputs": [
    {
     "data": {
      "image/png": "[encoded data removed]",
      "text/latex": [
       "$\\displaystyle - f_{1}{\\left(t,x,y \\right)} + \\frac{\\partial}{\\partial x} p{\\left(t,x,y \\right)} - \\frac{\\frac{\\partial^{2}}{\\partial x^{2}} u{\\left(t,x,y \\right)} + \\frac{\\partial^{2}}{\\partial y^{2}} u{\\left(t,x,y \\right)}}{Re}$"
      ],
      "text/plain": [
       "                                  2                 2            \n",
       "                                 ∂                 ∂             \n",
       "                                ───(u(t, x, y)) + ───(u(t, x, y))\n",
       "                                  2                 2            \n",
       "               ∂                ∂x                ∂y             \n",
       "-f₁(t, x, y) + ──(p(t, x, y)) - ─────────────────────────────────\n",
       "               ∂x                               Re               "
      ]
     },
     "execution_count": 40,
     "metadata": {},
     "output_type": "execute_result"
    }
   ],
   "source": [
    "eq2 = p.diff(x) - (u.diff(x, 2) + u.diff(y, 2))/Re - f1\n",
    "eq2"
   ]
  },
  {
   "cell_type": "code",
   "execution_count": 41,
   "metadata": {},
   "outputs": [
    {
     "data": {
      "image/png": "[encoded data removed]",
      "text/latex": [
       "$\\displaystyle - f_{2}{\\left(t,x,y \\right)} + \\frac{\\partial}{\\partial y} p{\\left(t,x,y \\right)} - \\frac{\\frac{\\partial^{2}}{\\partial x^{2}} v{\\left(t,x,y \\right)} + \\frac{\\partial^{2}}{\\partial y^{2}} v{\\left(t,x,y \\right)}}{Re}$"
      ],
      "text/plain": [
       "                                  2                 2            \n",
       "                                 ∂                 ∂             \n",
       "                                ───(v(t, x, y)) + ───(v(t, x, y))\n",
       "                                  2                 2            \n",
       "               ∂                ∂x                ∂y             \n",
       "-f₂(t, x, y) + ──(p(t, x, y)) - ─────────────────────────────────\n",
       "               ∂y                               Re               "
      ]
     },
     "execution_count": 41,
     "metadata": {},
     "output_type": "execute_result"
    }
   ],
   "source": [
    "eq3 = p.diff(y) - (v.diff(x, 2) + v.diff(y, 2))/Re - f2\n",
    "eq3"
   ]
  },
  {
   "cell_type": "code",
   "execution_count": 42,
   "metadata": {},
   "outputs": [],
   "source": [
    "Monom.cmp = Monom.TOPdeglex\n",
    "var = 't, x, y'.split(', ')\n",
    "fun = 'u, v, p, f1, f2'.split(', ')\n",
    "var, fun = PolyDiff.init(var, fun)\n",
    "df = PolyDiff.df\n",
    "diff2poly = PolyDiff.diff2poly"
   ]
  },
  {
   "cell_type": "code",
   "execution_count": 43,
   "metadata": {},
   "outputs": [
    {
     "name": "stdout",
     "output_type": "stream",
     "text": [
      "prolong 0, Q 1\n",
      "df(u, x)\n",
      "prolong 0, Q 2\n",
      "df(v, x, 2)\n",
      "prolong 0, Q 2\n",
      "df(v, x, y)\n",
      "prolong 2, Q 0\n",
      "df(p, x, 2)\n",
      "prolong 0, Q 0\n",
      "crit1: 0\n",
      "crit2: 0\n",
      " time: 0.02 sec\n",
      "    count: 4\n",
      "reduction: 5\n",
      "       HP: 2s^2 + 6s + 3\n"
     ]
    }
   ],
   "source": [
    "NS = Forest(Janet)\n",
    "res = ginvBlockLow([diff2poly(eq) for eq in (eq1, eq2, eq3)], \\\n",
    "NS, level=1)\n",
    "print(f\"crit1: {res[1]}\")\n",
    "print(f\"crit2: {res[2]}\")\n",
    "print(f\" time: {res[0]:.2f} sec\")\n",
    "print(f\"    count: {NS.count()}\")\n",
    "print(f\"reduction: {NS.reduction()}\")\n",
    "print(f\"       HP: {NS.HP(verge=3)}\")"
   ]
  },
  {
   "cell_type": "code",
   "execution_count": 44,
   "metadata": {},
   "outputs": [
    {
     "name": "stdout",
     "output_type": "stream",
     "text": [
      "df(u, x) + df(v, y)\n",
      "df(v, x, y) + df(u, y, 2)*-1 + df(p, x)*Re + df(f1)*-Re\n",
      "df(v, x, 2)*-1 + df(v, y, 2)*-1 + df(p, y)*Re + df(f2)*-Re\n",
      "df(p, x, 2)*-1 + df(p, y, 2)*-1 + df(f1, x) + df(f2, y)\n"
     ]
    }
   ],
   "source": [
    "for w in NS:\n",
    "    print(w.poly)"
   ]
  },
  {
   "cell_type": "code",
   "execution_count": null,
   "metadata": {},
   "outputs": [],
   "source": []
  },
  {
   "cell_type": "code",
   "execution_count": 45,
   "metadata": {},
   "outputs": [],
   "source": [
    "t, x, y, Re = sympy.symbols('t, x, y, Re', real=True)\n",
    "u, v, p, u2, uv, v2 = (sympy.Function(f)(t, x, y) for f in 'u, v, p, u2, uv, v2'.split(', '))"
   ]
  },
  {
   "cell_type": "code",
   "execution_count": 46,
   "metadata": {},
   "outputs": [
    {
     "data": {
      "image/png": "[encoded data removed]",
      "text/latex": [
       "$\\displaystyle \\frac{\\partial}{\\partial x} u{\\left(t,x,y \\right)} + \\frac{\\partial}{\\partial y} v{\\left(t,x,y \\right)}$"
      ],
      "text/plain": [
       "∂                ∂             \n",
       "──(u(t, x, y)) + ──(v(t, x, y))\n",
       "∂x               ∂y            "
      ]
     },
     "execution_count": 46,
     "metadata": {},
     "output_type": "execute_result"
    }
   ],
   "source": [
    "eq1 = u.diff(x) + v.diff(y)\n",
    "eq1"
   ]
  },
  {
   "cell_type": "code",
   "execution_count": 47,
   "metadata": {},
   "outputs": [
    {
     "data": {
      "image/png": "[encoded data removed]",
      "text/latex": [
       "$\\displaystyle \\frac{\\partial}{\\partial x} p{\\left(t,x,y \\right)} + \\frac{\\partial}{\\partial t} u{\\left(t,x,y \\right)} + \\frac{\\partial}{\\partial x} u_{2}{\\left(t,x,y \\right)} + \\frac{\\partial}{\\partial y} \\operatorname{uv}{\\left(t,x,y \\right)} - \\frac{\\frac{\\partial^{2}}{\\partial x^{2}} u{\\left(t,x,y \\right)}}{Re} - \\frac{\\frac{\\partial^{2}}{\\partial y^{2}} u{\\left(t,x,y \\right)}}{Re}$"
      ],
      "text/plain": [
       "                                                                        2                 2\n",
       "                                                                       ∂                 ∂ \n",
       "                                                                      ───(u(t, x, y))   ───\n",
       "                                                                        2                 2\n",
       "∂                ∂                ∂                 ∂                 ∂x                ∂y \n",
       "──(p(t, x, y)) + ──(u(t, x, y)) + ──(u₂(t, x, y)) + ──(uv(t, x, y)) - ─────────────── - ───\n",
       "∂x               ∂t               ∂x                ∂y                       Re            \n",
       "\n",
       "            \n",
       "            \n",
       "(u(t, x, y))\n",
       "            \n",
       "            \n",
       "────────────\n",
       "    Re      "
      ]
     },
     "execution_count": 47,
     "metadata": {},
     "output_type": "execute_result"
    }
   ],
   "source": [
    "eq2 = u.diff(t) + (u2 + p - u.diff(x)/Re).diff(x) + (uv - u.diff(y)/Re).diff(y)\n",
    "eq2"
   ]
  },
  {
   "cell_type": "code",
   "execution_count": 48,
   "metadata": {},
   "outputs": [
    {
     "data": {
      "image/png": "[encoded data removed]",
      "text/latex": [
       "$\\displaystyle \\frac{\\partial}{\\partial y} p{\\left(t,x,y \\right)} + \\frac{\\partial}{\\partial x} \\operatorname{uv}{\\left(t,x,y \\right)} + \\frac{\\partial}{\\partial t} v{\\left(t,x,y \\right)} + \\frac{\\partial}{\\partial y} v_{2}{\\left(t,x,y \\right)} - \\frac{\\frac{\\partial^{2}}{\\partial x^{2}} v{\\left(t,x,y \\right)}}{Re} - \\frac{\\frac{\\partial^{2}}{\\partial y^{2}} v{\\left(t,x,y \\right)}}{Re}$"
      ],
      "text/plain": [
       "                                                                        2                 2\n",
       "                                                                       ∂                 ∂ \n",
       "                                                                      ───(v(t, x, y))   ───\n",
       "                                                                        2                 2\n",
       "∂                ∂                 ∂                ∂                 ∂x                ∂y \n",
       "──(p(t, x, y)) + ──(uv(t, x, y)) + ──(v(t, x, y)) + ──(v₂(t, x, y)) - ─────────────── - ───\n",
       "∂y               ∂x                ∂t               ∂y                       Re            \n",
       "\n",
       "            \n",
       "            \n",
       "(v(t, x, y))\n",
       "            \n",
       "            \n",
       "────────────\n",
       "    Re      "
      ]
     },
     "execution_count": 48,
     "metadata": {},
     "output_type": "execute_result"
    }
   ],
   "source": [
    "eq3 = v.diff(t) + (uv - v.diff(x)/Re).diff(x) + (v2 + p - v.diff(y)/Re).diff(y)\n",
    "eq3"
   ]
  },
  {
   "cell_type": "code",
   "execution_count": 49,
   "metadata": {},
   "outputs": [],
   "source": [
    "Monom.cmp = Monom.TOPdeglex\n",
    "var = 't, x, y'.split(', ')\n",
    "fun = 'u, v, p, u2, uv, v2'.split(', ')\n",
    "var, fun = PolyDiff.init(var, fun)\n",
    "diff2poly = PolyDiff.diff2poly"
   ]
  },
  {
   "cell_type": "code",
   "execution_count": 50,
   "metadata": {},
   "outputs": [
    {
     "name": "stdout",
     "output_type": "stream",
     "text": [
      "{u}_{{x}} 1 + {v}_{{y}} 1\n",
      "{u}_{{x} {x}} - \\frac{1}{Re} + {u}_{{y} {y}} - \\frac{1}{Re} + {u}_{{t}} 1 + {p}_{{x}} 1 + {u2}_{{x}} 1 + {uv}_{{y}} 1\n",
      "{v}_{{x} {x}} - \\frac{1}{Re} + {v}_{{y} {y}} - \\frac{1}{Re} + {v}_{{t}} 1 + {uv}_{{x}} 1 + {p}_{{y}} 1 + {v2}_{{y}} 1\n"
     ]
    }
   ],
   "source": [
    "for p in [diff2poly(eq) for eq in (eq1, eq2, eq3)]:\n",
    "    print(\" + \".join(f\"{m.df_latex()} {sympy.latex(c)}\" for m, c in p))"
   ]
  },
  {
   "cell_type": "code",
   "execution_count": 51,
   "metadata": {
    "scrolled": true
   },
   "outputs": [
    {
     "name": "stdout",
     "output_type": "stream",
     "text": [
      "prolong 0, Q 1\n",
      "df(u, x)\n",
      "prolong 0, Q 2\n",
      "df(v, x, 2)\n",
      "prolong 0, Q 2\n",
      "df(v, x, y)\n",
      "prolong 2, Q 0\n",
      "df(p, x, 2)\n",
      "prolong 0, Q 0\n",
      "crit1: 0\n",
      "crit2: 0\n",
      " time: 0.02 sec\n",
      "    count: 4\n",
      "reduction: 6\n",
      "       HP: 2s^2 + 6s + 3\n"
     ]
    }
   ],
   "source": [
    "NS = Forest(Janet)\n",
    "res = ginvBlockLow([diff2poly(eq) for eq in (eq1, eq2, eq3)], \\\n",
    "NS, level=1)\n",
    "print(f\"crit1: {res[1]}\")\n",
    "print(f\"crit2: {res[2]}\")\n",
    "print(f\" time: {res[0]:.2f} sec\")\n",
    "print(f\"    count: {NS.count()}\")\n",
    "print(f\"reduction: {NS.reduction()}\")\n",
    "print(f\"       HP: {NS.HP(verge=3)}\")"
   ]
  },
  {
   "cell_type": "code",
   "execution_count": 52,
   "metadata": {},
   "outputs": [
    {
     "name": "stdout",
     "output_type": "stream",
     "text": [
      "df(u, x) + df(v, y)\n",
      "df(v, x, y) + df(u, y, 2)*-1 + df(u, t)*Re + df(p, x)*Re + df(u2, x)*Re + df(uv, y)*Re\n",
      "df(v, x, 2)*-1 + df(v, y, 2)*-1 + df(v, t)*Re + df(uv, x)*Re + df(p, y)*Re + df(v2, y)*Re\n",
      "df(p, x, 2)*-1 + df(u2, x, 2)*-1 + df(uv, x, y)*-2 + df(p, y, 2)*-1 + df(v2, y, 2)*-1\n"
     ]
    }
   ],
   "source": [
    "for w in NS:\n",
    "    print(w.poly)"
   ]
  },
  {
   "cell_type": "code",
   "execution_count": 53,
   "metadata": {},
   "outputs": [
    {
     "name": "stdout",
     "output_type": "stream",
     "text": [
      "{u}_{{x}} -1 + {v}_{{y}} -1\n",
      "{v}_{{x} {y}} -1 + {u}_{{y} {y}} 1 + {u}_{{t}} - Re + {p}_{{x}} - Re + {u2}_{{x}} - Re + {uv}_{{y}} - Re\n",
      "{v}_{{x} {x}} 1 + {v}_{{y} {y}} 1 + {v}_{{t}} - Re + {uv}_{{x}} - Re + {p}_{{y}} - Re + {v2}_{{y}} - Re\n",
      "{p}_{{x} {x}} 1 + {u2}_{{x} {x}} 1 + {uv}_{{x} {y}} 2 + {p}_{{y} {y}} 1 + {v2}_{{y} {y}} 1\n"
     ]
    }
   ],
   "source": [
    "for w in NS:\n",
    "    print(\" + \".join(f\"{m.df_latex()} {sympy.latex(-c)}\" for m, c in w.poly))"
   ]
  },
  {
   "cell_type": "code",
   "execution_count": 54,
   "metadata": {},
   "outputs": [
    {
     "name": "stdout",
     "output_type": "stream",
     "text": [
      "s^2/2 + 3s/2 + 1\n",
      "s^2/2 + 5s/2 + 1\n",
      "s^2 + 2s + 1\n",
      "s^3/6 + s^2 + 11s/6 + 1\n",
      "s^3/6 + s^2 + 11s/6 + 1\n",
      "s^3/6 + s^2 + 11s/6 + 1\n"
     ]
    }
   ],
   "source": [
    "for i in range(len(fun)):\n",
    "    print(NS[i].HP())"
   ]
  },
  {
   "cell_type": "code",
   "execution_count": 55,
   "metadata": {},
   "outputs": [
    {
     "name": "stdout",
     "output_type": "stream",
     "text": [
      "2s^2 + 6s + 3\n"
     ]
    }
   ],
   "source": [
    "HP = NS[0].HP() \n",
    "HP += NS[1].HP()\n",
    "HP += NS[2].HP()\n",
    "print(HP)"
   ]
  },
  {
   "cell_type": "code",
   "execution_count": null,
   "metadata": {},
   "outputs": [],
   "source": []
  }
 ],
 "metadata": {
  "kernelspec": {
   "display_name": "Python 3 (ipykernel)",
   "language": "python",
   "name": "python3"
  },
  "language_info": {
   "codemirror_mode": {
    "name": "ipython",
    "version": 3
   },
   "file_extension": ".py",
   "mimetype": "text/x-python",
   "name": "python",
   "nbconvert_exporter": "python",
   "pygments_lexer": "ipython3",
   "version": "3.11.2"
  }
 },
 "nbformat": 4,
 "nbformat_minor": 2
}
